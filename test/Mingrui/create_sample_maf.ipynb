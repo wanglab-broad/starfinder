{
 "cells": [
  {
   "cell_type": "code",
   "execution_count": 1,
   "metadata": {},
   "outputs": [],
   "source": [
    "import os \n",
    "import numpy as np\n",
    "import pandas as pd\n",
    "from bs4 import BeautifulSoup\n",
    "from natsort import natsorted\n"
   ]
  },
  {
   "cell_type": "code",
   "execution_count": 2,
   "metadata": {},
   "outputs": [],
   "source": [
    "base_path = '/home/unix/jiahao/wanglab/Data/Analyzed/2024-03-12-Mingrui-PFC'\n",
    "doc_path = os.path.join(base_path, 'documents')"
   ]
  },
  {
   "cell_type": "code",
   "execution_count": 6,
   "metadata": {},
   "outputs": [],
   "source": [
    "raw_maf_file = os.path.join(doc_path, 'output_2024-03-05_pos_final.maf')\n"
   ]
  },
  {
   "cell_type": "code",
   "execution_count": 7,
   "metadata": {},
   "outputs": [],
   "source": [
    "sample_dict = {\n",
    "    'sample1': range(1, 219 + 1), \n",
    "    'sample2': range(220, 435 + 1), \n",
    "    'sample3': range(436, 637 + 1), \n",
    "    'sample4': range(638, 849 + 1), \n",
    "    'sample5': range(850, 1060 + 1), \n",
    "    'sample6': range(1061, 1267 + 1), \n",
    "}"
   ]
  },
  {
   "cell_type": "code",
   "execution_count": 8,
   "metadata": {},
   "outputs": [],
   "source": [
    "link_dict = {}\n",
    "\n",
    "current_maf = BeautifulSoup(open(raw_maf_file), 'xml')\n",
    "for link in current_maf.find_all('XYZStagePointDefinition'):\n",
    "    link_dict[link.get('PositionID')] = link"
   ]
  },
  {
   "cell_type": "code",
   "execution_count": 10,
   "metadata": {},
   "outputs": [],
   "source": [
    "for current_sample in sample_dict.keys():\n",
    "    sample_range = sample_dict[current_sample]\n",
    "    sample_link = []\n",
    "    for i in sample_range:\n",
    "        sample_link.append(str(link_dict[str(i)]))\n",
    "\n",
    "    base_string = f\"\"\"\n",
    "<!--Leica Application Suite X (LAS X)-->\n",
    "<!--Leica Microsystems CMS GmbH-->\n",
    "<!--http://www.confocal-microscopy.com-->\n",
    "<!--LAS X 3.5.5.19976-->\n",
    "<XYZStagePointDefinitionList StageOrderNumber=\"0\">\n",
    "{''.join(sample_link)}\n",
    "</XYZStagePointDefinitionList>\n",
    "\"\"\"\n",
    "    new_maf = BeautifulSoup(base_string, 'xml')\n",
    "    new_maf = new_maf.prettify()\n",
    "\n",
    "    with open(os.path.join(doc_path, f'{current_sample}.maf'), 'w') as file:\n",
    "        file.write(new_maf)"
   ]
  },
  {
   "cell_type": "code",
   "execution_count": null,
   "metadata": {},
   "outputs": [],
   "source": []
  }
 ],
 "metadata": {
  "kernelspec": {
   "display_name": "Python 3",
   "language": "python",
   "name": "python3"
  },
  "language_info": {
   "codemirror_mode": {
    "name": "ipython",
    "version": 3
   },
   "file_extension": ".py",
   "mimetype": "text/x-python",
   "name": "python",
   "nbconvert_exporter": "python",
   "pygments_lexer": "ipython3",
   "version": "3.9.15"
  }
 },
 "nbformat": 4,
 "nbformat_minor": 2
}
