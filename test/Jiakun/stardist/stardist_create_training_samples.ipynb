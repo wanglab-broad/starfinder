{
 "cells": [
  {
   "cell_type": "code",
   "execution_count": 1,
   "id": "f1368ed2-ac2e-4b9e-9972-e517175d5a32",
   "metadata": {},
   "outputs": [],
   "source": [
    "%matplotlib inline"
   ]
  },
  {
   "cell_type": "code",
   "execution_count": 2,
   "id": "a07469ce-b34a-47a7-9f55-6bbb318d0f81",
   "metadata": {},
   "outputs": [],
   "source": [
    "import os\n",
    "import numpy as np\n",
    "import seaborn as sns\n",
    "import matplotlib.pyplot as plt\n",
    "from tqdm.notebook import tqdm\n",
    "from tifffile import imread, imwrite\n",
    "from skimage.color import label2rgb\n",
    "from skimage.util import img_as_ubyte, img_as_uint\n",
    "from skimage.measure import regionprops, regionprops_table, label\n",
    "from skimage.segmentation import find_boundaries\n",
    "from skimage.morphology import remove_small_objects"
   ]
  },
  {
   "cell_type": "code",
   "execution_count": 3,
   "id": "842331ac-d80f-4262-ba1a-a3f66ee0aefe",
   "metadata": {},
   "outputs": [
    {
     "data": {
      "text/plain": [
       "['Position1402',\n",
       " 'Position241',\n",
       " 'Position485',\n",
       " 'Position488',\n",
       " 'Position506',\n",
       " 'Position559']"
      ]
     },
     "execution_count": 3,
     "metadata": {},
     "output_type": "execute_result"
    }
   ],
   "source": [
    "base_path = \"Z:/Data/Analyzed/2024-01-08-Jiakun-MouseSpleen64Gene/images/flamingo/\"\n",
    "gray_img_path = os.path.join(base_path, 'DAPI')\n",
    "input_path = os.path.join(base_path, 'stardist_sample')\n",
    "output_path = os.path.join(base_path, 'stardist_sample', 'temp')\n",
    "\n",
    "positions = sorted([f.replace('dist-watershed.tif', '') for f in os.listdir(input_path) if \"watershed\" in f])\n",
    "positions"
   ]
  },
  {
   "cell_type": "code",
   "execution_count": 4,
   "id": "b852db50-f76d-445d-8512-2e1021076ef5",
   "metadata": {},
   "outputs": [
    {
     "data": {
      "application/vnd.jupyter.widget-view+json": {
       "model_id": "e5249e525a534a31b7544a8508c09bd6",
       "version_major": 2,
       "version_minor": 0
      },
      "text/plain": [
       "  0%|          | 0/6 [00:00<?, ?it/s]"
      ]
     },
     "metadata": {},
     "output_type": "display_data"
    },
    {
     "data": {
      "application/vnd.jupyter.widget-view+json": {
       "model_id": "b9e5836301034c4589cc0f178b1c42c2",
       "version_major": 2,
       "version_minor": 0
      },
      "text/plain": [
       "0it [00:00, ?it/s]"
      ]
     },
     "metadata": {},
     "output_type": "display_data"
    },
    {
     "data": {
      "application/vnd.jupyter.widget-view+json": {
       "model_id": "dc8ba59a0a9c4b19a98410969191634e",
       "version_major": 2,
       "version_minor": 0
      },
      "text/plain": [
       "0it [00:00, ?it/s]"
      ]
     },
     "metadata": {},
     "output_type": "display_data"
    },
    {
     "data": {
      "application/vnd.jupyter.widget-view+json": {
       "model_id": "19e1fe4fe4a54596bcf426d781798c2e",
       "version_major": 2,
       "version_minor": 0
      },
      "text/plain": [
       "0it [00:00, ?it/s]"
      ]
     },
     "metadata": {},
     "output_type": "display_data"
    },
    {
     "data": {
      "application/vnd.jupyter.widget-view+json": {
       "model_id": "d4c2ee9a297e46778c54c1ffb7728e6e",
       "version_major": 2,
       "version_minor": 0
      },
      "text/plain": [
       "0it [00:00, ?it/s]"
      ]
     },
     "metadata": {},
     "output_type": "display_data"
    },
    {
     "data": {
      "application/vnd.jupyter.widget-view+json": {
       "model_id": "3b3588c8726442c7aa341cd4255f6425",
       "version_major": 2,
       "version_minor": 0
      },
      "text/plain": [
       "0it [00:00, ?it/s]"
      ]
     },
     "metadata": {},
     "output_type": "display_data"
    },
    {
     "data": {
      "application/vnd.jupyter.widget-view+json": {
       "model_id": "27696a467b1c4d94a49521e7c20e07e8",
       "version_major": 2,
       "version_minor": 0
      },
      "text/plain": [
       "0it [00:00, ?it/s]"
      ]
     },
     "metadata": {},
     "output_type": "display_data"
    }
   ],
   "source": [
    "areas = []\n",
    "for current_position in tqdm(positions):\n",
    "    current_gray_img = imread(os.path.join(gray_img_path, f\"{current_position}.tif\"), dtype='uint8')\n",
    "    current_label_img = imread(os.path.join(input_path, f\"{current_position}dist-watershed.tif\"))\n",
    "    current_label_img = current_label_img.astype(np.uint16)\n",
    "\n",
    "    for i, region in tqdm(enumerate(regionprops(current_label_img))):\n",
    "        areas.append(region.area)"
   ]
  },
  {
   "cell_type": "code",
   "execution_count": 5,
   "id": "c5944535-a879-4ef1-befa-8f6a3a65e8e4",
   "metadata": {},
   "outputs": [
    {
     "data": {
      "text/plain": [
       "<Axes: ylabel='Count'>"
      ]
     },
     "execution_count": 5,
     "metadata": {},
     "output_type": "execute_result"
    },
    {
     "data": {
      "image/png": "[encoded data removed]",
      "text/plain": [
       "<Figure size 640x480 with 1 Axes>"
      ]
     },
     "metadata": {},
     "output_type": "display_data"
    }
   ],
   "source": [
    "sns.histplot(areas)"
   ]
  },
  {
   "cell_type": "markdown",
   "id": "584879a5-c8d4-4b93-a0cb-537b7e516654",
   "metadata": {},
   "source": [
    "## Generate small samples"
   ]
  },
  {
   "cell_type": "code",
   "execution_count": 4,
   "id": "ba0c438e-ef96-48e2-96f7-49dfd431e39b",
   "metadata": {},
   "outputs": [],
   "source": [
    "img_path = os.path.join(output_path, 'img')\n",
    "if not os.path.exists(img_path):\n",
    "    os.mkdir(img_path)\n",
    "\n",
    "mask_path = os.path.join(output_path, 'mask')\n",
    "if not os.path.exists(mask_path):\n",
    "    os.mkdir(mask_path)\n",
    "\n",
    "preview_path = os.path.join(output_path, 'preview')\n",
    "if not os.path.exists(preview_path):\n",
    "    os.mkdir(preview_path)"
   ]
  },
  {
   "cell_type": "code",
   "execution_count": 18,
   "id": "1c9b6c6b-00a5-41ce-a80c-1690fd2e83f7",
   "metadata": {
    "scrolled": true
   },
   "outputs": [
    {
     "data": {
      "application/vnd.jupyter.widget-view+json": {
       "model_id": "d20ba9a6d5644d76990eda0c7e90db21",
       "version_major": 2,
       "version_minor": 0
      },
      "text/plain": [
       "  0%|          | 0/6 [00:00<?, ?it/s]"
      ]
     },
     "metadata": {},
     "output_type": "display_data"
    },
    {
     "data": {
      "application/vnd.jupyter.widget-view+json": {
       "model_id": "2b98e09e085c4182b6d237ff589e1aee",
       "version_major": 2,
       "version_minor": 0
      },
      "text/plain": [
       "0it [00:00, ?it/s]"
      ]
     },
     "metadata": {},
     "output_type": "display_data"
    },
    {
     "name": "stderr",
     "output_type": "stream",
     "text": [
      "C:\\Users\\jiahao\\.conda\\envs\\stardist\\lib\\site-packages\\skimage\\util\\dtype.py:500: UserWarning: Downcasting int64 to uint16 without scaling because max value 7 fits in uint16\n",
      "  return _convert(image, np.uint16, force_copy)\n",
      "C:\\Users\\jiahao\\.conda\\envs\\stardist\\lib\\site-packages\\skimage\\util\\dtype.py:500: UserWarning: Downcasting int64 to uint16 without scaling because max value 19 fits in uint16\n",
      "  return _convert(image, np.uint16, force_copy)\n",
      "C:\\Users\\jiahao\\.conda\\envs\\stardist\\lib\\site-packages\\skimage\\util\\dtype.py:500: UserWarning: Downcasting int64 to uint16 without scaling because max value 17 fits in uint16\n",
      "  return _convert(image, np.uint16, force_copy)\n",
      "C:\\Users\\jiahao\\.conda\\envs\\stardist\\lib\\site-packages\\skimage\\util\\dtype.py:500: UserWarning: Downcasting int64 to uint16 without scaling because max value 11 fits in uint16\n",
      "  return _convert(image, np.uint16, force_copy)\n",
      "C:\\Users\\jiahao\\.conda\\envs\\stardist\\lib\\site-packages\\skimage\\util\\dtype.py:500: UserWarning: Downcasting int64 to uint16 without scaling because max value 16 fits in uint16\n",
      "  return _convert(image, np.uint16, force_copy)\n",
      "C:\\Users\\jiahao\\.conda\\envs\\stardist\\lib\\site-packages\\skimage\\util\\dtype.py:500: UserWarning: Downcasting int64 to uint16 without scaling because max value 13 fits in uint16\n",
      "  return _convert(image, np.uint16, force_copy)\n",
      "C:\\Users\\jiahao\\.conda\\envs\\stardist\\lib\\site-packages\\skimage\\util\\dtype.py:500: UserWarning: Downcasting int64 to uint16 without scaling because max value 21 fits in uint16\n",
      "  return _convert(image, np.uint16, force_copy)\n",
      "C:\\Users\\jiahao\\.conda\\envs\\stardist\\lib\\site-packages\\skimage\\util\\dtype.py:500: UserWarning: Downcasting int64 to uint16 without scaling because max value 8 fits in uint16\n",
      "  return _convert(image, np.uint16, force_copy)\n",
      "C:\\Users\\jiahao\\.conda\\envs\\stardist\\lib\\site-packages\\skimage\\util\\dtype.py:500: UserWarning: Downcasting int64 to uint16 without scaling because max value 29 fits in uint16\n",
      "  return _convert(image, np.uint16, force_copy)\n",
      "C:\\Users\\jiahao\\.conda\\envs\\stardist\\lib\\site-packages\\skimage\\util\\dtype.py:500: UserWarning: Downcasting int64 to uint16 without scaling because max value 10 fits in uint16\n",
      "  return _convert(image, np.uint16, force_copy)\n",
      "C:\\Users\\jiahao\\.conda\\envs\\stardist\\lib\\site-packages\\skimage\\util\\dtype.py:500: UserWarning: Downcasting int64 to uint16 without scaling because max value 18 fits in uint16\n",
      "  return _convert(image, np.uint16, force_copy)\n",
      "C:\\Users\\jiahao\\.conda\\envs\\stardist\\lib\\site-packages\\skimage\\util\\dtype.py:500: UserWarning: Downcasting int64 to uint16 without scaling because max value 28 fits in uint16\n",
      "  return _convert(image, np.uint16, force_copy)\n",
      "C:\\Users\\jiahao\\.conda\\envs\\stardist\\lib\\site-packages\\skimage\\util\\dtype.py:500: UserWarning: Downcasting int64 to uint16 without scaling because max value 12 fits in uint16\n",
      "  return _convert(image, np.uint16, force_copy)\n",
      "C:\\Users\\jiahao\\.conda\\envs\\stardist\\lib\\site-packages\\skimage\\util\\dtype.py:500: UserWarning: Downcasting int64 to uint16 without scaling because max value 9 fits in uint16\n",
      "  return _convert(image, np.uint16, force_copy)\n",
      "C:\\Users\\jiahao\\.conda\\envs\\stardist\\lib\\site-packages\\skimage\\util\\dtype.py:500: UserWarning: Downcasting int64 to uint16 without scaling because max value 14 fits in uint16\n",
      "  return _convert(image, np.uint16, force_copy)\n",
      "C:\\Users\\jiahao\\.conda\\envs\\stardist\\lib\\site-packages\\skimage\\util\\dtype.py:500: UserWarning: Downcasting int64 to uint16 without scaling because max value 20 fits in uint16\n",
      "  return _convert(image, np.uint16, force_copy)\n",
      "C:\\Users\\jiahao\\.conda\\envs\\stardist\\lib\\site-packages\\skimage\\util\\dtype.py:500: UserWarning: Downcasting int64 to uint16 without scaling because max value 27 fits in uint16\n",
      "  return _convert(image, np.uint16, force_copy)\n",
      "C:\\Users\\jiahao\\.conda\\envs\\stardist\\lib\\site-packages\\skimage\\util\\dtype.py:500: UserWarning: Downcasting int64 to uint16 without scaling because max value 34 fits in uint16\n",
      "  return _convert(image, np.uint16, force_copy)\n",
      "C:\\Users\\jiahao\\.conda\\envs\\stardist\\lib\\site-packages\\skimage\\util\\dtype.py:500: UserWarning: Downcasting int64 to uint16 without scaling because max value 15 fits in uint16\n",
      "  return _convert(image, np.uint16, force_copy)\n",
      "C:\\Users\\jiahao\\.conda\\envs\\stardist\\lib\\site-packages\\skimage\\util\\dtype.py:500: UserWarning: Downcasting int64 to uint16 without scaling because max value 32 fits in uint16\n",
      "  return _convert(image, np.uint16, force_copy)\n"
     ]
    },
    {
     "data": {
      "application/vnd.jupyter.widget-view+json": {
       "model_id": "def43ef6d1e24ba7adcf5e9f18c29f05",
       "version_major": 2,
       "version_minor": 0
      },
      "text/plain": [
       "0it [00:00, ?it/s]"
      ]
     },
     "metadata": {},
     "output_type": "display_data"
    },
    {
     "name": "stderr",
     "output_type": "stream",
     "text": [
      "C:\\Users\\jiahao\\.conda\\envs\\stardist\\lib\\site-packages\\skimage\\util\\dtype.py:500: UserWarning: Downcasting int64 to uint16 without scaling because max value 39 fits in uint16\n",
      "  return _convert(image, np.uint16, force_copy)\n",
      "C:\\Users\\jiahao\\.conda\\envs\\stardist\\lib\\site-packages\\skimage\\util\\dtype.py:500: UserWarning: Downcasting int64 to uint16 without scaling because max value 37 fits in uint16\n",
      "  return _convert(image, np.uint16, force_copy)\n",
      "C:\\Users\\jiahao\\.conda\\envs\\stardist\\lib\\site-packages\\skimage\\util\\dtype.py:500: UserWarning: Downcasting int64 to uint16 without scaling because max value 36 fits in uint16\n",
      "  return _convert(image, np.uint16, force_copy)\n",
      "C:\\Users\\jiahao\\.conda\\envs\\stardist\\lib\\site-packages\\skimage\\util\\dtype.py:500: UserWarning: Downcasting int64 to uint16 without scaling because max value 40 fits in uint16\n",
      "  return _convert(image, np.uint16, force_copy)\n",
      "C:\\Users\\jiahao\\.conda\\envs\\stardist\\lib\\site-packages\\skimage\\util\\dtype.py:500: UserWarning: Downcasting int64 to uint16 without scaling because max value 33 fits in uint16\n",
      "  return _convert(image, np.uint16, force_copy)\n",
      "C:\\Users\\jiahao\\.conda\\envs\\stardist\\lib\\site-packages\\skimage\\util\\dtype.py:500: UserWarning: Downcasting int64 to uint16 without scaling because max value 25 fits in uint16\n",
      "  return _convert(image, np.uint16, force_copy)\n",
      "C:\\Users\\jiahao\\.conda\\envs\\stardist\\lib\\site-packages\\skimage\\util\\dtype.py:500: UserWarning: Downcasting int64 to uint16 without scaling because max value 51 fits in uint16\n",
      "  return _convert(image, np.uint16, force_copy)\n",
      "C:\\Users\\jiahao\\.conda\\envs\\stardist\\lib\\site-packages\\skimage\\util\\dtype.py:500: UserWarning: Downcasting int64 to uint16 without scaling because max value 30 fits in uint16\n",
      "  return _convert(image, np.uint16, force_copy)\n",
      "C:\\Users\\jiahao\\.conda\\envs\\stardist\\lib\\site-packages\\skimage\\util\\dtype.py:500: UserWarning: Downcasting int64 to uint16 without scaling because max value 42 fits in uint16\n",
      "  return _convert(image, np.uint16, force_copy)\n",
      "C:\\Users\\jiahao\\.conda\\envs\\stardist\\lib\\site-packages\\skimage\\util\\dtype.py:500: UserWarning: Downcasting int64 to uint16 without scaling because max value 24 fits in uint16\n",
      "  return _convert(image, np.uint16, force_copy)\n",
      "C:\\Users\\jiahao\\.conda\\envs\\stardist\\lib\\site-packages\\skimage\\util\\dtype.py:500: UserWarning: Downcasting int64 to uint16 without scaling because max value 23 fits in uint16\n",
      "  return _convert(image, np.uint16, force_copy)\n",
      "C:\\Users\\jiahao\\.conda\\envs\\stardist\\lib\\site-packages\\skimage\\util\\dtype.py:500: UserWarning: Downcasting int64 to uint16 without scaling because max value 35 fits in uint16\n",
      "  return _convert(image, np.uint16, force_copy)\n",
      "C:\\Users\\jiahao\\.conda\\envs\\stardist\\lib\\site-packages\\skimage\\util\\dtype.py:500: UserWarning: Downcasting int64 to uint16 without scaling because max value 26 fits in uint16\n",
      "  return _convert(image, np.uint16, force_copy)\n",
      "C:\\Users\\jiahao\\.conda\\envs\\stardist\\lib\\site-packages\\skimage\\util\\dtype.py:500: UserWarning: Downcasting int64 to uint16 without scaling because max value 38 fits in uint16\n",
      "  return _convert(image, np.uint16, force_copy)\n"
     ]
    },
    {
     "data": {
      "application/vnd.jupyter.widget-view+json": {
       "model_id": "877ae88abd204651bdeb6b7b2f0af8d4",
       "version_major": 2,
       "version_minor": 0
      },
      "text/plain": [
       "0it [00:00, ?it/s]"
      ]
     },
     "metadata": {},
     "output_type": "display_data"
    },
    {
     "name": "stderr",
     "output_type": "stream",
     "text": [
      "C:\\Users\\jiahao\\.conda\\envs\\stardist\\lib\\site-packages\\skimage\\util\\dtype.py:500: UserWarning: Downcasting int64 to uint16 without scaling because max value 22 fits in uint16\n",
      "  return _convert(image, np.uint16, force_copy)\n",
      "C:\\Users\\jiahao\\.conda\\envs\\stardist\\lib\\site-packages\\skimage\\util\\dtype.py:500: UserWarning: Downcasting int64 to uint16 without scaling because max value 3 fits in uint16\n",
      "  return _convert(image, np.uint16, force_copy)\n",
      "C:\\Users\\jiahao\\.conda\\envs\\stardist\\lib\\site-packages\\skimage\\util\\dtype.py:500: UserWarning: Downcasting int64 to uint16 without scaling because max value 2 fits in uint16\n",
      "  return _convert(image, np.uint16, force_copy)\n",
      "C:\\Users\\jiahao\\.conda\\envs\\stardist\\lib\\site-packages\\skimage\\util\\dtype.py:500: UserWarning: Downcasting int64 to uint16 without scaling because max value 1 fits in uint16\n",
      "  return _convert(image, np.uint16, force_copy)\n",
      "C:\\Users\\jiahao\\.conda\\envs\\stardist\\lib\\site-packages\\skimage\\util\\dtype.py:500: UserWarning: Downcasting int64 to uint16 without scaling because max value 6 fits in uint16\n",
      "  return _convert(image, np.uint16, force_copy)\n",
      "C:\\Users\\jiahao\\.conda\\envs\\stardist\\lib\\site-packages\\skimage\\util\\dtype.py:500: UserWarning: Downcasting int64 to uint16 without scaling because max value 0 fits in uint16\n",
      "  return _convert(image, np.uint16, force_copy)\n"
     ]
    },
    {
     "data": {
      "application/vnd.jupyter.widget-view+json": {
       "model_id": "51b6e3494c4f485d95876141b18aa091",
       "version_major": 2,
       "version_minor": 0
      },
      "text/plain": [
       "0it [00:00, ?it/s]"
      ]
     },
     "metadata": {},
     "output_type": "display_data"
    },
    {
     "name": "stderr",
     "output_type": "stream",
     "text": [
      "C:\\Users\\jiahao\\.conda\\envs\\stardist\\lib\\site-packages\\skimage\\util\\dtype.py:500: UserWarning: Downcasting int64 to uint16 without scaling because max value 4 fits in uint16\n",
      "  return _convert(image, np.uint16, force_copy)\n",
      "C:\\Users\\jiahao\\.conda\\envs\\stardist\\lib\\site-packages\\skimage\\util\\dtype.py:500: UserWarning: Downcasting int64 to uint16 without scaling because max value 5 fits in uint16\n",
      "  return _convert(image, np.uint16, force_copy)\n"
     ]
    },
    {
     "data": {
      "application/vnd.jupyter.widget-view+json": {
       "model_id": "66d47140d88a4afb8393ad066ebeac71",
       "version_major": 2,
       "version_minor": 0
      },
      "text/plain": [
       "0it [00:00, ?it/s]"
      ]
     },
     "metadata": {},
     "output_type": "display_data"
    },
    {
     "data": {
      "application/vnd.jupyter.widget-view+json": {
       "model_id": "463c76935ec543c9896ebfe9835d516e",
       "version_major": 2,
       "version_minor": 0
      },
      "text/plain": [
       "0it [00:00, ?it/s]"
      ]
     },
     "metadata": {},
     "output_type": "display_data"
    }
   ],
   "source": [
    "n_samples_per_position = 40\n",
    "\n",
    "a = 1\n",
    "for current_position in tqdm(positions):\n",
    "    current_gray_img = imread(os.path.join(gray_img_path, f\"{current_position}.tif\"), dtype='uint8')\n",
    "    current_label_img = imread(os.path.join(input_path, f\"{current_position}dist-watershed.tif\"))\n",
    "    current_label_img = current_label_img.astype(np.uint16)\n",
    "\n",
    "    current_blank_gray_img = np.zeros(current_gray_img.shape, dtype=np.uint8)\n",
    "    current_blank_label_img = np.zeros(current_gray_img.shape, dtype=np.uint16)\n",
    "\n",
    "    for i, region in tqdm(enumerate(regionprops(current_label_img))):\n",
    "        if region.area > 3000 and region.area < 7000:\n",
    "            current_blank_label_img[region.coords[:,0], region.coords[:,1], region.coords[:,2]] = region.label\n",
    "            current_blank_gray_img[region.coords[:,0], region.coords[:,1], region.coords[:,2]] = current_gray_img[region.coords[:,0], region.coords[:,1], region.coords[:,2]]\n",
    "\n",
    "    coords_x = np.random.randint(0, 1368, n_samples_per_position)\n",
    "    coords_y = np.random.randint(0, 1368, n_samples_per_position)\n",
    "\n",
    "    for j in range(n_samples_per_position):\n",
    "        current_x = coords_x[j]\n",
    "        current_y = coords_y[j]\n",
    "        current_sample_gary_img = current_blank_gray_img[:, current_x:current_x+128, current_y:current_y+128]\n",
    "        current_sample_label_img = current_blank_label_img[:, current_x:current_x+128, current_y:current_y+128]\n",
    "        current_sample_label_img = label(current_sample_label_img)\n",
    "        current_sample_label_img = img_as_uint(current_sample_label_img)\n",
    "        current_preview = label2rgb(current_sample_label_img)\n",
    "        imwrite(os.path.join(img_path, f'img_{a}.tif'), current_sample_gary_img)\n",
    "        imwrite(os.path.join(mask_path, f'mask_{a}.tif'), current_sample_label_img)\n",
    "        imwrite(os.path.join(preview_path, f'rgb_{a}.tif'), current_preview)\n",
    "        a += 1"
   ]
  },
  {
   "cell_type": "markdown",
   "id": "a23a0df3-75af-48e0-bab3-1b1ea4bbb056",
   "metadata": {},
   "source": [
    "## Create cell repo"
   ]
  },
  {
   "cell_type": "code",
   "execution_count": 23,
   "id": "c5ea7be3-6c3b-43bb-9f10-c0bd26b504fa",
   "metadata": {},
   "outputs": [],
   "source": [
    "selected_path = os.path.join(output_path, 'selected')\n",
    "\n",
    "ids = sorted([f.split('_')[1].replace('.tif', '') for f in os.listdir(selected_path) if \"tif\" in f])"
   ]
  },
  {
   "cell_type": "code",
   "execution_count": 24,
   "id": "d781a3b8-f42d-44dc-9f80-17b763eb679f",
   "metadata": {},
   "outputs": [
    {
     "data": {
      "application/vnd.jupyter.widget-view+json": {
       "model_id": "2dce0335d1a5419b8f3baa223d4a778d",
       "version_major": 2,
       "version_minor": 0
      },
      "text/plain": [
       "  0%|          | 0/139 [00:00<?, ?it/s]"
      ]
     },
     "metadata": {},
     "output_type": "display_data"
    }
   ],
   "source": [
    "areas = []\n",
    "n_layers = []\n",
    "for current_id in tqdm(ids):\n",
    "    current_gray_img = imread(os.path.join(img_path, f\"img_{current_id}.tif\"), dtype='uint8')\n",
    "    current_label_img = imread(os.path.join(mask_path, f\"mask_{current_id}.tif\"))\n",
    "    current_label_img = current_label_img.astype(np.uint16)\n",
    "\n",
    "    for i, region in enumerate(regionprops(current_label_img)):\n",
    "        areas.append(region.area)\n",
    "        n_layers.append(np.unique(region.coords[:, 0]).shape[0])"
   ]
  },
  {
   "cell_type": "code",
   "execution_count": 25,
   "id": "04fd8851-006d-447e-8828-86873847f374",
   "metadata": {},
   "outputs": [
    {
     "data": {
      "text/plain": [
       "<Axes: ylabel='Count'>"
      ]
     },
     "execution_count": 25,
     "metadata": {},
     "output_type": "execute_result"
    },
    {
     "data": {
      "image/png": "[encoded data removed]",
      "text/plain": [
       "<Figure size 640x480 with 1 Axes>"
      ]
     },
     "metadata": {},
     "output_type": "display_data"
    }
   ],
   "source": [
    "sns.histplot(areas)"
   ]
  },
  {
   "cell_type": "code",
   "execution_count": 26,
   "id": "f74c6612-579c-485c-b920-20a8b05eade9",
   "metadata": {},
   "outputs": [
    {
     "data": {
      "text/plain": [
       "<Axes: ylabel='Count'>"
      ]
     },
     "execution_count": 26,
     "metadata": {},
     "output_type": "execute_result"
    },
    {
     "data": {
      "image/png": "[encoded data removed]",
      "text/plain": [
       "<Figure size 640x480 with 1 Axes>"
      ]
     },
     "metadata": {},
     "output_type": "display_data"
    }
   ],
   "source": [
    "sns.histplot(n_layers)"
   ]
  },
  {
   "cell_type": "code",
   "execution_count": 27,
   "id": "541471a4-4fea-4368-8fe2-44f781f82373",
   "metadata": {},
   "outputs": [
    {
     "data": {
      "application/vnd.jupyter.widget-view+json": {
       "model_id": "aa5a3eb701554c16a395f53924e1d113",
       "version_major": 2,
       "version_minor": 0
      },
      "text/plain": [
       "  0%|          | 0/139 [00:00<?, ?it/s]"
      ]
     },
     "metadata": {},
     "output_type": "display_data"
    }
   ],
   "source": [
    "cells = []\n",
    "for current_id in tqdm(ids):\n",
    "    current_gray_img = imread(os.path.join(img_path, f\"img_{current_id}.tif\"), dtype='uint8')\n",
    "    current_label_img = imread(os.path.join(mask_path, f\"mask_{current_id}.tif\"))\n",
    "    current_label_img = current_label_img.astype(np.uint16)\n",
    "    \n",
    "    for i, region in enumerate(regionprops(current_label_img, current_gray_img)):\n",
    "        if region.area > 3000 and region.area < 7000:\n",
    "            current_n_layers = np.unique(region.coords[:, 0]).shape[0]\n",
    "            if current_n_layers > 5:\n",
    "                cells.append(region)\n",
    "            "
   ]
  },
  {
   "cell_type": "code",
   "execution_count": 40,
   "id": "c9cdc1a6-f0ed-47c7-9b98-adb53914dcc9",
   "metadata": {},
   "outputs": [],
   "source": [
    "cell_path = os.path.join(output_path, 'cell')\n",
    "if not os.path.exists(cell_path):\n",
    "    os.mkdir(cell_path)\n",
    "\n",
    "\n",
    "for i in range(10):\n",
    "    imwrite(os.path.join(cell_path, f'mask_{i}.tif'), cells[i].image)\n",
    "    imwrite(os.path.join(cell_path, f'img_{i}.tif'), cells[i].image_intensity)"
   ]
  },
  {
   "cell_type": "code",
   "execution_count": 28,
   "id": "4aed7e87-fe22-4f46-a157-87b4ee8c9f3a",
   "metadata": {},
   "outputs": [],
   "source": [
    "output_path = 'Z:/Data/Analyzed/2024-01-08-Jiakun-MouseSpleen64Gene/images/flamingo/stardist_sample/train_2'\n",
    "if not os.path.exists(output_path):\n",
    "    os.mkdir(output_path)\n",
    "\n",
    "img_path = os.path.join(output_path, 'img')\n",
    "if not os.path.exists(img_path):\n",
    "    os.mkdir(img_path)\n",
    "\n",
    "mask_path = os.path.join(output_path, 'mask')\n",
    "if not os.path.exists(mask_path):\n",
    "    os.mkdir(mask_path)"
   ]
  },
  {
   "cell_type": "code",
   "execution_count": 29,
   "id": "22ce30e1-600b-4d63-9d18-7248d7466265",
   "metadata": {},
   "outputs": [
    {
     "data": {
      "application/vnd.jupyter.widget-view+json": {
       "model_id": "fdefad0ea5854cb1a95579095802ff9c",
       "version_major": 2,
       "version_minor": 0
      },
      "text/plain": [
       "  0%|          | 0/2000 [00:00<?, ?it/s]"
      ]
     },
     "metadata": {},
     "output_type": "display_data"
    }
   ],
   "source": [
    "n_samples_to_generate = 2000\n",
    "\n",
    "for n in tqdm(range(n_samples_to_generate)):\n",
    "    \n",
    "    current_blank_gray_img = np.zeros(current_gray_img.shape, dtype=np.uint8)\n",
    "    current_blank_label_img = np.zeros(current_gray_img.shape, dtype=np.uint16)\n",
    "    \n",
    "    n_cells_on_image = np.random.randint(2, 7)\n",
    "    cells_index = np.random.randint(0, len(cells), n_cells_on_image)\n",
    "    \n",
    "    for i, j in enumerate(cells_index):\n",
    "        current_region = cells[j]\n",
    "        img_intensity_coords = current_region.coords.copy()\n",
    "        img_intensity_coords[:, 0] = img_intensity_coords[:, 0] - current_region.bbox[0]\n",
    "        img_intensity_coords[:, 1] = img_intensity_coords[:, 1] - current_region.bbox[1]\n",
    "        img_intensity_coords[:, 2] = img_intensity_coords[:, 2] - current_region.bbox[2]\n",
    "    \n",
    "        current_blank_label_img[current_region.coords[:,0], current_region.coords[:,1], current_region.coords[:,2]] = i + 1\n",
    "        current_blank_gray_img[current_region.coords[:,0], current_region.coords[:,1], current_region.coords[:,2]] = current_region.image_intensity[img_intensity_coords[:,0], img_intensity_coords[:,1], img_intensity_coords[:,2]]\n",
    "\n",
    "    imwrite(os.path.join(mask_path, f'mask_{n+1}.tif'), current_blank_label_img)\n",
    "    imwrite(os.path.join(img_path, f'img_{n+1}.tif'), current_blank_gray_img)"
   ]
  },
  {
   "cell_type": "markdown",
   "id": "f668c14f-2a62-4648-a6a5-bb0c38a2a9dd",
   "metadata": {},
   "source": [
    "## Create cell repo with manual annotation"
   ]
  },
  {
   "cell_type": "code",
   "execution_count": 6,
   "id": "d10a0636-8ff5-48c0-84fe-a142917e1147",
   "metadata": {},
   "outputs": [],
   "source": [
    "output_path = 'Z:/Data/Analyzed/2024-01-08-Jiakun-MouseSpleen64Gene/images/flamingo/stardist_sample'"
   ]
  },
  {
   "cell_type": "code",
   "execution_count": 8,
   "id": "2587ed04-fa93-4b4e-9294-5ad2c6f7eed9",
   "metadata": {},
   "outputs": [],
   "source": [
    "data_path = os.path.join(output_path, 'train_manual')\n",
    "img_path = os.path.join(data_path, 'img')\n",
    "mask_path = os.path.join(data_path, 'mask')\n",
    "\n",
    "ids = sorted([f.split('_')[1].replace('.tif', '') for f in os.listdir(img_path) if \"tif\" in f])"
   ]
  },
  {
   "cell_type": "code",
   "execution_count": 9,
   "id": "6e12b635-645f-4acb-9577-1f7a120695e7",
   "metadata": {},
   "outputs": [
    {
     "data": {
      "application/vnd.jupyter.widget-view+json": {
       "model_id": "d4b9596e0deb43a2a761a5fa5c567d82",
       "version_major": 2,
       "version_minor": 0
      },
      "text/plain": [
       "  0%|          | 0/20 [00:00<?, ?it/s]"
      ]
     },
     "metadata": {},
     "output_type": "display_data"
    }
   ],
   "source": [
    "areas = []\n",
    "n_layers = []\n",
    "for current_id in tqdm(ids):\n",
    "    current_label_img = imread(os.path.join(mask_path, f\"mask_{current_id}.tif\"))\n",
    "    current_label_img = current_label_img.astype(np.uint16)\n",
    "\n",
    "    for i, region in enumerate(regionprops(current_label_img)):\n",
    "        areas.append(region.area)\n",
    "        n_layers.append(np.unique(region.coords[:, 0]).shape[0])"
   ]
  },
  {
   "cell_type": "code",
   "execution_count": 10,
   "id": "d589dc87-cf89-4076-b7be-be741de544aa",
   "metadata": {},
   "outputs": [
    {
     "data": {
      "text/plain": [
       "<Axes: ylabel='Count'>"
      ]
     },
     "execution_count": 10,
     "metadata": {},
     "output_type": "execute_result"
    },
    {
     "data": {
      "image/png": "[encoded data removed]",
      "text/plain": [
       "<Figure size 640x480 with 1 Axes>"
      ]
     },
     "metadata": {},
     "output_type": "display_data"
    }
   ],
   "source": [
    "sns.histplot(areas)"
   ]
  },
  {
   "cell_type": "code",
   "execution_count": 11,
   "id": "50d8e738-df9a-4c4b-a2c2-a9a20b28c0e7",
   "metadata": {},
   "outputs": [
    {
     "data": {
      "text/plain": [
       "<Axes: ylabel='Count'>"
      ]
     },
     "execution_count": 11,
     "metadata": {},
     "output_type": "execute_result"
    },
    {
     "data": {
      "image/png": "[encoded data removed]",
      "text/plain": [
       "<Figure size 640x480 with 1 Axes>"
      ]
     },
     "metadata": {},
     "output_type": "display_data"
    }
   ],
   "source": [
    "sns.histplot(n_layers)"
   ]
  },
  {
   "cell_type": "code",
   "execution_count": 27,
   "id": "9f1e2694-81f3-4cea-9d6b-ed6b4acf8427",
   "metadata": {},
   "outputs": [
    {
     "data": {
      "application/vnd.jupyter.widget-view+json": {
       "model_id": "aa5a3eb701554c16a395f53924e1d113",
       "version_major": 2,
       "version_minor": 0
      },
      "text/plain": [
       "  0%|          | 0/139 [00:00<?, ?it/s]"
      ]
     },
     "metadata": {},
     "output_type": "display_data"
    }
   ],
   "source": [
    "cells = []\n",
    "for current_id in tqdm(ids):\n",
    "    current_gray_img = imread(os.path.join(img_path, f\"img_{current_id}.tif\"), dtype='uint8')\n",
    "    current_label_img = imread(os.path.join(mask_path, f\"mask_{current_id}.tif\"))\n",
    "    current_label_img = current_label_img.astype(np.uint16)\n",
    "    \n",
    "    for i, region in enumerate(regionprops(current_label_img, current_gray_img)):\n",
    "        if region.area > 3000 and region.area < 7000:\n",
    "            current_n_layers = np.unique(region.coords[:, 0]).shape[0]\n",
    "            if current_n_layers > 5:\n",
    "                cells.append(region)\n",
    "            "
   ]
  },
  {
   "cell_type": "code",
   "execution_count": 40,
   "id": "5d2372b9-6900-4139-b456-410b51cc868a",
   "metadata": {},
   "outputs": [],
   "source": [
    "cell_path = os.path.join(output_path, 'cell')\n",
    "if not os.path.exists(cell_path):\n",
    "    os.mkdir(cell_path)\n",
    "\n",
    "\n",
    "for i in range(10):\n",
    "    imwrite(os.path.join(cell_path, f'mask_{i}.tif'), cells[i].image)\n",
    "    imwrite(os.path.join(cell_path, f'img_{i}.tif'), cells[i].image_intensity)"
   ]
  },
  {
   "cell_type": "code",
   "execution_count": 28,
   "id": "7e499544-fca6-4b94-992b-dc8cd5b2a987",
   "metadata": {},
   "outputs": [],
   "source": [
    "output_path = 'Z:/Data/Analyzed/2024-01-08-Jiakun-MouseSpleen64Gene/images/flamingo/stardist_sample/train_2'\n",
    "if not os.path.exists(output_path):\n",
    "    os.mkdir(output_path)\n",
    "\n",
    "img_path = os.path.join(output_path, 'img')\n",
    "if not os.path.exists(img_path):\n",
    "    os.mkdir(img_path)\n",
    "\n",
    "mask_path = os.path.join(output_path, 'mask')\n",
    "if not os.path.exists(mask_path):\n",
    "    os.mkdir(mask_path)"
   ]
  },
  {
   "cell_type": "code",
   "execution_count": 29,
   "id": "046bd237-6c87-4fc3-94e0-3f60d2dbc741",
   "metadata": {},
   "outputs": [
    {
     "data": {
      "application/vnd.jupyter.widget-view+json": {
       "model_id": "fdefad0ea5854cb1a95579095802ff9c",
       "version_major": 2,
       "version_minor": 0
      },
      "text/plain": [
       "  0%|          | 0/2000 [00:00<?, ?it/s]"
      ]
     },
     "metadata": {},
     "output_type": "display_data"
    }
   ],
   "source": [
    "n_samples_to_generate = 2000\n",
    "\n",
    "for n in tqdm(range(n_samples_to_generate)):\n",
    "    \n",
    "    current_blank_gray_img = np.zeros(current_gray_img.shape, dtype=np.uint8)\n",
    "    current_blank_label_img = np.zeros(current_gray_img.shape, dtype=np.uint16)\n",
    "    \n",
    "    n_cells_on_image = np.random.randint(2, 7)\n",
    "    cells_index = np.random.randint(0, len(cells), n_cells_on_image)\n",
    "    \n",
    "    for i, j in enumerate(cells_index):\n",
    "        current_region = cells[j]\n",
    "        img_intensity_coords = current_region.coords.copy()\n",
    "        img_intensity_coords[:, 0] = img_intensity_coords[:, 0] - current_region.bbox[0]\n",
    "        img_intensity_coords[:, 1] = img_intensity_coords[:, 1] - current_region.bbox[1]\n",
    "        img_intensity_coords[:, 2] = img_intensity_coords[:, 2] - current_region.bbox[2]\n",
    "    \n",
    "        current_blank_label_img[current_region.coords[:,0], current_region.coords[:,1], current_region.coords[:,2]] = i + 1\n",
    "        current_blank_gray_img[current_region.coords[:,0], current_region.coords[:,1], current_region.coords[:,2]] = current_region.image_intensity[img_intensity_coords[:,0], img_intensity_coords[:,1], img_intensity_coords[:,2]]\n",
    "\n",
    "    imwrite(os.path.join(mask_path, f'mask_{n+1}.tif'), current_blank_label_img)\n",
    "    imwrite(os.path.join(img_path, f'img_{n+1}.tif'), current_blank_gray_img)"
   ]
  },
  {
   "cell_type": "markdown",
   "id": "0e78534e-da8e-439e-88b7-6a48484b07ff",
   "metadata": {},
   "source": [
    "## Test"
   ]
  },
  {
   "cell_type": "code",
   "execution_count": 60,
   "id": "be52adeb-274b-4046-af05-189f169c05b5",
   "metadata": {},
   "outputs": [],
   "source": [
    "current_position = 'Position241'\n",
    "\n",
    "current_gray_img = imread(os.path.join(gray_img_path, f\"{current_position}.tif\"), dtype='uint8')\n",
    "current_label_img = imread(os.path.join(input_path, f\"{current_position}dist-watershed.tif\"))\n",
    "current_label_img = current_label_img.astype(np.uint16)\n",
    "\n",
    "current_blank_gray_img = np.zeros(current_gray_img.shape, dtype=np.uint8)\n",
    "current_blank_label_img = np.zeros(current_gray_img.shape, dtype=np.uint16)"
   ]
  },
  {
   "cell_type": "code",
   "execution_count": 61,
   "id": "afe2d1ca-bd11-414b-8f0e-4ffacffb32df",
   "metadata": {},
   "outputs": [],
   "source": [
    "areas = []\n",
    "for i, region in enumerate(regionprops(current_label_img, current_gray_img)):\n",
    "    areas.append(region.area)\n",
    "    if region.area > 3000 and region.area < 7000:\n",
    "        current_blank_label_img[region.coords[:,0], region.coords[:,1], region.coords[:,2]] = region.label\n",
    "        current_blank_gray_img[region.coords[:,0], region.coords[:,1], region.coords[:,2]] = current_gray_img[region.coords[:,0], region.coords[:,1], region.coords[:,2]]"
   ]
  },
  {
   "cell_type": "code",
   "execution_count": 62,
   "id": "088a0153-a9c9-4a29-a08c-8d889a1cf4f0",
   "metadata": {},
   "outputs": [],
   "source": [
    "imwrite(os.path.join(input_path, 'label.tif'), current_blank_label_img)\n",
    "imwrite(os.path.join(input_path, 'image.tif'), current_blank_gray_img)"
   ]
  },
  {
   "cell_type": "code",
   "execution_count": 68,
   "id": "7050f52a-6edf-4959-8d4c-bd7544049a0c",
   "metadata": {},
   "outputs": [],
   "source": [
    "coords_x = np.random.randint(0, 1368, 20)\n",
    "coords_y = np.random.randint(0, 1368, 20)"
   ]
  },
  {
   "cell_type": "code",
   "execution_count": 70,
   "id": "0cdbdac8-c72f-4d7a-a69a-fdbe933514b9",
   "metadata": {},
   "outputs": [],
   "source": [
    "for j in range(1):\n",
    "    current_x = coords_x[j]\n",
    "    current_y = coords_y[j]\n",
    "    current_sample_gary_img = current_blank_gray_img[:, current_x:current_x+128, current_y:current_y+128]\n",
    "    current_sample_label_img = current_blank_label_img[:, current_x:current_x+128, current_y:current_y+128]\n",
    "    imwrite(os.path.join(input_path, f'img_{j}.tif'), current_sample_gary_img)\n",
    "    imwrite(os.path.join(input_path, f'label_{j}.tif'), current_sample_label_img)"
   ]
  },
  {
   "cell_type": "code",
   "execution_count": 55,
   "id": "db304322-c556-448b-bdb3-e1b64aad2c9b",
   "metadata": {
    "scrolled": true
   },
   "outputs": [
    {
     "data": {
      "text/plain": [
       "<matplotlib.image.AxesImage at 0x28eb3748d90>"
      ]
     },
     "execution_count": 55,
     "metadata": {},
     "output_type": "execute_result"
    },
    {
     "data": {
      "image/png": "[encoded data removed]",
      "text/plain": [
       "<Figure size 640x480 with 1 Axes>"
      ]
     },
     "metadata": {},
     "output_type": "display_data"
    }
   ],
   "source": [
    "plt.imshow(region.image_intensity[0, :, :])"
   ]
  }
 ],
 "metadata": {
  "kernelspec": {
   "display_name": "Python 3 (ipykernel)",
   "language": "python",
   "name": "python3"
  },
  "language_info": {
   "codemirror_mode": {
    "name": "ipython",
    "version": 3
   },
   "file_extension": ".py",
   "mimetype": "text/x-python",
   "name": "python",
   "nbconvert_exporter": "python",
   "pygments_lexer": "ipython3",
   "version": "3.9.18"
  }
 },
 "nbformat": 4,
 "nbformat_minor": 5
}
