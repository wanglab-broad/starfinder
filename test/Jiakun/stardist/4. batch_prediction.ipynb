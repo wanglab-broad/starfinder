{
 "cells": [
  {
   "cell_type": "code",
   "execution_count": 1,
   "id": "89542577-fb8e-43cd-966e-d219d8d25c67",
   "metadata": {},
   "outputs": [],
   "source": [
    "from __future__ import print_function, unicode_literals, absolute_import, division\n",
    "import os\n",
    "import numpy as np\n",
    "from tifffile import imread\n",
    "from csbdeep.utils import Path, normalize\n",
    "from csbdeep.io import save_tiff_imagej_compatible\n",
    "from stardist.models import StarDist3D\n",
    "from skimage.morphology import disk, dilation\n",
    "from tqdm.notebook import tqdm"
   ]
  },
  {
   "cell_type": "code",
   "execution_count": 2,
   "id": "4838e22c-6fd5-4137-b959-e49dbfdbbb23",
   "metadata": {},
   "outputs": [],
   "source": [
    "import tensorflow as tf\n",
    "gpus = tf.config.experimental.list_physical_devices('GPU')\n",
    "tf.config.experimental.set_visible_devices(gpus[0], 'GPU')\n",
    "\n",
    "for device in gpus:\n",
    "    tf.config.experimental.set_memory_growth(device, True)"
   ]
  },
  {
   "cell_type": "code",
   "execution_count": 3,
   "id": "5aa813e8-6da9-425e-980e-d52df5dc4157",
   "metadata": {},
   "outputs": [],
   "source": [
    "# from tensorflow.compat.v1 import ConfigProto\n",
    "# from tensorflow.compat.v1 import InteractiveSession\n",
    "\n",
    "# config = ConfigProto()\n",
    "# config.gpu_options.allow_growth = True\n",
    "# session = InteractiveSession(config=config)"
   ]
  },
  {
   "cell_type": "markdown",
   "id": "aeada500-b80d-4785-b7ac-bde496799ad9",
   "metadata": {},
   "source": [
    "## Input"
   ]
  },
  {
   "cell_type": "code",
   "execution_count": 4,
   "id": "9db81bdb-3df9-4015-858c-1eb205bd72a2",
   "metadata": {},
   "outputs": [],
   "source": [
    "base_path = 'Z:/Data/Analyzed/2024-02-06-Hongyu-Hongyu_multicap_covid_spleen_replicates1/images/flamingo/'\n",
    "# base_path = 'Z:/Data/Analyzed/2024-01-08-Jiakun-MouseSpleen64Gene/images/flamingo/'\n",
    "data_path = os.path.join(base_path, 'output')\n",
    "output_path = os.path.join(base_path, 'stardist_segmentation')\n",
    "if not os.path.exists(output_path):\n",
    "    os.mkdir(output_path)"
   ]
  },
  {
   "cell_type": "code",
   "execution_count": 5,
   "id": "e56f9f98-a166-4e5d-9526-292b9a038e4a",
   "metadata": {},
   "outputs": [
    {
     "name": "stdout",
     "output_type": "stream",
     "text": [
      "Loading network weights from 'weights_best.h5'.\n",
      "Loading thresholds from 'thresholds.json'.\n",
      "Using default values: prob_thresh=0.642898, nms_thresh=0.5.\n"
     ]
    }
   ],
   "source": [
    "model = StarDist3D(None, name='3D_spleen_resnet_2', basedir='models')"
   ]
  },
  {
   "cell_type": "markdown",
   "id": "2c2d5619-3e3d-4ab7-a8fb-43e4cc96fd77",
   "metadata": {},
   "source": [
    "## Batch prediction"
   ]
  },
  {
   "cell_type": "code",
   "execution_count": 6,
   "id": "25c80638-61d2-467e-999f-f5abe02369fc",
   "metadata": {},
   "outputs": [],
   "source": [
    "positions = [f\"Position{i+1:03}\" for i in range(246, 548)]\n",
    "se = disk(1, dtype=np.int32)\n",
    "axis_norm = (0,1,2)\n",
    "prob_thresh = 0.6\n",
    "nms_thresh = 0.1"
   ]
  },
  {
   "cell_type": "code",
   "execution_count": null,
   "id": "3ee0b3ef-d44b-4d4a-af29-e8f84d997ca8",
   "metadata": {},
   "outputs": [
    {
     "data": {
      "application/vnd.jupyter.widget-view+json": {
       "model_id": "6ba2cfc5339244d8b590c8bb0a404c2c",
       "version_major": 2,
       "version_minor": 0
      },
      "text/plain": [
       "0it [00:00, ?it/s]"
      ]
     },
     "metadata": {},
     "output_type": "display_data"
    },
    {
     "name": "stderr",
     "output_type": "stream",
     "text": [
      "\n",
      "  0%|                                                                                            | 0/4 [00:00<?, ?it/s]\u001b[A\n",
      " 25%|█████████████████████                                                               | 1/4 [00:13<00:41, 13.89s/it]\u001b[A\n",
      " 50%|██████████████████████████████████████████                                          | 2/4 [00:18<00:16,  8.15s/it]\u001b[A\n",
      " 75%|███████████████████████████████████████████████████████████████                     | 3/4 [00:22<00:06,  6.34s/it]\u001b[A\n",
      "100%|████████████████████████████████████████████████████████████████████████████████████| 4/4 [00:26<00:00,  6.60s/it]\u001b[A\n",
      "__init__.py (43): Converting data type from 'int32' to ImageJ-compatible 'int16'.\n",
      "\n",
      "  0%|                                                                                            | 0/4 [00:00<?, ?it/s]\u001b[A\n",
      " 25%|█████████████████████                                                               | 1/4 [00:04<00:13,  4.54s/it]\u001b[A\n",
      " 50%|██████████████████████████████████████████                                          | 2/4 [00:08<00:08,  4.48s/it]\u001b[A\n",
      " 75%|███████████████████████████████████████████████████████████████                     | 3/4 [00:13<00:04,  4.55s/it]\u001b[A\n",
      "100%|████████████████████████████████████████████████████████████████████████████████████| 4/4 [00:18<00:00,  4.54s/it]\u001b[A\n",
      "\n",
      "  0%|                                                                                            | 0/4 [00:00<?, ?it/s]\u001b[A\n",
      " 25%|█████████████████████                                                               | 1/4 [00:04<00:13,  4.57s/it]\u001b[A\n",
      " 50%|██████████████████████████████████████████                                          | 2/4 [00:09<00:09,  4.72s/it]\u001b[A\n",
      " 75%|███████████████████████████████████████████████████████████████                     | 3/4 [00:13<00:04,  4.65s/it]\u001b[A\n",
      "100%|████████████████████████████████████████████████████████████████████████████████████| 4/4 [00:18<00:00,  4.61s/it]\u001b[A\n",
      "\n",
      "  0%|                                                                                            | 0/4 [00:00<?, ?it/s]\u001b[A\n",
      " 25%|█████████████████████                                                               | 1/4 [00:04<00:13,  4.56s/it]\u001b[A\n",
      " 50%|██████████████████████████████████████████                                          | 2/4 [00:09<00:09,  4.79s/it]\u001b[A\n",
      " 75%|███████████████████████████████████████████████████████████████                     | 3/4 [00:14<00:04,  4.86s/it]\u001b[A\n",
      "100%|████████████████████████████████████████████████████████████████████████████████████| 4/4 [00:18<00:00,  4.68s/it]\u001b[A\n",
      "\n",
      "  0%|                                                                                            | 0/4 [00:00<?, ?it/s]\u001b[A\n",
      " 25%|█████████████████████                                                               | 1/4 [00:04<00:12,  4.29s/it]\u001b[A\n",
      " 50%|██████████████████████████████████████████                                          | 2/4 [00:08<00:08,  4.39s/it]\u001b[A\n",
      " 75%|███████████████████████████████████████████████████████████████                     | 3/4 [00:13<00:04,  4.43s/it]\u001b[A\n",
      "100%|████████████████████████████████████████████████████████████████████████████████████| 4/4 [00:17<00:00,  4.42s/it]\u001b[A\n"
     ]
    }
   ],
   "source": [
    "with open(os.path.join(output_path, \"log_1.txt\"), \"w\") as f:\n",
    "    f.write(f\"prob_threshold: {prob_thresh}\\nnms_threshold: {nms_thresh}\")\n",
    "    for i, current_position in tqdm(enumerate(positions)):\n",
    "        current_img = imread(os.path.join(data_path, f\"{current_position}.tif\"))\n",
    "        current_img = normalize(current_img, 1, 99.8, axis=axis_norm)\n",
    "        labels, details = model.predict_instances(current_img, n_tiles=[1, 2, 2], prob_thresh=prob_thresh, nms_thresh=nms_thresh)\n",
    "    \n",
    "        for z in range(labels.shape[0]):\n",
    "            current_slice = labels[z,:,:]\n",
    "            labels[z,:,:] = dilation(current_slice, se)\n",
    "    \n",
    "        current_output = os.path.join(output_path, f\"{current_position}.tif\")\n",
    "        save_tiff_imagej_compatible(current_output, labels, axes='ZYX')\n",
    "        ncells = np.unique(labels).shape[0] - 1\n",
    "        f.write(f\"{current_position}: {ncells}\\n\")\n",
    "            "
   ]
  },
  {
   "cell_type": "code",
   "execution_count": null,
   "id": "d9744236-6303-48b9-a509-1202b8a14056",
   "metadata": {},
   "outputs": [],
   "source": []
  }
 ],
 "metadata": {
  "kernelspec": {
   "display_name": "Python 3 (ipykernel)",
   "language": "python",
   "name": "python3"
  },
  "language_info": {
   "codemirror_mode": {
    "name": "ipython",
    "version": 3
   },
   "file_extension": ".py",
   "mimetype": "text/x-python",
   "name": "python",
   "nbconvert_exporter": "python",
   "pygments_lexer": "ipython3",
   "version": "3.9.18"
  }
 },
 "nbformat": 4,
 "nbformat_minor": 5
}
