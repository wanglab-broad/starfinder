{
 "cells": [
  {
   "cell_type": "code",
   "execution_count": 1,
   "id": "31b3ff71-aa01-4ba5-a03c-26a41a4c27c6",
   "metadata": {},
   "outputs": [],
   "source": [
    "from __future__ import print_function, unicode_literals, absolute_import, division\n",
    "import os\n",
    "import numpy as np\n",
    "from tifffile import imread\n",
    "from csbdeep.utils import Path, normalize\n",
    "from csbdeep.io import save_tiff_imagej_compatible\n",
    "from stardist.models import StarDist3D\n",
    "from skimage.morphology import disk, dilation\n",
    "from tqdm.notebook import tqdm"
   ]
  },
  {
   "cell_type": "code",
   "execution_count": 2,
   "id": "89f4ac9e-e71f-4ef9-8042-009448792065",
   "metadata": {},
   "outputs": [],
   "source": [
    "import tensorflow as tf\n",
    "gpus = tf.config.experimental.list_physical_devices('GPU')\n",
    "tf.config.experimental.set_visible_devices(gpus[1], 'GPU')\n",
    "\n",
    "for device in gpus:\n",
    "    tf.config.experimental.set_memory_growth(device, True)"
   ]
  },
  {
   "cell_type": "code",
   "execution_count": 3,
   "id": "daded024-908c-4326-93aa-1af782906904",
   "metadata": {},
   "outputs": [],
   "source": [
    "# from tensorflow.compat.v1 import ConfigProto\n",
    "# from tensorflow.compat.v1 import InteractiveSession\n",
    "\n",
    "# config = ConfigProto()\n",
    "# config.gpu_options.allow_growth = True\n",
    "# session = InteractiveSession(config=config)"
   ]
  },
  {
   "cell_type": "markdown",
   "id": "268a0acf-910f-406b-8568-292d5df25ae1",
   "metadata": {},
   "source": [
    "## Input"
   ]
  },
  {
   "cell_type": "code",
   "execution_count": 4,
   "id": "7ced31b0-93cf-4a06-869f-147ae5bd2518",
   "metadata": {},
   "outputs": [],
   "source": [
    "base_path = 'Z:/Data/Analyzed/2024-02-06-Hongyu-Hongyu_multicap_covid_spleen_replicates1/images/flamingo/'\n",
    "# base_path = 'Z:/Data/Analyzed/2024-01-08-Jiakun-MouseSpleen64Gene/images/flamingo/'\n",
    "data_path = os.path.join(base_path, 'output')\n",
    "output_path = os.path.join(base_path, 'stardist_segmentation')\n",
    "if not os.path.exists(output_path):\n",
    "    os.mkdir(output_path)"
   ]
  },
  {
   "cell_type": "code",
   "execution_count": 5,
   "id": "4a503c09-4bde-46f7-91ea-0a9fb0e45737",
   "metadata": {},
   "outputs": [
    {
     "name": "stdout",
     "output_type": "stream",
     "text": [
      "Loading network weights from 'weights_best.h5'.\n",
      "Loading thresholds from 'thresholds.json'.\n",
      "Using default values: prob_thresh=0.642898, nms_thresh=0.5.\n"
     ]
    }
   ],
   "source": [
    "model = StarDist3D(None, name='3D_spleen_resnet_2', basedir='models')"
   ]
  },
  {
   "cell_type": "markdown",
   "id": "6d7f82e1-1b02-4d9d-a918-1cecd92850ea",
   "metadata": {},
   "source": [
    "## Batch prediction"
   ]
  },
  {
   "cell_type": "code",
   "execution_count": 6,
   "id": "29edd7b9-e581-417c-99d1-a0d1552b0c7b",
   "metadata": {},
   "outputs": [],
   "source": [
    "positions = [f\"Position{i+1:03}\" for i in range(829, 1096)]\n",
    "se = disk(1, dtype=np.int32)\n",
    "axis_norm = (0,1,2)\n",
    "prob_thresh = 0.6\n",
    "nms_thresh = 0.1"
   ]
  },
  {
   "cell_type": "code",
   "execution_count": null,
   "id": "588ecb63-b0c5-45ef-a6fc-b83627170838",
   "metadata": {},
   "outputs": [
    {
     "data": {
      "application/vnd.jupyter.widget-view+json": {
       "model_id": "2db23a817d564477ae94d5b34e87f923",
       "version_major": 2,
       "version_minor": 0
      },
      "text/plain": [
       "0it [00:00, ?it/s]"
      ]
     },
     "metadata": {},
     "output_type": "display_data"
    },
    {
     "name": "stderr",
     "output_type": "stream",
     "text": [
      "\n",
      "  0%|                                                                                            | 0/4 [00:00<?, ?it/s]\u001b[A\n",
      " 25%|█████████████████████                                                               | 1/4 [00:14<00:44, 14.83s/it]\u001b[A\n",
      " 50%|██████████████████████████████████████████                                          | 2/4 [00:19<00:17,  8.76s/it]\u001b[A\n",
      " 75%|███████████████████████████████████████████████████████████████                     | 3/4 [00:23<00:06,  6.87s/it]\u001b[A\n",
      "100%|████████████████████████████████████████████████████████████████████████████████████| 4/4 [00:28<00:00,  7.16s/it]\u001b[A\n",
      "__init__.py (43): Converting data type from 'int32' to ImageJ-compatible 'int16'.\n",
      "\n",
      "  0%|                                                                                            | 0/4 [00:00<?, ?it/s]\u001b[A\n",
      " 25%|█████████████████████                                                               | 1/4 [00:04<00:13,  4.44s/it]\u001b[A\n",
      " 50%|██████████████████████████████████████████                                          | 2/4 [00:09<00:09,  4.51s/it]\u001b[A\n",
      " 75%|███████████████████████████████████████████████████████████████                     | 3/4 [00:13<00:04,  4.48s/it]\u001b[A\n",
      "100%|████████████████████████████████████████████████████████████████████████████████████| 4/4 [00:17<00:00,  4.47s/it]\u001b[A\n",
      "\n",
      "  0%|                                                                                            | 0/4 [00:00<?, ?it/s]\u001b[A\n",
      " 25%|█████████████████████                                                               | 1/4 [00:04<00:13,  4.60s/it]\u001b[A\n",
      " 50%|██████████████████████████████████████████                                          | 2/4 [00:09<00:09,  4.57s/it]\u001b[A\n",
      " 75%|███████████████████████████████████████████████████████████████                     | 3/4 [00:13<00:04,  4.63s/it]\u001b[A\n",
      "100%|████████████████████████████████████████████████████████████████████████████████████| 4/4 [00:18<00:00,  4.60s/it]\u001b[A\n",
      "\n",
      "  0%|                                                                                            | 0/4 [00:00<?, ?it/s]\u001b[A\n",
      " 25%|█████████████████████                                                               | 1/4 [00:04<00:13,  4.63s/it]\u001b[A\n",
      " 50%|██████████████████████████████████████████                                          | 2/4 [00:09<00:09,  4.65s/it]\u001b[A\n",
      " 75%|███████████████████████████████████████████████████████████████                     | 3/4 [00:14<00:04,  4.68s/it]\u001b[A\n",
      "100%|████████████████████████████████████████████████████████████████████████████████████| 4/4 [00:18<00:00,  4.75s/it]\u001b[A\n",
      "\n",
      "  0%|                                                                                            | 0/4 [00:00<?, ?it/s]\u001b[A\n",
      " 25%|█████████████████████                                                               | 1/4 [00:04<00:13,  4.66s/it]\u001b[A\n",
      " 50%|██████████████████████████████████████████                                          | 2/4 [00:09<00:09,  4.79s/it]\u001b[A\n",
      " 75%|███████████████████████████████████████████████████████████████                     | 3/4 [00:14<00:04,  4.73s/it]\u001b[A\n",
      "100%|████████████████████████████████████████████████████████████████████████████████████| 4/4 [00:18<00:00,  4.73s/it]\u001b[A\n",
      "\n",
      "  0%|                                                                                            | 0/4 [00:00<?, ?it/s]\u001b[A\n",
      " 25%|█████████████████████                                                               | 1/4 [00:04<00:13,  4.48s/it]\u001b[A\n",
      " 50%|██████████████████████████████████████████                                          | 2/4 [00:09<00:09,  4.64s/it]\u001b[A\n",
      " 75%|███████████████████████████████████████████████████████████████                     | 3/4 [00:14<00:04,  4.75s/it]\u001b[A\n",
      "100%|████████████████████████████████████████████████████████████████████████████████████| 4/4 [00:18<00:00,  4.68s/it]\u001b[A\n"
     ]
    }
   ],
   "source": [
    "with open(os.path.join(output_path, \"log_2.txt\"), \"w\") as f:\n",
    "    f.write(f\"prob_threshold: {prob_thresh}\\nnms_threshold: {nms_thresh}\")\n",
    "    for i, current_position in tqdm(enumerate(positions)):\n",
    "        current_img = imread(os.path.join(data_path, f\"{current_position}.tif\"))\n",
    "        current_img = normalize(current_img, 1, 99.8, axis=axis_norm)\n",
    "        labels, details = model.predict_instances(current_img, n_tiles=[1, 2, 2], prob_thresh=prob_thresh, nms_thresh=nms_thresh)\n",
    "    \n",
    "        for z in range(labels.shape[0]):\n",
    "            current_slice = labels[z,:,:]\n",
    "            labels[z,:,:] = dilation(current_slice, se)\n",
    "    \n",
    "        current_output = os.path.join(output_path, f\"{current_position}.tif\")\n",
    "        save_tiff_imagej_compatible(current_output, labels, axes='ZYX')\n",
    "        ncells = np.unique(labels).shape[0] - 1\n",
    "        f.write(f\"{current_position}: {ncells}\\n\")\n",
    "            "
   ]
  },
  {
   "cell_type": "code",
   "execution_count": null,
   "id": "08062a52-3a8e-4395-a75a-b2eddbf81175",
   "metadata": {},
   "outputs": [],
   "source": []
  }
 ],
 "metadata": {
  "kernelspec": {
   "display_name": "Python 3 (ipykernel)",
   "language": "python",
   "name": "python3"
  },
  "language_info": {
   "codemirror_mode": {
    "name": "ipython",
    "version": 3
   },
   "file_extension": ".py",
   "mimetype": "text/x-python",
   "name": "python",
   "nbconvert_exporter": "python",
   "pygments_lexer": "ipython3",
   "version": "3.9.18"
  }
 },
 "nbformat": 4,
 "nbformat_minor": 5
}
