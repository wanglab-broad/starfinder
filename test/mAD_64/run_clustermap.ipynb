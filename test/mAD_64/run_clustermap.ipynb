{
 "cells": [
  {
   "cell_type": "code",
   "execution_count": 1,
   "metadata": {},
   "outputs": [],
   "source": [
    "# run ClusterMp with 2D mouse tissue section \n",
    "# user will define:\n",
    "# base_path\n",
    "\n",
    "# import packages \n",
    "import sys, os\n",
    "import timeit\n",
    "import math\n",
    "import tifffile\n",
    "import numpy as np\n",
    "import pandas as pd\n",
    "import matplotlib.pyplot as plt\n",
    "from ClusterMap.clustermap import *\n",
    "\n",
    "# test block\n",
    "base_path = '/home/unix/jiahao/wanglab/Data/Analyzed/2023-10-01-Jiahao-Test/mAD_64/'\n",
    "pi_path = '/home/unix/jiahao/wanglab/Data/Processed/2023-10-01-Jiahao-Test/mAD_64/round1'\n",
    "number_of_fovs = 56\n",
    "fovs = [f\"tile_{f}\" for f in range(1, number_of_fovs+1)]\n",
    "\n",
    "# IO path \n",
    "start = timeit.default_timer()\n",
    "signal_path = os.path.join(base_path, 'signal')\n",
    "output_path = os.path.join(base_path, 'expr/clustermap')\n",
    "if not os.path.exists(output_path):\n",
    "    os.mkdir(output_path)\n",
    "    \n",
    "# Set parameters\n",
    "xy_radius = 50 \n",
    "z_radius = 10\n",
    "pct_filter = 0.1\n",
    "dapi_grid_interval = 5\n",
    "min_spot_per_cell = 5\n",
    "cell_num_threshold = 0.02\n",
    "window_size = 512\n",
    "\n",
    "# Iterate through each tile\n",
    "current_fov = fovs[0]\n",
    "\n",
    "# read dapi: col, row, z\n",
    "pi_file = [f for f in os.listdir(os.path.join(pi_path, current_fov)) if 'ch04' in f]\n",
    "pi = tifffile.imread(os.path.join(pi_path, current_fov, pi_file[0]))\n",
    "pi = np.transpose(pi, (1,2,0))\n",
    "\n",
    "# read spots\n",
    "spots = pd.read_csv(os.path.join(signal_path, f'{current_fov}_goodSpots.csv'))\n",
    "spots.columns = ['spot_location_1', 'spot_location_2', 'spot_location_3', 'gene']\n",
    "\n",
    "# add gene code\n",
    "genes_df = pd.read_csv(os.path.join(base_path, 'genes.csv'), header=None)\n",
    "genes_df.columns = ['gene', 'barcode']\n",
    "genes_df.gene = genes_df.gene.astype('category')\n",
    "gene_order = genes_df.gene.cat.categories\n",
    "spots['gene_name'] = spots.gene.copy()\n",
    "spots.gene = spots.gene.astype('category')\n",
    "spots.gene = spots.gene.cat.reorder_categories((gene_order))\n",
    "spots['gene'] = spots.gene.cat.codes + 1\n",
    "spots.gene = spots.gene.astype(int)\n"
   ]
  },
  {
   "cell_type": "code",
   "execution_count": 2,
   "metadata": {},
   "outputs": [
    {
     "name": "stderr",
     "output_type": "stream",
     "text": [
      "100%|██████████| 30/30 [00:04<00:00,  7.36it/s]\n"
     ]
    },
    {
     "name": "stdout",
     "output_type": "stream",
     "text": [
      "Split finished: 49 tiles\n",
      "tile: 0\n"
     ]
    },
    {
     "name": "stderr",
     "output_type": "stream",
     "text": [
      "100%|██████████| 30/30 [00:02<00:00, 10.88it/s]\n"
     ]
    },
    {
     "name": "stdout",
     "output_type": "stream",
     "text": [
      "After denoising, mRNA spots: 2155\n",
      "Computing NGC coordinates\n"
     ]
    },
    {
     "name": "stderr",
     "output_type": "stream",
     "text": [
      "2155it [00:00, 65100.80it/s]\n",
      "/home/unix/jiahao/anaconda3/envs/starfinder/lib/python3.9/site-packages/sklearn/base.py:409: UserWarning: X does not have valid feature names, but NearestNeighbors was fitted with feature names\n",
      "  warnings.warn(\n"
     ]
    },
    {
     "name": "stdout",
     "output_type": "stream",
     "text": [
      "After adding DAPI points, all spots:7163\n",
      "DPC\n",
      "  Compute spatial distance\n"
     ]
    },
    {
     "name": "stderr",
     "output_type": "stream",
     "text": [
      "7163it [00:00, 95768.73it/s]\n"
     ]
    },
    {
     "name": "stdout",
     "output_type": "stream",
     "text": [
      "  Compute genetic distance\n"
     ]
    },
    {
     "name": "stderr",
     "output_type": "stream",
     "text": [
      "7163it [00:02, 2928.75it/s]\n"
     ]
    },
    {
     "name": "stdout",
     "output_type": "stream",
     "text": [
      "  Compute density rho and the nearest distance\n"
     ]
    },
    {
     "name": "stderr",
     "output_type": "stream",
     "text": [
      "7163it [00:00, 92994.71it/s]\n",
      "100%|██████████| 1/1 [00:00<00:00, 2392.64it/s]\n"
     ]
    },
    {
     "name": "stdout",
     "output_type": "stream",
     "text": [
      "  Find cell number:30.0\n"
     ]
    },
    {
     "name": "stderr",
     "output_type": "stream",
     "text": [
      "100%|██████████| 7163/7163 [00:00<00:00, 997635.71it/s]\n"
     ]
    },
    {
     "name": "stdout",
     "output_type": "stream",
     "text": [
      "Postprocessing\n",
      "tile: 1\n"
     ]
    },
    {
     "name": "stderr",
     "output_type": "stream",
     "text": [
      "100%|██████████| 30/30 [00:02<00:00, 10.72it/s]\n"
     ]
    },
    {
     "name": "stdout",
     "output_type": "stream",
     "text": [
      "After denoising, mRNA spots: 4068\n",
      "Computing NGC coordinates\n"
     ]
    },
    {
     "name": "stderr",
     "output_type": "stream",
     "text": [
      "4068it [00:00, 113090.58it/s]\n",
      "/home/unix/jiahao/anaconda3/envs/starfinder/lib/python3.9/site-packages/sklearn/base.py:409: UserWarning: X does not have valid feature names, but NearestNeighbors was fitted with feature names\n",
      "  warnings.warn(\n"
     ]
    },
    {
     "name": "stdout",
     "output_type": "stream",
     "text": [
      "After adding DAPI points, all spots:8386\n",
      "DPC\n",
      "  Compute spatial distance\n"
     ]
    },
    {
     "name": "stderr",
     "output_type": "stream",
     "text": [
      "8386it [00:00, 73305.63it/s]\n"
     ]
    },
    {
     "name": "stdout",
     "output_type": "stream",
     "text": [
      "  Compute genetic distance\n"
     ]
    },
    {
     "name": "stderr",
     "output_type": "stream",
     "text": [
      "8386it [00:00, 13678.03it/s]\n"
     ]
    },
    {
     "name": "stdout",
     "output_type": "stream",
     "text": [
      "  Compute density rho and the nearest distance\n"
     ]
    },
    {
     "name": "stderr",
     "output_type": "stream",
     "text": [
      "8386it [00:00, 87664.67it/s]\n",
      "100%|██████████| 3/3 [00:00<00:00, 1585.75it/s]\n"
     ]
    },
    {
     "name": "stdout",
     "output_type": "stream",
     "text": [
      "  Find cell number:45.0\n"
     ]
    },
    {
     "name": "stderr",
     "output_type": "stream",
     "text": [
      "100%|██████████| 8386/8386 [00:00<00:00, 1060207.18it/s]\n"
     ]
    },
    {
     "name": "stdout",
     "output_type": "stream",
     "text": [
      "Postprocessing\n",
      "tile: 2\n"
     ]
    },
    {
     "name": "stderr",
     "output_type": "stream",
     "text": [
      "100%|██████████| 30/30 [00:02<00:00, 11.01it/s]\n"
     ]
    },
    {
     "name": "stdout",
     "output_type": "stream",
     "text": [
      "After denoising, mRNA spots: 5525\n",
      "Computing NGC coordinates\n"
     ]
    },
    {
     "name": "stderr",
     "output_type": "stream",
     "text": [
      "5525it [00:00, 80028.21it/s]\n",
      "/home/unix/jiahao/anaconda3/envs/starfinder/lib/python3.9/site-packages/sklearn/base.py:409: UserWarning: X does not have valid feature names, but NearestNeighbors was fitted with feature names\n",
      "  warnings.warn(\n"
     ]
    },
    {
     "name": "stdout",
     "output_type": "stream",
     "text": [
      "After adding DAPI points, all spots:8610\n",
      "DPC\n",
      "  Compute spatial distance\n"
     ]
    },
    {
     "name": "stderr",
     "output_type": "stream",
     "text": [
      "8610it [00:00, 79274.70it/s]\n"
     ]
    },
    {
     "name": "stdout",
     "output_type": "stream",
     "text": [
      "  Compute genetic distance\n"
     ]
    },
    {
     "name": "stderr",
     "output_type": "stream",
     "text": [
      "8610it [00:00, 18000.25it/s]\n"
     ]
    },
    {
     "name": "stdout",
     "output_type": "stream",
     "text": [
      "  Compute density rho and the nearest distance\n"
     ]
    },
    {
     "name": "stderr",
     "output_type": "stream",
     "text": [
      "8610it [00:00, 96542.45it/s]\n",
      "100%|██████████| 2/2 [00:00<00:00, 647.82it/s]\n"
     ]
    },
    {
     "name": "stdout",
     "output_type": "stream",
     "text": [
      "  Find cell number:50.0\n"
     ]
    },
    {
     "name": "stderr",
     "output_type": "stream",
     "text": [
      "100%|██████████| 8610/8610 [00:00<00:00, 406430.30it/s]\n"
     ]
    },
    {
     "name": "stdout",
     "output_type": "stream",
     "text": [
      "Postprocessing\n",
      "tile: 3\n"
     ]
    },
    {
     "name": "stderr",
     "output_type": "stream",
     "text": [
      "100%|██████████| 30/30 [00:02<00:00, 10.86it/s]\n"
     ]
    },
    {
     "name": "stdout",
     "output_type": "stream",
     "text": [
      "After denoising, mRNA spots: 4542\n",
      "Computing NGC coordinates\n"
     ]
    },
    {
     "name": "stderr",
     "output_type": "stream",
     "text": [
      "4542it [00:00, 76522.90it/s]\n",
      "/home/unix/jiahao/anaconda3/envs/starfinder/lib/python3.9/site-packages/sklearn/base.py:409: UserWarning: X does not have valid feature names, but NearestNeighbors was fitted with feature names\n",
      "  warnings.warn(\n"
     ]
    },
    {
     "name": "stdout",
     "output_type": "stream",
     "text": [
      "After adding DAPI points, all spots:8784\n",
      "DPC\n",
      "  Compute spatial distance\n"
     ]
    },
    {
     "name": "stderr",
     "output_type": "stream",
     "text": [
      "8784it [00:00, 96823.43it/s]\n"
     ]
    },
    {
     "name": "stdout",
     "output_type": "stream",
     "text": [
      "  Compute genetic distance\n"
     ]
    },
    {
     "name": "stderr",
     "output_type": "stream",
     "text": [
      "8784it [00:00, 16973.31it/s]\n"
     ]
    },
    {
     "name": "stdout",
     "output_type": "stream",
     "text": [
      "  Compute density rho and the nearest distance\n"
     ]
    },
    {
     "name": "stderr",
     "output_type": "stream",
     "text": [
      "8784it [00:00, 70049.01it/s]\n",
      "100%|██████████| 3/3 [00:00<00:00, 738.61it/s]\n"
     ]
    },
    {
     "name": "stdout",
     "output_type": "stream",
     "text": [
      "  Find cell number:50.0\n"
     ]
    },
    {
     "name": "stderr",
     "output_type": "stream",
     "text": [
      "100%|██████████| 8784/8784 [00:00<00:00, 1009390.86it/s]\n"
     ]
    },
    {
     "name": "stdout",
     "output_type": "stream",
     "text": [
      "Postprocessing\n",
      "tile: 4\n"
     ]
    },
    {
     "name": "stderr",
     "output_type": "stream",
     "text": [
      "100%|██████████| 30/30 [00:02<00:00, 10.82it/s]\n"
     ]
    },
    {
     "name": "stdout",
     "output_type": "stream",
     "text": [
      "After denoising, mRNA spots: 3961\n",
      "Computing NGC coordinates\n"
     ]
    },
    {
     "name": "stderr",
     "output_type": "stream",
     "text": [
      "3961it [00:00, 78335.18it/s]\n",
      "/home/unix/jiahao/anaconda3/envs/starfinder/lib/python3.9/site-packages/sklearn/base.py:409: UserWarning: X does not have valid feature names, but NearestNeighbors was fitted with feature names\n",
      "  warnings.warn(\n"
     ]
    },
    {
     "name": "stdout",
     "output_type": "stream",
     "text": [
      "After adding DAPI points, all spots:8688\n",
      "DPC\n",
      "  Compute spatial distance\n"
     ]
    },
    {
     "name": "stderr",
     "output_type": "stream",
     "text": [
      "8688it [00:00, 91747.79it/s]\n"
     ]
    },
    {
     "name": "stdout",
     "output_type": "stream",
     "text": [
      "  Compute genetic distance\n"
     ]
    },
    {
     "name": "stderr",
     "output_type": "stream",
     "text": [
      "8688it [00:00, 13660.21it/s]\n"
     ]
    },
    {
     "name": "stdout",
     "output_type": "stream",
     "text": [
      "  Compute density rho and the nearest distance\n"
     ]
    },
    {
     "name": "stderr",
     "output_type": "stream",
     "text": [
      "8688it [00:00, 79673.68it/s]\n",
      "100%|██████████| 1/1 [00:00<00:00, 3075.00it/s]\n"
     ]
    },
    {
     "name": "stdout",
     "output_type": "stream",
     "text": [
      "  Find cell number:50.0\n"
     ]
    },
    {
     "name": "stderr",
     "output_type": "stream",
     "text": [
      "100%|██████████| 8688/8688 [00:00<00:00, 951936.08it/s]\n"
     ]
    },
    {
     "name": "stdout",
     "output_type": "stream",
     "text": [
      "Postprocessing\n",
      "tile: 5\n"
     ]
    },
    {
     "name": "stderr",
     "output_type": "stream",
     "text": [
      "100%|██████████| 30/30 [00:02<00:00, 11.55it/s]\n"
     ]
    },
    {
     "name": "stdout",
     "output_type": "stream",
     "text": [
      "After denoising, mRNA spots: 2299\n",
      "Computing NGC coordinates\n"
     ]
    },
    {
     "name": "stderr",
     "output_type": "stream",
     "text": [
      "2299it [00:00, 53644.19it/s]\n",
      "/home/unix/jiahao/anaconda3/envs/starfinder/lib/python3.9/site-packages/sklearn/base.py:409: UserWarning: X does not have valid feature names, but NearestNeighbors was fitted with feature names\n",
      "  warnings.warn(\n"
     ]
    },
    {
     "name": "stdout",
     "output_type": "stream",
     "text": [
      "After adding DAPI points, all spots:4135\n",
      "DPC\n",
      "  Compute spatial distance\n"
     ]
    },
    {
     "name": "stderr",
     "output_type": "stream",
     "text": [
      "4135it [00:00, 109957.95it/s]\n"
     ]
    },
    {
     "name": "stdout",
     "output_type": "stream",
     "text": [
      "  Compute genetic distance\n"
     ]
    },
    {
     "name": "stderr",
     "output_type": "stream",
     "text": [
      "4135it [00:00, 24271.17it/s]\n"
     ]
    },
    {
     "name": "stdout",
     "output_type": "stream",
     "text": [
      "  Compute density rho and the nearest distance\n"
     ]
    },
    {
     "name": "stderr",
     "output_type": "stream",
     "text": [
      "4135it [00:00, 138202.51it/s]\n",
      "100%|██████████| 2/2 [00:00<00:00, 2117.80it/s]\n"
     ]
    },
    {
     "name": "stdout",
     "output_type": "stream",
     "text": [
      "  Find cell number:70.0\n"
     ]
    },
    {
     "name": "stderr",
     "output_type": "stream",
     "text": [
      "100%|██████████| 4135/4135 [00:00<00:00, 1061930.38it/s]\n"
     ]
    },
    {
     "name": "stdout",
     "output_type": "stream",
     "text": [
      "Postprocessing\n",
      "tile: 6\n"
     ]
    },
    {
     "name": "stderr",
     "output_type": "stream",
     "text": [
      "100%|██████████| 30/30 [00:00<00:00, 83.70it/s]\n"
     ]
    },
    {
     "name": "stdout",
     "output_type": "stream",
     "text": [
      "Less than 5 spots found in subtile. Skipping and continuing...\n",
      "tile: 7\n"
     ]
    },
    {
     "name": "stderr",
     "output_type": "stream",
     "text": [
      "100%|██████████| 30/30 [00:02<00:00, 10.31it/s]\n"
     ]
    },
    {
     "name": "stdout",
     "output_type": "stream",
     "text": [
      "After denoising, mRNA spots: 4605\n",
      "Computing NGC coordinates\n"
     ]
    },
    {
     "name": "stderr",
     "output_type": "stream",
     "text": [
      "4605it [00:00, 86555.48it/s]\n",
      "/home/unix/jiahao/anaconda3/envs/starfinder/lib/python3.9/site-packages/sklearn/base.py:409: UserWarning: X does not have valid feature names, but NearestNeighbors was fitted with feature names\n",
      "  warnings.warn(\n"
     ]
    },
    {
     "name": "stdout",
     "output_type": "stream",
     "text": [
      "After adding DAPI points, all spots:9860\n",
      "DPC\n",
      "  Compute spatial distance\n"
     ]
    },
    {
     "name": "stderr",
     "output_type": "stream",
     "text": [
      "9860it [00:00, 89134.34it/s]\n"
     ]
    },
    {
     "name": "stdout",
     "output_type": "stream",
     "text": [
      "  Compute genetic distance\n"
     ]
    },
    {
     "name": "stderr",
     "output_type": "stream",
     "text": [
      "9860it [00:00, 14574.65it/s]\n"
     ]
    },
    {
     "name": "stdout",
     "output_type": "stream",
     "text": [
      "  Compute density rho and the nearest distance\n"
     ]
    },
    {
     "name": "stderr",
     "output_type": "stream",
     "text": [
      "9860it [00:00, 81158.78it/s]\n",
      "100%|██████████| 3/3 [00:00<00:00, 1628.86it/s]\n"
     ]
    },
    {
     "name": "stdout",
     "output_type": "stream",
     "text": [
      "  Find cell number:60.0\n"
     ]
    },
    {
     "name": "stderr",
     "output_type": "stream",
     "text": [
      "100%|██████████| 9860/9860 [00:00<00:00, 1055723.01it/s]\n"
     ]
    },
    {
     "name": "stdout",
     "output_type": "stream",
     "text": [
      "Postprocessing\n",
      "tile: 8\n"
     ]
    },
    {
     "name": "stderr",
     "output_type": "stream",
     "text": [
      "100%|██████████| 30/30 [00:03<00:00,  9.74it/s]\n"
     ]
    },
    {
     "name": "stdout",
     "output_type": "stream",
     "text": [
      "After denoising, mRNA spots: 6123\n",
      "Computing NGC coordinates\n"
     ]
    },
    {
     "name": "stderr",
     "output_type": "stream",
     "text": [
      "6123it [00:00, 119734.45it/s]\n",
      "/home/unix/jiahao/anaconda3/envs/starfinder/lib/python3.9/site-packages/sklearn/base.py:409: UserWarning: X does not have valid feature names, but NearestNeighbors was fitted with feature names\n",
      "  warnings.warn(\n"
     ]
    },
    {
     "name": "stdout",
     "output_type": "stream",
     "text": [
      "After adding DAPI points, all spots:12887\n",
      "DPC\n",
      "  Compute spatial distance\n"
     ]
    },
    {
     "name": "stderr",
     "output_type": "stream",
     "text": [
      "12887it [00:00, 88256.51it/s]\n"
     ]
    },
    {
     "name": "stdout",
     "output_type": "stream",
     "text": [
      "  Compute genetic distance\n"
     ]
    },
    {
     "name": "stderr",
     "output_type": "stream",
     "text": [
      "12887it [00:01, 11844.66it/s]\n"
     ]
    },
    {
     "name": "stdout",
     "output_type": "stream",
     "text": [
      "  Compute density rho and the nearest distance\n"
     ]
    },
    {
     "name": "stderr",
     "output_type": "stream",
     "text": [
      "12887it [00:00, 64833.17it/s]\n",
      "100%|██████████| 2/2 [00:00<00:00, 1010.43it/s]\n"
     ]
    },
    {
     "name": "stdout",
     "output_type": "stream",
     "text": [
      "  Find cell number:50.0\n"
     ]
    },
    {
     "name": "stderr",
     "output_type": "stream",
     "text": [
      "100%|██████████| 12887/12887 [00:00<00:00, 876130.51it/s]\n"
     ]
    },
    {
     "name": "stdout",
     "output_type": "stream",
     "text": [
      "Postprocessing\n",
      "tile: 9\n"
     ]
    },
    {
     "name": "stderr",
     "output_type": "stream",
     "text": [
      "100%|██████████| 30/30 [00:02<00:00, 10.22it/s]\n"
     ]
    },
    {
     "name": "stdout",
     "output_type": "stream",
     "text": [
      "After denoising, mRNA spots: 5649\n",
      "Computing NGC coordinates\n"
     ]
    },
    {
     "name": "stderr",
     "output_type": "stream",
     "text": [
      "5649it [00:00, 122130.19it/s]\n",
      "/home/unix/jiahao/anaconda3/envs/starfinder/lib/python3.9/site-packages/sklearn/base.py:409: UserWarning: X does not have valid feature names, but NearestNeighbors was fitted with feature names\n",
      "  warnings.warn(\n"
     ]
    },
    {
     "name": "stdout",
     "output_type": "stream",
     "text": [
      "After adding DAPI points, all spots:10660\n",
      "DPC\n",
      "  Compute spatial distance\n"
     ]
    },
    {
     "name": "stderr",
     "output_type": "stream",
     "text": [
      "10660it [00:00, 79664.32it/s]\n"
     ]
    },
    {
     "name": "stdout",
     "output_type": "stream",
     "text": [
      "  Compute genetic distance\n"
     ]
    },
    {
     "name": "stderr",
     "output_type": "stream",
     "text": [
      "10660it [00:00, 15931.01it/s]\n"
     ]
    },
    {
     "name": "stdout",
     "output_type": "stream",
     "text": [
      "  Compute density rho and the nearest distance\n"
     ]
    },
    {
     "name": "stderr",
     "output_type": "stream",
     "text": [
      "10660it [00:00, 80593.10it/s]\n",
      "100%|██████████| 2/2 [00:00<00:00, 824.11it/s]\n"
     ]
    },
    {
     "name": "stdout",
     "output_type": "stream",
     "text": [
      "  Find cell number:50.0\n"
     ]
    },
    {
     "name": "stderr",
     "output_type": "stream",
     "text": [
      "100%|██████████| 10660/10660 [00:00<00:00, 1040523.17it/s]\n"
     ]
    },
    {
     "name": "stdout",
     "output_type": "stream",
     "text": [
      "Postprocessing\n",
      "tile: 10\n"
     ]
    },
    {
     "name": "stderr",
     "output_type": "stream",
     "text": [
      "100%|██████████| 30/30 [00:02<00:00, 10.49it/s]\n"
     ]
    },
    {
     "name": "stdout",
     "output_type": "stream",
     "text": [
      "After denoising, mRNA spots: 3302\n",
      "Computing NGC coordinates\n"
     ]
    },
    {
     "name": "stderr",
     "output_type": "stream",
     "text": [
      "3302it [00:00, 119881.86it/s]\n",
      "/home/unix/jiahao/anaconda3/envs/starfinder/lib/python3.9/site-packages/sklearn/base.py:409: UserWarning: X does not have valid feature names, but NearestNeighbors was fitted with feature names\n",
      "  warnings.warn(\n"
     ]
    },
    {
     "name": "stdout",
     "output_type": "stream",
     "text": [
      "After adding DAPI points, all spots:5647\n",
      "DPC\n",
      "  Compute spatial distance\n"
     ]
    },
    {
     "name": "stderr",
     "output_type": "stream",
     "text": [
      "5647it [00:00, 103445.69it/s]\n"
     ]
    },
    {
     "name": "stdout",
     "output_type": "stream",
     "text": [
      "  Compute genetic distance\n"
     ]
    },
    {
     "name": "stderr",
     "output_type": "stream",
     "text": [
      "5647it [00:00, 19219.96it/s]\n"
     ]
    },
    {
     "name": "stdout",
     "output_type": "stream",
     "text": [
      "  Compute density rho and the nearest distance\n"
     ]
    },
    {
     "name": "stderr",
     "output_type": "stream",
     "text": [
      "5647it [00:00, 122454.31it/s]\n",
      "100%|██████████| 3/3 [00:00<00:00, 459.62it/s]\n"
     ]
    },
    {
     "name": "stdout",
     "output_type": "stream",
     "text": [
      "  Find cell number:60.0\n"
     ]
    },
    {
     "name": "stderr",
     "output_type": "stream",
     "text": [
      "100%|██████████| 5647/5647 [00:00<00:00, 459167.45it/s]\n"
     ]
    },
    {
     "name": "stdout",
     "output_type": "stream",
     "text": [
      "Postprocessing\n",
      "tile: 11\n"
     ]
    },
    {
     "name": "stderr",
     "output_type": "stream",
     "text": [
      "100%|██████████| 30/30 [00:02<00:00, 10.29it/s]\n"
     ]
    },
    {
     "name": "stdout",
     "output_type": "stream",
     "text": [
      "After denoising, mRNA spots: 4575\n",
      "Computing NGC coordinates\n"
     ]
    },
    {
     "name": "stderr",
     "output_type": "stream",
     "text": [
      "4575it [00:00, 62987.25it/s]\n",
      "/home/unix/jiahao/anaconda3/envs/starfinder/lib/python3.9/site-packages/sklearn/base.py:409: UserWarning: X does not have valid feature names, but NearestNeighbors was fitted with feature names\n",
      "  warnings.warn(\n"
     ]
    },
    {
     "name": "stdout",
     "output_type": "stream",
     "text": [
      "After adding DAPI points, all spots:8848\n",
      "DPC\n",
      "  Compute spatial distance\n"
     ]
    },
    {
     "name": "stderr",
     "output_type": "stream",
     "text": [
      "8848it [00:00, 96769.76it/s]\n"
     ]
    },
    {
     "name": "stdout",
     "output_type": "stream",
     "text": [
      "  Compute genetic distance\n"
     ]
    },
    {
     "name": "stderr",
     "output_type": "stream",
     "text": [
      "8848it [00:00, 16569.89it/s]\n"
     ]
    },
    {
     "name": "stdout",
     "output_type": "stream",
     "text": [
      "  Compute density rho and the nearest distance\n"
     ]
    },
    {
     "name": "stderr",
     "output_type": "stream",
     "text": [
      "8848it [00:00, 99709.83it/s]\n",
      "100%|██████████| 2/2 [00:00<00:00, 851.20it/s]\n"
     ]
    },
    {
     "name": "stdout",
     "output_type": "stream",
     "text": [
      "  Find cell number:55.0\n"
     ]
    },
    {
     "name": "stderr",
     "output_type": "stream",
     "text": [
      "100%|██████████| 8848/8848 [00:00<00:00, 387026.55it/s]\n"
     ]
    },
    {
     "name": "stdout",
     "output_type": "stream",
     "text": [
      "Postprocessing\n",
      "tile: 12\n"
     ]
    },
    {
     "name": "stderr",
     "output_type": "stream",
     "text": [
      "100%|██████████| 30/30 [00:02<00:00, 10.23it/s]\n"
     ]
    },
    {
     "name": "stdout",
     "output_type": "stream",
     "text": [
      "After denoising, mRNA spots: 3971\n",
      "Computing NGC coordinates\n"
     ]
    },
    {
     "name": "stderr",
     "output_type": "stream",
     "text": [
      "3971it [00:00, 118140.61it/s]\n",
      "/home/unix/jiahao/anaconda3/envs/starfinder/lib/python3.9/site-packages/sklearn/base.py:409: UserWarning: X does not have valid feature names, but NearestNeighbors was fitted with feature names\n",
      "  warnings.warn(\n"
     ]
    },
    {
     "name": "stdout",
     "output_type": "stream",
     "text": [
      "After adding DAPI points, all spots:13167\n",
      "DPC\n",
      "  Compute spatial distance\n"
     ]
    },
    {
     "name": "stderr",
     "output_type": "stream",
     "text": [
      "13167it [00:00, 70222.57it/s]\n"
     ]
    },
    {
     "name": "stdout",
     "output_type": "stream",
     "text": [
      "  Compute genetic distance\n"
     ]
    },
    {
     "name": "stderr",
     "output_type": "stream",
     "text": [
      "13167it [00:01, 8959.38it/s]\n"
     ]
    },
    {
     "name": "stdout",
     "output_type": "stream",
     "text": [
      "  Compute density rho and the nearest distance\n"
     ]
    },
    {
     "name": "stderr",
     "output_type": "stream",
     "text": [
      "13167it [00:00, 61606.22it/s]\n",
      "100%|██████████| 1/1 [00:00<00:00, 2184.53it/s]\n"
     ]
    },
    {
     "name": "stdout",
     "output_type": "stream",
     "text": [
      "  Find cell number:45.0\n"
     ]
    },
    {
     "name": "stderr",
     "output_type": "stream",
     "text": [
      "100%|██████████| 13167/13167 [00:00<00:00, 414457.04it/s]\n"
     ]
    },
    {
     "name": "stdout",
     "output_type": "stream",
     "text": [
      "Postprocessing\n",
      "tile: 13\n"
     ]
    },
    {
     "name": "stderr",
     "output_type": "stream",
     "text": [
      "100%|██████████| 30/30 [00:00<00:00, 89.30it/s]\n"
     ]
    },
    {
     "name": "stdout",
     "output_type": "stream",
     "text": [
      "Less than 5 spots found in subtile. Skipping and continuing...\n",
      "tile: 14\n"
     ]
    },
    {
     "name": "stderr",
     "output_type": "stream",
     "text": [
      "100%|██████████| 30/30 [00:03<00:00,  9.90it/s]\n"
     ]
    },
    {
     "name": "stdout",
     "output_type": "stream",
     "text": [
      "After denoising, mRNA spots: 4422\n",
      "Computing NGC coordinates\n"
     ]
    },
    {
     "name": "stderr",
     "output_type": "stream",
     "text": [
      "4422it [00:00, 127237.01it/s]\n",
      "/home/unix/jiahao/anaconda3/envs/starfinder/lib/python3.9/site-packages/sklearn/base.py:409: UserWarning: X does not have valid feature names, but NearestNeighbors was fitted with feature names\n",
      "  warnings.warn(\n"
     ]
    },
    {
     "name": "stdout",
     "output_type": "stream",
     "text": [
      "After adding DAPI points, all spots:13182\n",
      "DPC\n",
      "  Compute spatial distance\n"
     ]
    },
    {
     "name": "stderr",
     "output_type": "stream",
     "text": [
      "13182it [00:00, 82715.69it/s]\n"
     ]
    },
    {
     "name": "stdout",
     "output_type": "stream",
     "text": [
      "  Compute genetic distance\n"
     ]
    },
    {
     "name": "stderr",
     "output_type": "stream",
     "text": [
      "13182it [00:01, 11884.49it/s]\n"
     ]
    },
    {
     "name": "stdout",
     "output_type": "stream",
     "text": [
      "  Compute density rho and the nearest distance\n"
     ]
    },
    {
     "name": "stderr",
     "output_type": "stream",
     "text": [
      "13182it [00:00, 44972.23it/s]\n",
      "100%|██████████| 2/2 [00:00<00:00, 1573.26it/s]\n"
     ]
    },
    {
     "name": "stdout",
     "output_type": "stream",
     "text": [
      "  Find cell number:35.0\n"
     ]
    },
    {
     "name": "stderr",
     "output_type": "stream",
     "text": [
      "100%|██████████| 13182/13182 [00:00<00:00, 479471.66it/s]\n"
     ]
    },
    {
     "name": "stdout",
     "output_type": "stream",
     "text": [
      "Postprocessing\n",
      "tile: 15\n"
     ]
    },
    {
     "name": "stderr",
     "output_type": "stream",
     "text": [
      "100%|██████████| 30/30 [00:02<00:00, 10.36it/s]\n"
     ]
    },
    {
     "name": "stdout",
     "output_type": "stream",
     "text": [
      "After denoising, mRNA spots: 3611\n",
      "Computing NGC coordinates\n"
     ]
    },
    {
     "name": "stderr",
     "output_type": "stream",
     "text": [
      "3611it [00:00, 110612.61it/s]\n",
      "/home/unix/jiahao/anaconda3/envs/starfinder/lib/python3.9/site-packages/sklearn/base.py:409: UserWarning: X does not have valid feature names, but NearestNeighbors was fitted with feature names\n",
      "  warnings.warn(\n"
     ]
    },
    {
     "name": "stdout",
     "output_type": "stream",
     "text": [
      "After adding DAPI points, all spots:6829\n",
      "DPC\n",
      "  Compute spatial distance\n"
     ]
    },
    {
     "name": "stderr",
     "output_type": "stream",
     "text": [
      "6829it [00:00, 82212.22it/s]\n"
     ]
    },
    {
     "name": "stdout",
     "output_type": "stream",
     "text": [
      "  Compute genetic distance\n"
     ]
    },
    {
     "name": "stderr",
     "output_type": "stream",
     "text": [
      "6829it [00:00, 18744.45it/s]\n"
     ]
    },
    {
     "name": "stdout",
     "output_type": "stream",
     "text": [
      "  Compute density rho and the nearest distance\n"
     ]
    },
    {
     "name": "stderr",
     "output_type": "stream",
     "text": [
      "6829it [00:00, 119204.37it/s]\n",
      "100%|██████████| 3/3 [00:00<00:00, 1483.83it/s]\n"
     ]
    },
    {
     "name": "stdout",
     "output_type": "stream",
     "text": [
      "  Find cell number:45.0\n"
     ]
    },
    {
     "name": "stderr",
     "output_type": "stream",
     "text": [
      "100%|██████████| 6829/6829 [00:00<00:00, 1019683.23it/s]\n"
     ]
    },
    {
     "name": "stdout",
     "output_type": "stream",
     "text": [
      "Postprocessing\n",
      "tile: 16\n"
     ]
    },
    {
     "name": "stderr",
     "output_type": "stream",
     "text": [
      "100%|██████████| 30/30 [00:02<00:00, 10.58it/s]\n"
     ]
    },
    {
     "name": "stdout",
     "output_type": "stream",
     "text": [
      "After denoising, mRNA spots: 4101\n",
      "Computing NGC coordinates\n"
     ]
    },
    {
     "name": "stderr",
     "output_type": "stream",
     "text": [
      "4101it [00:00, 122901.77it/s]\n",
      "/home/unix/jiahao/anaconda3/envs/starfinder/lib/python3.9/site-packages/sklearn/base.py:409: UserWarning: X does not have valid feature names, but NearestNeighbors was fitted with feature names\n",
      "  warnings.warn(\n"
     ]
    },
    {
     "name": "stdout",
     "output_type": "stream",
     "text": [
      "After adding DAPI points, all spots:7327\n",
      "DPC\n",
      "  Compute spatial distance\n"
     ]
    },
    {
     "name": "stderr",
     "output_type": "stream",
     "text": [
      "7327it [00:00, 100877.97it/s]\n"
     ]
    },
    {
     "name": "stdout",
     "output_type": "stream",
     "text": [
      "  Compute genetic distance\n"
     ]
    },
    {
     "name": "stderr",
     "output_type": "stream",
     "text": [
      "7327it [00:00, 16682.55it/s]\n"
     ]
    },
    {
     "name": "stdout",
     "output_type": "stream",
     "text": [
      "  Compute density rho and the nearest distance\n"
     ]
    },
    {
     "name": "stderr",
     "output_type": "stream",
     "text": [
      "7327it [00:00, 110813.42it/s]\n",
      "100%|██████████| 2/2 [00:00<00:00, 1158.01it/s]\n"
     ]
    },
    {
     "name": "stdout",
     "output_type": "stream",
     "text": [
      "  Find cell number:70.0\n"
     ]
    },
    {
     "name": "stderr",
     "output_type": "stream",
     "text": [
      "100%|██████████| 7327/7327 [00:00<00:00, 1051050.49it/s]\n"
     ]
    },
    {
     "name": "stdout",
     "output_type": "stream",
     "text": [
      "Postprocessing\n",
      "tile: 17\n"
     ]
    },
    {
     "name": "stderr",
     "output_type": "stream",
     "text": [
      "100%|██████████| 30/30 [00:02<00:00, 10.55it/s]\n"
     ]
    },
    {
     "name": "stdout",
     "output_type": "stream",
     "text": [
      "After denoising, mRNA spots: 3714\n",
      "Computing NGC coordinates\n"
     ]
    },
    {
     "name": "stderr",
     "output_type": "stream",
     "text": [
      "3714it [00:00, 125208.14it/s]\n",
      "/home/unix/jiahao/anaconda3/envs/starfinder/lib/python3.9/site-packages/sklearn/base.py:409: UserWarning: X does not have valid feature names, but NearestNeighbors was fitted with feature names\n",
      "  warnings.warn(\n"
     ]
    },
    {
     "name": "stdout",
     "output_type": "stream",
     "text": [
      "After adding DAPI points, all spots:7278\n",
      "DPC\n",
      "  Compute spatial distance\n"
     ]
    },
    {
     "name": "stderr",
     "output_type": "stream",
     "text": [
      "7278it [00:00, 96909.93it/s]\n"
     ]
    },
    {
     "name": "stdout",
     "output_type": "stream",
     "text": [
      "  Compute genetic distance\n"
     ]
    },
    {
     "name": "stderr",
     "output_type": "stream",
     "text": [
      "7278it [00:00, 15660.42it/s]\n"
     ]
    },
    {
     "name": "stdout",
     "output_type": "stream",
     "text": [
      "  Compute density rho and the nearest distance\n"
     ]
    },
    {
     "name": "stderr",
     "output_type": "stream",
     "text": [
      "7278it [00:00, 118510.85it/s]\n",
      "100%|██████████| 3/3 [00:00<00:00, 1413.49it/s]\n"
     ]
    },
    {
     "name": "stdout",
     "output_type": "stream",
     "text": [
      "  Find cell number:65.0\n"
     ]
    },
    {
     "name": "stderr",
     "output_type": "stream",
     "text": [
      "100%|██████████| 7278/7278 [00:00<00:00, 1051284.38it/s]\n"
     ]
    },
    {
     "name": "stdout",
     "output_type": "stream",
     "text": [
      "Postprocessing\n",
      "tile: 18\n"
     ]
    },
    {
     "name": "stderr",
     "output_type": "stream",
     "text": [
      "100%|██████████| 30/30 [00:02<00:00, 10.27it/s]\n"
     ]
    },
    {
     "name": "stdout",
     "output_type": "stream",
     "text": [
      "After denoising, mRNA spots: 4667\n",
      "Computing NGC coordinates\n"
     ]
    },
    {
     "name": "stderr",
     "output_type": "stream",
     "text": [
      "4667it [00:00, 115116.19it/s]\n",
      "/home/unix/jiahao/anaconda3/envs/starfinder/lib/python3.9/site-packages/sklearn/base.py:409: UserWarning: X does not have valid feature names, but NearestNeighbors was fitted with feature names\n",
      "  warnings.warn(\n"
     ]
    },
    {
     "name": "stdout",
     "output_type": "stream",
     "text": [
      "After adding DAPI points, all spots:8649\n",
      "DPC\n",
      "  Compute spatial distance\n"
     ]
    },
    {
     "name": "stderr",
     "output_type": "stream",
     "text": [
      "8649it [00:00, 98873.89it/s]\n"
     ]
    },
    {
     "name": "stdout",
     "output_type": "stream",
     "text": [
      "  Compute genetic distance\n"
     ]
    },
    {
     "name": "stderr",
     "output_type": "stream",
     "text": [
      "8649it [00:00, 17752.30it/s]\n"
     ]
    },
    {
     "name": "stdout",
     "output_type": "stream",
     "text": [
      "  Compute density rho and the nearest distance\n"
     ]
    },
    {
     "name": "stderr",
     "output_type": "stream",
     "text": [
      "8649it [00:00, 101597.02it/s]\n",
      "100%|██████████| 2/2 [00:00<00:00, 2065.65it/s]\n"
     ]
    },
    {
     "name": "stdout",
     "output_type": "stream",
     "text": [
      "  Find cell number:45.0\n"
     ]
    },
    {
     "name": "stderr",
     "output_type": "stream",
     "text": [
      "100%|██████████| 8649/8649 [00:00<00:00, 1035703.06it/s]\n"
     ]
    },
    {
     "name": "stdout",
     "output_type": "stream",
     "text": [
      "Postprocessing\n",
      "tile: 19\n"
     ]
    },
    {
     "name": "stderr",
     "output_type": "stream",
     "text": [
      "100%|██████████| 30/30 [00:02<00:00, 10.80it/s]\n"
     ]
    },
    {
     "name": "stdout",
     "output_type": "stream",
     "text": [
      "After denoising, mRNA spots: 2764\n",
      "Computing NGC coordinates\n"
     ]
    },
    {
     "name": "stderr",
     "output_type": "stream",
     "text": [
      "2764it [00:00, 120369.80it/s]\n",
      "/home/unix/jiahao/anaconda3/envs/starfinder/lib/python3.9/site-packages/sklearn/base.py:409: UserWarning: X does not have valid feature names, but NearestNeighbors was fitted with feature names\n",
      "  warnings.warn(\n"
     ]
    },
    {
     "name": "stdout",
     "output_type": "stream",
     "text": [
      "After adding DAPI points, all spots:7176\n",
      "DPC\n",
      "  Compute spatial distance\n"
     ]
    },
    {
     "name": "stderr",
     "output_type": "stream",
     "text": [
      "7176it [00:00, 64808.84it/s]\n"
     ]
    },
    {
     "name": "stdout",
     "output_type": "stream",
     "text": [
      "  Compute genetic distance\n"
     ]
    },
    {
     "name": "stderr",
     "output_type": "stream",
     "text": [
      "7176it [00:00, 14880.71it/s]\n"
     ]
    },
    {
     "name": "stdout",
     "output_type": "stream",
     "text": [
      "  Compute density rho and the nearest distance\n"
     ]
    },
    {
     "name": "stderr",
     "output_type": "stream",
     "text": [
      "7176it [00:00, 108641.74it/s]\n",
      "100%|██████████| 3/3 [00:00<00:00, 1340.32it/s]\n"
     ]
    },
    {
     "name": "stdout",
     "output_type": "stream",
     "text": [
      "  Find cell number:35.0\n"
     ]
    },
    {
     "name": "stderr",
     "output_type": "stream",
     "text": [
      "100%|██████████| 7176/7176 [00:00<00:00, 1021320.85it/s]\n"
     ]
    },
    {
     "name": "stdout",
     "output_type": "stream",
     "text": [
      "Postprocessing\n",
      "tile: 20\n"
     ]
    },
    {
     "name": "stderr",
     "output_type": "stream",
     "text": [
      "100%|██████████| 30/30 [00:00<00:00, 87.40it/s]\n"
     ]
    },
    {
     "name": "stdout",
     "output_type": "stream",
     "text": [
      "Less than 5 spots found in subtile. Skipping and continuing...\n",
      "tile: 21\n"
     ]
    },
    {
     "name": "stderr",
     "output_type": "stream",
     "text": [
      "100%|██████████| 30/30 [00:03<00:00,  9.88it/s]\n"
     ]
    },
    {
     "name": "stdout",
     "output_type": "stream",
     "text": [
      "After denoising, mRNA spots: 3965\n",
      "Computing NGC coordinates\n"
     ]
    },
    {
     "name": "stderr",
     "output_type": "stream",
     "text": [
      "3965it [00:00, 126505.52it/s]\n",
      "/home/unix/jiahao/anaconda3/envs/starfinder/lib/python3.9/site-packages/sklearn/base.py:409: UserWarning: X does not have valid feature names, but NearestNeighbors was fitted with feature names\n",
      "  warnings.warn(\n"
     ]
    },
    {
     "name": "stdout",
     "output_type": "stream",
     "text": [
      "After adding DAPI points, all spots:12704\n",
      "DPC\n",
      "  Compute spatial distance\n"
     ]
    },
    {
     "name": "stderr",
     "output_type": "stream",
     "text": [
      "12704it [00:00, 84302.55it/s]\n"
     ]
    },
    {
     "name": "stdout",
     "output_type": "stream",
     "text": [
      "  Compute genetic distance\n"
     ]
    },
    {
     "name": "stderr",
     "output_type": "stream",
     "text": [
      "12704it [00:01, 12195.64it/s]\n"
     ]
    },
    {
     "name": "stdout",
     "output_type": "stream",
     "text": [
      "  Compute density rho and the nearest distance\n"
     ]
    },
    {
     "name": "stderr",
     "output_type": "stream",
     "text": [
      "12704it [00:00, 75625.92it/s]\n",
      "100%|██████████| 2/2 [00:00<00:00, 1563.29it/s]\n"
     ]
    },
    {
     "name": "stdout",
     "output_type": "stream",
     "text": [
      "  Find cell number:45.0\n"
     ]
    },
    {
     "name": "stderr",
     "output_type": "stream",
     "text": [
      "100%|██████████| 12704/12704 [00:00<00:00, 369417.69it/s]\n"
     ]
    },
    {
     "name": "stdout",
     "output_type": "stream",
     "text": [
      "Postprocessing\n",
      "tile: 22\n"
     ]
    },
    {
     "name": "stderr",
     "output_type": "stream",
     "text": [
      "100%|██████████| 30/30 [00:03<00:00,  9.79it/s]\n"
     ]
    },
    {
     "name": "stdout",
     "output_type": "stream",
     "text": [
      "After denoising, mRNA spots: 4623\n",
      "Computing NGC coordinates\n"
     ]
    },
    {
     "name": "stderr",
     "output_type": "stream",
     "text": [
      "4623it [00:00, 119977.40it/s]\n",
      "/home/unix/jiahao/anaconda3/envs/starfinder/lib/python3.9/site-packages/sklearn/base.py:409: UserWarning: X does not have valid feature names, but NearestNeighbors was fitted with feature names\n",
      "  warnings.warn(\n"
     ]
    },
    {
     "name": "stdout",
     "output_type": "stream",
     "text": [
      "After adding DAPI points, all spots:12445\n",
      "DPC\n",
      "  Compute spatial distance\n"
     ]
    },
    {
     "name": "stderr",
     "output_type": "stream",
     "text": [
      "12445it [00:00, 92780.15it/s]\n"
     ]
    },
    {
     "name": "stdout",
     "output_type": "stream",
     "text": [
      "  Compute genetic distance\n"
     ]
    },
    {
     "name": "stderr",
     "output_type": "stream",
     "text": [
      "12445it [00:00, 14508.05it/s]\n"
     ]
    },
    {
     "name": "stdout",
     "output_type": "stream",
     "text": [
      "  Compute density rho and the nearest distance\n"
     ]
    },
    {
     "name": "stderr",
     "output_type": "stream",
     "text": [
      "12445it [00:00, 79514.17it/s]\n",
      "100%|██████████| 3/3 [00:00<00:00, 732.37it/s]\n"
     ]
    },
    {
     "name": "stdout",
     "output_type": "stream",
     "text": [
      "  Find cell number:40.0\n"
     ]
    },
    {
     "name": "stderr",
     "output_type": "stream",
     "text": [
      "100%|██████████| 12445/12445 [00:00<00:00, 456936.26it/s]\n"
     ]
    },
    {
     "name": "stdout",
     "output_type": "stream",
     "text": [
      "Postprocessing\n",
      "tile: 23\n"
     ]
    },
    {
     "name": "stderr",
     "output_type": "stream",
     "text": [
      "100%|██████████| 30/30 [00:02<00:00, 10.20it/s]\n"
     ]
    },
    {
     "name": "stdout",
     "output_type": "stream",
     "text": [
      "After denoising, mRNA spots: 5048\n",
      "Computing NGC coordinates\n"
     ]
    },
    {
     "name": "stderr",
     "output_type": "stream",
     "text": [
      "5048it [00:00, 124814.88it/s]\n",
      "/home/unix/jiahao/anaconda3/envs/starfinder/lib/python3.9/site-packages/sklearn/base.py:409: UserWarning: X does not have valid feature names, but NearestNeighbors was fitted with feature names\n",
      "  warnings.warn(\n"
     ]
    },
    {
     "name": "stdout",
     "output_type": "stream",
     "text": [
      "After adding DAPI points, all spots:11971\n",
      "DPC\n",
      "  Compute spatial distance\n"
     ]
    },
    {
     "name": "stderr",
     "output_type": "stream",
     "text": [
      "11971it [00:00, 75273.21it/s]\n"
     ]
    },
    {
     "name": "stdout",
     "output_type": "stream",
     "text": [
      "  Compute genetic distance\n"
     ]
    },
    {
     "name": "stderr",
     "output_type": "stream",
     "text": [
      "11971it [00:00, 15129.20it/s]\n"
     ]
    },
    {
     "name": "stdout",
     "output_type": "stream",
     "text": [
      "  Compute density rho and the nearest distance\n"
     ]
    },
    {
     "name": "stderr",
     "output_type": "stream",
     "text": [
      "11971it [00:00, 84832.84it/s]\n",
      "100%|██████████| 4/4 [00:00<00:00, 1645.95it/s]\n"
     ]
    },
    {
     "name": "stdout",
     "output_type": "stream",
     "text": [
      "  Find cell number:45.0\n"
     ]
    },
    {
     "name": "stderr",
     "output_type": "stream",
     "text": [
      "100%|██████████| 11971/11971 [00:00<00:00, 1014282.23it/s]\n"
     ]
    },
    {
     "name": "stdout",
     "output_type": "stream",
     "text": [
      "Postprocessing\n",
      "tile: 24\n"
     ]
    },
    {
     "name": "stderr",
     "output_type": "stream",
     "text": [
      "100%|██████████| 30/30 [00:02<00:00, 10.29it/s]\n"
     ]
    },
    {
     "name": "stdout",
     "output_type": "stream",
     "text": [
      "After denoising, mRNA spots: 4618\n",
      "Computing NGC coordinates\n"
     ]
    },
    {
     "name": "stderr",
     "output_type": "stream",
     "text": [
      "4618it [00:00, 70746.89it/s]\n",
      "/home/unix/jiahao/anaconda3/envs/starfinder/lib/python3.9/site-packages/sklearn/base.py:409: UserWarning: X does not have valid feature names, but NearestNeighbors was fitted with feature names\n",
      "  warnings.warn(\n"
     ]
    },
    {
     "name": "stdout",
     "output_type": "stream",
     "text": [
      "After adding DAPI points, all spots:9729\n",
      "DPC\n",
      "  Compute spatial distance\n"
     ]
    },
    {
     "name": "stderr",
     "output_type": "stream",
     "text": [
      "9729it [00:00, 79583.55it/s]\n"
     ]
    },
    {
     "name": "stdout",
     "output_type": "stream",
     "text": [
      "  Compute genetic distance\n"
     ]
    },
    {
     "name": "stderr",
     "output_type": "stream",
     "text": [
      "9729it [00:00, 15067.67it/s]\n"
     ]
    },
    {
     "name": "stdout",
     "output_type": "stream",
     "text": [
      "  Compute density rho and the nearest distance\n"
     ]
    },
    {
     "name": "stderr",
     "output_type": "stream",
     "text": [
      "9729it [00:00, 55975.22it/s]\n",
      "100%|██████████| 3/3 [00:00<00:00, 1541.08it/s]\n"
     ]
    },
    {
     "name": "stdout",
     "output_type": "stream",
     "text": [
      "  Find cell number:65.0\n"
     ]
    },
    {
     "name": "stderr",
     "output_type": "stream",
     "text": [
      "100%|██████████| 9729/9729 [00:00<00:00, 500667.25it/s]\n"
     ]
    },
    {
     "name": "stdout",
     "output_type": "stream",
     "text": [
      "Postprocessing\n",
      "tile: 25\n"
     ]
    },
    {
     "name": "stderr",
     "output_type": "stream",
     "text": [
      "100%|██████████| 30/30 [00:03<00:00,  9.63it/s]\n"
     ]
    },
    {
     "name": "stdout",
     "output_type": "stream",
     "text": [
      "After denoising, mRNA spots: 3804\n",
      "Computing NGC coordinates\n"
     ]
    },
    {
     "name": "stderr",
     "output_type": "stream",
     "text": [
      "3804it [00:00, 77667.38it/s]\n",
      "/home/unix/jiahao/anaconda3/envs/starfinder/lib/python3.9/site-packages/sklearn/base.py:409: UserWarning: X does not have valid feature names, but NearestNeighbors was fitted with feature names\n",
      "  warnings.warn(\n"
     ]
    },
    {
     "name": "stdout",
     "output_type": "stream",
     "text": [
      "After adding DAPI points, all spots:7527\n",
      "DPC\n",
      "  Compute spatial distance\n"
     ]
    },
    {
     "name": "stderr",
     "output_type": "stream",
     "text": [
      "7527it [00:00, 96967.03it/s]\n"
     ]
    },
    {
     "name": "stdout",
     "output_type": "stream",
     "text": [
      "  Compute genetic distance\n"
     ]
    },
    {
     "name": "stderr",
     "output_type": "stream",
     "text": [
      "7527it [00:00, 14296.39it/s]\n"
     ]
    },
    {
     "name": "stdout",
     "output_type": "stream",
     "text": [
      "  Compute density rho and the nearest distance\n"
     ]
    },
    {
     "name": "stderr",
     "output_type": "stream",
     "text": [
      "7527it [00:00, 107010.03it/s]\n",
      "100%|██████████| 2/2 [00:00<00:00, 1782.91it/s]\n"
     ]
    },
    {
     "name": "stdout",
     "output_type": "stream",
     "text": [
      "  Find cell number:60.0\n"
     ]
    },
    {
     "name": "stderr",
     "output_type": "stream",
     "text": [
      "100%|██████████| 7527/7527 [00:00<00:00, 1036764.84it/s]\n"
     ]
    },
    {
     "name": "stdout",
     "output_type": "stream",
     "text": [
      "Postprocessing\n",
      "tile: 26\n"
     ]
    },
    {
     "name": "stderr",
     "output_type": "stream",
     "text": [
      "100%|██████████| 30/30 [00:02<00:00, 11.31it/s]\n"
     ]
    },
    {
     "name": "stdout",
     "output_type": "stream",
     "text": [
      "After denoising, mRNA spots: 3974\n",
      "Computing NGC coordinates\n"
     ]
    },
    {
     "name": "stderr",
     "output_type": "stream",
     "text": [
      "3974it [00:00, 113331.05it/s]\n",
      "/home/unix/jiahao/anaconda3/envs/starfinder/lib/python3.9/site-packages/sklearn/base.py:409: UserWarning: X does not have valid feature names, but NearestNeighbors was fitted with feature names\n",
      "  warnings.warn(\n"
     ]
    },
    {
     "name": "stdout",
     "output_type": "stream",
     "text": [
      "After adding DAPI points, all spots:7020\n",
      "DPC\n",
      "  Compute spatial distance\n"
     ]
    },
    {
     "name": "stderr",
     "output_type": "stream",
     "text": [
      "7020it [00:00, 90787.76it/s]\n"
     ]
    },
    {
     "name": "stdout",
     "output_type": "stream",
     "text": [
      "  Compute genetic distance\n"
     ]
    },
    {
     "name": "stderr",
     "output_type": "stream",
     "text": [
      "7020it [00:00, 16253.28it/s]\n"
     ]
    },
    {
     "name": "stdout",
     "output_type": "stream",
     "text": [
      "  Compute density rho and the nearest distance\n"
     ]
    },
    {
     "name": "stderr",
     "output_type": "stream",
     "text": [
      "7020it [00:00, 85014.03it/s]\n",
      "100%|██████████| 4/4 [00:00<00:00, 501.17it/s]\n"
     ]
    },
    {
     "name": "stdout",
     "output_type": "stream",
     "text": [
      "  Find cell number:45.0\n"
     ]
    },
    {
     "name": "stderr",
     "output_type": "stream",
     "text": [
      "100%|██████████| 7020/7020 [00:00<00:00, 1046823.84it/s]\n"
     ]
    },
    {
     "name": "stdout",
     "output_type": "stream",
     "text": [
      "Postprocessing\n",
      "tile: 27\n"
     ]
    },
    {
     "name": "stderr",
     "output_type": "stream",
     "text": [
      "100%|██████████| 30/30 [00:00<00:00, 83.82it/s]\n"
     ]
    },
    {
     "name": "stdout",
     "output_type": "stream",
     "text": [
      "Less than 5 spots found in subtile. Skipping and continuing...\n",
      "tile: 28\n"
     ]
    },
    {
     "name": "stderr",
     "output_type": "stream",
     "text": [
      "100%|██████████| 30/30 [00:02<00:00, 10.49it/s]\n"
     ]
    },
    {
     "name": "stdout",
     "output_type": "stream",
     "text": [
      "After denoising, mRNA spots: 3149\n",
      "Computing NGC coordinates\n"
     ]
    },
    {
     "name": "stderr",
     "output_type": "stream",
     "text": [
      "3149it [00:00, 131578.63it/s]\n",
      "/home/unix/jiahao/anaconda3/envs/starfinder/lib/python3.9/site-packages/sklearn/base.py:409: UserWarning: X does not have valid feature names, but NearestNeighbors was fitted with feature names\n",
      "  warnings.warn(\n"
     ]
    },
    {
     "name": "stdout",
     "output_type": "stream",
     "text": [
      "After adding DAPI points, all spots:9315\n",
      "DPC\n",
      "  Compute spatial distance\n"
     ]
    },
    {
     "name": "stderr",
     "output_type": "stream",
     "text": [
      "9315it [00:00, 98159.76it/s]\n"
     ]
    },
    {
     "name": "stdout",
     "output_type": "stream",
     "text": [
      "  Compute genetic distance\n"
     ]
    },
    {
     "name": "stderr",
     "output_type": "stream",
     "text": [
      "9315it [00:00, 17324.59it/s]\n"
     ]
    },
    {
     "name": "stdout",
     "output_type": "stream",
     "text": [
      "  Compute density rho and the nearest distance\n"
     ]
    },
    {
     "name": "stderr",
     "output_type": "stream",
     "text": [
      "9315it [00:00, 108315.20it/s]\n",
      "100%|██████████| 3/3 [00:00<00:00, 1609.89it/s]\n"
     ]
    },
    {
     "name": "stdout",
     "output_type": "stream",
     "text": [
      "  Find cell number:40.0\n"
     ]
    },
    {
     "name": "stderr",
     "output_type": "stream",
     "text": [
      "100%|██████████| 9315/9315 [00:00<00:00, 1071965.92it/s]\n"
     ]
    },
    {
     "name": "stdout",
     "output_type": "stream",
     "text": [
      "Postprocessing\n",
      "tile: 29\n"
     ]
    },
    {
     "name": "stderr",
     "output_type": "stream",
     "text": [
      "100%|██████████| 30/30 [00:03<00:00,  9.82it/s]\n"
     ]
    },
    {
     "name": "stdout",
     "output_type": "stream",
     "text": [
      "After denoising, mRNA spots: 5471\n",
      "Computing NGC coordinates\n"
     ]
    },
    {
     "name": "stderr",
     "output_type": "stream",
     "text": [
      "5471it [00:00, 124242.87it/s]\n",
      "/home/unix/jiahao/anaconda3/envs/starfinder/lib/python3.9/site-packages/sklearn/base.py:409: UserWarning: X does not have valid feature names, but NearestNeighbors was fitted with feature names\n",
      "  warnings.warn(\n"
     ]
    },
    {
     "name": "stdout",
     "output_type": "stream",
     "text": [
      "After adding DAPI points, all spots:13219\n",
      "DPC\n",
      "  Compute spatial distance\n"
     ]
    },
    {
     "name": "stderr",
     "output_type": "stream",
     "text": [
      "13219it [00:00, 88295.44it/s]\n"
     ]
    },
    {
     "name": "stdout",
     "output_type": "stream",
     "text": [
      "  Compute genetic distance\n"
     ]
    },
    {
     "name": "stderr",
     "output_type": "stream",
     "text": [
      "13219it [00:00, 14854.70it/s]\n"
     ]
    },
    {
     "name": "stdout",
     "output_type": "stream",
     "text": [
      "  Compute density rho and the nearest distance\n"
     ]
    },
    {
     "name": "stderr",
     "output_type": "stream",
     "text": [
      "13219it [00:00, 67736.10it/s]\n",
      "100%|██████████| 5/5 [00:00<00:00, 1048.37it/s]\n"
     ]
    },
    {
     "name": "stdout",
     "output_type": "stream",
     "text": [
      "  Find cell number:45.0\n"
     ]
    },
    {
     "name": "stderr",
     "output_type": "stream",
     "text": [
      "100%|██████████| 13219/13219 [00:00<00:00, 1048774.35it/s]\n",
      "/home/unix/jiahao/wanglab/jiahao/Github/ClusterMap/ClusterMap/clustermap.py:121: FutureWarning: In a future version, `df.iloc[:, i] = newvals` will attempt to set the values inplace instead of always setting a new array. To retain the old behavior, use either `df[df.columns[i]] = newvals` or, if columns are non-unique, `df.isetitem(i, newvals)`\n",
      "  self.spots.loc[spots_denoised.loc[:, 'level_0'], 'clustermap'] = cell_ids[:len(ngc)]\n"
     ]
    },
    {
     "name": "stdout",
     "output_type": "stream",
     "text": [
      "Postprocessing\n",
      "tile: 30\n"
     ]
    },
    {
     "name": "stderr",
     "output_type": "stream",
     "text": [
      "100%|██████████| 30/30 [00:02<00:00, 10.28it/s]\n"
     ]
    },
    {
     "name": "stdout",
     "output_type": "stream",
     "text": [
      "After denoising, mRNA spots: 5642\n",
      "Computing NGC coordinates\n"
     ]
    },
    {
     "name": "stderr",
     "output_type": "stream",
     "text": [
      "5642it [00:00, 122152.00it/s]\n",
      "/home/unix/jiahao/anaconda3/envs/starfinder/lib/python3.9/site-packages/sklearn/base.py:409: UserWarning: X does not have valid feature names, but NearestNeighbors was fitted with feature names\n",
      "  warnings.warn(\n"
     ]
    },
    {
     "name": "stdout",
     "output_type": "stream",
     "text": [
      "After adding DAPI points, all spots:10075\n",
      "DPC\n",
      "  Compute spatial distance\n"
     ]
    },
    {
     "name": "stderr",
     "output_type": "stream",
     "text": [
      "10075it [00:00, 92392.01it/s]\n"
     ]
    },
    {
     "name": "stdout",
     "output_type": "stream",
     "text": [
      "  Compute genetic distance\n"
     ]
    },
    {
     "name": "stderr",
     "output_type": "stream",
     "text": [
      "10075it [00:00, 14874.12it/s]\n"
     ]
    },
    {
     "name": "stdout",
     "output_type": "stream",
     "text": [
      "  Compute density rho and the nearest distance\n"
     ]
    },
    {
     "name": "stderr",
     "output_type": "stream",
     "text": [
      "10075it [00:00, 89864.12it/s]\n",
      "100%|██████████| 3/3 [00:00<00:00, 382.20it/s]\n"
     ]
    },
    {
     "name": "stdout",
     "output_type": "stream",
     "text": [
      "  Find cell number:55.0\n"
     ]
    },
    {
     "name": "stderr",
     "output_type": "stream",
     "text": [
      "100%|██████████| 10075/10075 [00:00<00:00, 981297.47it/s]\n"
     ]
    },
    {
     "name": "stdout",
     "output_type": "stream",
     "text": [
      "Postprocessing\n",
      "tile: 31\n"
     ]
    },
    {
     "name": "stderr",
     "output_type": "stream",
     "text": [
      "100%|██████████| 30/30 [00:02<00:00, 10.12it/s]\n"
     ]
    },
    {
     "name": "stdout",
     "output_type": "stream",
     "text": [
      "After denoising, mRNA spots: 6948\n",
      "Computing NGC coordinates\n"
     ]
    },
    {
     "name": "stderr",
     "output_type": "stream",
     "text": [
      "6948it [00:00, 118967.92it/s]\n",
      "/home/unix/jiahao/anaconda3/envs/starfinder/lib/python3.9/site-packages/sklearn/base.py:409: UserWarning: X does not have valid feature names, but NearestNeighbors was fitted with feature names\n",
      "  warnings.warn(\n"
     ]
    },
    {
     "name": "stdout",
     "output_type": "stream",
     "text": [
      "After adding DAPI points, all spots:10707\n",
      "DPC\n",
      "  Compute spatial distance\n"
     ]
    },
    {
     "name": "stderr",
     "output_type": "stream",
     "text": [
      "10707it [00:00, 98639.54it/s]\n"
     ]
    },
    {
     "name": "stdout",
     "output_type": "stream",
     "text": [
      "  Compute genetic distance\n"
     ]
    },
    {
     "name": "stderr",
     "output_type": "stream",
     "text": [
      "10707it [00:00, 18782.26it/s]\n"
     ]
    },
    {
     "name": "stdout",
     "output_type": "stream",
     "text": [
      "  Compute density rho and the nearest distance\n"
     ]
    },
    {
     "name": "stderr",
     "output_type": "stream",
     "text": [
      "10707it [00:00, 87147.16it/s]\n",
      "100%|██████████| 3/3 [00:00<00:00, 1368.60it/s]\n"
     ]
    },
    {
     "name": "stdout",
     "output_type": "stream",
     "text": [
      "  Find cell number:55.0\n"
     ]
    },
    {
     "name": "stderr",
     "output_type": "stream",
     "text": [
      "100%|██████████| 10707/10707 [00:00<00:00, 1024674.58it/s]\n"
     ]
    },
    {
     "name": "stdout",
     "output_type": "stream",
     "text": [
      "Postprocessing\n",
      "tile: 32\n"
     ]
    },
    {
     "name": "stderr",
     "output_type": "stream",
     "text": [
      "100%|██████████| 30/30 [00:02<00:00, 10.31it/s]\n"
     ]
    },
    {
     "name": "stdout",
     "output_type": "stream",
     "text": [
      "After denoising, mRNA spots: 5978\n",
      "Computing NGC coordinates\n"
     ]
    },
    {
     "name": "stderr",
     "output_type": "stream",
     "text": [
      "5978it [00:00, 118487.20it/s]\n",
      "/home/unix/jiahao/anaconda3/envs/starfinder/lib/python3.9/site-packages/sklearn/base.py:409: UserWarning: X does not have valid feature names, but NearestNeighbors was fitted with feature names\n",
      "  warnings.warn(\n"
     ]
    },
    {
     "name": "stdout",
     "output_type": "stream",
     "text": [
      "After adding DAPI points, all spots:9386\n",
      "DPC\n",
      "  Compute spatial distance\n"
     ]
    },
    {
     "name": "stderr",
     "output_type": "stream",
     "text": [
      "9386it [00:00, 72451.74it/s]\n"
     ]
    },
    {
     "name": "stdout",
     "output_type": "stream",
     "text": [
      "  Compute genetic distance\n"
     ]
    },
    {
     "name": "stderr",
     "output_type": "stream",
     "text": [
      "9386it [00:00, 16329.20it/s]\n"
     ]
    },
    {
     "name": "stdout",
     "output_type": "stream",
     "text": [
      "  Compute density rho and the nearest distance\n"
     ]
    },
    {
     "name": "stderr",
     "output_type": "stream",
     "text": [
      "9386it [00:00, 86418.23it/s]\n",
      "100%|██████████| 3/3 [00:00<00:00, 1698.79it/s]\n"
     ]
    },
    {
     "name": "stdout",
     "output_type": "stream",
     "text": [
      "  Find cell number:50.0\n"
     ]
    },
    {
     "name": "stderr",
     "output_type": "stream",
     "text": [
      "100%|██████████| 9386/9386 [00:00<00:00, 1041998.29it/s]\n"
     ]
    },
    {
     "name": "stdout",
     "output_type": "stream",
     "text": [
      "Postprocessing\n",
      "tile: 33\n"
     ]
    },
    {
     "name": "stderr",
     "output_type": "stream",
     "text": [
      "100%|██████████| 30/30 [00:02<00:00, 10.71it/s]\n"
     ]
    },
    {
     "name": "stdout",
     "output_type": "stream",
     "text": [
      "After denoising, mRNA spots: 3322\n",
      "Computing NGC coordinates\n"
     ]
    },
    {
     "name": "stderr",
     "output_type": "stream",
     "text": [
      "3322it [00:00, 111831.05it/s]\n",
      "/home/unix/jiahao/anaconda3/envs/starfinder/lib/python3.9/site-packages/sklearn/base.py:409: UserWarning: X does not have valid feature names, but NearestNeighbors was fitted with feature names\n",
      "  warnings.warn(\n"
     ]
    },
    {
     "name": "stdout",
     "output_type": "stream",
     "text": [
      "After adding DAPI points, all spots:8571\n",
      "DPC\n",
      "  Compute spatial distance\n"
     ]
    },
    {
     "name": "stderr",
     "output_type": "stream",
     "text": [
      "8571it [00:00, 88536.11it/s]\n"
     ]
    },
    {
     "name": "stdout",
     "output_type": "stream",
     "text": [
      "  Compute genetic distance\n"
     ]
    },
    {
     "name": "stderr",
     "output_type": "stream",
     "text": [
      "8571it [00:00, 14157.20it/s]\n"
     ]
    },
    {
     "name": "stdout",
     "output_type": "stream",
     "text": [
      "  Compute density rho and the nearest distance\n"
     ]
    },
    {
     "name": "stderr",
     "output_type": "stream",
     "text": [
      "8571it [00:00, 93686.00it/s]\n",
      "100%|██████████| 1/1 [00:00<00:00, 6563.86it/s]\n"
     ]
    },
    {
     "name": "stdout",
     "output_type": "stream",
     "text": [
      "  Find cell number:35.0\n"
     ]
    },
    {
     "name": "stderr",
     "output_type": "stream",
     "text": [
      "100%|██████████| 8571/8571 [00:00<00:00, 1062616.52it/s]\n"
     ]
    },
    {
     "name": "stdout",
     "output_type": "stream",
     "text": [
      "Postprocessing\n",
      "tile: 34\n"
     ]
    },
    {
     "name": "stderr",
     "output_type": "stream",
     "text": [
      "100%|██████████| 30/30 [00:00<00:00, 93.27it/s]\n"
     ]
    },
    {
     "name": "stdout",
     "output_type": "stream",
     "text": [
      "Less than 5 spots found in subtile. Skipping and continuing...\n",
      "tile: 35\n"
     ]
    },
    {
     "name": "stderr",
     "output_type": "stream",
     "text": [
      "100%|██████████| 30/30 [00:02<00:00, 11.63it/s]\n"
     ]
    },
    {
     "name": "stdout",
     "output_type": "stream",
     "text": [
      "After denoising, mRNA spots: 3150\n",
      "Computing NGC coordinates\n"
     ]
    },
    {
     "name": "stderr",
     "output_type": "stream",
     "text": [
      "3150it [00:00, 124967.44it/s]\n",
      "/home/unix/jiahao/anaconda3/envs/starfinder/lib/python3.9/site-packages/sklearn/base.py:409: UserWarning: X does not have valid feature names, but NearestNeighbors was fitted with feature names\n",
      "  warnings.warn(\n"
     ]
    },
    {
     "name": "stdout",
     "output_type": "stream",
     "text": [
      "After adding DAPI points, all spots:6929\n",
      "DPC\n",
      "  Compute spatial distance\n"
     ]
    },
    {
     "name": "stderr",
     "output_type": "stream",
     "text": [
      "6929it [00:00, 75007.12it/s]\n"
     ]
    },
    {
     "name": "stdout",
     "output_type": "stream",
     "text": [
      "  Compute genetic distance\n"
     ]
    },
    {
     "name": "stderr",
     "output_type": "stream",
     "text": [
      "6929it [00:00, 15321.62it/s]\n"
     ]
    },
    {
     "name": "stdout",
     "output_type": "stream",
     "text": [
      "  Compute density rho and the nearest distance\n"
     ]
    },
    {
     "name": "stderr",
     "output_type": "stream",
     "text": [
      "6929it [00:00, 91148.49it/s]\n",
      "100%|██████████| 2/2 [00:00<00:00, 1822.82it/s]\n"
     ]
    },
    {
     "name": "stdout",
     "output_type": "stream",
     "text": [
      "  Find cell number:40.0\n"
     ]
    },
    {
     "name": "stderr",
     "output_type": "stream",
     "text": [
      "100%|██████████| 6929/6929 [00:00<00:00, 924403.84it/s]\n"
     ]
    },
    {
     "name": "stdout",
     "output_type": "stream",
     "text": [
      "Postprocessing\n",
      "tile: 36\n"
     ]
    },
    {
     "name": "stderr",
     "output_type": "stream",
     "text": [
      "100%|██████████| 30/30 [00:02<00:00, 10.48it/s]\n"
     ]
    },
    {
     "name": "stdout",
     "output_type": "stream",
     "text": [
      "After denoising, mRNA spots: 5241\n",
      "Computing NGC coordinates\n"
     ]
    },
    {
     "name": "stderr",
     "output_type": "stream",
     "text": [
      "5241it [00:00, 85174.17it/s]\n",
      "/home/unix/jiahao/anaconda3/envs/starfinder/lib/python3.9/site-packages/sklearn/base.py:409: UserWarning: X does not have valid feature names, but NearestNeighbors was fitted with feature names\n",
      "  warnings.warn(\n"
     ]
    },
    {
     "name": "stdout",
     "output_type": "stream",
     "text": [
      "After adding DAPI points, all spots:11914\n",
      "DPC\n",
      "  Compute spatial distance\n"
     ]
    },
    {
     "name": "stderr",
     "output_type": "stream",
     "text": [
      "11914it [00:00, 89061.90it/s]\n"
     ]
    },
    {
     "name": "stdout",
     "output_type": "stream",
     "text": [
      "  Compute genetic distance\n"
     ]
    },
    {
     "name": "stderr",
     "output_type": "stream",
     "text": [
      "11914it [00:00, 13668.37it/s]\n"
     ]
    },
    {
     "name": "stdout",
     "output_type": "stream",
     "text": [
      "  Compute density rho and the nearest distance\n"
     ]
    },
    {
     "name": "stderr",
     "output_type": "stream",
     "text": [
      "11914it [00:00, 79955.04it/s]\n",
      "100%|██████████| 2/2 [00:00<00:00, 1548.57it/s]\n"
     ]
    },
    {
     "name": "stdout",
     "output_type": "stream",
     "text": [
      "  Find cell number:40.0\n"
     ]
    },
    {
     "name": "stderr",
     "output_type": "stream",
     "text": [
      "100%|██████████| 11914/11914 [00:00<00:00, 1057004.35it/s]\n"
     ]
    },
    {
     "name": "stdout",
     "output_type": "stream",
     "text": [
      "Postprocessing\n",
      "tile: 37\n"
     ]
    },
    {
     "name": "stderr",
     "output_type": "stream",
     "text": [
      "100%|██████████| 30/30 [00:02<00:00, 10.28it/s]\n"
     ]
    },
    {
     "name": "stdout",
     "output_type": "stream",
     "text": [
      "After denoising, mRNA spots: 5232\n",
      "Computing NGC coordinates\n"
     ]
    },
    {
     "name": "stderr",
     "output_type": "stream",
     "text": [
      "5232it [00:00, 123836.66it/s]\n",
      "/home/unix/jiahao/anaconda3/envs/starfinder/lib/python3.9/site-packages/sklearn/base.py:409: UserWarning: X does not have valid feature names, but NearestNeighbors was fitted with feature names\n",
      "  warnings.warn(\n"
     ]
    },
    {
     "name": "stdout",
     "output_type": "stream",
     "text": [
      "After adding DAPI points, all spots:13249\n",
      "DPC\n",
      "  Compute spatial distance\n"
     ]
    },
    {
     "name": "stderr",
     "output_type": "stream",
     "text": [
      "13249it [00:00, 75983.44it/s]\n"
     ]
    },
    {
     "name": "stdout",
     "output_type": "stream",
     "text": [
      "  Compute genetic distance\n"
     ]
    },
    {
     "name": "stderr",
     "output_type": "stream",
     "text": [
      "13249it [00:00, 14003.27it/s]\n"
     ]
    },
    {
     "name": "stdout",
     "output_type": "stream",
     "text": [
      "  Compute density rho and the nearest distance\n"
     ]
    },
    {
     "name": "stderr",
     "output_type": "stream",
     "text": [
      "13249it [00:00, 71307.37it/s]\n",
      "100%|██████████| 2/2 [00:00<00:00, 1440.35it/s]\n"
     ]
    },
    {
     "name": "stdout",
     "output_type": "stream",
     "text": [
      "  Find cell number:35.0\n"
     ]
    },
    {
     "name": "stderr",
     "output_type": "stream",
     "text": [
      "100%|██████████| 13249/13249 [00:00<00:00, 984329.71it/s]\n"
     ]
    },
    {
     "name": "stdout",
     "output_type": "stream",
     "text": [
      "Postprocessing\n",
      "tile: 38\n"
     ]
    },
    {
     "name": "stderr",
     "output_type": "stream",
     "text": [
      "100%|██████████| 30/30 [00:02<00:00, 10.73it/s]\n"
     ]
    },
    {
     "name": "stdout",
     "output_type": "stream",
     "text": [
      "After denoising, mRNA spots: 5256\n",
      "Computing NGC coordinates\n"
     ]
    },
    {
     "name": "stderr",
     "output_type": "stream",
     "text": [
      "5256it [00:00, 113064.22it/s]\n",
      "/home/unix/jiahao/anaconda3/envs/starfinder/lib/python3.9/site-packages/sklearn/base.py:409: UserWarning: X does not have valid feature names, but NearestNeighbors was fitted with feature names\n",
      "  warnings.warn(\n"
     ]
    },
    {
     "name": "stdout",
     "output_type": "stream",
     "text": [
      "After adding DAPI points, all spots:10834\n",
      "DPC\n",
      "  Compute spatial distance\n"
     ]
    },
    {
     "name": "stderr",
     "output_type": "stream",
     "text": [
      "10834it [00:00, 93374.72it/s]\n"
     ]
    },
    {
     "name": "stdout",
     "output_type": "stream",
     "text": [
      "  Compute genetic distance\n"
     ]
    },
    {
     "name": "stderr",
     "output_type": "stream",
     "text": [
      "10834it [00:00, 15612.58it/s]\n"
     ]
    },
    {
     "name": "stdout",
     "output_type": "stream",
     "text": [
      "  Compute density rho and the nearest distance\n"
     ]
    },
    {
     "name": "stderr",
     "output_type": "stream",
     "text": [
      "10834it [00:00, 86587.11it/s]\n",
      "100%|██████████| 3/3 [00:00<00:00, 1589.76it/s]\n"
     ]
    },
    {
     "name": "stdout",
     "output_type": "stream",
     "text": [
      "  Find cell number:45.0\n"
     ]
    },
    {
     "name": "stderr",
     "output_type": "stream",
     "text": [
      "100%|██████████| 10834/10834 [00:00<00:00, 1038155.16it/s]\n"
     ]
    },
    {
     "name": "stdout",
     "output_type": "stream",
     "text": [
      "Postprocessing\n",
      "tile: 39\n"
     ]
    },
    {
     "name": "stderr",
     "output_type": "stream",
     "text": [
      "100%|██████████| 30/30 [00:02<00:00, 11.31it/s]\n"
     ]
    },
    {
     "name": "stdout",
     "output_type": "stream",
     "text": [
      "After denoising, mRNA spots: 3410\n",
      "Computing NGC coordinates\n"
     ]
    },
    {
     "name": "stderr",
     "output_type": "stream",
     "text": [
      "3410it [00:00, 117148.77it/s]\n",
      "/home/unix/jiahao/anaconda3/envs/starfinder/lib/python3.9/site-packages/sklearn/base.py:409: UserWarning: X does not have valid feature names, but NearestNeighbors was fitted with feature names\n",
      "  warnings.warn(\n"
     ]
    },
    {
     "name": "stdout",
     "output_type": "stream",
     "text": [
      "After adding DAPI points, all spots:5233\n",
      "DPC\n",
      "  Compute spatial distance\n"
     ]
    },
    {
     "name": "stderr",
     "output_type": "stream",
     "text": [
      "5233it [00:00, 97190.80it/s]\n"
     ]
    },
    {
     "name": "stdout",
     "output_type": "stream",
     "text": [
      "  Compute genetic distance\n"
     ]
    },
    {
     "name": "stderr",
     "output_type": "stream",
     "text": [
      "5233it [00:00, 15675.02it/s]\n"
     ]
    },
    {
     "name": "stdout",
     "output_type": "stream",
     "text": [
      "  Compute density rho and the nearest distance\n"
     ]
    },
    {
     "name": "stderr",
     "output_type": "stream",
     "text": [
      "5233it [00:00, 143674.02it/s]\n",
      "100%|██████████| 3/3 [00:00<00:00, 1579.38it/s]\n"
     ]
    },
    {
     "name": "stdout",
     "output_type": "stream",
     "text": [
      "  Find cell number:55.0\n"
     ]
    },
    {
     "name": "stderr",
     "output_type": "stream",
     "text": [
      "100%|██████████| 5233/5233 [00:00<00:00, 943587.67it/s]\n"
     ]
    },
    {
     "name": "stdout",
     "output_type": "stream",
     "text": [
      "Postprocessing\n",
      "tile: 40\n"
     ]
    },
    {
     "name": "stderr",
     "output_type": "stream",
     "text": [
      "100%|██████████| 30/30 [00:02<00:00, 10.76it/s]\n"
     ]
    },
    {
     "name": "stdout",
     "output_type": "stream",
     "text": [
      "After denoising, mRNA spots: 2297\n",
      "Computing NGC coordinates\n"
     ]
    },
    {
     "name": "stderr",
     "output_type": "stream",
     "text": [
      "2297it [00:00, 127236.08it/s]\n",
      "/home/unix/jiahao/anaconda3/envs/starfinder/lib/python3.9/site-packages/sklearn/base.py:409: UserWarning: X does not have valid feature names, but NearestNeighbors was fitted with feature names\n",
      "  warnings.warn(\n"
     ]
    },
    {
     "name": "stdout",
     "output_type": "stream",
     "text": [
      "After adding DAPI points, all spots:6027\n",
      "DPC\n",
      "  Compute spatial distance\n"
     ]
    },
    {
     "name": "stderr",
     "output_type": "stream",
     "text": [
      "6027it [00:00, 65927.74it/s]\n"
     ]
    },
    {
     "name": "stdout",
     "output_type": "stream",
     "text": [
      "  Compute genetic distance\n"
     ]
    },
    {
     "name": "stderr",
     "output_type": "stream",
     "text": [
      "6027it [00:00, 14025.94it/s]\n"
     ]
    },
    {
     "name": "stdout",
     "output_type": "stream",
     "text": [
      "  Compute density rho and the nearest distance\n"
     ]
    },
    {
     "name": "stderr",
     "output_type": "stream",
     "text": [
      "6027it [00:00, 78880.99it/s]\n",
      "100%|██████████| 1/1 [00:00<00:00, 15827.56it/s]\n"
     ]
    },
    {
     "name": "stdout",
     "output_type": "stream",
     "text": [
      "  Find cell number:55.0\n"
     ]
    },
    {
     "name": "stderr",
     "output_type": "stream",
     "text": [
      "100%|██████████| 6027/6027 [00:00<00:00, 1064740.55it/s]\n"
     ]
    },
    {
     "name": "stdout",
     "output_type": "stream",
     "text": [
      "Postprocessing\n",
      "tile: 41\n"
     ]
    },
    {
     "name": "stderr",
     "output_type": "stream",
     "text": [
      "100%|██████████| 30/30 [00:00<00:00, 93.68it/s]\n"
     ]
    },
    {
     "name": "stdout",
     "output_type": "stream",
     "text": [
      "Less than 5 spots found in subtile. Skipping and continuing...\n",
      "tile: 42\n"
     ]
    },
    {
     "name": "stderr",
     "output_type": "stream",
     "text": [
      "100%|██████████| 30/30 [00:00<00:00, 95.87it/s] \n"
     ]
    },
    {
     "name": "stdout",
     "output_type": "stream",
     "text": [
      "After denoising, mRNA spots: 32\n",
      "Computing NGC coordinates\n"
     ]
    },
    {
     "name": "stderr",
     "output_type": "stream",
     "text": [
      "32it [00:00, 29177.77it/s]\n",
      "/home/unix/jiahao/anaconda3/envs/starfinder/lib/python3.9/site-packages/sklearn/base.py:409: UserWarning: X does not have valid feature names, but NearestNeighbors was fitted with feature names\n",
      "  warnings.warn(\n"
     ]
    },
    {
     "name": "stdout",
     "output_type": "stream",
     "text": [
      "After adding DAPI points, all spots:3395\n",
      "DPC\n",
      "  Compute spatial distance\n"
     ]
    },
    {
     "name": "stderr",
     "output_type": "stream",
     "text": [
      "3395it [00:00, 79824.55it/s]\n"
     ]
    },
    {
     "name": "stdout",
     "output_type": "stream",
     "text": [
      "  Compute genetic distance\n"
     ]
    },
    {
     "name": "stderr",
     "output_type": "stream",
     "text": [
      "3395it [00:00, 9401.10it/s] \n"
     ]
    },
    {
     "name": "stdout",
     "output_type": "stream",
     "text": [
      "  Compute density rho and the nearest distance\n"
     ]
    },
    {
     "name": "stderr",
     "output_type": "stream",
     "text": [
      "3395it [00:00, 118734.10it/s]\n",
      "100%|██████████| 1/1 [00:00<00:00, 17697.49it/s]\n"
     ]
    },
    {
     "name": "stdout",
     "output_type": "stream",
     "text": [
      "  Find cell number:140.0\n"
     ]
    },
    {
     "name": "stderr",
     "output_type": "stream",
     "text": [
      "100%|██████████| 3395/3395 [00:00<00:00, 306578.73it/s]\n"
     ]
    },
    {
     "name": "stdout",
     "output_type": "stream",
     "text": [
      "Postprocessing\n",
      "tile: 43\n"
     ]
    },
    {
     "name": "stderr",
     "output_type": "stream",
     "text": [
      "100%|██████████| 30/30 [00:00<00:00, 90.12it/s]\n"
     ]
    },
    {
     "name": "stdout",
     "output_type": "stream",
     "text": [
      "After denoising, mRNA spots: 138\n",
      "Computing NGC coordinates\n"
     ]
    },
    {
     "name": "stderr",
     "output_type": "stream",
     "text": [
      "138it [00:00, 103285.86it/s]\n"
     ]
    },
    {
     "name": "stdout",
     "output_type": "stream",
     "text": [
      "After adding DAPI points, all spots:716\n",
      "DPC\n",
      "  Compute spatial distance\n"
     ]
    },
    {
     "name": "stderr",
     "output_type": "stream",
     "text": [
      "/home/unix/jiahao/anaconda3/envs/starfinder/lib/python3.9/site-packages/sklearn/base.py:409: UserWarning: X does not have valid feature names, but NearestNeighbors was fitted with feature names\n",
      "  warnings.warn(\n",
      "716it [00:00, 73478.06it/s]\n"
     ]
    },
    {
     "name": "stdout",
     "output_type": "stream",
     "text": [
      "  Compute genetic distance\n"
     ]
    },
    {
     "name": "stderr",
     "output_type": "stream",
     "text": [
      "716it [00:00, 11785.13it/s]\n"
     ]
    },
    {
     "name": "stdout",
     "output_type": "stream",
     "text": [
      "  Compute density rho and the nearest distance\n"
     ]
    },
    {
     "name": "stderr",
     "output_type": "stream",
     "text": [
      "716it [00:00, 44794.63it/s]\n",
      "100%|██████████| 2/2 [00:00<00:00, 713.20it/s]\n"
     ]
    },
    {
     "name": "stdout",
     "output_type": "stream",
     "text": [
      "  Find cell number:20\n"
     ]
    },
    {
     "name": "stderr",
     "output_type": "stream",
     "text": [
      "100%|██████████| 716/716 [00:00<00:00, 173771.65it/s]\n"
     ]
    },
    {
     "name": "stdout",
     "output_type": "stream",
     "text": [
      "Postprocessing\n",
      "tile: 44\n"
     ]
    },
    {
     "name": "stderr",
     "output_type": "stream",
     "text": [
      "100%|██████████| 30/30 [00:00<00:00, 77.24it/s]\n"
     ]
    },
    {
     "name": "stdout",
     "output_type": "stream",
     "text": [
      "After denoising, mRNA spots: 425\n",
      "Computing NGC coordinates\n"
     ]
    },
    {
     "name": "stderr",
     "output_type": "stream",
     "text": [
      "425it [00:00, 77117.85it/s]\n",
      "/home/unix/jiahao/anaconda3/envs/starfinder/lib/python3.9/site-packages/sklearn/base.py:409: UserWarning: X does not have valid feature names, but NearestNeighbors was fitted with feature names\n",
      "  warnings.warn(\n"
     ]
    },
    {
     "name": "stdout",
     "output_type": "stream",
     "text": [
      "After adding DAPI points, all spots:1593\n",
      "DPC\n",
      "  Compute spatial distance\n"
     ]
    },
    {
     "name": "stderr",
     "output_type": "stream",
     "text": [
      "1593it [00:00, 81352.06it/s]\n"
     ]
    },
    {
     "name": "stdout",
     "output_type": "stream",
     "text": [
      "  Compute genetic distance\n"
     ]
    },
    {
     "name": "stderr",
     "output_type": "stream",
     "text": [
      "1593it [00:00, 12368.25it/s]\n"
     ]
    },
    {
     "name": "stdout",
     "output_type": "stream",
     "text": [
      "  Compute density rho and the nearest distance\n"
     ]
    },
    {
     "name": "stderr",
     "output_type": "stream",
     "text": [
      "1593it [00:00, 160981.24it/s]\n",
      "100%|██████████| 2/2 [00:00<00:00, 966.32it/s]\n"
     ]
    },
    {
     "name": "stdout",
     "output_type": "stream",
     "text": [
      "  Find cell number:125.0\n"
     ]
    },
    {
     "name": "stderr",
     "output_type": "stream",
     "text": [
      "100%|██████████| 1593/1593 [00:00<00:00, 429984.32it/s]\n"
     ]
    },
    {
     "name": "stdout",
     "output_type": "stream",
     "text": [
      "Postprocessing\n",
      "tile: 45\n"
     ]
    },
    {
     "name": "stderr",
     "output_type": "stream",
     "text": [
      "100%|██████████| 30/30 [00:00<00:00, 81.71it/s]\n"
     ]
    },
    {
     "name": "stdout",
     "output_type": "stream",
     "text": [
      "After denoising, mRNA spots: 386\n",
      "Computing NGC coordinates\n"
     ]
    },
    {
     "name": "stderr",
     "output_type": "stream",
     "text": [
      "386it [00:00, 71133.63it/s]\n",
      "/home/unix/jiahao/anaconda3/envs/starfinder/lib/python3.9/site-packages/sklearn/base.py:409: UserWarning: X does not have valid feature names, but NearestNeighbors was fitted with feature names\n",
      "  warnings.warn(\n"
     ]
    },
    {
     "name": "stdout",
     "output_type": "stream",
     "text": [
      "After adding DAPI points, all spots:1294\n",
      "DPC\n",
      "  Compute spatial distance\n"
     ]
    },
    {
     "name": "stderr",
     "output_type": "stream",
     "text": [
      "1294it [00:00, 66358.92it/s]\n"
     ]
    },
    {
     "name": "stdout",
     "output_type": "stream",
     "text": [
      "  Compute genetic distance\n"
     ]
    },
    {
     "name": "stderr",
     "output_type": "stream",
     "text": [
      "1294it [00:00, 13712.76it/s]\n"
     ]
    },
    {
     "name": "stdout",
     "output_type": "stream",
     "text": [
      "  Compute density rho and the nearest distance\n"
     ]
    },
    {
     "name": "stderr",
     "output_type": "stream",
     "text": [
      "1294it [00:00, 170991.13it/s]\n",
      "100%|██████████| 1/1 [00:00<00:00, 7096.96it/s]\n"
     ]
    },
    {
     "name": "stdout",
     "output_type": "stream",
     "text": [
      "  Find cell number:205.0\n"
     ]
    },
    {
     "name": "stderr",
     "output_type": "stream",
     "text": [
      "100%|██████████| 1294/1294 [00:00<00:00, 584285.65it/s]\n"
     ]
    },
    {
     "name": "stdout",
     "output_type": "stream",
     "text": [
      "Postprocessing\n",
      "tile: 46\n"
     ]
    },
    {
     "name": "stderr",
     "output_type": "stream",
     "text": [
      "100%|██████████| 30/30 [00:00<00:00, 70.95it/s]\n"
     ]
    },
    {
     "name": "stdout",
     "output_type": "stream",
     "text": [
      "After denoising, mRNA spots: 168\n",
      "Computing NGC coordinates\n"
     ]
    },
    {
     "name": "stderr",
     "output_type": "stream",
     "text": [
      "168it [00:00, 75711.09it/s]\n",
      "/home/unix/jiahao/anaconda3/envs/starfinder/lib/python3.9/site-packages/sklearn/base.py:409: UserWarning: X does not have valid feature names, but NearestNeighbors was fitted with feature names\n",
      "  warnings.warn(\n"
     ]
    },
    {
     "name": "stdout",
     "output_type": "stream",
     "text": [
      "After adding DAPI points, all spots:794\n",
      "DPC\n",
      "  Compute spatial distance\n"
     ]
    },
    {
     "name": "stderr",
     "output_type": "stream",
     "text": [
      "794it [00:00, 108506.37it/s]\n"
     ]
    },
    {
     "name": "stdout",
     "output_type": "stream",
     "text": [
      "  Compute genetic distance\n"
     ]
    },
    {
     "name": "stderr",
     "output_type": "stream",
     "text": [
      "794it [00:00, 21283.67it/s]\n"
     ]
    },
    {
     "name": "stdout",
     "output_type": "stream",
     "text": [
      "  Compute density rho and the nearest distance\n"
     ]
    },
    {
     "name": "stderr",
     "output_type": "stream",
     "text": [
      "794it [00:00, 189424.80it/s]\n",
      "100%|██████████| 1/1 [00:00<00:00, 16710.37it/s]\n"
     ]
    },
    {
     "name": "stdout",
     "output_type": "stream",
     "text": [
      "  Find cell number:20\n"
     ]
    },
    {
     "name": "stderr",
     "output_type": "stream",
     "text": [
      "100%|██████████| 794/794 [00:00<00:00, 293235.66it/s]\n"
     ]
    },
    {
     "name": "stdout",
     "output_type": "stream",
     "text": [
      "Postprocessing\n",
      "tile: 47\n"
     ]
    },
    {
     "name": "stderr",
     "output_type": "stream",
     "text": [
      "100%|██████████| 30/30 [00:00<00:00, 84.06it/s]\n"
     ]
    },
    {
     "name": "stdout",
     "output_type": "stream",
     "text": [
      "After denoising, mRNA spots: 21\n",
      "Computing NGC coordinates\n"
     ]
    },
    {
     "name": "stderr",
     "output_type": "stream",
     "text": [
      "21it [00:00, 40237.73it/s]\n",
      "/home/unix/jiahao/anaconda3/envs/starfinder/lib/python3.9/site-packages/sklearn/base.py:409: UserWarning: X does not have valid feature names, but NearestNeighbors was fitted with feature names\n",
      "  warnings.warn(\n"
     ]
    },
    {
     "name": "stdout",
     "output_type": "stream",
     "text": [
      "After adding DAPI points, all spots:3990\n",
      "DPC\n",
      "  Compute spatial distance\n"
     ]
    },
    {
     "name": "stderr",
     "output_type": "stream",
     "text": [
      "3990it [00:00, 68203.96it/s]\n"
     ]
    },
    {
     "name": "stdout",
     "output_type": "stream",
     "text": [
      "  Compute genetic distance\n"
     ]
    },
    {
     "name": "stderr",
     "output_type": "stream",
     "text": [
      "3990it [00:00, 10073.26it/s]\n"
     ]
    },
    {
     "name": "stdout",
     "output_type": "stream",
     "text": [
      "  Compute density rho and the nearest distance\n"
     ]
    },
    {
     "name": "stderr",
     "output_type": "stream",
     "text": [
      "3990it [00:00, 65408.19it/s]\n",
      "100%|██████████| 1/1 [00:00<00:00, 2105.57it/s]\n"
     ]
    },
    {
     "name": "stdout",
     "output_type": "stream",
     "text": [
      "  Find cell number:85.0\n"
     ]
    },
    {
     "name": "stderr",
     "output_type": "stream",
     "text": [
      "100%|██████████| 3990/3990 [00:00<00:00, 463837.94it/s]\n"
     ]
    },
    {
     "name": "stdout",
     "output_type": "stream",
     "text": [
      "Postprocessing\n",
      "tile: 48\n"
     ]
    },
    {
     "name": "stderr",
     "output_type": "stream",
     "text": [
      "100%|██████████| 30/30 [00:00<00:00, 429.61it/s]\n"
     ]
    },
    {
     "name": "stdout",
     "output_type": "stream",
     "text": [
      "Less than 5 spots found in subtile. Skipping and continuing...\n",
      "Finished analyzing all subtiles\n"
     ]
    }
   ],
   "source": [
    "\n",
    "# run ClusterMap\n",
    "number_of_genes = len(gene_order)\n",
    "gene_list = np.arange(1, number_of_genes+1)\n",
    "num_dims = len(pi.shape)\n",
    "model = ClusterMap(spots=spots, dapi=pi, gene_list=gene_list, num_dims=num_dims, gauss_blur=True, sigma=3,\n",
    "               xy_radius=xy_radius, z_radius=z_radius, fast_preprocess=True)\n",
    "\n",
    "model.preprocess(dapi_grid_interval=dapi_grid_interval, pct_filter=pct_filter)\n",
    "\n",
    "# Since tiles are large, split data into smaller tiles and re-stitch after segmentation\n",
    "label_img = get_img(pi, model.spots, window_size=window_size, margin=math.ceil(window_size*0.1))\n",
    "subtiles = split(pi, label_img, model.spots, window_size=window_size, margin=math.ceil(window_size*0.1))\n",
    "\n",
    "# Process each tile and stitch together\n",
    "cell_info = {'cellid': [], 'cell_center': []}\n",
    "model.spots['clustermap'] = -1\n",
    "\n",
    "for tile_split in range(subtiles.shape[0]):\n",
    "    print(f'tile: {tile_split}')\n",
    "    spots_tile = subtiles.loc[tile_split, 'spots']\n",
    "    dapi_tile = subtiles.loc[tile_split, 'img']\n",
    "\n",
    "    ### instantiate model\n",
    "    model_tile = ClusterMap(spots=spots_tile, dapi=dapi_tile, gene_list=gene_list, num_dims=num_dims,\n",
    "                    xy_radius=xy_radius, z_radius=z_radius, fast_preprocess=False)\n",
    "\n",
    "    if model_tile.spots.shape[0] < min_spot_per_cell:\n",
    "        print(f\"Less than {min_spot_per_cell} spots found in subtile. Skipping and continuing...\")\n",
    "        continue\n",
    "    else:\n",
    "        if sum(model_tile.spots['is_noise'] == 0) < min_spot_per_cell:\n",
    "            print(f\"Less than {min_spot_per_cell} non-noisy spots found in subtile. Skipping and continuing...\")\n",
    "            continue\n",
    "        else:\n",
    "            # segmentation\n",
    "            model_tile.min_spot_per_cell = min_spot_per_cell\n",
    "            model_tile.segmentation(cell_num_threshold=cell_num_threshold, dapi_grid_interval=dapi_grid_interval, add_dapi=True, use_genedis=True)\n",
    "            # Check if segmentation successful \n",
    "            if 'clustermap' not in model_tile.spots.columns:\n",
    "                continue\n",
    "            else:\n",
    "                # Check unique cell centers in tile\n",
    "                if len(np.unique(model_tile.spots['clustermap'])) == 0: \n",
    "                    print(\"No unique cell centers found in the cell. Skipping stitching...\")\n",
    "                    continue\n",
    "                elif len(np.unique(model_tile.spots['clustermap'])) == 1 and np.unique(model_tile.spots['clustermap']) == [-1]:\n",
    "                    print(\"All cell centers found were noise. Skipping stitching...\")\n",
    "                    continue\n",
    "                else:\n",
    "                    # ### stitch tiles together\n",
    "                    cell_info=model.stitch(model_tile, subtiles, tile_split)\n",
    "\n",
    "print(\"Finished analyzing all subtiles\")\n",
    "\n",
    "# If tile is completely noise, throw subtiles\n",
    "if not hasattr(model, 'all_points_cellid'):\n",
    "    print(\"No denoised cell centers found in this tile.\")\n",
    "    sys.exit()\n",
    "\n",
    "model.save_segmentation(os.path.join(output_path, f'{current_fov}_spots.csv'))\n",
    "cell_center_df = pd.DataFrame({'cell_barcode' : model.cellid_unique.astype(int),'column' : model.cellcenter_unique[:,1],'row': model.cellcenter_unique[:,0],'z_axis':model.cellcenter_unique[:,2]})\n",
    "cell_center_df.to_csv(os.path.join(output_path, f'{current_fov}_cell_center.csv'))"
   ]
  },
  {
   "cell_type": "code",
   "execution_count": 3,
   "metadata": {},
   "outputs": [],
   "source": [
    "# save figs \n",
    "figure_path = os.path.join(output_path, 'figures')\n",
    "if not os.path.exists(figure_path):\n",
    "    os.mkdir(figure_path)\n",
    "\n",
    "# preprocessing\n",
    "plt.figure(figsize=(10,10))\n",
    "plt.imshow(pi.max(axis=2), cmap=plt.cm.gray)\n",
    "plt.scatter(model.spots.loc[model.spots['is_noise'] == 0, 'spot_location_1'], model.spots.loc[model.spots['is_noise'] == 0, 'spot_location_2'], s=0.5, c='g', alpha=.5)\n",
    "plt.scatter(model.spots.loc[model.spots['is_noise'] == -1, 'spot_location_1'], model.spots.loc[model.spots['is_noise'] == -1, 'spot_location_2'], s=0.5, c='r', alpha=.5)\n",
    "plt.savefig(os.path.join(figure_path, f'{current_fov}_pp.png'))\n",
    "plt.clf()\n",
    "plt.close()\n",
    "\n",
    "# segmentation \n",
    "cell_ids = model.spots['clustermap']\n",
    "cells_unique = np.unique(cell_ids)\n",
    "spots_repr = np.array(model.spots[['spot_location_2', 'spot_location_1']])[cell_ids>=0]\n",
    "cell_ids = cell_ids[cell_ids>=0]                \n",
    "cmap = np.random.rand(int(max(cell_ids)+1), 3)\n",
    "fig, ax = plt.subplots(figsize=(10,10))\n",
    "ax.imshow(np.zeros(pi.max(axis=2).shape), cmap='Greys_r')\n",
    "ax.scatter(spots_repr[:,1],spots_repr[:,0], c=cmap[[int(x) for x in cell_ids]], s=1, alpha=.5)\n",
    "ax.scatter(model.cellcenter_unique[:,1], model.cellcenter_unique[:,0], c='r', s=3)\n",
    "plt.axis('off')\n",
    "plt.savefig(os.path.join(figure_path, f'{current_fov}_cell_seg.png'))\n",
    "plt.clf()\n",
    "plt.close()\n",
    "\n",
    "fig, ax = plt.subplots(figsize=(10,10))\n",
    "ax.imshow(pi.max(axis=2), cmap='Greys_r')\n",
    "ax.scatter(spots_repr[:,1],spots_repr[:,0], c=cmap[[int(x) for x in cell_ids]], s=1, alpha=.5)\n",
    "ax.scatter(model.cellcenter_unique[:,1], model.cellcenter_unique[:,0], c='r', s=3)\n",
    "plt.axis('off')\n",
    "plt.savefig(os.path.join(figure_path, f'{current_fov}_cell_seg_nuclei.png'))\n",
    "plt.clf()\n",
    "plt.close()\n",
    "\n",
    "stop = timeit.default_timer()\n",
    "computation_time = round((stop - start) / 60, 2)\n",
    "\n",
    "# save log (csv)\n",
    "log_dict = {'number_of_spots': spots.shape[0], \n",
    "           'number_of_spots_after_pp': model.spots.loc[model.spots['is_noise'] == 0, :].shape[0],\n",
    "           'number_of_cells': model.cellcenter_unique.shape[0],\n",
    "           'computation_time': computation_time}\n",
    "log = pd.DataFrame(log_dict, index=[current_fov])\n",
    "log.to_csv(os.path.join(output_path,  f'{current_fov}_log.csv'))"
   ]
  }
 ],
 "metadata": {
  "kernelspec": {
   "display_name": "starfinder",
   "language": "python",
   "name": "python3"
  },
  "language_info": {
   "codemirror_mode": {
    "name": "ipython",
    "version": 3
   },
   "file_extension": ".py",
   "mimetype": "text/x-python",
   "name": "python",
   "nbconvert_exporter": "python",
   "pygments_lexer": "ipython3",
   "version": "3.9.15"
  }
 },
 "nbformat": 4,
 "nbformat_minor": 2
}
