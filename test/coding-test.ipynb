{
 "cells": [
  {
   "cell_type": "code",
   "execution_count": 1,
   "metadata": {},
   "outputs": [],
   "source": [
    "test = \"tile_{i:03}\"\n",
    "fov_list = [test.format(i=j) for j in range(10)]"
   ]
  },
  {
   "cell_type": "code",
   "execution_count": 7,
   "metadata": {},
   "outputs": [
    {
     "data": {
      "text/plain": [
       "['tile_000',\n",
       " 'tile_001',\n",
       " 'tile_002',\n",
       " 'tile_003',\n",
       " 'tile_004',\n",
       " 'tile_005',\n",
       " 'tile_006',\n",
       " 'tile_007',\n",
       " 'tile_008',\n",
       " 'tile_009']"
      ]
     },
     "execution_count": 7,
     "metadata": {},
     "output_type": "execute_result"
    }
   ],
   "source": [
    "fov_list"
   ]
  },
  {
   "cell_type": "code",
   "execution_count": 1,
   "metadata": {},
   "outputs": [
    {
     "name": "stdout",
     "output_type": "stream",
     "text": [
      "0\n",
      "1\n",
      "2\n",
      "3\n",
      "4\n",
      "5\n",
      "6\n",
      "7\n",
      "8\n",
      "9\n",
      "10\n",
      "11\n",
      "12\n",
      "13\n",
      "14\n",
      "15\n",
      "16\n",
      "17\n",
      "18\n"
     ]
    }
   ],
   "source": [
    "from time import sleep\n",
    "for i in range(19):\n",
    "    print(i)\n",
    "    sleep(1)"
   ]
  },
  {
   "cell_type": "code",
   "execution_count": 1,
   "metadata": {},
   "outputs": [],
   "source": [
    "import pandas as pd\n",
    "import os\n",
    "import numpy as np"
   ]
  },
  {
   "cell_type": "code",
   "execution_count": 3,
   "metadata": {},
   "outputs": [],
   "source": [
    "genes_csv = pd.read_csv('/home/unix/jiahao/wanglab/Data/Processed/2023-10-01-Jiahao-Test/mAD_64/genes.csv', header=None)\n",
    "genes_csv.iloc[:, 0] = genes_csv.iloc[:, 0].str.capitalize()\n",
    "genes_csv.to_csv('/home/unix/jiahao/wanglab/Data/Processed/2023-10-01-Jiahao-Test/mAD_64/genes_new.csv', header=None, index=None)"
   ]
  },
  {
   "cell_type": "code",
   "execution_count": 6,
   "metadata": {},
   "outputs": [
    {
     "data": {
      "text/plain": [
       "0      Aldoc\n",
       "1      Ap2b1\n",
       "2       Apoe\n",
       "3       Aqp4\n",
       "4     Brinp1\n",
       "       ...  \n",
       "59     Tshz2\n",
       "60    Tspan7\n",
       "61       Vim\n",
       "62       Vip\n",
       "63       Vtn\n",
       "Name: 0, Length: 64, dtype: object"
      ]
     },
     "execution_count": 6,
     "metadata": {},
     "output_type": "execute_result"
    }
   ],
   "source": [
    "genes_csv.iloc[:, 0].str.capitalize()"
   ]
  },
  {
   "cell_type": "code",
   "execution_count": 1,
   "metadata": {},
   "outputs": [],
   "source": [
    "import json"
   ]
  },
  {
   "cell_type": "code",
   "execution_count": 5,
   "metadata": {},
   "outputs": [
    {
     "data": {
      "text/plain": [
       "{'input_path': '/home/unix/jiahao/wanglab/Data/Processed/2023-10-01-Jiahao-Test/mAD_64/',\n",
       " 'output_path': '/home/unix/jiahao/wanglab/Data/Analyzed/2023-10-01-Jiahao-Test/mAD_64/',\n",
       " 'ref_round': 'round1',\n",
       " 'additional_round': ['protein'],\n",
       " 'ref_channel': 'PI',\n",
       " 'fov_id_pattern': 'tile_%d',\n",
       " 'starting_fov_id': 1,\n",
       " 'number_of_fovs': 1,\n",
       " 'rotate_angle': -90,\n",
       " 'maximum_projection': True,\n",
       " 'channel_order': [{'wavelength': 488, 'channel': 'ch00', 'name': 'plaque'},\n",
       "  {'wavelength': 594, 'channel': 'ch01', 'name': 'tau'},\n",
       "  {'wavelength': 546, 'channel': 'ch02', 'name': 'PI'},\n",
       "  {'wavelength': 647, 'channel': 'ch03', 'name': 'Gfap'}]}"
      ]
     },
     "execution_count": 5,
     "metadata": {},
     "output_type": "execute_result"
    }
   ],
   "source": [
    "config_file = open('/home/unix/jiahao/wanglab/jiahao/Github/starfinder/test/mAD_64/dataset-info.json')\n",
    "config_raw = json.load(config_file)\n",
    "config_raw"
   ]
  },
  {
   "cell_type": "code",
   "execution_count": 6,
   "metadata": {},
   "outputs": [
    {
     "data": {
      "text/plain": [
       "['protein']"
      ]
     },
     "execution_count": 6,
     "metadata": {},
     "output_type": "execute_result"
    }
   ],
   "source": [
    "config_raw['additional_round']"
   ]
  },
  {
   "cell_type": "code",
   "execution_count": null,
   "metadata": {},
   "outputs": [],
   "source": []
  }
 ],
 "metadata": {
  "kernelspec": {
   "display_name": "Python 3",
   "language": "python",
   "name": "python3"
  },
  "language_info": {
   "codemirror_mode": {
    "name": "ipython",
    "version": 3
   },
   "file_extension": ".py",
   "mimetype": "text/x-python",
   "name": "python",
   "nbconvert_exporter": "python",
   "pygments_lexer": "ipython3",
   "version": "3.9.15"
  },
  "orig_nbformat": 4
 },
 "nbformat": 4,
 "nbformat_minor": 2
}
