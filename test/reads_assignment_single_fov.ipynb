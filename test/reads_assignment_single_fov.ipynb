{
 "cells": [
  {
   "cell_type": "markdown",
   "metadata": {},
   "source": [
    "# Reads assignment for a single FOV"
   ]
  },
  {
   "cell_type": "code",
   "execution_count": null,
   "metadata": {},
   "outputs": [],
   "source": [
    "import os\n",
    "import numpy as np\n",
    "import pandas as pd\n",
    "import seaborn as sns\n",
    "from skimage.filters import threshold_otsu, threshold_yen, gaussian\n",
    "from skimage.measure import regionprops\n",
    "from skimage.morphology import binary_dilation, disk\n",
    "from skimage.segmentation import watershed\n",
    "import scipy.ndimage as ndi\n",
    "from anndata import AnnData\n",
    "from tifffile import imread, imwrite\n",
    "from tqdm import tqdm\n",
    "import matplotlib.pyplot as plt"
   ]
  },
  {
   "cell_type": "code",
   "execution_count": null,
   "metadata": {},
   "outputs": [],
   "source": [
    "# IO path \n",
    "base_path = '/home/unix/jiahao/wanglab/Data/Analyzed/2023-10-01-Jiahao-Test/mAD_64/02_pp/'\n",
    "out_path = os.path.join(base_path, 'expr')\n",
    "if not os.path.exists(out_path):\n",
    "    os.mkdir(out_path)\n",
    "    \n",
    "image_path = os.path.join(base_path, 'images/merged/raw_max')\n",
    "signal_path = os.path.join(base_path, 'signal')"
   ]
  },
  {
   "cell_type": "code",
   "execution_count": null,
   "metadata": {},
   "outputs": [],
   "source": [
    "# Load reads \n",
    "current_fov_id = 'tile_1'\n",
    "current_reads_df = pd.read_csv(os.path.join(signal_path, f'{current_fov_id}_goodSpots.csv'))\n",
    "current_reads_df['x'] = current_reads_df['x'] - 1\n",
    "current_reads_df['y'] = current_reads_df['y'] - 1\n",
    "current_reads_df['z'] = current_reads_df['z'] - 1\n",
    "current_reads_df"
   ]
  },
  {
   "cell_type": "code",
   "execution_count": null,
   "metadata": {},
   "outputs": [],
   "source": [
    "# Load overlay image \n",
    "overlay = imread(os.path.join(image_path, 'overlay.tif'))\n",
    "overlay.shape\n",
    "\n",
    "# Load dapi label\n",
    "dapi = imread(os.path.join(image_path, 'dapi_label.tif'))\n",
    "dapi.shape\n",
    "\n",
    "# Get cell locations \n",
    "centroids = []\n",
    "areas = []\n",
    "\n",
    "for i, region in enumerate(tqdm(regionprops(dapi))):\n",
    "    centroids.append(region.centroid)\n",
    "    areas.append(region.area)\n",
    "\n",
    "centroids = np.array(centroids)\n",
    "areas = np.array(areas)\n",
    "sns.displot(areas, bins=50)"
   ]
  },
  {
   "cell_type": "code",
   "execution_count": null,
   "metadata": {},
   "outputs": [],
   "source": [
    "# Filter nuclei by area\n",
    "lower_bd = 1000\n",
    "upper_bd = 15000\n",
    "\n",
    "# plot threshold\n",
    "fig, ax = plt.subplots()\n",
    "sns.histplot(areas)\n",
    "ax.axvline(lower_bd, c='r')\n",
    "ax.axvline(upper_bd, c='r')\n",
    "\n",
    "# plt.savefig(os.path.join(fig_path, 'reads_filtering_threshold.pdf'))\n",
    "plt.show()"
   ]
  },
  {
   "cell_type": "code",
   "execution_count": null,
   "metadata": {},
   "outputs": [],
   "source": [
    "%%time\n",
    "# Segmentation\n",
    "\n",
    "print(\"Gaussian & Thresholding\")\n",
    "overlay_blurred = gaussian(overlay, 5)\n",
    "threhold = threshold_otsu(overlay_blurred)\n",
    "overlay_bw = overlay_blurred > threhold\n",
    "overlay_bw = binary_dilation(overlay_bw, footprint=disk(10))\n",
    "\n",
    "print(\"Assigning markers\")\n",
    "centroids = centroids.astype(int)\n",
    "markers = np.zeros(overlay_bw.shape, dtype=np.uint8)\n",
    "for i in range(centroids.shape[0]):\n",
    "    x, y = centroids[i, :]\n",
    "    if x < overlay_bw.shape[0] and y < overlay_bw.shape[1]:\n",
    "        markers[x-1, y-1] = 1\n",
    "markers = ndi.label(markers)[0]\n",
    "\n",
    "print(\"Watershed\")\n",
    "labels = watershed(overlay_bw, markers, mask=overlay_bw, watershed_line=True)\n",
    "print(f\"Labeled {len(np.unique(labels)) - 1} cells\")\n",
    "\n",
    "plt.figure(figsize=(10,20))\n",
    "plt.imshow(labels)\n",
    "\n",
    "print(f\"Saving files to {image_path}\")\n",
    "imwrite(os.path.join(image_path,  \"labeled_cells.tif\"), labels.astype(np.uint16))"
   ]
  },
  {
   "cell_type": "code",
   "execution_count": null,
   "metadata": {},
   "outputs": [],
   "source": [
    "figsize = (np.floor(dapi.shape[1] / 1000 * 5), np.floor(dapi.shape[0] / 1000 * 5))\n",
    "figsize"
   ]
  },
  {
   "cell_type": "code",
   "execution_count": null,
   "metadata": {},
   "outputs": [],
   "source": [
    "# Plot cell number \n",
    "t_size = 10\n",
    "plt.figure(figsize=figsize)\n",
    "plt.imshow(overlay)\n",
    "for i, region in enumerate(regionprops(labels)):\n",
    "    plt.plot(region.centroid[1], region.centroid[0], '.', color='red', markersize=4)\n",
    "    plt.text(region.centroid[1], region.centroid[0], str(i), fontsize=t_size, color='red')\n",
    "\n",
    "plt.axis('off')\n",
    "plt.savefig(os.path.join(image_path, \"cell_nums.png\"))\n",
    "plt.clf()\n",
    "plt.close()"
   ]
  },
  {
   "cell_type": "code",
   "execution_count": null,
   "metadata": {},
   "outputs": [],
   "source": [
    "# Plot dots on segmentation mask\n",
    "plt.figure(figsize=figsize)\n",
    "plt.imshow(labels > 0, cmap='gray')\n",
    "plt.plot(current_reads_df['x'], current_reads_df['y'], '.', color='red', markersize=1)\n",
    "plt.axis('off')\n",
    "points_seg_path = os.path.join(image_path, \"points_seg.png\")\n",
    "print(f\"Saving points_seg.png\")\n",
    "plt.savefig(points_seg_path)\n",
    "plt.clf()\n",
    "plt.close()"
   ]
  },
  {
   "cell_type": "code",
   "execution_count": null,
   "metadata": {},
   "outputs": [],
   "source": [
    "genes_df = pd.read_csv(os.path.join(base_path, \"genes.csv\"), header=None)\n",
    "genes_df.columns = ['Gene', 'Barcode']\n",
    "genes_df"
   ]
  },
  {
   "cell_type": "code",
   "execution_count": null,
   "metadata": {},
   "outputs": [],
   "source": [
    "%%time\n",
    "# Reads assignment to cell (new)\n",
    "expr_out_path = os.path.join(out_path, current_fov_id)\n",
    "if not os.path.exists(expr_out_path):\n",
    "    os.mkdir(expr_out_path)\n",
    "        \n",
    "points = current_reads_df.loc[:, [\"x\", \"y\"]].values\n",
    "bases = current_reads_df['gene'].values\n",
    "reads_assignment = labels[points[:, 1], points[:, 0]]\n",
    "    \n",
    "cell_locs = []\n",
    "total_cells = len(np.unique(labels)) - 1\n",
    "areas = []\n",
    "seg_labels = []\n",
    "\n",
    "genes = genes_df['Gene'].values\n",
    "cell_by_gene = np.zeros((total_cells, len(genes)))\n",
    "gene_seq_to_index = {}  # map from sequence to index into matrix\n",
    "\n",
    "for i, k in enumerate(genes):\n",
    "    gene_seq_to_index[k] = i\n",
    "    \n",
    "# Iterate through cells\n",
    "print('Iterate cells...')\n",
    "for i, region in enumerate(tqdm(regionprops(labels))):\n",
    "    # print(region.label)\n",
    "    areas.append(region.area)\n",
    "    cell_locs.append(region.centroid)\n",
    "    seg_labels.append(region.label)\n",
    "    \n",
    "    assigned_reads = bases[np.argwhere(reads_assignment == region.label).flatten()]\n",
    "    for j in assigned_reads:\n",
    "        if j in gene_seq_to_index:\n",
    "            cell_by_gene[i, gene_seq_to_index[j]] += 1\n",
    "    \n",
    "     \n",
    "# Keep the good cells \n",
    "cell_locs = np.array(cell_locs).astype(int)\n",
    "current_meta = pd.DataFrame({'sample': current_fov_id, 'area': areas,\n",
    "                          'x':cell_locs[:, 1], 'y':cell_locs[:, 0], 'seg_label': seg_labels})\n",
    "\n",
    "# Output\n",
    "with open(os.path.join(expr_out_path, \"log.txt\"), 'w') as f:\n",
    "    msg = \"{:.2%} percent [{} out of {}] reads were assigned to {} cells\".format(cell_by_gene.sum()/len(bases), cell_by_gene.sum(), len(bases), total_cells)\n",
    "    print(msg)\n",
    "    f.write(msg)\n",
    "np.savetxt(os.path.join(expr_out_path, \"cell_barcode_count.csv\"), cell_by_gene.astype(int), delimiter=',', fmt=\"%d\")\n",
    "cell_barcode_names = pd.DataFrame({'gene': genes})\n",
    "cell_barcode_names.to_csv(os.path.join(expr_out_path, \"cell_barcode_names.csv\"), header=False)\n",
    "current_meta.to_csv(os.path.join(expr_out_path, \"meta.csv\"))\n"
   ]
  },
  {
   "cell_type": "code",
   "execution_count": null,
   "metadata": {},
   "outputs": [],
   "source": [
    "current_meta.head()"
   ]
  },
  {
   "cell_type": "code",
   "execution_count": null,
   "metadata": {},
   "outputs": [],
   "source": [
    "# Plot area distribution\n",
    "\n",
    "sns.displot(areas)"
   ]
  },
  {
   "cell_type": "code",
   "execution_count": null,
   "metadata": {},
   "outputs": [],
   "source": [
    "np.median(areas)"
   ]
  },
  {
   "cell_type": "code",
   "execution_count": null,
   "metadata": {},
   "outputs": [],
   "source": [
    "current_reads_df['assignment'] = reads_assignment\n",
    "current_reads_df['assignment_bw'] = current_reads_df['assignment'] > 0\n",
    "current_reads_df\n",
    "\n",
    "fig, ax = plt.subplots(figsize=(40,40))\n",
    "ax.imshow(labels > 0, cmap='gray')\n",
    "# plt.plot(current_reads_df['x'], current_reads_df['y'], '.', color='red', markersize=1)\n",
    "sns.scatterplot(x='x', y='y', data=current_reads_df, size=.001, marker='.', hue='assignment_bw', ax=ax, rasterized=True, linewidth=0)\n",
    "ax.axis('off')\n",
    "points_seg_path = os.path.join(image_path, \"points_assignment_no_outline.pdf\")\n",
    "plt.savefig(points_seg_path)\n",
    "# plt.show()"
   ]
  },
  {
   "cell_type": "code",
   "execution_count": null,
   "metadata": {},
   "outputs": [],
   "source": [
    "round1_amplicon = imread(os.path.join(image_path, 'round1_max_uint8.tif'))\n",
    "round1_amplicon.shape\n",
    "\n",
    "fig, ax = plt.subplots(figsize=(40,40))\n",
    "ax.imshow(round1_amplicon, cmap='gray')\n",
    "sns.scatterplot(x='x', y='y', data=current_reads_df, size=.0001, marker='.', color='red', ax=ax, rasterized=True, linewidth=0)\n",
    "ax.axis('off')\n",
    "points_seg_path = os.path.join(image_path, \"spot_finding.tif\")\n",
    "plt.savefig(points_seg_path, dpi=200)\n",
    "# plt.show()"
   ]
  },
  {
   "cell_type": "code",
   "execution_count": null,
   "metadata": {},
   "outputs": [],
   "source": [
    "fig, ax = plt.subplots(figsize=(40,40))\n",
    "ax.imshow(round1_amplicon, cmap='gray')\n",
    "sns.scatterplot(x='x', y='y', data=current_reads_df, size=.0001, marker='.', hue='gene', ax=ax, rasterized=True, linewidth=0)\n",
    "ax.axis('off')\n",
    "points_seg_path = os.path.join(image_path, \"spot_finding_gene.tif\")\n",
    "plt.savefig(points_seg_path, dpi=200)\n",
    "# plt.show()"
   ]
  },
  {
   "cell_type": "code",
   "execution_count": null,
   "metadata": {},
   "outputs": [],
   "source": [
    "overlay_with_label = imread(os.path.join(image_path, 'overlay_with_label.tif'))\n",
    "\n",
    "fig, ax = plt.subplots(figsize=(40,40))\n",
    "ax.imshow(overlay_with_label)\n",
    "sns.scatterplot(x='x', y='y', data=current_reads_df, size=.0001, marker='.', hue='gene', ax=ax, rasterized=True, linewidth=0)\n",
    "ax.axis('off')\n",
    "points_seg_path = os.path.join(image_path, \"reads_assignment.tif\")\n",
    "plt.savefig(points_seg_path, dpi=200)\n",
    "# plt.show()"
   ]
  },
  {
   "cell_type": "code",
   "execution_count": null,
   "metadata": {},
   "outputs": [],
   "source": [
    "current_reads_df['assignment'] = current_reads_df['assignment'].astype('category')\n",
    "current_pl = sns.color_palette(['#c9c9c9', '#1f78b4', '#33a02c', '#e31a1c', '#ff7f00', '#6a3d9a', '#a6cee3', '#b2df8a', '#fb9a99'])\n",
    "\n",
    "fig, ax = plt.subplots(figsize=(40,40))\n",
    "# ax.imshow(overlay, cmap='gray')\n",
    "ax.imshow(np.zeros([3072, 3072]), cmap='gray')\n",
    "sns.scatterplot(x='x', y='y', data=current_reads_df, size=.0001, marker='.', hue='assignment', ax=ax, rasterized=True, linewidth=0, palette=current_pl)\n",
    "ax.plot(centroids[:, 1], centroids[:, 0], '.', color='red', markersize=10)\n",
    "ax.axis('off')\n",
    "points_seg_path = os.path.join(image_path, \"clustermap.tif\")\n",
    "plt.savefig(points_seg_path, dpi=200)\n",
    "# plt.show()"
   ]
  },
  {
   "cell_type": "markdown",
   "metadata": {},
   "source": [
    "## Check expression pattern"
   ]
  },
  {
   "cell_type": "code",
   "execution_count": null,
   "metadata": {},
   "outputs": [],
   "source": [
    "# Get assigned reads \n",
    "assigned_index = np.argwhere(reads_assignment != 0).flatten()\n",
    "assigned_bases = bases[assigned_index]\n",
    "assigned_points = points[assigned_index, :]"
   ]
  },
  {
   "cell_type": "code",
   "execution_count": null,
   "metadata": {},
   "outputs": [],
   "source": [
    "selected_genes = ['Gfap', 'Mbp']\n",
    "expr_figure_out_path = os.path.join(expr_out_path, 'figures')\n",
    "if not os.path.exists(expr_figure_out_path):\n",
    "    os.mkdir(expr_figure_out_path)\n",
    "    \n",
    "for i, gene in enumerate(tqdm(selected_genes)):\n",
    "    \n",
    "    curr_index = np.argwhere(assigned_bases == gene).flatten()\n",
    "    curr_points = assigned_points[curr_index, :]\n",
    "    n_reads = curr_points.shape[0]\n",
    "\n",
    "    # Plot\n",
    "    plt.figure(figsize=(10, 10))\n",
    "    plt.imshow(overlay, cmap='gray')\n",
    "    plt.plot(curr_points[:, 0], curr_points[:, 1], '.', color='red', markersize=.5)\n",
    "    plt.axis('off')\n",
    "    expr_figure_path = os.path.join(expr_figure_out_path, f\"{i+1}.{gene}_{n_reads}.png\")\n",
    "    plt.savefig(expr_figure_path)\n",
    "    plt.clf()\n",
    "    plt.close()"
   ]
  },
  {
   "cell_type": "code",
   "execution_count": null,
   "metadata": {},
   "outputs": [],
   "source": []
  }
 ],
 "metadata": {
  "kernelspec": {
   "display_name": "starfinder",
   "language": "python",
   "name": "python3"
  },
  "language_info": {
   "codemirror_mode": {
    "name": "ipython",
    "version": 3
   },
   "file_extension": ".py",
   "mimetype": "text/x-python",
   "name": "python",
   "nbconvert_exporter": "python",
   "pygments_lexer": "ipython3",
   "version": "3.9.15"
  }
 },
 "nbformat": 4,
 "nbformat_minor": 2
}
