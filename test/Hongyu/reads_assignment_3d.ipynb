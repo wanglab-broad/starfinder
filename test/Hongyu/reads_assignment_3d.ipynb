{
 "cells": [
  {
   "cell_type": "markdown",
   "metadata": {},
   "source": [
    "# Reads assignemnt 3D"
   ]
  },
  {
   "cell_type": "code",
   "execution_count": 1,
   "metadata": {},
   "outputs": [],
   "source": [
    "import os\n",
    "import numpy as np\n",
    "import pandas as pd\n",
    "import seaborn as sns\n",
    "import matplotlib.pyplot as plt\n",
    "import matplotlib.patches as patches\n",
    "\n",
    "from tifffile import imread, imwrite\n",
    "from skimage.measure import regionprops\n",
    "from tqdm.notebook import tqdm\n",
    "from anndata import AnnData\n"
   ]
  },
  {
   "cell_type": "markdown",
   "metadata": {},
   "source": [
    "## Load the tile config"
   ]
  },
  {
   "cell_type": "code",
   "execution_count": 2,
   "metadata": {},
   "outputs": [],
   "source": [
    "base_path = '/home/unix/jiahao/wanglab/Data/Analyzed/2024-03-12-Mingrui-PFC/'\n",
    "image_path = os.path.join(base_path, 'images')\n",
    "signal_path = os.path.join(base_path, 'signal')\n",
    "output_path = os.path.join(base_path, 'output')\n",
    "expr_path = os.path.join(base_path, 'expr')\n",
    "if not os.path.exists(expr_path):\n",
    "    os.mkdir(expr_path)\n",
    "\n",
    "# morph_path = os.path.join(image_path, 'morph')\n",
    "# if not os.path.exists(morph_path):\n",
    "#     os.mkdir(morph_path)"
   ]
  },
  {
   "cell_type": "code",
   "execution_count": 166,
   "metadata": {},
   "outputs": [],
   "source": [
    "current_sample = 'sample4'\n",
    "current_tile_xml = os.path.join(image_path, \"fused/3D\", current_sample, 'DAPI', 'dataset.xml')"
   ]
  },
  {
   "cell_type": "code",
   "execution_count": 167,
   "metadata": {},
   "outputs": [
    {
     "data": {
      "text/plain": [
       "62"
      ]
     },
     "execution_count": 167,
     "metadata": {},
     "output_type": "execute_result"
    }
   ],
   "source": [
    "setup_df = pd.read_xml(current_tile_xml, xpath=\".//ViewRegistration\")\n",
    "setup_max = setup_df['setup'].max()\n",
    "setup_max"
   ]
  },
  {
   "cell_type": "code",
   "execution_count": 168,
   "metadata": {},
   "outputs": [
    {
     "data": {
      "text/plain": [
       "array([ 0,  0,  0,  1,  1,  1,  2,  2,  2,  3,  3,  3,  4,  4,  4,  5,  5,\n",
       "        5,  6,  6,  6,  7,  7,  7,  8,  8,  8,  9,  9,  9, 10, 10, 10, 11,\n",
       "       11, 11, 12, 12, 12, 13, 13, 13, 14, 14, 14, 15, 15, 15, 16, 16, 16,\n",
       "       17, 17, 17, 18, 18, 18, 19, 19, 19, 20, 20, 20, 21, 21, 21, 22, 22,\n",
       "       22, 23, 23, 23, 24, 24, 24, 25, 25, 25, 26, 26, 26, 27, 27, 27, 28,\n",
       "       28, 28, 29, 29, 29, 30, 30, 30, 31, 31, 31, 32, 32, 32, 33, 33, 33,\n",
       "       34, 34, 34, 35, 35, 35, 36, 36, 36, 37, 37, 37, 38, 38, 38, 39, 39,\n",
       "       39, 40, 40, 40, 41, 41, 41, 42, 42, 42, 43, 43, 43, 44, 44, 44, 45,\n",
       "       45, 45, 46, 46, 46, 47, 47, 47, 48, 48, 48, 49, 49, 49, 50, 50, 50,\n",
       "       51, 51, 51, 52, 52, 52, 53, 53, 53, 54, 54, 54, 55, 55, 55, 56, 56,\n",
       "       56, 57, 57, 57, 58, 58, 58, 59, 59, 59, 60, 60, 60, 61, 61, 61, 62,\n",
       "       62, 62])"
      ]
     },
     "execution_count": 168,
     "metadata": {},
     "output_type": "execute_result"
    }
   ],
   "source": [
    "setup_list = []\n",
    "for i in range(setup_max+1):\n",
    "    setup_list.append([i] * 3)\n",
    "setup_list = np.array(setup_list).flatten()\n",
    "setup_list"
   ]
  },
  {
   "cell_type": "code",
   "execution_count": 169,
   "metadata": {},
   "outputs": [],
   "source": [
    "transform_df = pd.read_xml(current_tile_xml, xpath=\".//ViewTransform\")\n",
    "transform_df['setup'] = setup_list\n",
    "transform_df = transform_df.pivot(index='setup', columns='Name', values='affine')\n",
    "transform_df = transform_df.loc[:, [\"Stitching Transform\", \"Translation to Regular Grid\"]]\n",
    "transform_df['x_st'] = transform_df[\"Stitching Transform\"].str.split(' ').apply(lambda x: x[3]).astype(float)\n",
    "transform_df['y_st'] = transform_df[\"Stitching Transform\"].str.split(' ').apply(lambda x: x[7]).astype(float)\n",
    "transform_df['z_st'] = transform_df[\"Stitching Transform\"].str.split(' ').apply(lambda x: x[11]).astype(float)\n",
    "\n",
    "transform_df['x_trg'] = transform_df[\"Translation to Regular Grid\"].str.split(' ').apply(lambda x: x[3]).astype(float)\n",
    "transform_df['y_trg'] = transform_df[\"Translation to Regular Grid\"].str.split(' ').apply(lambda x: x[7]).astype(float)\n",
    "transform_df['z_trg'] = transform_df[\"Translation to Regular Grid\"].str.split(' ').apply(lambda x: x[11]).astype(float)\n",
    "\n",
    "transform_df['x'] = transform_df['x_st'] + transform_df['x_trg']\n",
    "transform_df['y'] = transform_df['y_st'] + transform_df['y_trg']\n",
    "transform_df['z'] = transform_df['z_st'] + transform_df['z_trg']\n",
    "\n",
    "transform_df['x'] = transform_df['x'].astype(int)\n",
    "transform_df['y'] = transform_df['y'].astype(int)\n",
    "transform_df['z'] = transform_df['z'].astype(int)\n",
    "\n",
    "transform_df['x'] = transform_df['x'] + np.abs(transform_df['x'].min())\n",
    "transform_df['y'] = transform_df['y'] + np.abs(transform_df['y'].min())\n",
    "transform_df['z'] = transform_df['z'] + np.abs(transform_df['z'].min())\n",
    "transform_df['fov_index'] = transform_df.index\n",
    "\n",
    "transform_df = transform_df.loc[:, ['x', 'y', 'z', 'fov_index']]"
   ]
  },
  {
   "cell_type": "code",
   "execution_count": 170,
   "metadata": {},
   "outputs": [
    {
     "data": {
      "text/html": [
       "<div>\n",
       "<style scoped>\n",
       "    .dataframe tbody tr th:only-of-type {\n",
       "        vertical-align: middle;\n",
       "    }\n",
       "\n",
       "    .dataframe tbody tr th {\n",
       "        vertical-align: top;\n",
       "    }\n",
       "\n",
       "    .dataframe thead th {\n",
       "        text-align: right;\n",
       "    }\n",
       "</style>\n",
       "<table border=\"1\" class=\"dataframe\">\n",
       "  <thead>\n",
       "    <tr style=\"text-align: right;\">\n",
       "      <th>Name</th>\n",
       "      <th>x</th>\n",
       "      <th>y</th>\n",
       "      <th>z</th>\n",
       "      <th>fov_index</th>\n",
       "    </tr>\n",
       "    <tr>\n",
       "      <th>setup</th>\n",
       "      <th></th>\n",
       "      <th></th>\n",
       "      <th></th>\n",
       "      <th></th>\n",
       "    </tr>\n",
       "  </thead>\n",
       "  <tbody>\n",
       "    <tr>\n",
       "      <th>0</th>\n",
       "      <td>4</td>\n",
       "      <td>2</td>\n",
       "      <td>15</td>\n",
       "      <td>0</td>\n",
       "    </tr>\n",
       "    <tr>\n",
       "      <th>1</th>\n",
       "      <td>11</td>\n",
       "      <td>1350</td>\n",
       "      <td>15</td>\n",
       "      <td>1</td>\n",
       "    </tr>\n",
       "    <tr>\n",
       "      <th>2</th>\n",
       "      <td>10</td>\n",
       "      <td>2699</td>\n",
       "      <td>14</td>\n",
       "      <td>2</td>\n",
       "    </tr>\n",
       "    <tr>\n",
       "      <th>3</th>\n",
       "      <td>9</td>\n",
       "      <td>4055</td>\n",
       "      <td>12</td>\n",
       "      <td>3</td>\n",
       "    </tr>\n",
       "    <tr>\n",
       "      <th>4</th>\n",
       "      <td>9</td>\n",
       "      <td>5409</td>\n",
       "      <td>11</td>\n",
       "      <td>4</td>\n",
       "    </tr>\n",
       "    <tr>\n",
       "      <th>...</th>\n",
       "      <td>...</td>\n",
       "      <td>...</td>\n",
       "      <td>...</td>\n",
       "      <td>...</td>\n",
       "    </tr>\n",
       "    <tr>\n",
       "      <th>58</th>\n",
       "      <td>10720</td>\n",
       "      <td>2739</td>\n",
       "      <td>4</td>\n",
       "      <td>58</td>\n",
       "    </tr>\n",
       "    <tr>\n",
       "      <th>59</th>\n",
       "      <td>10720</td>\n",
       "      <td>4093</td>\n",
       "      <td>4</td>\n",
       "      <td>59</td>\n",
       "    </tr>\n",
       "    <tr>\n",
       "      <th>60</th>\n",
       "      <td>10723</td>\n",
       "      <td>5446</td>\n",
       "      <td>3</td>\n",
       "      <td>60</td>\n",
       "    </tr>\n",
       "    <tr>\n",
       "      <th>61</th>\n",
       "      <td>10724</td>\n",
       "      <td>6800</td>\n",
       "      <td>3</td>\n",
       "      <td>61</td>\n",
       "    </tr>\n",
       "    <tr>\n",
       "      <th>62</th>\n",
       "      <td>10730</td>\n",
       "      <td>8144</td>\n",
       "      <td>3</td>\n",
       "      <td>62</td>\n",
       "    </tr>\n",
       "  </tbody>\n",
       "</table>\n",
       "<p>63 rows × 4 columns</p>\n",
       "</div>"
      ],
      "text/plain": [
       "Name       x     y   z  fov_index\n",
       "setup                            \n",
       "0          4     2  15          0\n",
       "1         11  1350  15          1\n",
       "2         10  2699  14          2\n",
       "3          9  4055  12          3\n",
       "4          9  5409  11          4\n",
       "...      ...   ...  ..        ...\n",
       "58     10720  2739   4         58\n",
       "59     10720  4093   4         59\n",
       "60     10723  5446   3         60\n",
       "61     10724  6800   3         61\n",
       "62     10730  8144   3         62\n",
       "\n",
       "[63 rows x 4 columns]"
      ]
     },
     "execution_count": 170,
     "metadata": {},
     "output_type": "execute_result"
    }
   ],
   "source": [
    "transform_df"
   ]
  },
  {
   "cell_type": "code",
   "execution_count": 171,
   "metadata": {},
   "outputs": [
    {
     "data": {
      "text/html": [
       "<div>\n",
       "<style scoped>\n",
       "    .dataframe tbody tr th:only-of-type {\n",
       "        vertical-align: middle;\n",
       "    }\n",
       "\n",
       "    .dataframe tbody tr th {\n",
       "        vertical-align: top;\n",
       "    }\n",
       "\n",
       "    .dataframe thead th {\n",
       "        text-align: right;\n",
       "    }\n",
       "</style>\n",
       "<table border=\"1\" class=\"dataframe\">\n",
       "  <thead>\n",
       "    <tr style=\"text-align: right;\">\n",
       "      <th></th>\n",
       "      <th>col</th>\n",
       "      <th>row</th>\n",
       "      <th>id</th>\n",
       "      <th>grid</th>\n",
       "    </tr>\n",
       "  </thead>\n",
       "  <tbody>\n",
       "    <tr>\n",
       "      <th>0</th>\n",
       "      <td>0</td>\n",
       "      <td>0</td>\n",
       "      <td>0</td>\n",
       "      <td>tile_0_0</td>\n",
       "    </tr>\n",
       "    <tr>\n",
       "      <th>1</th>\n",
       "      <td>0</td>\n",
       "      <td>1</td>\n",
       "      <td>190</td>\n",
       "      <td>tile_1_0</td>\n",
       "    </tr>\n",
       "    <tr>\n",
       "      <th>2</th>\n",
       "      <td>0</td>\n",
       "      <td>2</td>\n",
       "      <td>191</td>\n",
       "      <td>tile_2_0</td>\n",
       "    </tr>\n",
       "    <tr>\n",
       "      <th>3</th>\n",
       "      <td>0</td>\n",
       "      <td>3</td>\n",
       "      <td>192</td>\n",
       "      <td>tile_3_0</td>\n",
       "    </tr>\n",
       "    <tr>\n",
       "      <th>4</th>\n",
       "      <td>0</td>\n",
       "      <td>4</td>\n",
       "      <td>193</td>\n",
       "      <td>tile_4_0</td>\n",
       "    </tr>\n",
       "    <tr>\n",
       "      <th>...</th>\n",
       "      <td>...</td>\n",
       "      <td>...</td>\n",
       "      <td>...</td>\n",
       "      <td>...</td>\n",
       "    </tr>\n",
       "    <tr>\n",
       "      <th>58</th>\n",
       "      <td>8</td>\n",
       "      <td>2</td>\n",
       "      <td>242</td>\n",
       "      <td>tile_2_8</td>\n",
       "    </tr>\n",
       "    <tr>\n",
       "      <th>59</th>\n",
       "      <td>8</td>\n",
       "      <td>3</td>\n",
       "      <td>243</td>\n",
       "      <td>tile_3_8</td>\n",
       "    </tr>\n",
       "    <tr>\n",
       "      <th>60</th>\n",
       "      <td>8</td>\n",
       "      <td>4</td>\n",
       "      <td>244</td>\n",
       "      <td>tile_4_8</td>\n",
       "    </tr>\n",
       "    <tr>\n",
       "      <th>61</th>\n",
       "      <td>8</td>\n",
       "      <td>5</td>\n",
       "      <td>245</td>\n",
       "      <td>tile_5_8</td>\n",
       "    </tr>\n",
       "    <tr>\n",
       "      <th>62</th>\n",
       "      <td>8</td>\n",
       "      <td>6</td>\n",
       "      <td>0</td>\n",
       "      <td>tile_6_8</td>\n",
       "    </tr>\n",
       "  </tbody>\n",
       "</table>\n",
       "<p>63 rows × 4 columns</p>\n",
       "</div>"
      ],
      "text/plain": [
       "    col  row   id      grid\n",
       "0     0    0    0  tile_0_0\n",
       "1     0    1  190  tile_1_0\n",
       "2     0    2  191  tile_2_0\n",
       "3     0    3  192  tile_3_0\n",
       "4     0    4  193  tile_4_0\n",
       "..  ...  ...  ...       ...\n",
       "58    8    2  242  tile_2_8\n",
       "59    8    3  243  tile_3_8\n",
       "60    8    4  244  tile_4_8\n",
       "61    8    5  245  tile_5_8\n",
       "62    8    6    0  tile_6_8\n",
       "\n",
       "[63 rows x 4 columns]"
      ]
     },
     "execution_count": 171,
     "metadata": {},
     "output_type": "execute_result"
    }
   ],
   "source": [
    "grid_file = os.path.join(image_path, \"fused/3D\", current_sample, 'grid.csv')\n",
    "grid_df = pd.read_csv(grid_file, index_col=0)\n",
    "grid_df"
   ]
  },
  {
   "cell_type": "code",
   "execution_count": 172,
   "metadata": {},
   "outputs": [
    {
     "data": {
      "text/html": [
       "<div>\n",
       "<style scoped>\n",
       "    .dataframe tbody tr th:only-of-type {\n",
       "        vertical-align: middle;\n",
       "    }\n",
       "\n",
       "    .dataframe tbody tr th {\n",
       "        vertical-align: top;\n",
       "    }\n",
       "\n",
       "    .dataframe thead th {\n",
       "        text-align: right;\n",
       "    }\n",
       "</style>\n",
       "<table border=\"1\" class=\"dataframe\">\n",
       "  <thead>\n",
       "    <tr style=\"text-align: right;\">\n",
       "      <th></th>\n",
       "      <th>x</th>\n",
       "      <th>y</th>\n",
       "      <th>z</th>\n",
       "      <th>fov_index</th>\n",
       "      <th>col</th>\n",
       "      <th>row</th>\n",
       "      <th>id</th>\n",
       "      <th>grid</th>\n",
       "    </tr>\n",
       "  </thead>\n",
       "  <tbody>\n",
       "    <tr>\n",
       "      <th>0</th>\n",
       "      <td>4</td>\n",
       "      <td>2</td>\n",
       "      <td>15</td>\n",
       "      <td>0</td>\n",
       "      <td>0</td>\n",
       "      <td>0</td>\n",
       "      <td>0</td>\n",
       "      <td>tile_0_0</td>\n",
       "    </tr>\n",
       "    <tr>\n",
       "      <th>1</th>\n",
       "      <td>11</td>\n",
       "      <td>1350</td>\n",
       "      <td>15</td>\n",
       "      <td>1</td>\n",
       "      <td>0</td>\n",
       "      <td>1</td>\n",
       "      <td>190</td>\n",
       "      <td>tile_1_0</td>\n",
       "    </tr>\n",
       "    <tr>\n",
       "      <th>2</th>\n",
       "      <td>10</td>\n",
       "      <td>2699</td>\n",
       "      <td>14</td>\n",
       "      <td>2</td>\n",
       "      <td>0</td>\n",
       "      <td>2</td>\n",
       "      <td>191</td>\n",
       "      <td>tile_2_0</td>\n",
       "    </tr>\n",
       "    <tr>\n",
       "      <th>3</th>\n",
       "      <td>9</td>\n",
       "      <td>4055</td>\n",
       "      <td>12</td>\n",
       "      <td>3</td>\n",
       "      <td>0</td>\n",
       "      <td>3</td>\n",
       "      <td>192</td>\n",
       "      <td>tile_3_0</td>\n",
       "    </tr>\n",
       "    <tr>\n",
       "      <th>4</th>\n",
       "      <td>9</td>\n",
       "      <td>5409</td>\n",
       "      <td>11</td>\n",
       "      <td>4</td>\n",
       "      <td>0</td>\n",
       "      <td>4</td>\n",
       "      <td>193</td>\n",
       "      <td>tile_4_0</td>\n",
       "    </tr>\n",
       "    <tr>\n",
       "      <th>...</th>\n",
       "      <td>...</td>\n",
       "      <td>...</td>\n",
       "      <td>...</td>\n",
       "      <td>...</td>\n",
       "      <td>...</td>\n",
       "      <td>...</td>\n",
       "      <td>...</td>\n",
       "      <td>...</td>\n",
       "    </tr>\n",
       "    <tr>\n",
       "      <th>58</th>\n",
       "      <td>10720</td>\n",
       "      <td>2739</td>\n",
       "      <td>4</td>\n",
       "      <td>58</td>\n",
       "      <td>8</td>\n",
       "      <td>2</td>\n",
       "      <td>242</td>\n",
       "      <td>tile_2_8</td>\n",
       "    </tr>\n",
       "    <tr>\n",
       "      <th>59</th>\n",
       "      <td>10720</td>\n",
       "      <td>4093</td>\n",
       "      <td>4</td>\n",
       "      <td>59</td>\n",
       "      <td>8</td>\n",
       "      <td>3</td>\n",
       "      <td>243</td>\n",
       "      <td>tile_3_8</td>\n",
       "    </tr>\n",
       "    <tr>\n",
       "      <th>60</th>\n",
       "      <td>10723</td>\n",
       "      <td>5446</td>\n",
       "      <td>3</td>\n",
       "      <td>60</td>\n",
       "      <td>8</td>\n",
       "      <td>4</td>\n",
       "      <td>244</td>\n",
       "      <td>tile_4_8</td>\n",
       "    </tr>\n",
       "    <tr>\n",
       "      <th>61</th>\n",
       "      <td>10724</td>\n",
       "      <td>6800</td>\n",
       "      <td>3</td>\n",
       "      <td>61</td>\n",
       "      <td>8</td>\n",
       "      <td>5</td>\n",
       "      <td>245</td>\n",
       "      <td>tile_5_8</td>\n",
       "    </tr>\n",
       "    <tr>\n",
       "      <th>62</th>\n",
       "      <td>10730</td>\n",
       "      <td>8144</td>\n",
       "      <td>3</td>\n",
       "      <td>62</td>\n",
       "      <td>8</td>\n",
       "      <td>6</td>\n",
       "      <td>0</td>\n",
       "      <td>tile_6_8</td>\n",
       "    </tr>\n",
       "  </tbody>\n",
       "</table>\n",
       "<p>63 rows × 8 columns</p>\n",
       "</div>"
      ],
      "text/plain": [
       "        x     y   z  fov_index  col  row   id      grid\n",
       "0       4     2  15          0    0    0    0  tile_0_0\n",
       "1      11  1350  15          1    0    1  190  tile_1_0\n",
       "2      10  2699  14          2    0    2  191  tile_2_0\n",
       "3       9  4055  12          3    0    3  192  tile_3_0\n",
       "4       9  5409  11          4    0    4  193  tile_4_0\n",
       "..    ...   ...  ..        ...  ...  ...  ...       ...\n",
       "58  10720  2739   4         58    8    2  242  tile_2_8\n",
       "59  10720  4093   4         59    8    3  243  tile_3_8\n",
       "60  10723  5446   3         60    8    4  244  tile_4_8\n",
       "61  10724  6800   3         61    8    5  245  tile_5_8\n",
       "62  10730  8144   3         62    8    6    0  tile_6_8\n",
       "\n",
       "[63 rows x 8 columns]"
      ]
     },
     "execution_count": 172,
     "metadata": {},
     "output_type": "execute_result"
    }
   ],
   "source": [
    "tile_config_df = pd.concat([transform_df, grid_df], axis=1)\n",
    "tile_config_df"
   ]
  },
  {
   "cell_type": "code",
   "execution_count": 173,
   "metadata": {},
   "outputs": [
    {
     "data": {
      "application/vnd.plotly.v1+json": {
       "config": {
        "plotlyServerURL": "https://plot.ly"
       },
       "data": [
        {
         "hovertemplate": "x=%{x}<br>y=%{y}<br>z=%{z}<br>id=%{marker.color}<extra></extra>",
         "legendgroup": "",
         "marker": {
          "color": [
           0,
           190,
           191,
           192,
           193,
           0,
           0,
           194,
           195,
           196,
           197,
           198,
           199,
           0,
           200,
           201,
           202,
           203,
           204,
           205,
           206,
           207,
           208,
           209,
           210,
           211,
           212,
           213,
           214,
           215,
           216,
           217,
           218,
           219,
           220,
           221,
           222,
           223,
           224,
           225,
           226,
           227,
           228,
           229,
           230,
           231,
           232,
           233,
           234,
           235,
           236,
           237,
           238,
           239,
           240,
           241,
           0,
           0,
           242,
           243,
           244,
           245,
           0
          ],
          "coloraxis": "coloraxis",
          "size": 5,
          "symbol": "circle"
         },
         "mode": "markers",
         "name": "",
         "scene": "scene",
         "showlegend": false,
         "type": "scatter3d",
         "x": [
          4,
          11,
          10,
          9,
          9,
          2,
          0,
          1347,
          1347,
          1349,
          1349,
          1349,
          1346,
          1344,
          2688,
          2689,
          2689,
          2689,
          2689,
          2689,
          2685,
          4023,
          4023,
          4024,
          4024,
          4024,
          4025,
          4023,
          5366,
          5366,
          5365,
          5365,
          5365,
          5368,
          5364,
          6701,
          6699,
          6701,
          6700,
          6701,
          6704,
          6701,
          8044,
          8041,
          8041,
          8041,
          8041,
          8046,
          8044,
          9384,
          9383,
          9381,
          9381,
          9384,
          9387,
          9388,
          10729,
          10727,
          10720,
          10720,
          10723,
          10724,
          10730
         ],
         "y": [
          2,
          1350,
          2699,
          4055,
          5409,
          6764,
          8113,
          0,
          1350,
          2703,
          4060,
          5414,
          6767,
          8115,
          5,
          1355,
          2707,
          4065,
          5418,
          6772,
          8123,
          9,
          1360,
          2713,
          4070,
          5424,
          6776,
          8129,
          16,
          1364,
          2717,
          4074,
          5428,
          6782,
          8134,
          21,
          1369,
          2722,
          4080,
          5433,
          6786,
          8138,
          24,
          1373,
          2726,
          4084,
          5437,
          6789,
          8141,
          28,
          1376,
          2731,
          4088,
          5441,
          6794,
          8145,
          31,
          1381,
          2739,
          4093,
          5446,
          6800,
          8144
         ],
         "z": [
          15,
          15,
          14,
          12,
          11,
          8,
          6,
          14,
          15,
          12,
          12,
          10,
          5,
          5,
          16,
          13,
          11,
          11,
          7,
          6,
          2,
          14,
          11,
          11,
          10,
          7,
          6,
          2,
          14,
          12,
          11,
          8,
          6,
          5,
          2,
          13,
          10,
          10,
          6,
          5,
          6,
          1,
          13,
          9,
          8,
          4,
          5,
          5,
          1,
          13,
          8,
          6,
          3,
          4,
          5,
          0,
          10,
          8,
          4,
          4,
          3,
          3,
          3
         ]
        }
       ],
       "layout": {
        "coloraxis": {
         "colorbar": {
          "title": {
           "text": "id"
          }
         },
         "colorscale": [
          [
           0,
           "#0d0887"
          ],
          [
           0.1111111111111111,
           "#46039f"
          ],
          [
           0.2222222222222222,
           "#7201a8"
          ],
          [
           0.3333333333333333,
           "#9c179e"
          ],
          [
           0.4444444444444444,
           "#bd3786"
          ],
          [
           0.5555555555555556,
           "#d8576b"
          ],
          [
           0.6666666666666666,
           "#ed7953"
          ],
          [
           0.7777777777777778,
           "#fb9f3a"
          ],
          [
           0.8888888888888888,
           "#fdca26"
          ],
          [
           1,
           "#f0f921"
          ]
         ]
        },
        "legend": {
         "tracegroupgap": 0
        },
        "margin": {
         "t": 60
        },
        "scene": {
         "domain": {
          "x": [
           0,
           1
          ],
          "y": [
           0,
           1
          ]
         },
         "xaxis": {
          "autorange": "reversed",
          "title": {
           "text": "x"
          }
         },
         "yaxis": {
          "title": {
           "text": "y"
          }
         },
         "zaxis": {
          "autorange": "reversed",
          "title": {
           "text": "z"
          }
         }
        },
        "template": {
         "data": {
          "bar": [
           {
            "error_x": {
             "color": "#2a3f5f"
            },
            "error_y": {
             "color": "#2a3f5f"
            },
            "marker": {
             "line": {
              "color": "#E5ECF6",
              "width": 0.5
             },
             "pattern": {
              "fillmode": "overlay",
              "size": 10,
              "solidity": 0.2
             }
            },
            "type": "bar"
           }
          ],
          "barpolar": [
           {
            "marker": {
             "line": {
              "color": "#E5ECF6",
              "width": 0.5
             },
             "pattern": {
              "fillmode": "overlay",
              "size": 10,
              "solidity": 0.2
             }
            },
            "type": "barpolar"
           }
          ],
          "carpet": [
           {
            "aaxis": {
             "endlinecolor": "#2a3f5f",
             "gridcolor": "white",
             "linecolor": "white",
             "minorgridcolor": "white",
             "startlinecolor": "#2a3f5f"
            },
            "baxis": {
             "endlinecolor": "#2a3f5f",
             "gridcolor": "white",
             "linecolor": "white",
             "minorgridcolor": "white",
             "startlinecolor": "#2a3f5f"
            },
            "type": "carpet"
           }
          ],
          "choropleth": [
           {
            "colorbar": {
             "outlinewidth": 0,
             "ticks": ""
            },
            "type": "choropleth"
           }
          ],
          "contour": [
           {
            "colorbar": {
             "outlinewidth": 0,
             "ticks": ""
            },
            "colorscale": [
             [
              0,
              "#0d0887"
             ],
             [
              0.1111111111111111,
              "#46039f"
             ],
             [
              0.2222222222222222,
              "#7201a8"
             ],
             [
              0.3333333333333333,
              "#9c179e"
             ],
             [
              0.4444444444444444,
              "#bd3786"
             ],
             [
              0.5555555555555556,
              "#d8576b"
             ],
             [
              0.6666666666666666,
              "#ed7953"
             ],
             [
              0.7777777777777778,
              "#fb9f3a"
             ],
             [
              0.8888888888888888,
              "#fdca26"
             ],
             [
              1,
              "#f0f921"
             ]
            ],
            "type": "contour"
           }
          ],
          "contourcarpet": [
           {
            "colorbar": {
             "outlinewidth": 0,
             "ticks": ""
            },
            "type": "contourcarpet"
           }
          ],
          "heatmap": [
           {
            "colorbar": {
             "outlinewidth": 0,
             "ticks": ""
            },
            "colorscale": [
             [
              0,
              "#0d0887"
             ],
             [
              0.1111111111111111,
              "#46039f"
             ],
             [
              0.2222222222222222,
              "#7201a8"
             ],
             [
              0.3333333333333333,
              "#9c179e"
             ],
             [
              0.4444444444444444,
              "#bd3786"
             ],
             [
              0.5555555555555556,
              "#d8576b"
             ],
             [
              0.6666666666666666,
              "#ed7953"
             ],
             [
              0.7777777777777778,
              "#fb9f3a"
             ],
             [
              0.8888888888888888,
              "#fdca26"
             ],
             [
              1,
              "#f0f921"
             ]
            ],
            "type": "heatmap"
           }
          ],
          "heatmapgl": [
           {
            "colorbar": {
             "outlinewidth": 0,
             "ticks": ""
            },
            "colorscale": [
             [
              0,
              "#0d0887"
             ],
             [
              0.1111111111111111,
              "#46039f"
             ],
             [
              0.2222222222222222,
              "#7201a8"
             ],
             [
              0.3333333333333333,
              "#9c179e"
             ],
             [
              0.4444444444444444,
              "#bd3786"
             ],
             [
              0.5555555555555556,
              "#d8576b"
             ],
             [
              0.6666666666666666,
              "#ed7953"
             ],
             [
              0.7777777777777778,
              "#fb9f3a"
             ],
             [
              0.8888888888888888,
              "#fdca26"
             ],
             [
              1,
              "#f0f921"
             ]
            ],
            "type": "heatmapgl"
           }
          ],
          "histogram": [
           {
            "marker": {
             "pattern": {
              "fillmode": "overlay",
              "size": 10,
              "solidity": 0.2
             }
            },
            "type": "histogram"
           }
          ],
          "histogram2d": [
           {
            "colorbar": {
             "outlinewidth": 0,
             "ticks": ""
            },
            "colorscale": [
             [
              0,
              "#0d0887"
             ],
             [
              0.1111111111111111,
              "#46039f"
             ],
             [
              0.2222222222222222,
              "#7201a8"
             ],
             [
              0.3333333333333333,
              "#9c179e"
             ],
             [
              0.4444444444444444,
              "#bd3786"
             ],
             [
              0.5555555555555556,
              "#d8576b"
             ],
             [
              0.6666666666666666,
              "#ed7953"
             ],
             [
              0.7777777777777778,
              "#fb9f3a"
             ],
             [
              0.8888888888888888,
              "#fdca26"
             ],
             [
              1,
              "#f0f921"
             ]
            ],
            "type": "histogram2d"
           }
          ],
          "histogram2dcontour": [
           {
            "colorbar": {
             "outlinewidth": 0,
             "ticks": ""
            },
            "colorscale": [
             [
              0,
              "#0d0887"
             ],
             [
              0.1111111111111111,
              "#46039f"
             ],
             [
              0.2222222222222222,
              "#7201a8"
             ],
             [
              0.3333333333333333,
              "#9c179e"
             ],
             [
              0.4444444444444444,
              "#bd3786"
             ],
             [
              0.5555555555555556,
              "#d8576b"
             ],
             [
              0.6666666666666666,
              "#ed7953"
             ],
             [
              0.7777777777777778,
              "#fb9f3a"
             ],
             [
              0.8888888888888888,
              "#fdca26"
             ],
             [
              1,
              "#f0f921"
             ]
            ],
            "type": "histogram2dcontour"
           }
          ],
          "mesh3d": [
           {
            "colorbar": {
             "outlinewidth": 0,
             "ticks": ""
            },
            "type": "mesh3d"
           }
          ],
          "parcoords": [
           {
            "line": {
             "colorbar": {
              "outlinewidth": 0,
              "ticks": ""
             }
            },
            "type": "parcoords"
           }
          ],
          "pie": [
           {
            "automargin": true,
            "type": "pie"
           }
          ],
          "scatter": [
           {
            "fillpattern": {
             "fillmode": "overlay",
             "size": 10,
             "solidity": 0.2
            },
            "type": "scatter"
           }
          ],
          "scatter3d": [
           {
            "line": {
             "colorbar": {
              "outlinewidth": 0,
              "ticks": ""
             }
            },
            "marker": {
             "colorbar": {
              "outlinewidth": 0,
              "ticks": ""
             }
            },
            "type": "scatter3d"
           }
          ],
          "scattercarpet": [
           {
            "marker": {
             "colorbar": {
              "outlinewidth": 0,
              "ticks": ""
             }
            },
            "type": "scattercarpet"
           }
          ],
          "scattergeo": [
           {
            "marker": {
             "colorbar": {
              "outlinewidth": 0,
              "ticks": ""
             }
            },
            "type": "scattergeo"
           }
          ],
          "scattergl": [
           {
            "marker": {
             "colorbar": {
              "outlinewidth": 0,
              "ticks": ""
             }
            },
            "type": "scattergl"
           }
          ],
          "scattermapbox": [
           {
            "marker": {
             "colorbar": {
              "outlinewidth": 0,
              "ticks": ""
             }
            },
            "type": "scattermapbox"
           }
          ],
          "scatterpolar": [
           {
            "marker": {
             "colorbar": {
              "outlinewidth": 0,
              "ticks": ""
             }
            },
            "type": "scatterpolar"
           }
          ],
          "scatterpolargl": [
           {
            "marker": {
             "colorbar": {
              "outlinewidth": 0,
              "ticks": ""
             }
            },
            "type": "scatterpolargl"
           }
          ],
          "scatterternary": [
           {
            "marker": {
             "colorbar": {
              "outlinewidth": 0,
              "ticks": ""
             }
            },
            "type": "scatterternary"
           }
          ],
          "surface": [
           {
            "colorbar": {
             "outlinewidth": 0,
             "ticks": ""
            },
            "colorscale": [
             [
              0,
              "#0d0887"
             ],
             [
              0.1111111111111111,
              "#46039f"
             ],
             [
              0.2222222222222222,
              "#7201a8"
             ],
             [
              0.3333333333333333,
              "#9c179e"
             ],
             [
              0.4444444444444444,
              "#bd3786"
             ],
             [
              0.5555555555555556,
              "#d8576b"
             ],
             [
              0.6666666666666666,
              "#ed7953"
             ],
             [
              0.7777777777777778,
              "#fb9f3a"
             ],
             [
              0.8888888888888888,
              "#fdca26"
             ],
             [
              1,
              "#f0f921"
             ]
            ],
            "type": "surface"
           }
          ],
          "table": [
           {
            "cells": {
             "fill": {
              "color": "#EBF0F8"
             },
             "line": {
              "color": "white"
             }
            },
            "header": {
             "fill": {
              "color": "#C8D4E3"
             },
             "line": {
              "color": "white"
             }
            },
            "type": "table"
           }
          ]
         },
         "layout": {
          "annotationdefaults": {
           "arrowcolor": "#2a3f5f",
           "arrowhead": 0,
           "arrowwidth": 1
          },
          "autotypenumbers": "strict",
          "coloraxis": {
           "colorbar": {
            "outlinewidth": 0,
            "ticks": ""
           }
          },
          "colorscale": {
           "diverging": [
            [
             0,
             "#8e0152"
            ],
            [
             0.1,
             "#c51b7d"
            ],
            [
             0.2,
             "#de77ae"
            ],
            [
             0.3,
             "#f1b6da"
            ],
            [
             0.4,
             "#fde0ef"
            ],
            [
             0.5,
             "#f7f7f7"
            ],
            [
             0.6,
             "#e6f5d0"
            ],
            [
             0.7,
             "#b8e186"
            ],
            [
             0.8,
             "#7fbc41"
            ],
            [
             0.9,
             "#4d9221"
            ],
            [
             1,
             "#276419"
            ]
           ],
           "sequential": [
            [
             0,
             "#0d0887"
            ],
            [
             0.1111111111111111,
             "#46039f"
            ],
            [
             0.2222222222222222,
             "#7201a8"
            ],
            [
             0.3333333333333333,
             "#9c179e"
            ],
            [
             0.4444444444444444,
             "#bd3786"
            ],
            [
             0.5555555555555556,
             "#d8576b"
            ],
            [
             0.6666666666666666,
             "#ed7953"
            ],
            [
             0.7777777777777778,
             "#fb9f3a"
            ],
            [
             0.8888888888888888,
             "#fdca26"
            ],
            [
             1,
             "#f0f921"
            ]
           ],
           "sequentialminus": [
            [
             0,
             "#0d0887"
            ],
            [
             0.1111111111111111,
             "#46039f"
            ],
            [
             0.2222222222222222,
             "#7201a8"
            ],
            [
             0.3333333333333333,
             "#9c179e"
            ],
            [
             0.4444444444444444,
             "#bd3786"
            ],
            [
             0.5555555555555556,
             "#d8576b"
            ],
            [
             0.6666666666666666,
             "#ed7953"
            ],
            [
             0.7777777777777778,
             "#fb9f3a"
            ],
            [
             0.8888888888888888,
             "#fdca26"
            ],
            [
             1,
             "#f0f921"
            ]
           ]
          },
          "colorway": [
           "#636efa",
           "#EF553B",
           "#00cc96",
           "#ab63fa",
           "#FFA15A",
           "#19d3f3",
           "#FF6692",
           "#B6E880",
           "#FF97FF",
           "#FECB52"
          ],
          "font": {
           "color": "#2a3f5f"
          },
          "geo": {
           "bgcolor": "white",
           "lakecolor": "white",
           "landcolor": "#E5ECF6",
           "showlakes": true,
           "showland": true,
           "subunitcolor": "white"
          },
          "hoverlabel": {
           "align": "left"
          },
          "hovermode": "closest",
          "mapbox": {
           "style": "light"
          },
          "paper_bgcolor": "white",
          "plot_bgcolor": "#E5ECF6",
          "polar": {
           "angularaxis": {
            "gridcolor": "white",
            "linecolor": "white",
            "ticks": ""
           },
           "bgcolor": "#E5ECF6",
           "radialaxis": {
            "gridcolor": "white",
            "linecolor": "white",
            "ticks": ""
           }
          },
          "scene": {
           "xaxis": {
            "backgroundcolor": "#E5ECF6",
            "gridcolor": "white",
            "gridwidth": 2,
            "linecolor": "white",
            "showbackground": true,
            "ticks": "",
            "zerolinecolor": "white"
           },
           "yaxis": {
            "backgroundcolor": "#E5ECF6",
            "gridcolor": "white",
            "gridwidth": 2,
            "linecolor": "white",
            "showbackground": true,
            "ticks": "",
            "zerolinecolor": "white"
           },
           "zaxis": {
            "backgroundcolor": "#E5ECF6",
            "gridcolor": "white",
            "gridwidth": 2,
            "linecolor": "white",
            "showbackground": true,
            "ticks": "",
            "zerolinecolor": "white"
           }
          },
          "shapedefaults": {
           "line": {
            "color": "#2a3f5f"
           }
          },
          "ternary": {
           "aaxis": {
            "gridcolor": "white",
            "linecolor": "white",
            "ticks": ""
           },
           "baxis": {
            "gridcolor": "white",
            "linecolor": "white",
            "ticks": ""
           },
           "bgcolor": "#E5ECF6",
           "caxis": {
            "gridcolor": "white",
            "linecolor": "white",
            "ticks": ""
           }
          },
          "title": {
           "x": 0.05
          },
          "xaxis": {
           "automargin": true,
           "gridcolor": "white",
           "linecolor": "white",
           "ticks": "",
           "title": {
            "standoff": 15
           },
           "zerolinecolor": "white",
           "zerolinewidth": 2
          },
          "yaxis": {
           "automargin": true,
           "gridcolor": "white",
           "linecolor": "white",
           "ticks": "",
           "title": {
            "standoff": 15
           },
           "zerolinecolor": "white",
           "zerolinewidth": 2
          }
         }
        }
       }
      },
      "text/html": [
       "<div>                            <div id=\"da128036-e3ee-4f15-a5c9-892479dea84b\" class=\"plotly-graph-div\" style=\"height:525px; width:100%;\"></div>            <script type=\"text/javascript\">                require([\"plotly\"], function(Plotly) {                    window.PLOTLYENV=window.PLOTLYENV || {};                                    if (document.getElementById(\"da128036-e3ee-4f15-a5c9-892479dea84b\")) {                    Plotly.newPlot(                        \"da128036-e3ee-4f15-a5c9-892479dea84b\",                        [{\"hovertemplate\":\"x=%{x}\\u003cbr\\u003ey=%{y}\\u003cbr\\u003ez=%{z}\\u003cbr\\u003eid=%{marker.color}\\u003cextra\\u003e\\u003c\\u002fextra\\u003e\",\"legendgroup\":\"\",\"marker\":{\"color\":[0,190,191,192,193,0,0,194,195,196,197,198,199,0,200,201,202,203,204,205,206,207,208,209,210,211,212,213,214,215,216,217,218,219,220,221,222,223,224,225,226,227,228,229,230,231,232,233,234,235,236,237,238,239,240,241,0,0,242,243,244,245,0],\"coloraxis\":\"coloraxis\",\"symbol\":\"circle\",\"size\":5},\"mode\":\"markers\",\"name\":\"\",\"scene\":\"scene\",\"showlegend\":false,\"x\":[4,11,10,9,9,2,0,1347,1347,1349,1349,1349,1346,1344,2688,2689,2689,2689,2689,2689,2685,4023,4023,4024,4024,4024,4025,4023,5366,5366,5365,5365,5365,5368,5364,6701,6699,6701,6700,6701,6704,6701,8044,8041,8041,8041,8041,8046,8044,9384,9383,9381,9381,9384,9387,9388,10729,10727,10720,10720,10723,10724,10730],\"y\":[2,1350,2699,4055,5409,6764,8113,0,1350,2703,4060,5414,6767,8115,5,1355,2707,4065,5418,6772,8123,9,1360,2713,4070,5424,6776,8129,16,1364,2717,4074,5428,6782,8134,21,1369,2722,4080,5433,6786,8138,24,1373,2726,4084,5437,6789,8141,28,1376,2731,4088,5441,6794,8145,31,1381,2739,4093,5446,6800,8144],\"z\":[15,15,14,12,11,8,6,14,15,12,12,10,5,5,16,13,11,11,7,6,2,14,11,11,10,7,6,2,14,12,11,8,6,5,2,13,10,10,6,5,6,1,13,9,8,4,5,5,1,13,8,6,3,4,5,0,10,8,4,4,3,3,3],\"type\":\"scatter3d\"}],                        {\"template\":{\"data\":{\"histogram2dcontour\":[{\"type\":\"histogram2dcontour\",\"colorbar\":{\"outlinewidth\":0,\"ticks\":\"\"},\"colorscale\":[[0.0,\"#0d0887\"],[0.1111111111111111,\"#46039f\"],[0.2222222222222222,\"#7201a8\"],[0.3333333333333333,\"#9c179e\"],[0.4444444444444444,\"#bd3786\"],[0.5555555555555556,\"#d8576b\"],[0.6666666666666666,\"#ed7953\"],[0.7777777777777778,\"#fb9f3a\"],[0.8888888888888888,\"#fdca26\"],[1.0,\"#f0f921\"]]}],\"choropleth\":[{\"type\":\"choropleth\",\"colorbar\":{\"outlinewidth\":0,\"ticks\":\"\"}}],\"histogram2d\":[{\"type\":\"histogram2d\",\"colorbar\":{\"outlinewidth\":0,\"ticks\":\"\"},\"colorscale\":[[0.0,\"#0d0887\"],[0.1111111111111111,\"#46039f\"],[0.2222222222222222,\"#7201a8\"],[0.3333333333333333,\"#9c179e\"],[0.4444444444444444,\"#bd3786\"],[0.5555555555555556,\"#d8576b\"],[0.6666666666666666,\"#ed7953\"],[0.7777777777777778,\"#fb9f3a\"],[0.8888888888888888,\"#fdca26\"],[1.0,\"#f0f921\"]]}],\"heatmap\":[{\"type\":\"heatmap\",\"colorbar\":{\"outlinewidth\":0,\"ticks\":\"\"},\"colorscale\":[[0.0,\"#0d0887\"],[0.1111111111111111,\"#46039f\"],[0.2222222222222222,\"#7201a8\"],[0.3333333333333333,\"#9c179e\"],[0.4444444444444444,\"#bd3786\"],[0.5555555555555556,\"#d8576b\"],[0.6666666666666666,\"#ed7953\"],[0.7777777777777778,\"#fb9f3a\"],[0.8888888888888888,\"#fdca26\"],[1.0,\"#f0f921\"]]}],\"heatmapgl\":[{\"type\":\"heatmapgl\",\"colorbar\":{\"outlinewidth\":0,\"ticks\":\"\"},\"colorscale\":[[0.0,\"#0d0887\"],[0.1111111111111111,\"#46039f\"],[0.2222222222222222,\"#7201a8\"],[0.3333333333333333,\"#9c179e\"],[0.4444444444444444,\"#bd3786\"],[0.5555555555555556,\"#d8576b\"],[0.6666666666666666,\"#ed7953\"],[0.7777777777777778,\"#fb9f3a\"],[0.8888888888888888,\"#fdca26\"],[1.0,\"#f0f921\"]]}],\"contourcarpet\":[{\"type\":\"contourcarpet\",\"colorbar\":{\"outlinewidth\":0,\"ticks\":\"\"}}],\"contour\":[{\"type\":\"contour\",\"colorbar\":{\"outlinewidth\":0,\"ticks\":\"\"},\"colorscale\":[[0.0,\"#0d0887\"],[0.1111111111111111,\"#46039f\"],[0.2222222222222222,\"#7201a8\"],[0.3333333333333333,\"#9c179e\"],[0.4444444444444444,\"#bd3786\"],[0.5555555555555556,\"#d8576b\"],[0.6666666666666666,\"#ed7953\"],[0.7777777777777778,\"#fb9f3a\"],[0.8888888888888888,\"#fdca26\"],[1.0,\"#f0f921\"]]}],\"surface\":[{\"type\":\"surface\",\"colorbar\":{\"outlinewidth\":0,\"ticks\":\"\"},\"colorscale\":[[0.0,\"#0d0887\"],[0.1111111111111111,\"#46039f\"],[0.2222222222222222,\"#7201a8\"],[0.3333333333333333,\"#9c179e\"],[0.4444444444444444,\"#bd3786\"],[0.5555555555555556,\"#d8576b\"],[0.6666666666666666,\"#ed7953\"],[0.7777777777777778,\"#fb9f3a\"],[0.8888888888888888,\"#fdca26\"],[1.0,\"#f0f921\"]]}],\"mesh3d\":[{\"type\":\"mesh3d\",\"colorbar\":{\"outlinewidth\":0,\"ticks\":\"\"}}],\"scatter\":[{\"fillpattern\":{\"fillmode\":\"overlay\",\"size\":10,\"solidity\":0.2},\"type\":\"scatter\"}],\"parcoords\":[{\"type\":\"parcoords\",\"line\":{\"colorbar\":{\"outlinewidth\":0,\"ticks\":\"\"}}}],\"scatterpolargl\":[{\"type\":\"scatterpolargl\",\"marker\":{\"colorbar\":{\"outlinewidth\":0,\"ticks\":\"\"}}}],\"bar\":[{\"error_x\":{\"color\":\"#2a3f5f\"},\"error_y\":{\"color\":\"#2a3f5f\"},\"marker\":{\"line\":{\"color\":\"#E5ECF6\",\"width\":0.5},\"pattern\":{\"fillmode\":\"overlay\",\"size\":10,\"solidity\":0.2}},\"type\":\"bar\"}],\"scattergeo\":[{\"type\":\"scattergeo\",\"marker\":{\"colorbar\":{\"outlinewidth\":0,\"ticks\":\"\"}}}],\"scatterpolar\":[{\"type\":\"scatterpolar\",\"marker\":{\"colorbar\":{\"outlinewidth\":0,\"ticks\":\"\"}}}],\"histogram\":[{\"marker\":{\"pattern\":{\"fillmode\":\"overlay\",\"size\":10,\"solidity\":0.2}},\"type\":\"histogram\"}],\"scattergl\":[{\"type\":\"scattergl\",\"marker\":{\"colorbar\":{\"outlinewidth\":0,\"ticks\":\"\"}}}],\"scatter3d\":[{\"type\":\"scatter3d\",\"line\":{\"colorbar\":{\"outlinewidth\":0,\"ticks\":\"\"}},\"marker\":{\"colorbar\":{\"outlinewidth\":0,\"ticks\":\"\"}}}],\"scattermapbox\":[{\"type\":\"scattermapbox\",\"marker\":{\"colorbar\":{\"outlinewidth\":0,\"ticks\":\"\"}}}],\"scatterternary\":[{\"type\":\"scatterternary\",\"marker\":{\"colorbar\":{\"outlinewidth\":0,\"ticks\":\"\"}}}],\"scattercarpet\":[{\"type\":\"scattercarpet\",\"marker\":{\"colorbar\":{\"outlinewidth\":0,\"ticks\":\"\"}}}],\"carpet\":[{\"aaxis\":{\"endlinecolor\":\"#2a3f5f\",\"gridcolor\":\"white\",\"linecolor\":\"white\",\"minorgridcolor\":\"white\",\"startlinecolor\":\"#2a3f5f\"},\"baxis\":{\"endlinecolor\":\"#2a3f5f\",\"gridcolor\":\"white\",\"linecolor\":\"white\",\"minorgridcolor\":\"white\",\"startlinecolor\":\"#2a3f5f\"},\"type\":\"carpet\"}],\"table\":[{\"cells\":{\"fill\":{\"color\":\"#EBF0F8\"},\"line\":{\"color\":\"white\"}},\"header\":{\"fill\":{\"color\":\"#C8D4E3\"},\"line\":{\"color\":\"white\"}},\"type\":\"table\"}],\"barpolar\":[{\"marker\":{\"line\":{\"color\":\"#E5ECF6\",\"width\":0.5},\"pattern\":{\"fillmode\":\"overlay\",\"size\":10,\"solidity\":0.2}},\"type\":\"barpolar\"}],\"pie\":[{\"automargin\":true,\"type\":\"pie\"}]},\"layout\":{\"autotypenumbers\":\"strict\",\"colorway\":[\"#636efa\",\"#EF553B\",\"#00cc96\",\"#ab63fa\",\"#FFA15A\",\"#19d3f3\",\"#FF6692\",\"#B6E880\",\"#FF97FF\",\"#FECB52\"],\"font\":{\"color\":\"#2a3f5f\"},\"hovermode\":\"closest\",\"hoverlabel\":{\"align\":\"left\"},\"paper_bgcolor\":\"white\",\"plot_bgcolor\":\"#E5ECF6\",\"polar\":{\"bgcolor\":\"#E5ECF6\",\"angularaxis\":{\"gridcolor\":\"white\",\"linecolor\":\"white\",\"ticks\":\"\"},\"radialaxis\":{\"gridcolor\":\"white\",\"linecolor\":\"white\",\"ticks\":\"\"}},\"ternary\":{\"bgcolor\":\"#E5ECF6\",\"aaxis\":{\"gridcolor\":\"white\",\"linecolor\":\"white\",\"ticks\":\"\"},\"baxis\":{\"gridcolor\":\"white\",\"linecolor\":\"white\",\"ticks\":\"\"},\"caxis\":{\"gridcolor\":\"white\",\"linecolor\":\"white\",\"ticks\":\"\"}},\"coloraxis\":{\"colorbar\":{\"outlinewidth\":0,\"ticks\":\"\"}},\"colorscale\":{\"sequential\":[[0.0,\"#0d0887\"],[0.1111111111111111,\"#46039f\"],[0.2222222222222222,\"#7201a8\"],[0.3333333333333333,\"#9c179e\"],[0.4444444444444444,\"#bd3786\"],[0.5555555555555556,\"#d8576b\"],[0.6666666666666666,\"#ed7953\"],[0.7777777777777778,\"#fb9f3a\"],[0.8888888888888888,\"#fdca26\"],[1.0,\"#f0f921\"]],\"sequentialminus\":[[0.0,\"#0d0887\"],[0.1111111111111111,\"#46039f\"],[0.2222222222222222,\"#7201a8\"],[0.3333333333333333,\"#9c179e\"],[0.4444444444444444,\"#bd3786\"],[0.5555555555555556,\"#d8576b\"],[0.6666666666666666,\"#ed7953\"],[0.7777777777777778,\"#fb9f3a\"],[0.8888888888888888,\"#fdca26\"],[1.0,\"#f0f921\"]],\"diverging\":[[0,\"#8e0152\"],[0.1,\"#c51b7d\"],[0.2,\"#de77ae\"],[0.3,\"#f1b6da\"],[0.4,\"#fde0ef\"],[0.5,\"#f7f7f7\"],[0.6,\"#e6f5d0\"],[0.7,\"#b8e186\"],[0.8,\"#7fbc41\"],[0.9,\"#4d9221\"],[1,\"#276419\"]]},\"xaxis\":{\"gridcolor\":\"white\",\"linecolor\":\"white\",\"ticks\":\"\",\"title\":{\"standoff\":15},\"zerolinecolor\":\"white\",\"automargin\":true,\"zerolinewidth\":2},\"yaxis\":{\"gridcolor\":\"white\",\"linecolor\":\"white\",\"ticks\":\"\",\"title\":{\"standoff\":15},\"zerolinecolor\":\"white\",\"automargin\":true,\"zerolinewidth\":2},\"scene\":{\"xaxis\":{\"backgroundcolor\":\"#E5ECF6\",\"gridcolor\":\"white\",\"linecolor\":\"white\",\"showbackground\":true,\"ticks\":\"\",\"zerolinecolor\":\"white\",\"gridwidth\":2},\"yaxis\":{\"backgroundcolor\":\"#E5ECF6\",\"gridcolor\":\"white\",\"linecolor\":\"white\",\"showbackground\":true,\"ticks\":\"\",\"zerolinecolor\":\"white\",\"gridwidth\":2},\"zaxis\":{\"backgroundcolor\":\"#E5ECF6\",\"gridcolor\":\"white\",\"linecolor\":\"white\",\"showbackground\":true,\"ticks\":\"\",\"zerolinecolor\":\"white\",\"gridwidth\":2}},\"shapedefaults\":{\"line\":{\"color\":\"#2a3f5f\"}},\"annotationdefaults\":{\"arrowcolor\":\"#2a3f5f\",\"arrowhead\":0,\"arrowwidth\":1},\"geo\":{\"bgcolor\":\"white\",\"landcolor\":\"#E5ECF6\",\"subunitcolor\":\"white\",\"showland\":true,\"showlakes\":true,\"lakecolor\":\"white\"},\"title\":{\"x\":0.05},\"mapbox\":{\"style\":\"light\"}}},\"scene\":{\"domain\":{\"x\":[0.0,1.0],\"y\":[0.0,1.0]},\"xaxis\":{\"title\":{\"text\":\"x\"},\"autorange\":\"reversed\"},\"yaxis\":{\"title\":{\"text\":\"y\"}},\"zaxis\":{\"title\":{\"text\":\"z\"},\"autorange\":\"reversed\"}},\"coloraxis\":{\"colorbar\":{\"title\":{\"text\":\"id\"}},\"colorscale\":[[0.0,\"#0d0887\"],[0.1111111111111111,\"#46039f\"],[0.2222222222222222,\"#7201a8\"],[0.3333333333333333,\"#9c179e\"],[0.4444444444444444,\"#bd3786\"],[0.5555555555555556,\"#d8576b\"],[0.6666666666666666,\"#ed7953\"],[0.7777777777777778,\"#fb9f3a\"],[0.8888888888888888,\"#fdca26\"],[1.0,\"#f0f921\"]]},\"legend\":{\"tracegroupgap\":0},\"margin\":{\"t\":60}},                        {\"responsive\": true}                    ).then(function(){\n",
       "                            \n",
       "var gd = document.getElementById('da128036-e3ee-4f15-a5c9-892479dea84b');\n",
       "var x = new MutationObserver(function (mutations, observer) {{\n",
       "        var display = window.getComputedStyle(gd).display;\n",
       "        if (!display || display === 'none') {{\n",
       "            console.log([gd, 'removed!']);\n",
       "            Plotly.purge(gd);\n",
       "            observer.disconnect();\n",
       "        }}\n",
       "}});\n",
       "\n",
       "// Listen for the removal of the full notebook cells\n",
       "var notebookContainer = gd.closest('#notebook-container');\n",
       "if (notebookContainer) {{\n",
       "    x.observe(notebookContainer, {childList: true});\n",
       "}}\n",
       "\n",
       "// Listen for the clearing of the current output cell\n",
       "var outputEl = gd.closest('.output');\n",
       "if (outputEl) {{\n",
       "    x.observe(outputEl, {childList: true});\n",
       "}}\n",
       "\n",
       "                        })                };                });            </script>        </div>"
      ]
     },
     "metadata": {},
     "output_type": "display_data"
    }
   ],
   "source": [
    "import plotly.express as px\n",
    "fig = px.scatter_3d(tile_config_df, x='x', y='y', z='z', color='id')\n",
    "fig.update_traces(marker_size = 5)\n",
    "fig.update_scenes(zaxis_autorange=\"reversed\")\n",
    "# fig.update_scenes(yaxis_autorange=\"reversed\")\n",
    "fig.update_scenes(xaxis_autorange=\"reversed\")\n",
    "fig.show()\n",
    "fig.write_html(os.path.join(output_path, f'tile_config_{current_sample}.html'))"
   ]
  },
  {
   "cell_type": "code",
   "execution_count": 174,
   "metadata": {},
   "outputs": [
    {
     "data": {
      "application/vnd.jupyter.widget-view+json": {
       "model_id": "b4fc106149874584adb4cbd146fc3d4d",
       "version_major": 2,
       "version_minor": 0
      },
      "text/plain": [
       "  0%|          | 0/63 [00:00<?, ?it/s]"
      ]
     },
     "metadata": {},
     "output_type": "display_data"
    },
    {
     "name": "stdout",
     "output_type": "stream",
     "text": [
      "Processing tile 190\n",
      "Processing tile 191\n",
      "Processing tile 192\n",
      "Processing tile 193\n",
      "Processing tile 194\n",
      "Processing tile 195\n",
      "Processing tile 196\n",
      "Processing tile 197\n",
      "Processing tile 198\n",
      "Processing tile 199\n",
      "Processing tile 200\n",
      "Processing tile 201\n",
      "Processing tile 202\n",
      "Processing tile 203\n",
      "Processing tile 204\n",
      "Processing tile 205\n",
      "Processing tile 206\n",
      "Processing tile 207\n",
      "Processing tile 208\n",
      "Processing tile 209\n",
      "Processing tile 210\n",
      "Processing tile 211\n",
      "Processing tile 212\n",
      "Processing tile 213\n",
      "Processing tile 214\n",
      "Processing tile 215\n",
      "Processing tile 216\n",
      "Processing tile 217\n",
      "Processing tile 218\n",
      "Processing tile 219\n",
      "Processing tile 220\n",
      "Processing tile 221\n",
      "Processing tile 222\n",
      "Processing tile 223\n",
      "Processing tile 224\n",
      "Processing tile 225\n",
      "Processing tile 226\n",
      "Processing tile 227\n",
      "Processing tile 228\n",
      "Processing tile 229\n",
      "Processing tile 230\n",
      "Processing tile 231\n",
      "Processing tile 232\n",
      "Processing tile 233\n",
      "Processing tile 234\n",
      "Processing tile 235\n",
      "Processing tile 236\n",
      "Processing tile 237\n",
      "Processing tile 238\n",
      "Processing tile 239\n",
      "Processing tile 240\n",
      "Processing tile 241\n",
      "Processing tile 242\n",
      "Processing tile 243\n",
      "Processing tile 244\n",
      "Processing tile 245\n"
     ]
    }
   ],
   "source": [
    "img_dim = [1496, 1496, 59]\n",
    "start_x_list = []\n",
    "start_y_list = []\n",
    "end_x_list = []\n",
    "end_y_list = []\n",
    "\n",
    "for i in tqdm(range(tile_config_df.shape[0])):\n",
    "# for i in tqdm(range(7)):\n",
    "    current_record = tile_config_df.iloc[i]\n",
    "    current_id = current_record['id']\n",
    "\n",
    "    if current_id == 0:\n",
    "        start_x_list.append(0)\n",
    "        start_y_list.append(0)\n",
    "        end_x_list.append(0)\n",
    "        end_y_list.append(0)\n",
    "    else:\n",
    "        print(f\"Processing tile {current_id}\")\n",
    "        current_row = current_record['row']\n",
    "        current_col = current_record['col']\n",
    "        current_x = current_record['x']\n",
    "        current_y = current_record['y']\n",
    "\n",
    "        left_tile = f\"tile_{current_row}_{current_col - 1}\"\n",
    "        right_tile = f\"tile_{current_row}_{current_col + 1}\"\n",
    "        up_tile = f\"tile_{current_row - 1}_{current_col}\"\n",
    "        down_tile = f\"tile_{current_row + 1}_{current_col}\"\n",
    "\n",
    "        if left_tile in tile_config_df.grid.values and tile_config_df.loc[tile_config_df.grid == left_tile, 'id'].values != 0:\n",
    "            left_x = tile_config_df.loc[tile_config_df.grid == left_tile, 'x'].values\n",
    "            me_start_x = int((left_x + img_dim[0] - current_x)/2 + 0.5) + current_x\n",
    "        else:\n",
    "            me_start_x = current_x\n",
    "\n",
    "        if up_tile in tile_config_df.grid.values and tile_config_df.loc[tile_config_df.grid == up_tile, 'id'].values != 0:\n",
    "            left_y = tile_config_df.loc[tile_config_df.grid == up_tile, 'y'].values\n",
    "            me_start_y = int((left_y + img_dim[1] - current_y)/2 + 0.5) + current_y\n",
    "        else:\n",
    "            me_start_y = current_y\n",
    "\n",
    "        if right_tile in tile_config_df.grid.values and tile_config_df.loc[tile_config_df.grid == right_tile, 'id'].values != 0:\n",
    "            right_x = tile_config_df.loc[tile_config_df.grid == right_tile, 'x'].values\n",
    "            me_end_x = int((current_x + img_dim[0] - right_x)/2 + 0.5 + right_x)\n",
    "        else:\n",
    "            me_end_x =  current_x + img_dim[0]\n",
    "            \n",
    "        if down_tile in tile_config_df.grid.values and tile_config_df.loc[tile_config_df.grid == down_tile, 'id'].values != 0:\n",
    "            right_y = tile_config_df.loc[tile_config_df.grid == down_tile, 'y'].values\n",
    "            me_end_y = int((current_y + img_dim[0] - right_y)/2 + 0.5 + right_y)\n",
    "        else:\n",
    "            me_end_y = current_y + img_dim[0]\n",
    "\n",
    "        current_start_point = [me_start_x, me_start_y]\n",
    "        current_end_point = [me_end_x, me_end_y]\n",
    "        start_x_list.append(me_start_x)\n",
    "        start_y_list.append(me_start_y)\n",
    "        end_x_list.append(me_end_x)\n",
    "        end_y_list.append(me_end_y)\n"
   ]
  },
  {
   "cell_type": "code",
   "execution_count": 175,
   "metadata": {},
   "outputs": [],
   "source": [
    "tile_config_df['start_x'] = start_x_list\n",
    "tile_config_df['start_y'] = start_y_list\n",
    "tile_config_df['end_x'] = end_x_list    \n",
    "tile_config_df['end_y'] = end_y_list\n"
   ]
  },
  {
   "cell_type": "code",
   "execution_count": 176,
   "metadata": {},
   "outputs": [],
   "source": [
    "tile_config_df['start_x_norm'] = tile_config_df['start_x'] - tile_config_df['x']\n",
    "tile_config_df['start_y_norm'] = tile_config_df['start_y'] - tile_config_df['y']\n",
    "tile_config_df['end_x_norm'] = tile_config_df['end_x'] - tile_config_df['x']\n",
    "tile_config_df['end_y_norm'] = tile_config_df['end_y'] - tile_config_df['y']\n"
   ]
  },
  {
   "cell_type": "code",
   "execution_count": 177,
   "metadata": {},
   "outputs": [],
   "source": [
    "tile_config_df.loc[tile_config_df.id == 0, 'start_x_norm'] = 0\n",
    "tile_config_df.loc[tile_config_df.id == 0, 'start_y_norm'] = 0\n",
    "tile_config_df.loc[tile_config_df.id == 0, 'end_x_norm'] = 0\n",
    "tile_config_df.loc[tile_config_df.id == 0, 'end_y_norm'] = 0"
   ]
  },
  {
   "cell_type": "code",
   "execution_count": 178,
   "metadata": {},
   "outputs": [
    {
     "data": {
      "text/html": [
       "<div>\n",
       "<style scoped>\n",
       "    .dataframe tbody tr th:only-of-type {\n",
       "        vertical-align: middle;\n",
       "    }\n",
       "\n",
       "    .dataframe tbody tr th {\n",
       "        vertical-align: top;\n",
       "    }\n",
       "\n",
       "    .dataframe thead th {\n",
       "        text-align: right;\n",
       "    }\n",
       "</style>\n",
       "<table border=\"1\" class=\"dataframe\">\n",
       "  <thead>\n",
       "    <tr style=\"text-align: right;\">\n",
       "      <th></th>\n",
       "      <th>x</th>\n",
       "      <th>y</th>\n",
       "      <th>z</th>\n",
       "      <th>fov_index</th>\n",
       "      <th>col</th>\n",
       "      <th>row</th>\n",
       "      <th>id</th>\n",
       "      <th>grid</th>\n",
       "      <th>start_x</th>\n",
       "      <th>start_y</th>\n",
       "      <th>end_x</th>\n",
       "      <th>end_y</th>\n",
       "      <th>start_x_norm</th>\n",
       "      <th>start_y_norm</th>\n",
       "      <th>end_x_norm</th>\n",
       "      <th>end_y_norm</th>\n",
       "    </tr>\n",
       "  </thead>\n",
       "  <tbody>\n",
       "    <tr>\n",
       "      <th>0</th>\n",
       "      <td>4</td>\n",
       "      <td>2</td>\n",
       "      <td>15</td>\n",
       "      <td>0</td>\n",
       "      <td>0</td>\n",
       "      <td>0</td>\n",
       "      <td>0</td>\n",
       "      <td>tile_0_0</td>\n",
       "      <td>0</td>\n",
       "      <td>0</td>\n",
       "      <td>0</td>\n",
       "      <td>0</td>\n",
       "      <td>0</td>\n",
       "      <td>0</td>\n",
       "      <td>0</td>\n",
       "      <td>0</td>\n",
       "    </tr>\n",
       "    <tr>\n",
       "      <th>1</th>\n",
       "      <td>11</td>\n",
       "      <td>1350</td>\n",
       "      <td>15</td>\n",
       "      <td>1</td>\n",
       "      <td>0</td>\n",
       "      <td>1</td>\n",
       "      <td>190</td>\n",
       "      <td>tile_1_0</td>\n",
       "      <td>11</td>\n",
       "      <td>1350</td>\n",
       "      <td>1427</td>\n",
       "      <td>2773</td>\n",
       "      <td>0</td>\n",
       "      <td>0</td>\n",
       "      <td>1416</td>\n",
       "      <td>1423</td>\n",
       "    </tr>\n",
       "    <tr>\n",
       "      <th>2</th>\n",
       "      <td>10</td>\n",
       "      <td>2699</td>\n",
       "      <td>14</td>\n",
       "      <td>2</td>\n",
       "      <td>0</td>\n",
       "      <td>2</td>\n",
       "      <td>191</td>\n",
       "      <td>tile_2_0</td>\n",
       "      <td>10</td>\n",
       "      <td>2773</td>\n",
       "      <td>1428</td>\n",
       "      <td>4125</td>\n",
       "      <td>0</td>\n",
       "      <td>74</td>\n",
       "      <td>1418</td>\n",
       "      <td>1426</td>\n",
       "    </tr>\n",
       "    <tr>\n",
       "      <th>3</th>\n",
       "      <td>9</td>\n",
       "      <td>4055</td>\n",
       "      <td>12</td>\n",
       "      <td>3</td>\n",
       "      <td>0</td>\n",
       "      <td>3</td>\n",
       "      <td>192</td>\n",
       "      <td>tile_3_0</td>\n",
       "      <td>9</td>\n",
       "      <td>4125</td>\n",
       "      <td>1427</td>\n",
       "      <td>5480</td>\n",
       "      <td>0</td>\n",
       "      <td>70</td>\n",
       "      <td>1418</td>\n",
       "      <td>1425</td>\n",
       "    </tr>\n",
       "    <tr>\n",
       "      <th>4</th>\n",
       "      <td>9</td>\n",
       "      <td>5409</td>\n",
       "      <td>11</td>\n",
       "      <td>4</td>\n",
       "      <td>0</td>\n",
       "      <td>4</td>\n",
       "      <td>193</td>\n",
       "      <td>tile_4_0</td>\n",
       "      <td>9</td>\n",
       "      <td>5480</td>\n",
       "      <td>1427</td>\n",
       "      <td>6905</td>\n",
       "      <td>0</td>\n",
       "      <td>71</td>\n",
       "      <td>1418</td>\n",
       "      <td>1496</td>\n",
       "    </tr>\n",
       "    <tr>\n",
       "      <th>5</th>\n",
       "      <td>2</td>\n",
       "      <td>6764</td>\n",
       "      <td>8</td>\n",
       "      <td>5</td>\n",
       "      <td>0</td>\n",
       "      <td>5</td>\n",
       "      <td>0</td>\n",
       "      <td>tile_5_0</td>\n",
       "      <td>0</td>\n",
       "      <td>0</td>\n",
       "      <td>0</td>\n",
       "      <td>0</td>\n",
       "      <td>0</td>\n",
       "      <td>0</td>\n",
       "      <td>0</td>\n",
       "      <td>0</td>\n",
       "    </tr>\n",
       "    <tr>\n",
       "      <th>6</th>\n",
       "      <td>0</td>\n",
       "      <td>8113</td>\n",
       "      <td>6</td>\n",
       "      <td>6</td>\n",
       "      <td>0</td>\n",
       "      <td>6</td>\n",
       "      <td>0</td>\n",
       "      <td>tile_6_0</td>\n",
       "      <td>0</td>\n",
       "      <td>0</td>\n",
       "      <td>0</td>\n",
       "      <td>0</td>\n",
       "      <td>0</td>\n",
       "      <td>0</td>\n",
       "      <td>0</td>\n",
       "      <td>0</td>\n",
       "    </tr>\n",
       "    <tr>\n",
       "      <th>7</th>\n",
       "      <td>1347</td>\n",
       "      <td>0</td>\n",
       "      <td>14</td>\n",
       "      <td>7</td>\n",
       "      <td>1</td>\n",
       "      <td>0</td>\n",
       "      <td>194</td>\n",
       "      <td>tile_0_1</td>\n",
       "      <td>1347</td>\n",
       "      <td>0</td>\n",
       "      <td>2766</td>\n",
       "      <td>1423</td>\n",
       "      <td>0</td>\n",
       "      <td>0</td>\n",
       "      <td>1419</td>\n",
       "      <td>1423</td>\n",
       "    </tr>\n",
       "    <tr>\n",
       "      <th>8</th>\n",
       "      <td>1347</td>\n",
       "      <td>1350</td>\n",
       "      <td>15</td>\n",
       "      <td>8</td>\n",
       "      <td>1</td>\n",
       "      <td>1</td>\n",
       "      <td>195</td>\n",
       "      <td>tile_1_1</td>\n",
       "      <td>1427</td>\n",
       "      <td>1423</td>\n",
       "      <td>2766</td>\n",
       "      <td>2775</td>\n",
       "      <td>80</td>\n",
       "      <td>73</td>\n",
       "      <td>1419</td>\n",
       "      <td>1425</td>\n",
       "    </tr>\n",
       "    <tr>\n",
       "      <th>9</th>\n",
       "      <td>1349</td>\n",
       "      <td>2703</td>\n",
       "      <td>12</td>\n",
       "      <td>9</td>\n",
       "      <td>1</td>\n",
       "      <td>2</td>\n",
       "      <td>196</td>\n",
       "      <td>tile_2_1</td>\n",
       "      <td>1428</td>\n",
       "      <td>2775</td>\n",
       "      <td>2767</td>\n",
       "      <td>4130</td>\n",
       "      <td>79</td>\n",
       "      <td>72</td>\n",
       "      <td>1418</td>\n",
       "      <td>1427</td>\n",
       "    </tr>\n",
       "    <tr>\n",
       "      <th>10</th>\n",
       "      <td>1349</td>\n",
       "      <td>4060</td>\n",
       "      <td>12</td>\n",
       "      <td>10</td>\n",
       "      <td>1</td>\n",
       "      <td>3</td>\n",
       "      <td>197</td>\n",
       "      <td>tile_3_1</td>\n",
       "      <td>1427</td>\n",
       "      <td>4130</td>\n",
       "      <td>2767</td>\n",
       "      <td>5485</td>\n",
       "      <td>78</td>\n",
       "      <td>70</td>\n",
       "      <td>1418</td>\n",
       "      <td>1425</td>\n",
       "    </tr>\n",
       "    <tr>\n",
       "      <th>11</th>\n",
       "      <td>1349</td>\n",
       "      <td>5414</td>\n",
       "      <td>10</td>\n",
       "      <td>11</td>\n",
       "      <td>1</td>\n",
       "      <td>4</td>\n",
       "      <td>198</td>\n",
       "      <td>tile_4_1</td>\n",
       "      <td>1427</td>\n",
       "      <td>5485</td>\n",
       "      <td>2767</td>\n",
       "      <td>6839</td>\n",
       "      <td>78</td>\n",
       "      <td>71</td>\n",
       "      <td>1418</td>\n",
       "      <td>1425</td>\n",
       "    </tr>\n",
       "    <tr>\n",
       "      <th>12</th>\n",
       "      <td>1346</td>\n",
       "      <td>6767</td>\n",
       "      <td>5</td>\n",
       "      <td>12</td>\n",
       "      <td>1</td>\n",
       "      <td>5</td>\n",
       "      <td>199</td>\n",
       "      <td>tile_5_1</td>\n",
       "      <td>1346</td>\n",
       "      <td>6839</td>\n",
       "      <td>2766</td>\n",
       "      <td>8263</td>\n",
       "      <td>0</td>\n",
       "      <td>72</td>\n",
       "      <td>1420</td>\n",
       "      <td>1496</td>\n",
       "    </tr>\n",
       "    <tr>\n",
       "      <th>13</th>\n",
       "      <td>1344</td>\n",
       "      <td>8115</td>\n",
       "      <td>5</td>\n",
       "      <td>13</td>\n",
       "      <td>1</td>\n",
       "      <td>6</td>\n",
       "      <td>0</td>\n",
       "      <td>tile_6_1</td>\n",
       "      <td>0</td>\n",
       "      <td>0</td>\n",
       "      <td>0</td>\n",
       "      <td>0</td>\n",
       "      <td>0</td>\n",
       "      <td>0</td>\n",
       "      <td>0</td>\n",
       "      <td>0</td>\n",
       "    </tr>\n",
       "    <tr>\n",
       "      <th>14</th>\n",
       "      <td>2688</td>\n",
       "      <td>5</td>\n",
       "      <td>16</td>\n",
       "      <td>14</td>\n",
       "      <td>2</td>\n",
       "      <td>0</td>\n",
       "      <td>200</td>\n",
       "      <td>tile_0_2</td>\n",
       "      <td>2766</td>\n",
       "      <td>5</td>\n",
       "      <td>4104</td>\n",
       "      <td>1428</td>\n",
       "      <td>78</td>\n",
       "      <td>0</td>\n",
       "      <td>1416</td>\n",
       "      <td>1423</td>\n",
       "    </tr>\n",
       "    <tr>\n",
       "      <th>15</th>\n",
       "      <td>2689</td>\n",
       "      <td>1355</td>\n",
       "      <td>13</td>\n",
       "      <td>15</td>\n",
       "      <td>2</td>\n",
       "      <td>1</td>\n",
       "      <td>201</td>\n",
       "      <td>tile_1_2</td>\n",
       "      <td>2766</td>\n",
       "      <td>1428</td>\n",
       "      <td>4104</td>\n",
       "      <td>2779</td>\n",
       "      <td>77</td>\n",
       "      <td>73</td>\n",
       "      <td>1415</td>\n",
       "      <td>1424</td>\n",
       "    </tr>\n",
       "    <tr>\n",
       "      <th>16</th>\n",
       "      <td>2689</td>\n",
       "      <td>2707</td>\n",
       "      <td>11</td>\n",
       "      <td>16</td>\n",
       "      <td>2</td>\n",
       "      <td>2</td>\n",
       "      <td>202</td>\n",
       "      <td>tile_2_2</td>\n",
       "      <td>2767</td>\n",
       "      <td>2779</td>\n",
       "      <td>4105</td>\n",
       "      <td>4134</td>\n",
       "      <td>78</td>\n",
       "      <td>72</td>\n",
       "      <td>1416</td>\n",
       "      <td>1427</td>\n",
       "    </tr>\n",
       "    <tr>\n",
       "      <th>17</th>\n",
       "      <td>2689</td>\n",
       "      <td>4065</td>\n",
       "      <td>11</td>\n",
       "      <td>17</td>\n",
       "      <td>2</td>\n",
       "      <td>3</td>\n",
       "      <td>203</td>\n",
       "      <td>tile_3_2</td>\n",
       "      <td>2767</td>\n",
       "      <td>4134</td>\n",
       "      <td>4105</td>\n",
       "      <td>5490</td>\n",
       "      <td>78</td>\n",
       "      <td>69</td>\n",
       "      <td>1416</td>\n",
       "      <td>1425</td>\n",
       "    </tr>\n",
       "    <tr>\n",
       "      <th>18</th>\n",
       "      <td>2689</td>\n",
       "      <td>5418</td>\n",
       "      <td>7</td>\n",
       "      <td>18</td>\n",
       "      <td>2</td>\n",
       "      <td>4</td>\n",
       "      <td>204</td>\n",
       "      <td>tile_4_2</td>\n",
       "      <td>2767</td>\n",
       "      <td>5490</td>\n",
       "      <td>4105</td>\n",
       "      <td>6843</td>\n",
       "      <td>78</td>\n",
       "      <td>72</td>\n",
       "      <td>1416</td>\n",
       "      <td>1425</td>\n",
       "    </tr>\n",
       "    <tr>\n",
       "      <th>19</th>\n",
       "      <td>2689</td>\n",
       "      <td>6772</td>\n",
       "      <td>6</td>\n",
       "      <td>19</td>\n",
       "      <td>2</td>\n",
       "      <td>5</td>\n",
       "      <td>205</td>\n",
       "      <td>tile_5_2</td>\n",
       "      <td>2766</td>\n",
       "      <td>6843</td>\n",
       "      <td>4105</td>\n",
       "      <td>8196</td>\n",
       "      <td>77</td>\n",
       "      <td>71</td>\n",
       "      <td>1416</td>\n",
       "      <td>1424</td>\n",
       "    </tr>\n",
       "    <tr>\n",
       "      <th>20</th>\n",
       "      <td>2685</td>\n",
       "      <td>8123</td>\n",
       "      <td>2</td>\n",
       "      <td>20</td>\n",
       "      <td>2</td>\n",
       "      <td>6</td>\n",
       "      <td>206</td>\n",
       "      <td>tile_6_2</td>\n",
       "      <td>2685</td>\n",
       "      <td>8196</td>\n",
       "      <td>4102</td>\n",
       "      <td>9619</td>\n",
       "      <td>0</td>\n",
       "      <td>73</td>\n",
       "      <td>1417</td>\n",
       "      <td>1496</td>\n",
       "    </tr>\n",
       "    <tr>\n",
       "      <th>21</th>\n",
       "      <td>4023</td>\n",
       "      <td>9</td>\n",
       "      <td>14</td>\n",
       "      <td>21</td>\n",
       "      <td>3</td>\n",
       "      <td>0</td>\n",
       "      <td>207</td>\n",
       "      <td>tile_0_3</td>\n",
       "      <td>4104</td>\n",
       "      <td>9</td>\n",
       "      <td>5443</td>\n",
       "      <td>1433</td>\n",
       "      <td>81</td>\n",
       "      <td>0</td>\n",
       "      <td>1420</td>\n",
       "      <td>1424</td>\n",
       "    </tr>\n",
       "    <tr>\n",
       "      <th>22</th>\n",
       "      <td>4023</td>\n",
       "      <td>1360</td>\n",
       "      <td>11</td>\n",
       "      <td>22</td>\n",
       "      <td>3</td>\n",
       "      <td>1</td>\n",
       "      <td>208</td>\n",
       "      <td>tile_1_3</td>\n",
       "      <td>4104</td>\n",
       "      <td>1433</td>\n",
       "      <td>5443</td>\n",
       "      <td>2785</td>\n",
       "      <td>81</td>\n",
       "      <td>73</td>\n",
       "      <td>1420</td>\n",
       "      <td>1425</td>\n",
       "    </tr>\n",
       "    <tr>\n",
       "      <th>23</th>\n",
       "      <td>4024</td>\n",
       "      <td>2713</td>\n",
       "      <td>11</td>\n",
       "      <td>23</td>\n",
       "      <td>3</td>\n",
       "      <td>2</td>\n",
       "      <td>209</td>\n",
       "      <td>tile_2_3</td>\n",
       "      <td>4105</td>\n",
       "      <td>2785</td>\n",
       "      <td>5443</td>\n",
       "      <td>4140</td>\n",
       "      <td>81</td>\n",
       "      <td>72</td>\n",
       "      <td>1419</td>\n",
       "      <td>1427</td>\n",
       "    </tr>\n",
       "    <tr>\n",
       "      <th>24</th>\n",
       "      <td>4024</td>\n",
       "      <td>4070</td>\n",
       "      <td>10</td>\n",
       "      <td>24</td>\n",
       "      <td>3</td>\n",
       "      <td>3</td>\n",
       "      <td>210</td>\n",
       "      <td>tile_3_3</td>\n",
       "      <td>4105</td>\n",
       "      <td>4140</td>\n",
       "      <td>5443</td>\n",
       "      <td>5495</td>\n",
       "      <td>81</td>\n",
       "      <td>70</td>\n",
       "      <td>1419</td>\n",
       "      <td>1425</td>\n",
       "    </tr>\n",
       "    <tr>\n",
       "      <th>25</th>\n",
       "      <td>4024</td>\n",
       "      <td>5424</td>\n",
       "      <td>7</td>\n",
       "      <td>25</td>\n",
       "      <td>3</td>\n",
       "      <td>4</td>\n",
       "      <td>211</td>\n",
       "      <td>tile_4_3</td>\n",
       "      <td>4105</td>\n",
       "      <td>5495</td>\n",
       "      <td>5443</td>\n",
       "      <td>6848</td>\n",
       "      <td>81</td>\n",
       "      <td>71</td>\n",
       "      <td>1419</td>\n",
       "      <td>1424</td>\n",
       "    </tr>\n",
       "    <tr>\n",
       "      <th>26</th>\n",
       "      <td>4025</td>\n",
       "      <td>6776</td>\n",
       "      <td>6</td>\n",
       "      <td>26</td>\n",
       "      <td>3</td>\n",
       "      <td>5</td>\n",
       "      <td>212</td>\n",
       "      <td>tile_5_3</td>\n",
       "      <td>4105</td>\n",
       "      <td>6848</td>\n",
       "      <td>5445</td>\n",
       "      <td>8201</td>\n",
       "      <td>80</td>\n",
       "      <td>72</td>\n",
       "      <td>1420</td>\n",
       "      <td>1425</td>\n",
       "    </tr>\n",
       "    <tr>\n",
       "      <th>27</th>\n",
       "      <td>4023</td>\n",
       "      <td>8129</td>\n",
       "      <td>2</td>\n",
       "      <td>27</td>\n",
       "      <td>3</td>\n",
       "      <td>6</td>\n",
       "      <td>213</td>\n",
       "      <td>tile_6_3</td>\n",
       "      <td>4102</td>\n",
       "      <td>8201</td>\n",
       "      <td>5442</td>\n",
       "      <td>9625</td>\n",
       "      <td>79</td>\n",
       "      <td>72</td>\n",
       "      <td>1419</td>\n",
       "      <td>1496</td>\n",
       "    </tr>\n",
       "    <tr>\n",
       "      <th>28</th>\n",
       "      <td>5366</td>\n",
       "      <td>16</td>\n",
       "      <td>14</td>\n",
       "      <td>28</td>\n",
       "      <td>4</td>\n",
       "      <td>0</td>\n",
       "      <td>214</td>\n",
       "      <td>tile_0_4</td>\n",
       "      <td>5443</td>\n",
       "      <td>16</td>\n",
       "      <td>6782</td>\n",
       "      <td>1438</td>\n",
       "      <td>77</td>\n",
       "      <td>0</td>\n",
       "      <td>1416</td>\n",
       "      <td>1422</td>\n",
       "    </tr>\n",
       "    <tr>\n",
       "      <th>29</th>\n",
       "      <td>5366</td>\n",
       "      <td>1364</td>\n",
       "      <td>12</td>\n",
       "      <td>29</td>\n",
       "      <td>4</td>\n",
       "      <td>1</td>\n",
       "      <td>215</td>\n",
       "      <td>tile_1_4</td>\n",
       "      <td>5443</td>\n",
       "      <td>1438</td>\n",
       "      <td>6781</td>\n",
       "      <td>2789</td>\n",
       "      <td>77</td>\n",
       "      <td>74</td>\n",
       "      <td>1415</td>\n",
       "      <td>1425</td>\n",
       "    </tr>\n",
       "    <tr>\n",
       "      <th>30</th>\n",
       "      <td>5365</td>\n",
       "      <td>2717</td>\n",
       "      <td>11</td>\n",
       "      <td>30</td>\n",
       "      <td>4</td>\n",
       "      <td>2</td>\n",
       "      <td>216</td>\n",
       "      <td>tile_2_4</td>\n",
       "      <td>5443</td>\n",
       "      <td>2789</td>\n",
       "      <td>6781</td>\n",
       "      <td>4144</td>\n",
       "      <td>78</td>\n",
       "      <td>72</td>\n",
       "      <td>1416</td>\n",
       "      <td>1427</td>\n",
       "    </tr>\n",
       "    <tr>\n",
       "      <th>31</th>\n",
       "      <td>5365</td>\n",
       "      <td>4074</td>\n",
       "      <td>8</td>\n",
       "      <td>31</td>\n",
       "      <td>4</td>\n",
       "      <td>3</td>\n",
       "      <td>217</td>\n",
       "      <td>tile_3_4</td>\n",
       "      <td>5443</td>\n",
       "      <td>4144</td>\n",
       "      <td>6781</td>\n",
       "      <td>5499</td>\n",
       "      <td>78</td>\n",
       "      <td>70</td>\n",
       "      <td>1416</td>\n",
       "      <td>1425</td>\n",
       "    </tr>\n",
       "    <tr>\n",
       "      <th>32</th>\n",
       "      <td>5365</td>\n",
       "      <td>5428</td>\n",
       "      <td>6</td>\n",
       "      <td>32</td>\n",
       "      <td>4</td>\n",
       "      <td>4</td>\n",
       "      <td>218</td>\n",
       "      <td>tile_4_4</td>\n",
       "      <td>5443</td>\n",
       "      <td>5499</td>\n",
       "      <td>6781</td>\n",
       "      <td>6853</td>\n",
       "      <td>78</td>\n",
       "      <td>71</td>\n",
       "      <td>1416</td>\n",
       "      <td>1425</td>\n",
       "    </tr>\n",
       "    <tr>\n",
       "      <th>33</th>\n",
       "      <td>5368</td>\n",
       "      <td>6782</td>\n",
       "      <td>5</td>\n",
       "      <td>33</td>\n",
       "      <td>4</td>\n",
       "      <td>5</td>\n",
       "      <td>219</td>\n",
       "      <td>tile_5_4</td>\n",
       "      <td>5445</td>\n",
       "      <td>6853</td>\n",
       "      <td>6784</td>\n",
       "      <td>8206</td>\n",
       "      <td>77</td>\n",
       "      <td>71</td>\n",
       "      <td>1416</td>\n",
       "      <td>1424</td>\n",
       "    </tr>\n",
       "    <tr>\n",
       "      <th>34</th>\n",
       "      <td>5364</td>\n",
       "      <td>8134</td>\n",
       "      <td>2</td>\n",
       "      <td>34</td>\n",
       "      <td>4</td>\n",
       "      <td>6</td>\n",
       "      <td>220</td>\n",
       "      <td>tile_6_4</td>\n",
       "      <td>5442</td>\n",
       "      <td>8206</td>\n",
       "      <td>6781</td>\n",
       "      <td>9630</td>\n",
       "      <td>78</td>\n",
       "      <td>72</td>\n",
       "      <td>1417</td>\n",
       "      <td>1496</td>\n",
       "    </tr>\n",
       "    <tr>\n",
       "      <th>35</th>\n",
       "      <td>6701</td>\n",
       "      <td>21</td>\n",
       "      <td>13</td>\n",
       "      <td>35</td>\n",
       "      <td>5</td>\n",
       "      <td>0</td>\n",
       "      <td>221</td>\n",
       "      <td>tile_0_5</td>\n",
       "      <td>6782</td>\n",
       "      <td>21</td>\n",
       "      <td>8121</td>\n",
       "      <td>1443</td>\n",
       "      <td>81</td>\n",
       "      <td>0</td>\n",
       "      <td>1420</td>\n",
       "      <td>1422</td>\n",
       "    </tr>\n",
       "    <tr>\n",
       "      <th>36</th>\n",
       "      <td>6699</td>\n",
       "      <td>1369</td>\n",
       "      <td>10</td>\n",
       "      <td>36</td>\n",
       "      <td>5</td>\n",
       "      <td>1</td>\n",
       "      <td>222</td>\n",
       "      <td>tile_1_5</td>\n",
       "      <td>6781</td>\n",
       "      <td>1443</td>\n",
       "      <td>8118</td>\n",
       "      <td>2794</td>\n",
       "      <td>82</td>\n",
       "      <td>74</td>\n",
       "      <td>1419</td>\n",
       "      <td>1425</td>\n",
       "    </tr>\n",
       "    <tr>\n",
       "      <th>37</th>\n",
       "      <td>6701</td>\n",
       "      <td>2722</td>\n",
       "      <td>10</td>\n",
       "      <td>37</td>\n",
       "      <td>5</td>\n",
       "      <td>2</td>\n",
       "      <td>223</td>\n",
       "      <td>tile_2_5</td>\n",
       "      <td>6781</td>\n",
       "      <td>2794</td>\n",
       "      <td>8119</td>\n",
       "      <td>4149</td>\n",
       "      <td>80</td>\n",
       "      <td>72</td>\n",
       "      <td>1418</td>\n",
       "      <td>1427</td>\n",
       "    </tr>\n",
       "    <tr>\n",
       "      <th>38</th>\n",
       "      <td>6700</td>\n",
       "      <td>4080</td>\n",
       "      <td>6</td>\n",
       "      <td>38</td>\n",
       "      <td>5</td>\n",
       "      <td>3</td>\n",
       "      <td>224</td>\n",
       "      <td>tile_3_5</td>\n",
       "      <td>6781</td>\n",
       "      <td>4149</td>\n",
       "      <td>8119</td>\n",
       "      <td>5505</td>\n",
       "      <td>81</td>\n",
       "      <td>69</td>\n",
       "      <td>1419</td>\n",
       "      <td>1425</td>\n",
       "    </tr>\n",
       "    <tr>\n",
       "      <th>39</th>\n",
       "      <td>6701</td>\n",
       "      <td>5433</td>\n",
       "      <td>5</td>\n",
       "      <td>39</td>\n",
       "      <td>5</td>\n",
       "      <td>4</td>\n",
       "      <td>225</td>\n",
       "      <td>tile_4_5</td>\n",
       "      <td>6781</td>\n",
       "      <td>5505</td>\n",
       "      <td>8119</td>\n",
       "      <td>6858</td>\n",
       "      <td>80</td>\n",
       "      <td>72</td>\n",
       "      <td>1418</td>\n",
       "      <td>1425</td>\n",
       "    </tr>\n",
       "    <tr>\n",
       "      <th>40</th>\n",
       "      <td>6704</td>\n",
       "      <td>6786</td>\n",
       "      <td>6</td>\n",
       "      <td>40</td>\n",
       "      <td>5</td>\n",
       "      <td>5</td>\n",
       "      <td>226</td>\n",
       "      <td>tile_5_5</td>\n",
       "      <td>6784</td>\n",
       "      <td>6858</td>\n",
       "      <td>8123</td>\n",
       "      <td>8210</td>\n",
       "      <td>80</td>\n",
       "      <td>72</td>\n",
       "      <td>1419</td>\n",
       "      <td>1424</td>\n",
       "    </tr>\n",
       "    <tr>\n",
       "      <th>41</th>\n",
       "      <td>6701</td>\n",
       "      <td>8138</td>\n",
       "      <td>1</td>\n",
       "      <td>41</td>\n",
       "      <td>5</td>\n",
       "      <td>6</td>\n",
       "      <td>227</td>\n",
       "      <td>tile_6_5</td>\n",
       "      <td>6781</td>\n",
       "      <td>8210</td>\n",
       "      <td>8121</td>\n",
       "      <td>9634</td>\n",
       "      <td>80</td>\n",
       "      <td>72</td>\n",
       "      <td>1420</td>\n",
       "      <td>1496</td>\n",
       "    </tr>\n",
       "    <tr>\n",
       "      <th>42</th>\n",
       "      <td>8044</td>\n",
       "      <td>24</td>\n",
       "      <td>13</td>\n",
       "      <td>42</td>\n",
       "      <td>6</td>\n",
       "      <td>0</td>\n",
       "      <td>228</td>\n",
       "      <td>tile_0_6</td>\n",
       "      <td>8121</td>\n",
       "      <td>24</td>\n",
       "      <td>9462</td>\n",
       "      <td>1447</td>\n",
       "      <td>77</td>\n",
       "      <td>0</td>\n",
       "      <td>1418</td>\n",
       "      <td>1423</td>\n",
       "    </tr>\n",
       "    <tr>\n",
       "      <th>43</th>\n",
       "      <td>8041</td>\n",
       "      <td>1373</td>\n",
       "      <td>9</td>\n",
       "      <td>43</td>\n",
       "      <td>6</td>\n",
       "      <td>1</td>\n",
       "      <td>229</td>\n",
       "      <td>tile_1_6</td>\n",
       "      <td>8118</td>\n",
       "      <td>1447</td>\n",
       "      <td>9460</td>\n",
       "      <td>2798</td>\n",
       "      <td>77</td>\n",
       "      <td>74</td>\n",
       "      <td>1419</td>\n",
       "      <td>1425</td>\n",
       "    </tr>\n",
       "    <tr>\n",
       "      <th>44</th>\n",
       "      <td>8041</td>\n",
       "      <td>2726</td>\n",
       "      <td>8</td>\n",
       "      <td>44</td>\n",
       "      <td>6</td>\n",
       "      <td>2</td>\n",
       "      <td>230</td>\n",
       "      <td>tile_2_6</td>\n",
       "      <td>8119</td>\n",
       "      <td>2798</td>\n",
       "      <td>9459</td>\n",
       "      <td>4153</td>\n",
       "      <td>78</td>\n",
       "      <td>72</td>\n",
       "      <td>1418</td>\n",
       "      <td>1427</td>\n",
       "    </tr>\n",
       "    <tr>\n",
       "      <th>45</th>\n",
       "      <td>8041</td>\n",
       "      <td>4084</td>\n",
       "      <td>4</td>\n",
       "      <td>45</td>\n",
       "      <td>6</td>\n",
       "      <td>3</td>\n",
       "      <td>231</td>\n",
       "      <td>tile_3_6</td>\n",
       "      <td>8119</td>\n",
       "      <td>4153</td>\n",
       "      <td>9459</td>\n",
       "      <td>5509</td>\n",
       "      <td>78</td>\n",
       "      <td>69</td>\n",
       "      <td>1418</td>\n",
       "      <td>1425</td>\n",
       "    </tr>\n",
       "    <tr>\n",
       "      <th>46</th>\n",
       "      <td>8041</td>\n",
       "      <td>5437</td>\n",
       "      <td>5</td>\n",
       "      <td>46</td>\n",
       "      <td>6</td>\n",
       "      <td>4</td>\n",
       "      <td>232</td>\n",
       "      <td>tile_4_6</td>\n",
       "      <td>8119</td>\n",
       "      <td>5509</td>\n",
       "      <td>9461</td>\n",
       "      <td>6861</td>\n",
       "      <td>78</td>\n",
       "      <td>72</td>\n",
       "      <td>1420</td>\n",
       "      <td>1424</td>\n",
       "    </tr>\n",
       "    <tr>\n",
       "      <th>47</th>\n",
       "      <td>8046</td>\n",
       "      <td>6789</td>\n",
       "      <td>5</td>\n",
       "      <td>47</td>\n",
       "      <td>6</td>\n",
       "      <td>5</td>\n",
       "      <td>233</td>\n",
       "      <td>tile_5_6</td>\n",
       "      <td>8123</td>\n",
       "      <td>6861</td>\n",
       "      <td>9465</td>\n",
       "      <td>8213</td>\n",
       "      <td>77</td>\n",
       "      <td>72</td>\n",
       "      <td>1419</td>\n",
       "      <td>1424</td>\n",
       "    </tr>\n",
       "    <tr>\n",
       "      <th>48</th>\n",
       "      <td>8044</td>\n",
       "      <td>8141</td>\n",
       "      <td>1</td>\n",
       "      <td>48</td>\n",
       "      <td>6</td>\n",
       "      <td>6</td>\n",
       "      <td>234</td>\n",
       "      <td>tile_6_6</td>\n",
       "      <td>8121</td>\n",
       "      <td>8213</td>\n",
       "      <td>9464</td>\n",
       "      <td>9637</td>\n",
       "      <td>77</td>\n",
       "      <td>72</td>\n",
       "      <td>1420</td>\n",
       "      <td>1496</td>\n",
       "    </tr>\n",
       "    <tr>\n",
       "      <th>49</th>\n",
       "      <td>9384</td>\n",
       "      <td>28</td>\n",
       "      <td>13</td>\n",
       "      <td>49</td>\n",
       "      <td>7</td>\n",
       "      <td>0</td>\n",
       "      <td>235</td>\n",
       "      <td>tile_0_7</td>\n",
       "      <td>9462</td>\n",
       "      <td>28</td>\n",
       "      <td>10880</td>\n",
       "      <td>1450</td>\n",
       "      <td>78</td>\n",
       "      <td>0</td>\n",
       "      <td>1496</td>\n",
       "      <td>1422</td>\n",
       "    </tr>\n",
       "  </tbody>\n",
       "</table>\n",
       "</div>"
      ],
      "text/plain": [
       "       x     y   z  fov_index  col  row   id      grid  start_x  start_y  \\\n",
       "0      4     2  15          0    0    0    0  tile_0_0        0        0   \n",
       "1     11  1350  15          1    0    1  190  tile_1_0       11     1350   \n",
       "2     10  2699  14          2    0    2  191  tile_2_0       10     2773   \n",
       "3      9  4055  12          3    0    3  192  tile_3_0        9     4125   \n",
       "4      9  5409  11          4    0    4  193  tile_4_0        9     5480   \n",
       "5      2  6764   8          5    0    5    0  tile_5_0        0        0   \n",
       "6      0  8113   6          6    0    6    0  tile_6_0        0        0   \n",
       "7   1347     0  14          7    1    0  194  tile_0_1     1347        0   \n",
       "8   1347  1350  15          8    1    1  195  tile_1_1     1427     1423   \n",
       "9   1349  2703  12          9    1    2  196  tile_2_1     1428     2775   \n",
       "10  1349  4060  12         10    1    3  197  tile_3_1     1427     4130   \n",
       "11  1349  5414  10         11    1    4  198  tile_4_1     1427     5485   \n",
       "12  1346  6767   5         12    1    5  199  tile_5_1     1346     6839   \n",
       "13  1344  8115   5         13    1    6    0  tile_6_1        0        0   \n",
       "14  2688     5  16         14    2    0  200  tile_0_2     2766        5   \n",
       "15  2689  1355  13         15    2    1  201  tile_1_2     2766     1428   \n",
       "16  2689  2707  11         16    2    2  202  tile_2_2     2767     2779   \n",
       "17  2689  4065  11         17    2    3  203  tile_3_2     2767     4134   \n",
       "18  2689  5418   7         18    2    4  204  tile_4_2     2767     5490   \n",
       "19  2689  6772   6         19    2    5  205  tile_5_2     2766     6843   \n",
       "20  2685  8123   2         20    2    6  206  tile_6_2     2685     8196   \n",
       "21  4023     9  14         21    3    0  207  tile_0_3     4104        9   \n",
       "22  4023  1360  11         22    3    1  208  tile_1_3     4104     1433   \n",
       "23  4024  2713  11         23    3    2  209  tile_2_3     4105     2785   \n",
       "24  4024  4070  10         24    3    3  210  tile_3_3     4105     4140   \n",
       "25  4024  5424   7         25    3    4  211  tile_4_3     4105     5495   \n",
       "26  4025  6776   6         26    3    5  212  tile_5_3     4105     6848   \n",
       "27  4023  8129   2         27    3    6  213  tile_6_3     4102     8201   \n",
       "28  5366    16  14         28    4    0  214  tile_0_4     5443       16   \n",
       "29  5366  1364  12         29    4    1  215  tile_1_4     5443     1438   \n",
       "30  5365  2717  11         30    4    2  216  tile_2_4     5443     2789   \n",
       "31  5365  4074   8         31    4    3  217  tile_3_4     5443     4144   \n",
       "32  5365  5428   6         32    4    4  218  tile_4_4     5443     5499   \n",
       "33  5368  6782   5         33    4    5  219  tile_5_4     5445     6853   \n",
       "34  5364  8134   2         34    4    6  220  tile_6_4     5442     8206   \n",
       "35  6701    21  13         35    5    0  221  tile_0_5     6782       21   \n",
       "36  6699  1369  10         36    5    1  222  tile_1_5     6781     1443   \n",
       "37  6701  2722  10         37    5    2  223  tile_2_5     6781     2794   \n",
       "38  6700  4080   6         38    5    3  224  tile_3_5     6781     4149   \n",
       "39  6701  5433   5         39    5    4  225  tile_4_5     6781     5505   \n",
       "40  6704  6786   6         40    5    5  226  tile_5_5     6784     6858   \n",
       "41  6701  8138   1         41    5    6  227  tile_6_5     6781     8210   \n",
       "42  8044    24  13         42    6    0  228  tile_0_6     8121       24   \n",
       "43  8041  1373   9         43    6    1  229  tile_1_6     8118     1447   \n",
       "44  8041  2726   8         44    6    2  230  tile_2_6     8119     2798   \n",
       "45  8041  4084   4         45    6    3  231  tile_3_6     8119     4153   \n",
       "46  8041  5437   5         46    6    4  232  tile_4_6     8119     5509   \n",
       "47  8046  6789   5         47    6    5  233  tile_5_6     8123     6861   \n",
       "48  8044  8141   1         48    6    6  234  tile_6_6     8121     8213   \n",
       "49  9384    28  13         49    7    0  235  tile_0_7     9462       28   \n",
       "\n",
       "    end_x  end_y  start_x_norm  start_y_norm  end_x_norm  end_y_norm  \n",
       "0       0      0             0             0           0           0  \n",
       "1    1427   2773             0             0        1416        1423  \n",
       "2    1428   4125             0            74        1418        1426  \n",
       "3    1427   5480             0            70        1418        1425  \n",
       "4    1427   6905             0            71        1418        1496  \n",
       "5       0      0             0             0           0           0  \n",
       "6       0      0             0             0           0           0  \n",
       "7    2766   1423             0             0        1419        1423  \n",
       "8    2766   2775            80            73        1419        1425  \n",
       "9    2767   4130            79            72        1418        1427  \n",
       "10   2767   5485            78            70        1418        1425  \n",
       "11   2767   6839            78            71        1418        1425  \n",
       "12   2766   8263             0            72        1420        1496  \n",
       "13      0      0             0             0           0           0  \n",
       "14   4104   1428            78             0        1416        1423  \n",
       "15   4104   2779            77            73        1415        1424  \n",
       "16   4105   4134            78            72        1416        1427  \n",
       "17   4105   5490            78            69        1416        1425  \n",
       "18   4105   6843            78            72        1416        1425  \n",
       "19   4105   8196            77            71        1416        1424  \n",
       "20   4102   9619             0            73        1417        1496  \n",
       "21   5443   1433            81             0        1420        1424  \n",
       "22   5443   2785            81            73        1420        1425  \n",
       "23   5443   4140            81            72        1419        1427  \n",
       "24   5443   5495            81            70        1419        1425  \n",
       "25   5443   6848            81            71        1419        1424  \n",
       "26   5445   8201            80            72        1420        1425  \n",
       "27   5442   9625            79            72        1419        1496  \n",
       "28   6782   1438            77             0        1416        1422  \n",
       "29   6781   2789            77            74        1415        1425  \n",
       "30   6781   4144            78            72        1416        1427  \n",
       "31   6781   5499            78            70        1416        1425  \n",
       "32   6781   6853            78            71        1416        1425  \n",
       "33   6784   8206            77            71        1416        1424  \n",
       "34   6781   9630            78            72        1417        1496  \n",
       "35   8121   1443            81             0        1420        1422  \n",
       "36   8118   2794            82            74        1419        1425  \n",
       "37   8119   4149            80            72        1418        1427  \n",
       "38   8119   5505            81            69        1419        1425  \n",
       "39   8119   6858            80            72        1418        1425  \n",
       "40   8123   8210            80            72        1419        1424  \n",
       "41   8121   9634            80            72        1420        1496  \n",
       "42   9462   1447            77             0        1418        1423  \n",
       "43   9460   2798            77            74        1419        1425  \n",
       "44   9459   4153            78            72        1418        1427  \n",
       "45   9459   5509            78            69        1418        1425  \n",
       "46   9461   6861            78            72        1420        1424  \n",
       "47   9465   8213            77            72        1419        1424  \n",
       "48   9464   9637            77            72        1420        1496  \n",
       "49  10880   1450            78             0        1496        1422  "
      ]
     },
     "execution_count": 178,
     "metadata": {},
     "output_type": "execute_result"
    }
   ],
   "source": [
    "tile_config_df.head(50)"
   ]
  },
  {
   "cell_type": "code",
   "execution_count": 179,
   "metadata": {},
   "outputs": [],
   "source": [
    "tile_config_df.to_csv(os.path.join(output_path, f'tile_config_{current_sample}.csv'))"
   ]
  },
  {
   "cell_type": "code",
   "execution_count": 46,
   "metadata": {},
   "outputs": [
    {
     "name": "stdout",
     "output_type": "stream",
     "text": [
      "707\n"
     ]
    },
    {
     "ename": "NameError",
     "evalue": "name 'morph_path' is not defined",
     "output_type": "error",
     "traceback": [
      "\u001b[0;31m---------------------------------------------------------------------------\u001b[0m",
      "\u001b[0;31mNameError\u001b[0m                                 Traceback (most recent call last)",
      "Cell \u001b[0;32mIn[46], line 12\u001b[0m\n\u001b[1;32m      9\u001b[0m current_fov_id \u001b[38;5;241m=\u001b[39m \u001b[38;5;124mf\u001b[39m\u001b[38;5;124m\"\u001b[39m\u001b[38;5;124mPosition\u001b[39m\u001b[38;5;132;01m{\u001b[39;00mcurrent_id\u001b[38;5;132;01m:\u001b[39;00m\u001b[38;5;124m03\u001b[39m\u001b[38;5;132;01m}\u001b[39;00m\u001b[38;5;124m\"\u001b[39m\n\u001b[1;32m     11\u001b[0m \u001b[38;5;66;03m# Create path \u001b[39;00m\n\u001b[0;32m---> 12\u001b[0m current_morph_path \u001b[38;5;241m=\u001b[39m os\u001b[38;5;241m.\u001b[39mpath\u001b[38;5;241m.\u001b[39mjoin(\u001b[43mmorph_path\u001b[49m, current_fov_id)\n\u001b[1;32m     13\u001b[0m \u001b[38;5;28;01mif\u001b[39;00m \u001b[38;5;129;01mnot\u001b[39;00m os\u001b[38;5;241m.\u001b[39mpath\u001b[38;5;241m.\u001b[39mexists(current_morph_path):\n\u001b[1;32m     14\u001b[0m     os\u001b[38;5;241m.\u001b[39mmkdir(current_morph_path)\n",
      "\u001b[0;31mNameError\u001b[0m: name 'morph_path' is not defined"
     ]
    }
   ],
   "source": [
    "for i in range(tile_config_df.shape[0]):\n",
    "    current_record = tile_config_df.iloc[i]\n",
    "    current_id = current_record['id']\n",
    "    \n",
    "    if current_id == 0:\n",
    "        continue\n",
    "    else:\n",
    "        print(current_id)\n",
    "        current_fov_id = f\"Position{current_id:03}\"\n",
    "\n",
    "        # Create path \n",
    "        current_morph_path = os.path.join(morph_path, current_fov_id)\n",
    "        if not os.path.exists(current_morph_path):\n",
    "            os.mkdir(current_morph_path)\n",
    "\n",
    "        current_expr_path = os.path.join(expr_path, current_fov_id)\n",
    "        if not os.path.exists(current_expr_path):\n",
    "            os.mkdir(current_expr_path)\n",
    "\n",
    "        # Load images\n",
    "        current_gray_img = imread(os.path.join(image_path, \"flamingo\", 'DAPI', f\"{current_fov_id}.tif\"))\n",
    "        current_gray_max = np.max((current_gray_img), axis=0)\n",
    "        current_label_img = imread(os.path.join(image_path, \"flamingo\", 'stardist_segmentation', f\"{current_fov_id}.tif\"))\n",
    "        current_label_max = np.max((current_label_img > 0), axis=0)\n",
    "        current_seg_coverage = (current_label_img > 0).sum() / (current_gray_img > 40).sum() * 100\n",
    "        print(current_seg_coverage)\n",
    "\n",
    "        # Load signal\n",
    "        reads_df = pd.read_csv(os.path.join(signal_path, f'{current_fov_id}_goodSpots.csv'))\n",
    "        reads_df['x'] = reads_df['x'] - 1\n",
    "        reads_df['y'] = reads_df['y'] - 1\n",
    "        reads_df['z'] = reads_df['z'] - 1\n",
    "        reads_df['global_x'] = reads_df['x'] + current_record['x']\n",
    "        reads_df['global_y'] = reads_df['y'] + current_record['y']\n",
    "        reads_df['global_z'] = reads_df['z'] + current_record['z']\n",
    "\n",
    "        # Load genes.csv\n",
    "        genes_df = pd.read_csv(os.path.join(base_path, \"genes.csv\"), header=None)\n",
    "        genes_df.columns = ['gene', 'barcode']\n",
    "\n",
    "        # Reads assignment to cell\n",
    "        points = reads_df.loc[:, [\"x\", \"y\", \"z\"]].values\n",
    "        bases = reads_df['gene'].values\n",
    "        reads_assignment = current_label_img[points[:, 2], points[:, 1], points[:, 0]]\n",
    "        reads_df['seg_label'] = reads_assignment\n",
    "        \n",
    "        cell_locs = []\n",
    "        total_cells = len(np.unique(current_label_img)) - 1\n",
    "        areas = []\n",
    "        seg_labels = []\n",
    "\n",
    "        genes = genes_df['gene'].values\n",
    "        cell_by_gene = np.zeros((total_cells, len(genes)))\n",
    "        gene_seq_to_index = {}  # map from sequence to index into matrix\n",
    "\n",
    "        for i, k in enumerate(genes):\n",
    "            gene_seq_to_index[k] = i\n",
    "            \n",
    "        # Iterate through cells\n",
    "        print('Iterate cells...')\n",
    "        for i, region in enumerate(tqdm(regionprops(current_label_img, current_gray_img))):\n",
    "            areas.append(region.area)\n",
    "            cell_locs.append(region.centroid)\n",
    "            seg_labels.append(region.label)\n",
    "            current_cell_label = region.image\n",
    "            current_cell_image = region.image_intensity\n",
    "            imwrite(os.path.join(current_morph_path, f\"mask_{region.label}.tif\"), current_cell_label)\n",
    "            imwrite(os.path.join(current_morph_path, f\"img_{region.label}.tif\"), current_cell_image)\n",
    "\n",
    "            assigned_reads = bases[np.argwhere(reads_assignment == region.label).flatten()]\n",
    "            for j in assigned_reads:\n",
    "                if j in gene_seq_to_index:\n",
    "                    cell_by_gene[i, gene_seq_to_index[j]] += 1\n",
    "            \n",
    "        cell_locs = np.array(cell_locs).astype(int)\n",
    "        global_cell_locs = cell_locs + np.array([current_record['z'], current_record['y'], current_record['x']])\n",
    "        current_meta = pd.DataFrame({'sample': current_sample, 'fov_id': current_fov_id, 'volume': areas, 'fov_x': cell_locs[:, 2], 'fov_y': cell_locs[:, 1], 'fov_z': cell_locs[:, 0], 'seg_label': seg_labels,\n",
    "                                    'global_x': global_cell_locs[:, 2], 'global_y': global_cell_locs[:, 1], 'global_z': global_cell_locs[:, 0]})\n",
    "        cell_barcode_names = pd.DataFrame({'gene': genes})\n",
    "        cell_barcode_names.index = cell_barcode_names['gene']\n",
    "\n",
    "        # Create scanpy object\n",
    "        adata = AnnData(X=cell_by_gene, obs=current_meta, var=cell_barcode_names)\n",
    "\n",
    "        # Filter cells based on location \n",
    "        adata = adata[adata.obs['fov_x'].isin(range(current_record['start_x_norm'], current_record['end_x_norm'])), ]\n",
    "        adata = adata[adata.obs['fov_y'].isin(range(current_record['start_y_norm'], current_record['end_y_norm'])), ]\n",
    "        adata.obs = adata.obs.reset_index(drop=True)\n",
    "        \n",
    "        # Visualize the data\n",
    "        # cell centers on the segmentation\n",
    "        fig, ax = plt.subplots(figsize=(10, 10))\n",
    "        ax.imshow(current_label_max, cmap='gray')\n",
    "        rect = patches.Rectangle((current_record.start_x_norm, current_record.start_y_norm), \n",
    "                                current_record.end_x_norm - current_record.start_x_norm, \n",
    "                                current_record.end_y_norm - current_record.start_y_norm,\n",
    "                                linewidth=.5, edgecolor='y', facecolor='none')\n",
    "        ax.add_patch(rect)\n",
    "\n",
    "        ax.plot(current_meta.fov_x, current_meta.fov_y, 'k.', markersize=1, )\n",
    "        ax.plot(adata.obs.fov_x, adata.obs.fov_y, 'r.', markersize=2, ) \n",
    "        plt.savefig(os.path.join(current_expr_path, f\"cell_centers_on_label.png\"))\n",
    "        plt.clf()\n",
    "        plt.close()\n",
    "        # plt.show()\n",
    "\n",
    "        # cell centers on the dapi\n",
    "        fig, ax = plt.subplots(figsize=(10, 10))\n",
    "        ax.imshow(current_gray_max, cmap='gray')\n",
    "        rect = patches.Rectangle((current_record.start_x_norm, current_record.start_y_norm), \n",
    "                                current_record.end_x_norm - current_record.start_x_norm, \n",
    "                                current_record.end_y_norm - current_record.start_y_norm,\n",
    "                                linewidth=.5, edgecolor='y', facecolor='none')\n",
    "        ax.add_patch(rect)\n",
    "\n",
    "        ax.plot(current_meta.fov_x, current_meta.fov_y, 'k.', markersize=1, )\n",
    "        ax.plot(adata.obs.fov_x, adata.obs.fov_y, 'r.', markersize=2, ) \n",
    "        plt.savefig(os.path.join(current_expr_path, f\"cell_centers_on_dapi.png\"))\n",
    "        plt.clf()\n",
    "        plt.close()\n",
    "        # plt.show()\n",
    "\n",
    "        # reads on the segmentation\n",
    "        fig, ax = plt.subplots(figsize=(10, 10))\n",
    "        ax.imshow(current_label_max, cmap='gray')\n",
    "        rect = patches.Rectangle((current_record.start_x_norm, current_record.start_y_norm), \n",
    "                                current_record.end_x_norm - current_record.start_x_norm, \n",
    "                                current_record.end_y_norm - current_record.start_y_norm,\n",
    "                                linewidth=.5, edgecolor='y', facecolor='none')\n",
    "        ax.add_patch(rect)\n",
    "\n",
    "        ax.plot(reads_df.x, reads_df.y, 'r.', markersize=1, )\n",
    "        plt.savefig(os.path.join(current_expr_path, f\"reads_on_label.png\"))\n",
    "        plt.clf()\n",
    "        plt.close()\n",
    "        # plt.show()\n",
    "\n",
    "        # Output\n",
    "        # log\n",
    "        with open(os.path.join(current_expr_path, \"log.txt\"), 'w') as f:\n",
    "            msg = \"{:.2%} percent [{} out of {}] reads were assigned to {} cells\\n\".format(cell_by_gene.sum()/len(bases), cell_by_gene.sum(), len(bases), total_cells)\n",
    "            f.write(msg)\n",
    "            f.write(f\"segmentation coverage: {current_seg_coverage:.2f}%\")\n",
    "\n",
    "        # adata\n",
    "        adata.write(os.path.join(current_expr_path, \"raw.h5ad\"))\n",
    "        \n",
    "        # reads assignment\n",
    "        reads_df.to_csv(os.path.join(current_expr_path, \"reads_assignment.csv\"), index=False)\n",
    "\n",
    "        break\n",
    "\n",
    "\n",
    "        "
   ]
  },
  {
   "cell_type": "code",
   "execution_count": 132,
   "metadata": {},
   "outputs": [],
   "source": [
    "with open(\"/home/unix/jiahao/wanglab/jiahao/Github/starfinder/test/Jiakun/fov.txt\", \"w\") as f:\n",
    "    for i in range(1, 1524 + 1):\n",
    "        f.write(f\"{str(i)}\\n\")"
   ]
  },
  {
   "cell_type": "code",
   "execution_count": null,
   "metadata": {},
   "outputs": [],
   "source": []
  }
 ],
 "metadata": {
  "kernelspec": {
   "display_name": "Python 3 (ipykernel)",
   "language": "python",
   "name": "python3"
  },
  "language_info": {
   "codemirror_mode": {
    "name": "ipython",
    "version": 3
   },
   "file_extension": ".py",
   "mimetype": "text/x-python",
   "name": "python",
   "nbconvert_exporter": "python",
   "pygments_lexer": "ipython3",
   "version": "3.9.15"
  }
 },
 "nbformat": 4,
 "nbformat_minor": 4
}
