{
 "cells": [
  {
   "cell_type": "code",
   "execution_count": null,
   "metadata": {},
   "outputs": [],
   "source": [
    "import os\n",
    "import numpy as np\n",
    "import pandas as pd\n",
    "import seaborn as sns\n",
    "import scanpy as sc\n",
    "import anndata as ad\n",
    "import matplotlib.pyplot as plt\n",
    "from matplotlib.colors import ListedColormap\n",
    "from tqdm.notebook import tqdm\n",
    "\n",
    "from sklearn.cluster import KMeans\n",
    "from sklearn.metrics import adjusted_rand_score"
   ]
  },
  {
   "cell_type": "markdown",
   "metadata": {},
   "source": [
    "## Input"
   ]
  },
  {
   "cell_type": "code",
   "execution_count": null,
   "metadata": {},
   "outputs": [],
   "source": [
    "base_path = 'Z:/Data/Analyzed/2024-02-23-Hongyu-Covid_Spleen_replicate_2/'\n",
    "output_path = os.path.join(base_path, 'output')\n",
    "expr_path = os.path.join(base_path, 'expr')\n",
    "test_path = os.path.join(output_path, \"kmeans_cell_typing\")\n",
    "if not os.path.exists(test_path):\n",
    "    os.mkdir(test_path)\n",
    "    \n",
    "cdata = sc.read_h5ad(os.path.join(expr_path, f'combined-raw.h5ad'))\n",
    "cdata"
   ]
  },
  {
   "cell_type": "code",
   "execution_count": null,
   "metadata": {},
   "outputs": [],
   "source": [
    "sc.pp.calculate_qc_metrics(cdata, inplace=True, percent_top=None)"
   ]
  },
  {
   "cell_type": "code",
   "execution_count": null,
   "metadata": {},
   "outputs": [],
   "source": [
    "# load region info \n",
    "region_df = pd.read_csv(os.path.join(output_path, 'km-region-4.csv'), index_col=0)\n",
    "region_df.index = region_df['unique_index']"
   ]
  },
  {
   "cell_type": "code",
   "execution_count": null,
   "metadata": {},
   "outputs": [],
   "source": [
    "cdata = cdata[region_df.index, :]\n",
    "cdata.obs['region'] = region_df['region'].values\n",
    "cdata"
   ]
  },
  {
   "cell_type": "code",
   "execution_count": null,
   "metadata": {},
   "outputs": [],
   "source": [
    "# reads count filtering \n",
    "sc.pp.filter_cells(cdata, min_counts=2)\n",
    "sc.pp.filter_cells(cdata, min_genes=2)\n",
    "cdata"
   ]
  },
  {
   "cell_type": "code",
   "execution_count": null,
   "metadata": {},
   "outputs": [],
   "source": [
    "# pp\n",
    "sc.pp.normalize_total(cdata)\n",
    "sc.pp.log1p(cdata)\n",
    "cdata.raw = cdata\n",
    "sc.pp.scale(cdata)\n",
    "cdata.layers['scaled'] = cdata.X.copy()"
   ]
  },
  {
   "cell_type": "code",
   "execution_count": null,
   "metadata": {},
   "outputs": [],
   "source": [
    "fig, axs = plt.subplots(1, 2, figsize=(10, 5))\n",
    "sns.boxplot(y='total_counts', x='sample', data=cdata.obs, ax=axs[0])\n",
    "sns.boxplot(y='n_genes_by_counts', x='sample', data=cdata.obs, ax=axs[1])\n",
    "plt.show()"
   ]
  },
  {
   "cell_type": "code",
   "execution_count": null,
   "metadata": {},
   "outputs": [],
   "source": [
    "fig, axs = plt.subplots(1, 2, figsize=(10, 5))\n",
    "sns.boxplot(y='total_counts', x='condition', data=cdata.obs, ax=axs[0])\n",
    "sns.boxplot(y='n_genes_by_counts', x='condition', data=cdata.obs, ax=axs[1])\n",
    "plt.show()"
   ]
  },
  {
   "cell_type": "code",
   "execution_count": null,
   "metadata": {},
   "outputs": [],
   "source": [
    "# subset by regions \n",
    "rdata = cdata[cdata.obs['region'].isin([1, 2, 3]), :]\n",
    "rdata"
   ]
  },
  {
   "cell_type": "code",
   "execution_count": null,
   "metadata": {},
   "outputs": [],
   "source": [
    "sc.pl.matrixplot(rdata, rdata.var.index, groupby=f'condition', dendrogram=False, use_raw=False, cmap='bwr', vmin=-1, vmax=1, swap_axes=False)"
   ]
  },
  {
   "cell_type": "markdown",
   "metadata": {},
   "source": [
    "## Level 1"
   ]
  },
  {
   "cell_type": "code",
   "execution_count": null,
   "metadata": {},
   "outputs": [],
   "source": [
    "gene_annotation = pd.read_csv(os.path.join(base_path, 'documents', 'gene_annotation.csv'))\n",
    "gene_annotation.index = gene_annotation['Gene']\n",
    "selected_genes = gene_annotation.loc[gene_annotation['Level_1_binary'] == True, 'Gene'].to_list()\n",
    "level_1_order = gene_annotation.loc[gene_annotation['Level_1_binary'] == True, 'Level_1_annotation'].unique()\n",
    "\n",
    "print(f\"Selected genes: {len(selected_genes)}\")\n",
    "print(level_1_order)"
   ]
  },
  {
   "cell_type": "code",
   "execution_count": null,
   "metadata": {},
   "outputs": [],
   "source": [
    "gene_annotation.loc[gene_annotation['Level_1_binary'] == True, :]"
   ]
  },
  {
   "cell_type": "code",
   "execution_count": null,
   "metadata": {},
   "outputs": [],
   "source": [
    "selected_gene_dict = {}\n",
    "for current_type in level_1_order:\n",
    "    selected_gene_dict[current_type] = gene_annotation.loc[(gene_annotation['Level_1_binary'] == True) & (gene_annotation['Level_1_annotation'] == current_type), 'Gene'].to_list()\n",
    "\n",
    "selected_gene_dict"
   ]
  },
  {
   "cell_type": "code",
   "execution_count": null,
   "metadata": {},
   "outputs": [],
   "source": [
    "sdata = rdata[:, selected_genes]\n",
    "sdata"
   ]
  },
  {
   "cell_type": "code",
   "execution_count": null,
   "metadata": {},
   "outputs": [],
   "source": [
    "# Use PCA embedding\n",
    "# extract pca coordinates\n",
    "# sc.pp.pca(sdata)\n",
    "# X_pca = sdata.obsm['X_pca']\n",
    "\n",
    "# Use pped expression profile\n",
    "X_pca = sdata.X\n",
    "\n",
    "# kmeans\n",
    "k = 34\n",
    "kmeans = KMeans(n_clusters=k, random_state=5).fit(X_pca)\n",
    "sdata.obs[f'kmeans{k}'] = kmeans.labels_.astype(str)\n",
    "\n",
    "# sc.pl.pca(sdata, color=[f'kmeans{k}'])\n",
    "sc.pl.heatmap(sdata, selected_gene_dict, groupby=f'kmeans{k}', dendrogram=False, use_raw=False, cmap='bwr', vmin=-4, vmax=4)\n",
    "sc.pl.matrixplot(sdata, selected_gene_dict, groupby=f'kmeans{k}', dendrogram=False, use_raw=False, cmap='bwr', vmin=-4, vmax=4, swap_axes=True)"
   ]
  },
  {
   "cell_type": "code",
   "execution_count": null,
   "metadata": {},
   "outputs": [],
   "source": [
    "# sc.pl.pca(sdata, color=[f'kmeans{k}'])"
   ]
  },
  {
   "cell_type": "markdown",
   "metadata": {},
   "source": [
    "### assign cell types"
   ]
  },
  {
   "cell_type": "code",
   "execution_count": null,
   "metadata": {},
   "outputs": [],
   "source": [
    "# create backup for kmeans label\n",
    "sdata.obs['level_1'] = sdata.obs[f'kmeans{k}'].values"
   ]
  },
  {
   "cell_type": "code",
   "execution_count": null,
   "metadata": {},
   "outputs": [],
   "source": [
    "# Change cluster label to cell type label\n",
    "transfer_dict_l1 = {}\n",
    "\n",
    "# Level_1\n",
    "level_1_list = [\n",
    "    'NK cells', #0\n",
    "    'NA', #1\n",
    "    'Dendritic cells', #2\n",
    "    'NK cells', #3\n",
    "    'Macrophages', #4\n",
    "    'NK cells', #5 \n",
    "    'B cells', #6\n",
    "    'B cells', #7\n",
    "    'Dendritic cells', #8\n",
    "    'Endothelial cells', #9\n",
    "    'T cells', #10 \n",
    "    'B cells', #11\n",
    "    'Dendritic cells', #12\n",
    "    'T cells', #13\n",
    "    'NK cells', #14\n",
    "    'Endothelial cells', #15\n",
    "    'B cells', #16\n",
    "    'Endothelial cells', #17\n",
    "    'Macrophages', #18\n",
    "    'Macrophages', #19\n",
    "    'Dendritic cells', #20\n",
    "    'B cells', #21\n",
    "    'Macrophages', #22\n",
    "    'Dendritic cells', #23\n",
    "    'Dendritic cells', #24\n",
    "    'Endothelial cells', #25\n",
    "    'Macrophages', #26\n",
    "    'T cells', #27\n",
    "    'Dendritic cells', #28\n",
    "    'Macrophages', #29\n",
    "    'NK cells', #30\n",
    "    'Dendritic cells', #31\n",
    "    'B cells', #32\n",
    "    'NK cells', #33\n",
    "]\n",
    "\n",
    "# construct transfer dict\n",
    "for i in sorted(sdata.obs[f'kmeans{k}'].unique()):\n",
    "    transfer_dict_l1[i] = level_1_list[int(i)]"
   ]
  },
  {
   "cell_type": "code",
   "execution_count": null,
   "metadata": {},
   "outputs": [],
   "source": [
    "# Assign cell type to sdata\n",
    "sdata.obs = sdata.obs.replace({'level_1': transfer_dict_l1})"
   ]
  },
  {
   "cell_type": "code",
   "execution_count": null,
   "metadata": {},
   "outputs": [],
   "source": [
    "level_1_order = ['T cells', 'B cells', 'Macrophages', 'Dendritic cells', 'NK cells', 'Endothelial cells', 'NA']\n",
    "sdata.obs['level_1'] = sdata.obs['level_1'].astype('category')\n",
    "sdata.obs['level_1'] = sdata.obs['level_1'].cat.reorder_categories(level_1_order)"
   ]
  },
  {
   "cell_type": "code",
   "execution_count": null,
   "metadata": {},
   "outputs": [],
   "source": [
    "level_1_pl = sns.color_palette(['#00A651', '#FBB040', '#92278F', '#03a5fc', '#386363', '#d12852', '#dbdbdb'])\n",
    "level_1_cmap = ListedColormap(level_1_pl.as_hex())\n",
    "sns.palplot(level_1_pl)\n",
    "plt.xticks(range(len(level_1_order)), level_1_order, size=10, rotation=45)\n",
    "plt.tight_layout()\n",
    "# plt.savefig(os.path.join(fig_path, 'level_2_palette.pdf'))\n",
    "plt.show()"
   ]
  },
  {
   "cell_type": "code",
   "execution_count": null,
   "metadata": {},
   "outputs": [],
   "source": [
    "total_counts = pd.DataFrame(sdata.obs['condition'].value_counts())\n",
    "total_counts_dict = dict(zip(total_counts.index, total_counts['count']))\n",
    "\n",
    "leiden_df = pd.DataFrame(sdata.obs.groupby('level_1')['condition'].value_counts().values)\n",
    "leiden_df.columns = ['counts']\n",
    "leiden_df['level_1'] = [i[0] for i in sdata.obs.groupby('level_1')['condition'].value_counts().index]\n",
    "leiden_df['condition'] = [i[1] for i in sdata.obs.groupby('level_1')['condition'].value_counts().index]\n",
    "leiden_df['condition'] = leiden_df['condition'].astype('category')\n",
    "leiden_df['total_counts'] = leiden_df['condition'].values\n",
    "leiden_df['total_counts'] = leiden_df['total_counts'].map(total_counts_dict)\n",
    "leiden_df['counts'] = leiden_df['counts'].astype(np.float)\n",
    "leiden_df['total_counts'] = leiden_df['total_counts'].astype(np.float)\n",
    "leiden_df['percentage'] = leiden_df['counts'] / leiden_df['total_counts'] * 100\n",
    "\n",
    "sns.barplot(x='level_1', y='percentage', hue='condition', data=leiden_df)\n",
    "plt.xticks(rotation=45)\n",
    "# plt.savefig(os.path.join(output_path, f\"cell_type_composition_condition.png\"))\n",
    "plt.show()"
   ]
  },
  {
   "cell_type": "code",
   "execution_count": null,
   "metadata": {},
   "outputs": [],
   "source": [
    "total_areas = [429, 305, 362, 401, 305, 372]\n",
    "total_areas_dict = dict(zip(sdata.obs['sample'].cat.categories, total_areas))\n",
    "\n",
    "leiden_df = pd.DataFrame(sdata.obs.groupby('level_1')['sample'].value_counts().values)\n",
    "leiden_df.columns = ['counts']\n",
    "leiden_df['level_1'] = [i[0] for i in sdata.obs.groupby('level_1')['sample'].value_counts().index]\n",
    "leiden_df['sample'] = [i[1] for i in sdata.obs.groupby('level_1')['sample'].value_counts().index]\n",
    "leiden_df['sample'] = leiden_df['sample'].astype('category')\n",
    "leiden_df['n_fovs'] = leiden_df['sample'].values\n",
    "leiden_df['n_fovs'] = leiden_df['n_fovs'].map(total_areas_dict)\n",
    "leiden_df['counts'] = leiden_df['counts'].astype(np.float)\n",
    "leiden_df['n_fovs'] = leiden_df['n_fovs'].astype(np.float)\n",
    "leiden_df['counts_per_fov'] = leiden_df['counts'] / leiden_df['n_fovs']\n",
    "\n",
    "sns.barplot(x='level_1', y='counts_per_fov', hue='sample', data=leiden_df)\n",
    "plt.xticks(rotation=45)\n",
    "# plt.savefig(os.path.join(output_path, f\"cell_type_composition_condition.png\"))\n",
    "plt.show()"
   ]
  },
  {
   "cell_type": "code",
   "execution_count": null,
   "metadata": {},
   "outputs": [],
   "source": [
    "leiden_df = pd.DataFrame(sdata.obs.groupby('level_1')['condition'].value_counts().values)\n",
    "leiden_df.columns = ['counts']\n",
    "leiden_df['level_1'] = [i[0] for i in sdata.obs.groupby('level_1')['condition'].value_counts().index]\n",
    "leiden_df['condition'] = [i[1] for i in sdata.obs.groupby('level_1')['condition'].value_counts().index]\n",
    "leiden_df['condition'] = leiden_df['condition'].astype('category')\n",
    "sns.barplot(x='level_1', y='counts', hue='condition', data=leiden_df)\n",
    "plt.xticks(rotation=45)\n",
    "plt.show()"
   ]
  },
  {
   "cell_type": "code",
   "execution_count": null,
   "metadata": {},
   "outputs": [],
   "source": [
    "selected_gene_dict = {}\n",
    "for current_type in level_1_order:\n",
    "    if current_type != 'NA':\n",
    "        selected_gene_dict[current_type] = gene_annotation.loc[(gene_annotation['Level_1_binary'] == True) & (gene_annotation['Level_1_annotation'] == current_type), 'Gene'].to_list()\n",
    "\n",
    "selected_gene_dict"
   ]
  },
  {
   "cell_type": "code",
   "execution_count": null,
   "metadata": {},
   "outputs": [],
   "source": [
    "sc.pl.heatmap(sdata, selected_gene_dict, groupby=f'level_1', dendrogram=False, use_raw=False, cmap='bwr', vmin=-4, vmax=4)\n",
    "sc.pl.matrixplot(sdata, selected_gene_dict, groupby=f'level_1', dendrogram=False, use_raw=False, cmap='bwr', vmin=-4, vmax=4, swap_axes=True)"
   ]
  },
  {
   "cell_type": "code",
   "execution_count": null,
   "metadata": {},
   "outputs": [],
   "source": [
    "for current_sample in sdata.obs['sample'].unique():\n",
    "    print(current_sample)\n",
    "    current_complete_obs = cdata.obs.loc[cdata.obs['sample'] == current_sample, :]\n",
    "    current_obs = sdata.obs.loc[sdata.obs['sample'] == current_sample, :]\n",
    "    \n",
    "    fig_size = np.array([current_complete_obs['global_x'].max(), current_complete_obs['global_y'].max()]) / 1000\n",
    "    fig, ax = plt.subplots(figsize=fig_size)\n",
    "    sns.scatterplot(x='global_x', y='global_y', data=current_complete_obs, color='#dbdbdb', s=1, linewidth=0, ax=ax)\n",
    "    sns.scatterplot(x='global_x', y='global_y', hue='level_1', data=current_obs, palette=level_1_pl, s=1, linewidth=0, ax=ax)\n",
    "    # plt.savefig(os.path.join(output_path, f\"sct_{current_sample}.png\"))\n",
    "    plt.show()"
   ]
  },
  {
   "cell_type": "code",
   "execution_count": null,
   "metadata": {},
   "outputs": [],
   "source": [
    "# Map to regional obj\n",
    "rdata.obs['level_1'] = 'NA'\n",
    "rdata.obs['level_1'] = rdata.obs['level_1'].astype(object)\n",
    "rdata.obs.loc[sdata.obs.index, 'level_1'] = sdata.obs['level_1'].values\n",
    "rdata.obs['level_1'].unique()"
   ]
  },
  {
   "cell_type": "code",
   "execution_count": null,
   "metadata": {},
   "outputs": [],
   "source": [
    "# Map to complete obj\n",
    "cdata.obs['level_1'] = 'NA'\n",
    "cdata.obs['level_1'] = cdata.obs['level_1'].astype(object)\n",
    "cdata.obs.loc[sdata.obs.index, 'level_1'] = sdata.obs['level_1'].values\n",
    "cdata.obs['level_1'].unique()"
   ]
  },
  {
   "cell_type": "code",
   "execution_count": null,
   "metadata": {},
   "outputs": [],
   "source": [
    "# backup\n",
    "from datetime import datetime\n",
    "date = datetime.today().strftime('%Y-%m-%d')\n",
    "rdata.write_h5ad(f\"{expr_path}/{date}-combined-level1-region123.h5ad\")\n",
    "cdata.write_h5ad(f\"{expr_path}/{date}-combined-level1.h5ad\")"
   ]
  },
  {
   "cell_type": "markdown",
   "metadata": {},
   "source": [
    "## Level 2 "
   ]
  },
  {
   "cell_type": "code",
   "execution_count": null,
   "metadata": {},
   "outputs": [],
   "source": [
    "rdata.obs['level_2'] = rdata.obs['level_1'].values\n",
    "rdata.obs['level_2'] = rdata.obs['level_2'].astype(object)"
   ]
  },
  {
   "cell_type": "code",
   "execution_count": null,
   "metadata": {},
   "outputs": [],
   "source": [
    "cdata.obs['level_2'] = cdata.obs['level_1'].values\n",
    "cdata.obs['level_2'] = cdata.obs['level_2'].astype(object)"
   ]
  },
  {
   "cell_type": "markdown",
   "metadata": {},
   "source": [
    "### T cells"
   ]
  },
  {
   "cell_type": "code",
   "execution_count": null,
   "metadata": {},
   "outputs": [],
   "source": [
    "# gene_annotation = pd.read_csv(os.path.join(base_path, 'documents', 'gene_annotation.csv'))\n",
    "# gene_annotation.index = gene_annotation['Gene']\n",
    "# selected_genes = gene_annotation.loc[gene_annotation['Level_2_binary_t_cells'] == True, 'Gene'].to_list()\n",
    "# current_order = gene_annotation.loc[gene_annotation['Level_2_binary_t_cells'] == True, 'Level_2_annotation_t_cells'].unique()\n",
    "current_order = ['CD3+', 'CD3-']\n",
    "# selected_genes = ['Cd3e',]\n",
    "selected_genes = ['Cd3e', 'Cd3d', 'Cd3g', 'Cd4', 'Cd8a']\n",
    "print(f\"Selected genes: {len(selected_genes)}\")\n",
    "print(current_order)"
   ]
  },
  {
   "cell_type": "code",
   "execution_count": null,
   "metadata": {},
   "outputs": [],
   "source": [
    "# selected_gene_dict = {}\n",
    "# for current_type in current_order:\n",
    "#     selected_gene_dict[current_type] = gene_annotation.loc[(gene_annotation['Level_2_binary_t_cells'] == True) & (gene_annotation['Level_2_annotation_t_cells'] == current_type), 'Gene'].to_list()\n",
    "\n",
    "selected_gene_dict = {'CD3+': selected_genes}\n",
    "selected_gene_dict"
   ]
  },
  {
   "cell_type": "code",
   "execution_count": null,
   "metadata": {},
   "outputs": [],
   "source": [
    "sdata = rdata[rdata.obs['level_1'] == 'T cells', selected_genes]\n",
    "sdata"
   ]
  },
  {
   "cell_type": "code",
   "execution_count": null,
   "metadata": {},
   "outputs": [],
   "source": [
    "# sc.pp.pca(sdata)\n",
    "X_pca = sdata.X\n",
    "# X_pca = sdata.obsm['X_pca']\n",
    "\n",
    "# Kmeans elbow\n",
    "distorsions = []\n",
    "for k in range(2, 20):\n",
    "    kmeans = KMeans(n_clusters=k)\n",
    "    kmeans.fit(X_pca)\n",
    "    distorsions.append(kmeans.inertia_)\n",
    "\n",
    "fig = plt.figure(figsize=(15, 5))\n",
    "plt.plot(range(2, 20), distorsions)\n",
    "plt.grid(True)\n",
    "plt.title('Elbow curve')"
   ]
  },
  {
   "cell_type": "code",
   "execution_count": null,
   "metadata": {},
   "outputs": [],
   "source": [
    "# kmeans\n",
    "k = 5\n",
    "kmeans = KMeans(n_clusters=k, random_state=10).fit(X_pca)\n",
    "sdata.obs[f'kmeans{k}'] = kmeans.labels_.astype(str)\n",
    "\n",
    "# sc.pl.pca(sdata, color=[f'kmeans{k}'])\n",
    "sc.pl.heatmap(sdata, selected_gene_dict, groupby=f'kmeans{k}', dendrogram=False, use_raw=False, cmap='bwr', vmin=-4, vmax=4)\n",
    "sc.pl.matrixplot(sdata, selected_gene_dict, groupby=f'kmeans{k}', dendrogram=False, use_raw=False, cmap='bwr', vmin=-4, vmax=4, swap_axes=True)\n",
    "sc.pl.matrixplot(sdata, selected_gene_dict, groupby=f'kmeans{k}', dendrogram=False, use_raw=True, vmax=2, swap_axes=True)"
   ]
  },
  {
   "cell_type": "markdown",
   "metadata": {},
   "source": [
    "#### assign cell types"
   ]
  },
  {
   "cell_type": "code",
   "execution_count": null,
   "metadata": {},
   "outputs": [],
   "source": [
    "# create backup for kmeans label\n",
    "sdata.obs['level_2'] = sdata.obs[f'kmeans{k}'].values"
   ]
  },
  {
   "cell_type": "code",
   "execution_count": null,
   "metadata": {},
   "outputs": [],
   "source": [
    "# Change cluster label to cell type label\n",
    "transfer_dict_l2 = {}\n",
    "\n",
    "# Level_2\n",
    "level_2_list = [\n",
    "    'NA', #0\n",
    "    'CD4+ T cells', #1\n",
    "    'T cells', #2\n",
    "    'T cells', #3\n",
    "    'CD8+ T cells', #4\n",
    "]\n",
    "\n",
    "# construct transfer dict\n",
    "for i in sorted(sdata.obs[f'kmeans{k}'].unique()):\n",
    "    transfer_dict_l2[i] = level_2_list[int(i)]"
   ]
  },
  {
   "cell_type": "code",
   "execution_count": null,
   "metadata": {},
   "outputs": [],
   "source": [
    "# Assign cell type to sdata\n",
    "sdata.obs = sdata.obs.replace({'level_2': transfer_dict_l2})"
   ]
  },
  {
   "cell_type": "code",
   "execution_count": null,
   "metadata": {},
   "outputs": [],
   "source": [
    "current_order = ['T cells', 'CD4+ T cells', 'CD8+ T cells', 'NA']\n",
    "sdata.obs['level_2'] = sdata.obs['level_2'].astype('category')\n",
    "sdata.obs['level_2'] = sdata.obs['level_2'].cat.reorder_categories(current_order)"
   ]
  },
  {
   "cell_type": "code",
   "execution_count": null,
   "metadata": {},
   "outputs": [],
   "source": [
    "current_pl = sns.color_palette('tab10', len(current_order))\n",
    "current_cmap = ListedColormap(current_pl.as_hex())\n",
    "sns.palplot(current_pl)\n",
    "plt.xticks(range(len(current_order)), current_order, size=10, rotation=45)\n",
    "plt.tight_layout()\n",
    "# plt.savefig(os.path.join(fig_path, 'level_2_palette.pdf'))\n",
    "plt.show()"
   ]
  },
  {
   "cell_type": "code",
   "execution_count": null,
   "metadata": {},
   "outputs": [],
   "source": [
    "total_areas = [429, 305, 362, 401, 305, 372]\n",
    "total_areas_dict = dict(zip(sdata.obs['sample'].cat.categories, total_areas))\n",
    "\n",
    "leiden_df = pd.DataFrame(sdata.obs.groupby('level_2')['sample'].value_counts().values)\n",
    "leiden_df.columns = ['counts']\n",
    "leiden_df['level_2'] = [i[0] for i in sdata.obs.groupby('level_2')['sample'].value_counts().index]\n",
    "leiden_df['sample'] = [i[1] for i in sdata.obs.groupby('level_2')['sample'].value_counts().index]\n",
    "leiden_df['sample'] = leiden_df['sample'].astype('category')\n",
    "leiden_df['n_fovs'] = leiden_df['sample'].values\n",
    "leiden_df['n_fovs'] = leiden_df['n_fovs'].map(total_areas_dict)\n",
    "leiden_df['counts'] = leiden_df['counts'].astype(np.float)\n",
    "leiden_df['n_fovs'] = leiden_df['n_fovs'].astype(np.float)\n",
    "leiden_df['counts_per_fov'] = leiden_df['counts'] / leiden_df['n_fovs']\n",
    "\n",
    "sns.barplot(x='level_2', y='counts_per_fov', hue='sample', data=leiden_df)\n",
    "plt.xticks(rotation=45)\n",
    "# plt.savefig(os.path.join(output_path, f\"cell_type_composition_condition.png\"))\n",
    "plt.show()"
   ]
  },
  {
   "cell_type": "code",
   "execution_count": null,
   "metadata": {},
   "outputs": [],
   "source": [
    "total_counts = pd.DataFrame(sdata.obs['condition'].value_counts())\n",
    "total_counts_dict = dict(zip(total_counts.index, total_counts['count']))\n",
    "\n",
    "leiden_df = pd.DataFrame(sdata.obs.groupby('level_2')['condition'].value_counts().values)\n",
    "leiden_df.columns = ['counts']\n",
    "leiden_df['level_2'] = [i[0] for i in sdata.obs.groupby('level_2')['condition'].value_counts().index]\n",
    "leiden_df['condition'] = [i[1] for i in sdata.obs.groupby('level_2')['condition'].value_counts().index]\n",
    "leiden_df['condition'] = leiden_df['condition'].astype('category')\n",
    "leiden_df['total_counts'] = leiden_df['condition'].values\n",
    "leiden_df['total_counts'] = leiden_df['total_counts'].map(total_counts_dict)\n",
    "leiden_df['counts'] = leiden_df['counts'].astype(np.float)\n",
    "leiden_df['total_counts'] = leiden_df['total_counts'].astype(np.float)\n",
    "leiden_df['percentage'] = leiden_df['counts'] / leiden_df['total_counts'] * 100\n",
    "\n",
    "sns.barplot(x='level_2', y='percentage', hue='condition', data=leiden_df)\n",
    "plt.xticks(rotation=45)\n",
    "# plt.savefig(os.path.join(output_path, f\"cell_type_composition_condition.png\"))\n",
    "plt.show()"
   ]
  },
  {
   "cell_type": "code",
   "execution_count": null,
   "metadata": {},
   "outputs": [],
   "source": [
    "leiden_df = pd.DataFrame(sdata.obs.groupby('level_2')['condition'].value_counts().values)\n",
    "leiden_df.columns = ['counts']\n",
    "leiden_df['level_2'] = [i[0] for i in sdata.obs.groupby('level_2')['condition'].value_counts().index]\n",
    "leiden_df['condition'] = [i[1] for i in sdata.obs.groupby('level_2')['condition'].value_counts().index]\n",
    "leiden_df['condition'] = leiden_df['condition'].astype('category')\n",
    "sns.barplot(x='level_2', y='counts', hue='condition', data=leiden_df)\n",
    "plt.xticks(rotation=45)\n",
    "plt.show()"
   ]
  },
  {
   "cell_type": "code",
   "execution_count": null,
   "metadata": {},
   "outputs": [],
   "source": [
    "sc.pl.heatmap(sdata, selected_gene_dict, groupby=f'level_2', dendrogram=False, use_raw=False, cmap='bwr', vmin=-4, vmax=4, figsize=(3, 15))\n",
    "sc.pl.matrixplot(sdata, selected_gene_dict, groupby=f'level_2', dendrogram=False, use_raw=False, cmap='bwr', vmin=-4, vmax=4, swap_axes=True, figsize=(5, 6))\n",
    "sc.pl.dotplot(sdata, selected_gene_dict, groupby=f'level_2', dendrogram=False, use_raw=True, cmap='Reds', swap_axes=True,)"
   ]
  },
  {
   "cell_type": "code",
   "execution_count": null,
   "metadata": {},
   "outputs": [],
   "source": [
    "for current_sample in sdata.obs['sample'].unique():\n",
    "    print(current_sample)\n",
    "    current_complete_obs = cdata.obs.loc[cdata.obs['sample'] == current_sample, :]\n",
    "    current_obs = sdata.obs.loc[(sdata.obs['sample'] == current_sample), :]\n",
    "    # current_obs = sdata.obs.loc[(sdata.obs['sample'] == current_sample) & (sdata.obs['level_2'] != \"T cells\"), :]\n",
    "\n",
    "    fig_size = np.array([current_complete_obs['global_x'].max(), current_complete_obs['global_y'].max()]) / 1000\n",
    "    fig, ax = plt.subplots(figsize=fig_size)\n",
    "    sns.scatterplot(x='global_x', y='global_y', data=current_complete_obs, color='#dbdbdb', s=1, linewidth=0, ax=ax)\n",
    "    sns.scatterplot(x='global_x', y='global_y', hue='level_2', data=current_obs, palette='tab10', size=10, linewidth=0, ax=ax)\n",
    "    # plt.savefig(os.path.join(output_path, f\"sct_{current_sample}.png\"))\n",
    "    plt.show()"
   ]
  },
  {
   "cell_type": "code",
   "execution_count": null,
   "metadata": {},
   "outputs": [],
   "source": [
    "# Map to original obj\n",
    "cdata.obs.loc[sdata.obs.index, 'level_2'] = sdata.obs['level_2'].values\n",
    "rdata.obs.loc[sdata.obs.index, 'level_2'] = sdata.obs['level_2'].values"
   ]
  },
  {
   "cell_type": "code",
   "execution_count": null,
   "metadata": {},
   "outputs": [],
   "source": [
    "na_index = sdata.obs.loc[sdata.obs['level_2'] == 'NA', :].index\n",
    "cdata.obs.loc[na_index, 'level_1'] = 'NA'\n",
    "rdata.obs.loc[na_index, 'level_1'] = 'NA'"
   ]
  },
  {
   "cell_type": "code",
   "execution_count": null,
   "metadata": {},
   "outputs": [],
   "source": [
    "# backup\n",
    "from datetime import datetime\n",
    "date = datetime.today().strftime('%Y-%m-%d')\n",
    "rdata.write_h5ad(f\"{expr_path}/{date}-combined-level2-region123-bk.h5ad\")\n",
    "cdata.write_h5ad(f\"{expr_path}/{date}-combined-level2-bk.h5ad\")"
   ]
  },
  {
   "cell_type": "markdown",
   "metadata": {},
   "source": [
    "### Macrophages"
   ]
  },
  {
   "cell_type": "code",
   "execution_count": null,
   "metadata": {},
   "outputs": [],
   "source": [
    "gene_annotation = pd.read_csv(os.path.join(base_path, 'documents', 'gene_annotation.csv'))\n",
    "gene_annotation.index = gene_annotation['Gene']\n",
    "selected_genes = gene_annotation.loc[gene_annotation['Level_2_binary_macrophages'] == True, 'Gene'].to_list()\n",
    "current_order = gene_annotation.loc[gene_annotation['Level_2_binary_macrophages'] == True, 'Level_2_annotation_macrophages'].unique()\n",
    "\n",
    "print(f\"Selected genes: {len(selected_genes)}\")\n",
    "print(current_order)"
   ]
  },
  {
   "cell_type": "code",
   "execution_count": null,
   "metadata": {},
   "outputs": [],
   "source": [
    "selected_gene_dict = {}\n",
    "for current_type in current_order:\n",
    "    selected_gene_dict[current_type] = gene_annotation.loc[(gene_annotation['Level_2_binary_macrophages'] == True) & (gene_annotation['Level_2_annotation_macrophages'] == current_type), 'Gene'].to_list()\n",
    "\n",
    "selected_gene_dict"
   ]
  },
  {
   "cell_type": "code",
   "execution_count": null,
   "metadata": {},
   "outputs": [],
   "source": [
    "sdata = rdata[rdata.obs['level_1'] == 'Macrophages', selected_genes]\n",
    "sdata"
   ]
  },
  {
   "cell_type": "code",
   "execution_count": null,
   "metadata": {},
   "outputs": [],
   "source": [
    "X_pca = sdata.X\n",
    "\n",
    "# Kmeans elbow\n",
    "distorsions = []\n",
    "for k in range(2, 20):\n",
    "    kmeans = KMeans(n_clusters=k)\n",
    "    kmeans.fit(X_pca)\n",
    "    distorsions.append(kmeans.inertia_)\n",
    "\n",
    "fig = plt.figure(figsize=(15, 5))\n",
    "plt.plot(range(2, 20), distorsions)\n",
    "plt.grid(True)\n",
    "plt.title('Elbow curve')"
   ]
  },
  {
   "cell_type": "code",
   "execution_count": null,
   "metadata": {},
   "outputs": [],
   "source": [
    "# kmeans\n",
    "k = 5\n",
    "kmeans = KMeans(n_clusters=k, random_state=5).fit(X_pca)\n",
    "sdata.obs[f'kmeans{k}'] = kmeans.labels_.astype(str)\n",
    "\n",
    "# sc.pl.pca(sdata, color=[f'kmeans{k}'])\n",
    "sc.pl.heatmap(sdata, selected_gene_dict, groupby=f'kmeans{k}', dendrogram=False, use_raw=False, cmap='bwr', vmin=-4, vmax=4)\n",
    "sc.pl.matrixplot(sdata, selected_gene_dict, groupby=f'kmeans{k}', dendrogram=False, use_raw=False, cmap='bwr', vmin=-4, vmax=4, swap_axes=True)\n",
    "sc.pl.matrixplot(sdata, selected_gene_dict, groupby=f'kmeans{k}', dendrogram=False, use_raw=True, vmax=2, swap_axes=True)"
   ]
  },
  {
   "cell_type": "markdown",
   "metadata": {},
   "source": [
    "#### assign cell types"
   ]
  },
  {
   "cell_type": "code",
   "execution_count": null,
   "metadata": {},
   "outputs": [],
   "source": [
    "# create backup for kmeans label\n",
    "sdata.obs['level_2'] = sdata.obs[f'kmeans{k}'].values"
   ]
  },
  {
   "cell_type": "code",
   "execution_count": null,
   "metadata": {},
   "outputs": [],
   "source": [
    "# Change cluster label to cell type label\n",
    "transfer_dict_l2 = {}\n",
    "\n",
    "# Level_2\n",
    "level_2_list = [\n",
    "    'Macrophages', #0\n",
    "    'Monocytes', #1\n",
    "    'Macrophages', #2\n",
    "    'Monocytes', #3\n",
    "    'Activated Macrophages', #4\n",
    "]\n",
    "\n",
    "# construct transfer dict\n",
    "for i in sorted(sdata.obs[f'kmeans{k}'].unique()):\n",
    "    transfer_dict_l2[i] = level_2_list[int(i)]"
   ]
  },
  {
   "cell_type": "code",
   "execution_count": null,
   "metadata": {},
   "outputs": [],
   "source": [
    "# Assign cell type to sdata\n",
    "sdata.obs = sdata.obs.replace({'level_2': transfer_dict_l2})"
   ]
  },
  {
   "cell_type": "code",
   "execution_count": null,
   "metadata": {},
   "outputs": [],
   "source": [
    "current_order = ['Macrophages', 'Activated Macrophages', 'Monocytes']\n",
    "sdata.obs['level_2'] = sdata.obs['level_2'].astype('category')\n",
    "sdata.obs['level_2'] = sdata.obs['level_2'].cat.reorder_categories(current_order)"
   ]
  },
  {
   "cell_type": "code",
   "execution_count": null,
   "metadata": {},
   "outputs": [],
   "source": [
    "current_pl = sns.color_palette('tab10', len(current_order))\n",
    "current_cmap = ListedColormap(current_pl.as_hex())\n",
    "sns.palplot(current_pl)\n",
    "plt.xticks(range(len(current_order)), current_order, size=10, rotation=45)\n",
    "plt.tight_layout()\n",
    "# plt.savefig(os.path.join(fig_path, 'level_2_palette.pdf'))\n",
    "plt.show()"
   ]
  },
  {
   "cell_type": "code",
   "execution_count": null,
   "metadata": {},
   "outputs": [],
   "source": [
    "total_areas = [429, 305, 362, 401, 305, 372]\n",
    "total_areas_dict = dict(zip(sdata.obs['sample'].cat.categories, total_areas))\n",
    "\n",
    "leiden_df = pd.DataFrame(sdata.obs.groupby('level_2')['sample'].value_counts().values)\n",
    "leiden_df.columns = ['counts']\n",
    "leiden_df['level_2'] = [i[0] for i in sdata.obs.groupby('level_2')['sample'].value_counts().index]\n",
    "leiden_df['sample'] = [i[1] for i in sdata.obs.groupby('level_2')['sample'].value_counts().index]\n",
    "leiden_df['sample'] = leiden_df['sample'].astype('category')\n",
    "leiden_df['n_fovs'] = leiden_df['sample'].values\n",
    "leiden_df['n_fovs'] = leiden_df['n_fovs'].map(total_areas_dict)\n",
    "leiden_df['counts'] = leiden_df['counts'].astype(np.float)\n",
    "leiden_df['n_fovs'] = leiden_df['n_fovs'].astype(np.float)\n",
    "leiden_df['counts_per_fov'] = leiden_df['counts'] / leiden_df['n_fovs']\n",
    "\n",
    "sns.barplot(x='level_2', y='counts_per_fov', hue='sample', data=leiden_df)\n",
    "plt.xticks(rotation=45)\n",
    "# plt.savefig(os.path.join(output_path, f\"cell_type_composition_condition.png\"))\n",
    "plt.show()"
   ]
  },
  {
   "cell_type": "code",
   "execution_count": null,
   "metadata": {},
   "outputs": [],
   "source": [
    "total_counts = pd.DataFrame(sdata.obs['condition'].value_counts())\n",
    "total_counts_dict = dict(zip(total_counts.index, total_counts['count']))\n",
    "\n",
    "leiden_df = pd.DataFrame(sdata.obs.groupby('level_2')['condition'].value_counts().values)\n",
    "leiden_df.columns = ['counts']\n",
    "leiden_df['level_2'] = [i[0] for i in sdata.obs.groupby('level_2')['condition'].value_counts().index]\n",
    "leiden_df['condition'] = [i[1] for i in sdata.obs.groupby('level_2')['condition'].value_counts().index]\n",
    "leiden_df['condition'] = leiden_df['condition'].astype('category')\n",
    "leiden_df['total_counts'] = leiden_df['condition'].values\n",
    "leiden_df['total_counts'] = leiden_df['total_counts'].map(total_counts_dict)\n",
    "leiden_df['counts'] = leiden_df['counts'].astype(np.float)\n",
    "leiden_df['total_counts'] = leiden_df['total_counts'].astype(np.float)\n",
    "leiden_df['percentage'] = leiden_df['counts'] / leiden_df['total_counts'] * 100\n",
    "\n",
    "sns.barplot(x='level_2', y='percentage', hue='condition', data=leiden_df)\n",
    "plt.xticks(rotation=45)\n",
    "# plt.savefig(os.path.join(output_path, f\"cell_type_composition_condition.png\"))\n",
    "plt.show()"
   ]
  },
  {
   "cell_type": "code",
   "execution_count": null,
   "metadata": {},
   "outputs": [],
   "source": [
    "leiden_df = pd.DataFrame(sdata.obs.groupby('level_2')['condition'].value_counts().values)\n",
    "leiden_df.columns = ['counts']\n",
    "leiden_df['level_2'] = [i[0] for i in sdata.obs.groupby('level_2')['condition'].value_counts().index]\n",
    "leiden_df['condition'] = [i[1] for i in sdata.obs.groupby('level_2')['condition'].value_counts().index]\n",
    "leiden_df['condition'] = leiden_df['condition'].astype('category')\n",
    "sns.barplot(x='level_2', y='counts', hue='condition', data=leiden_df)\n",
    "plt.xticks(rotation=45)\n",
    "plt.show()"
   ]
  },
  {
   "cell_type": "code",
   "execution_count": null,
   "metadata": {},
   "outputs": [],
   "source": [
    "selected_gene_dict = {}\n",
    "for current_type in current_order:\n",
    "    if current_type != 'NA':\n",
    "        selected_gene_dict[current_type] = gene_annotation.loc[(gene_annotation['Level_2_binary_macrophages'] == True) & (gene_annotation['Level_2_annotation_macrophages'] == current_type), 'Gene'].to_list()\n",
    "\n",
    "selected_gene_dict"
   ]
  },
  {
   "cell_type": "code",
   "execution_count": null,
   "metadata": {},
   "outputs": [],
   "source": [
    "sc.pl.heatmap(sdata, selected_gene_dict, groupby=f'level_2', dendrogram=False, use_raw=False, cmap='bwr', vmin=-4, vmax=4, figsize=(3, 15))\n",
    "sc.pl.dotplot(sdata, selected_gene_dict, groupby=f'level_2', dendrogram=False, use_raw=False, cmap='bwr', vmin=-4, vmax=4, swap_axes=True)"
   ]
  },
  {
   "cell_type": "code",
   "execution_count": null,
   "metadata": {},
   "outputs": [],
   "source": [
    "for current_sample in sdata.obs['sample'].unique():\n",
    "    print(current_sample)\n",
    "    current_complete_obs = cdata.obs.loc[cdata.obs['sample'] == current_sample, :]\n",
    "    current_obs = sdata.obs.loc[(sdata.obs['sample'] == current_sample), :]\n",
    "    # current_obs = sdata.obs.loc[(sdata.obs['sample'] == current_sample) & (sdata.obs['level_2'] != \"T cells\"), :]\n",
    "\n",
    "    fig_size = np.array([current_complete_obs['global_x'].max(), current_complete_obs['global_y'].max()]) / 1000\n",
    "    fig, ax = plt.subplots(figsize=fig_size)\n",
    "    sns.scatterplot(x='global_x', y='global_y', data=current_complete_obs, color='#dbdbdb', s=1, linewidth=0, ax=ax)\n",
    "    sns.scatterplot(x='global_x', y='global_y', hue='level_2', data=current_obs, palette='tab10', s=5, linewidth=0, ax=ax)\n",
    "    # plt.savefig(os.path.join(output_path, f\"sct_{current_sample}.png\"))\n",
    "    plt.show()"
   ]
  },
  {
   "cell_type": "code",
   "execution_count": null,
   "metadata": {},
   "outputs": [],
   "source": [
    "# Map to original obj\n",
    "cdata.obs['level_2'] = cdata.obs['level_2'].astype(object)\n",
    "rdata.obs['level_2'] = rdata.obs['level_2'].astype(object)\n",
    "\n",
    "cdata.obs.loc[sdata.obs.index, 'level_2'] = sdata.obs['level_2'].values\n",
    "rdata.obs.loc[sdata.obs.index, 'level_2'] = sdata.obs['level_2'].values\n",
    "cdata.obs['level_2'].unique()"
   ]
  },
  {
   "cell_type": "code",
   "execution_count": null,
   "metadata": {},
   "outputs": [],
   "source": [
    "# backup\n",
    "from datetime import datetime\n",
    "date = datetime.today().strftime('%Y-%m-%d')\n",
    "rdata.write_h5ad(f\"{expr_path}/{date}-combined-level2-region123-bk.h5ad\")\n",
    "cdata.write_h5ad(f\"{expr_path}/{date}-combined-level2-bk.h5ad\")"
   ]
  },
  {
   "cell_type": "markdown",
   "metadata": {},
   "source": [
    "### Dendritic cells"
   ]
  },
  {
   "cell_type": "code",
   "execution_count": null,
   "metadata": {},
   "outputs": [],
   "source": [
    "gene_annotation = pd.read_csv(os.path.join(base_path, 'documents', 'gene_annotation.csv'))\n",
    "gene_annotation.index = gene_annotation['Gene']\n",
    "selected_genes = gene_annotation.loc[gene_annotation['Level_2_binary_dendritic_cells'] == True, 'Gene'].to_list()\n",
    "current_order = gene_annotation.loc[gene_annotation['Level_2_binary_dendritic_cells'] == True, 'Level_2_annotation_dendritic_cells'].unique()\n",
    "\n",
    "print(f\"Selected genes: {len(selected_genes)}\")\n",
    "print(current_order)"
   ]
  },
  {
   "cell_type": "code",
   "execution_count": null,
   "metadata": {},
   "outputs": [],
   "source": [
    "selected_gene_dict = {}\n",
    "for current_type in current_order:\n",
    "    selected_gene_dict[current_type] = gene_annotation.loc[(gene_annotation['Level_2_binary_dendritic_cells'] == True) & (gene_annotation['Level_2_annotation_dendritic_cells'] == current_type), 'Gene'].to_list()\n",
    "\n",
    "selected_gene_dict"
   ]
  },
  {
   "cell_type": "code",
   "execution_count": null,
   "metadata": {},
   "outputs": [],
   "source": [
    "sdata = rdata[rdata.obs['level_1'] == 'Dendritic cells', selected_genes]\n",
    "sdata"
   ]
  },
  {
   "cell_type": "code",
   "execution_count": null,
   "metadata": {},
   "outputs": [],
   "source": [
    "X_pca = sdata.X\n",
    "\n",
    "# Kmeans elbow\n",
    "distorsions = []\n",
    "for k in range(2, 20):\n",
    "    kmeans = KMeans(n_clusters=k)\n",
    "    kmeans.fit(X_pca)\n",
    "    distorsions.append(kmeans.inertia_)\n",
    "\n",
    "fig = plt.figure(figsize=(15, 5))\n",
    "plt.plot(range(2, 20), distorsions)\n",
    "plt.grid(True)\n",
    "plt.title('Elbow curve')"
   ]
  },
  {
   "cell_type": "code",
   "execution_count": null,
   "metadata": {},
   "outputs": [],
   "source": [
    "# kmeans\n",
    "k = 4\n",
    "kmeans = KMeans(n_clusters=k, random_state=5).fit(X_pca)\n",
    "sdata.obs[f'kmeans{k}'] = kmeans.labels_.astype(str)\n",
    "\n",
    "# sc.pl.pca(sdata, color=[f'kmeans{k}'])\n",
    "sc.pl.heatmap(sdata, selected_gene_dict, groupby=f'kmeans{k}', dendrogram=False, use_raw=False, cmap='bwr', vmin=-4, vmax=4)\n",
    "sc.pl.matrixplot(sdata, selected_gene_dict, groupby=f'kmeans{k}', dendrogram=False, use_raw=False, cmap='bwr', vmin=-4, vmax=4, swap_axes=True)\n",
    "sc.pl.matrixplot(sdata, selected_gene_dict, groupby=f'kmeans{k}', dendrogram=False, use_raw=True, vmax=2, swap_axes=True)"
   ]
  },
  {
   "cell_type": "markdown",
   "metadata": {},
   "source": [
    "#### assign cell types"
   ]
  },
  {
   "cell_type": "code",
   "execution_count": null,
   "metadata": {},
   "outputs": [],
   "source": [
    "# create backup for kmeans label\n",
    "sdata.obs['level_2'] = sdata.obs[f'kmeans{k}'].values"
   ]
  },
  {
   "cell_type": "code",
   "execution_count": null,
   "metadata": {},
   "outputs": [],
   "source": [
    "# Change cluster label to cell type label\n",
    "transfer_dict_l2 = {}\n",
    "\n",
    "# Level_2\n",
    "level_2_list = [\n",
    "    'Other Dendritic cells', #0\n",
    "    'cDC1', #1\n",
    "    'cDC2', #2\n",
    "    'Other Dendritic cells', #3\n",
    "]\n",
    "\n",
    "# construct transfer dict\n",
    "for i in sorted(sdata.obs[f'kmeans{k}'].unique()):\n",
    "    transfer_dict_l2[i] = level_2_list[int(i)]"
   ]
  },
  {
   "cell_type": "code",
   "execution_count": null,
   "metadata": {},
   "outputs": [],
   "source": [
    "# Assign cell type to sdata\n",
    "sdata.obs = sdata.obs.replace({'level_2': transfer_dict_l2})"
   ]
  },
  {
   "cell_type": "code",
   "execution_count": null,
   "metadata": {},
   "outputs": [],
   "source": [
    "current_order = ['Other Dendritic cells', 'cDC1', 'cDC2']\n",
    "sdata.obs['level_2'] = sdata.obs['level_2'].astype('category')\n",
    "sdata.obs['level_2'] = sdata.obs['level_2'].cat.reorder_categories(current_order)"
   ]
  },
  {
   "cell_type": "code",
   "execution_count": null,
   "metadata": {},
   "outputs": [],
   "source": [
    "current_pl = sns.color_palette('tab10', len(current_order))\n",
    "current_cmap = ListedColormap(current_pl.as_hex())\n",
    "sns.palplot(current_pl)\n",
    "plt.xticks(range(len(current_order)), current_order, size=10, rotation=45)\n",
    "plt.tight_layout()\n",
    "# plt.savefig(os.path.join(fig_path, 'level_2_palette.pdf'))\n",
    "plt.show()"
   ]
  },
  {
   "cell_type": "code",
   "execution_count": null,
   "metadata": {},
   "outputs": [],
   "source": [
    "total_areas = [429, 305, 362, 401, 305, 372]\n",
    "total_areas_dict = dict(zip(sdata.obs['sample'].cat.categories, total_areas))\n",
    "\n",
    "leiden_df = pd.DataFrame(sdata.obs.groupby('level_2')['sample'].value_counts().values)\n",
    "leiden_df.columns = ['counts']\n",
    "leiden_df['level_2'] = [i[0] for i in sdata.obs.groupby('level_2')['sample'].value_counts().index]\n",
    "leiden_df['sample'] = [i[1] for i in sdata.obs.groupby('level_2')['sample'].value_counts().index]\n",
    "leiden_df['sample'] = leiden_df['sample'].astype('category')\n",
    "leiden_df['n_fovs'] = leiden_df['sample'].values\n",
    "leiden_df['n_fovs'] = leiden_df['n_fovs'].map(total_areas_dict)\n",
    "leiden_df['counts'] = leiden_df['counts'].astype(np.float)\n",
    "leiden_df['n_fovs'] = leiden_df['n_fovs'].astype(np.float)\n",
    "leiden_df['counts_per_fov'] = leiden_df['counts'] / leiden_df['n_fovs']\n",
    "\n",
    "sns.barplot(x='level_2', y='counts_per_fov', hue='sample', data=leiden_df)\n",
    "plt.xticks(rotation=45)\n",
    "# plt.savefig(os.path.join(output_path, f\"cell_type_composition_condition.png\"))\n",
    "plt.show()"
   ]
  },
  {
   "cell_type": "code",
   "execution_count": null,
   "metadata": {},
   "outputs": [],
   "source": [
    "total_counts = pd.DataFrame(sdata.obs['condition'].value_counts())\n",
    "total_counts_dict = dict(zip(total_counts.index, total_counts['count']))\n",
    "\n",
    "leiden_df = pd.DataFrame(sdata.obs.groupby('level_2')['condition'].value_counts().values)\n",
    "leiden_df.columns = ['counts']\n",
    "leiden_df['level_2'] = [i[0] for i in sdata.obs.groupby('level_2')['condition'].value_counts().index]\n",
    "leiden_df['condition'] = [i[1] for i in sdata.obs.groupby('level_2')['condition'].value_counts().index]\n",
    "leiden_df['condition'] = leiden_df['condition'].astype('category')\n",
    "leiden_df['total_counts'] = leiden_df['condition'].values\n",
    "leiden_df['total_counts'] = leiden_df['total_counts'].map(total_counts_dict)\n",
    "leiden_df['counts'] = leiden_df['counts'].astype(np.float)\n",
    "leiden_df['total_counts'] = leiden_df['total_counts'].astype(np.float)\n",
    "leiden_df['percentage'] = leiden_df['counts'] / leiden_df['total_counts'] * 100\n",
    "\n",
    "sns.barplot(x='level_2', y='percentage', hue='condition', data=leiden_df)\n",
    "plt.xticks(rotation=45)\n",
    "# plt.savefig(os.path.join(output_path, f\"cell_type_composition_condition.png\"))\n",
    "plt.show()"
   ]
  },
  {
   "cell_type": "code",
   "execution_count": null,
   "metadata": {},
   "outputs": [],
   "source": [
    "leiden_df = pd.DataFrame(sdata.obs.groupby('level_2')['condition'].value_counts().values)\n",
    "leiden_df.columns = ['counts']\n",
    "leiden_df['level_2'] = [i[0] for i in sdata.obs.groupby('level_2')['condition'].value_counts().index]\n",
    "leiden_df['condition'] = [i[1] for i in sdata.obs.groupby('level_2')['condition'].value_counts().index]\n",
    "leiden_df['condition'] = leiden_df['condition'].astype('category')\n",
    "sns.barplot(x='level_2', y='counts', hue='condition', data=leiden_df)\n",
    "plt.xticks(rotation=45)\n",
    "plt.show()"
   ]
  },
  {
   "cell_type": "code",
   "execution_count": null,
   "metadata": {},
   "outputs": [],
   "source": [
    "selected_gene_dict = {}\n",
    "for current_type in current_order:\n",
    "    if current_type != 'NA':\n",
    "        selected_gene_dict[current_type] = gene_annotation.loc[(gene_annotation['Level_2_binary_dendritic_cells'] == True) & (gene_annotation['Level_2_annotation_dendritic_cells'] == current_type), 'Gene'].to_list()\n",
    "\n",
    "selected_gene_dict"
   ]
  },
  {
   "cell_type": "code",
   "execution_count": null,
   "metadata": {},
   "outputs": [],
   "source": [
    "sc.pl.heatmap(sdata, selected_gene_dict, groupby=f'level_2', dendrogram=False, use_raw=False, cmap='bwr', vmin=-4, vmax=4, figsize=(3, 15))\n",
    "sc.pl.matrixplot(sdata, selected_gene_dict, groupby=f'level_2', dendrogram=False, use_raw=False, cmap='bwr', vmin=-4, vmax=4, swap_axes=True)"
   ]
  },
  {
   "cell_type": "code",
   "execution_count": null,
   "metadata": {},
   "outputs": [],
   "source": [
    "for current_sample in sdata.obs['sample'].unique():\n",
    "    print(current_sample)\n",
    "    current_complete_obs = cdata.obs.loc[cdata.obs['sample'] == current_sample, :]\n",
    "    current_obs = sdata.obs.loc[(sdata.obs['sample'] == current_sample), :]\n",
    "    # current_obs = sdata.obs.loc[(sdata.obs['sample'] == current_sample) & (sdata.obs['level_2'] != \"T cells\"), :]\n",
    "\n",
    "    fig_size = np.array([current_complete_obs['global_x'].max(), current_complete_obs['global_y'].max()]) / 1000\n",
    "    fig, ax = plt.subplots(figsize=fig_size)\n",
    "    sns.scatterplot(x='global_x', y='global_y', data=current_complete_obs, color='#dbdbdb', s=1, linewidth=0, ax=ax)\n",
    "    sns.scatterplot(x='global_x', y='global_y', hue='level_2', data=current_obs, palette='tab10', s=5, linewidth=0, ax=ax)\n",
    "    # plt.savefig(os.path.join(output_path, f\"sct_{current_sample}.png\"))\n",
    "    plt.show()"
   ]
  },
  {
   "cell_type": "code",
   "execution_count": null,
   "metadata": {},
   "outputs": [],
   "source": [
    "# Map to original obj\n",
    "cdata.obs['level_2'] = cdata.obs['level_2'].astype(object)\n",
    "rdata.obs['level_2'] = rdata.obs['level_2'].astype(object)\n",
    "\n",
    "cdata.obs.loc[sdata.obs.index, 'level_2'] = sdata.obs['level_2'].values\n",
    "rdata.obs.loc[sdata.obs.index, 'level_2'] = sdata.obs['level_2'].values\n",
    "cdata.obs['level_2'].unique()"
   ]
  },
  {
   "cell_type": "code",
   "execution_count": null,
   "metadata": {},
   "outputs": [],
   "source": [
    "# backup\n",
    "from datetime import datetime\n",
    "date = datetime.today().strftime('%Y-%m-%d')\n",
    "rdata.write_h5ad(f\"{expr_path}/{date}-combined-level2-region123-bk.h5ad\")\n",
    "cdata.write_h5ad(f\"{expr_path}/{date}-combined-level2-bk.h5ad\")"
   ]
  },
  {
   "cell_type": "markdown",
   "metadata": {},
   "source": [
    "## Level 3"
   ]
  },
  {
   "cell_type": "code",
   "execution_count": null,
   "metadata": {},
   "outputs": [],
   "source": [
    "# cdata = sc.read_h5ad(os.path.join(expr_path, f'2024-03-04-combined-level2-bk.h5ad'))\n",
    "# rdata = sc.read_h5ad(os.path.join(expr_path, f'2024-03-04-combined-level2-region23-bk.h5ad'))"
   ]
  },
  {
   "cell_type": "code",
   "execution_count": null,
   "metadata": {},
   "outputs": [],
   "source": [
    "rdata.obs['level_3'] = rdata.obs['level_2'].values\n",
    "rdata.obs['level_3'] = rdata.obs['level_3'].astype(object)"
   ]
  },
  {
   "cell_type": "code",
   "execution_count": null,
   "metadata": {},
   "outputs": [],
   "source": [
    "cdata.obs['level_3'] = cdata.obs['level_2'].values\n",
    "cdata.obs['level_3'] = cdata.obs['level_3'].astype(object)"
   ]
  },
  {
   "cell_type": "markdown",
   "metadata": {},
   "source": [
    "### CD4+/CD8+ T cells"
   ]
  },
  {
   "cell_type": "code",
   "execution_count": null,
   "metadata": {},
   "outputs": [],
   "source": [
    "gene_annotation = pd.read_csv(os.path.join(base_path, 'documents', 'gene_annotation.csv'))\n",
    "gene_annotation.index = gene_annotation['Gene']\n",
    "selected_genes = gene_annotation.loc[gene_annotation['Level_2_binary_t_cells'] == True, 'Gene'].to_list()\n",
    "current_order = gene_annotation.loc[gene_annotation['Level_2_binary_t_cells'] == True, 'Level_2_annotation_t_cells'].unique()\n",
    "\n",
    "print(f\"Selected genes: {len(selected_genes)}\")\n",
    "print(current_order)"
   ]
  },
  {
   "cell_type": "code",
   "execution_count": null,
   "metadata": {},
   "outputs": [],
   "source": [
    "selected_gene_dict = {}\n",
    "for current_type in current_order:\n",
    "    selected_gene_dict[current_type] = gene_annotation.loc[(gene_annotation['Level_2_binary_t_cells'] == True) & (gene_annotation['Level_2_annotation_t_cells'] == current_type), 'Gene'].to_list()\n",
    "\n",
    "selected_gene_dict"
   ]
  },
  {
   "cell_type": "code",
   "execution_count": null,
   "metadata": {},
   "outputs": [],
   "source": [
    "gene_annotation.loc[gene_annotation['Level_2_binary_t_cells'] == True, ['Gene', 'Level_2_annotation_t_cells']]"
   ]
  },
  {
   "cell_type": "code",
   "execution_count": null,
   "metadata": {},
   "outputs": [],
   "source": [
    "sdata = rdata[rdata.obs['level_2'].isin(['CD4+ T cells', 'CD8+ T cells']), selected_genes]\n",
    "sdata"
   ]
  },
  {
   "cell_type": "code",
   "execution_count": null,
   "metadata": {},
   "outputs": [],
   "source": [
    "# sc.pp.pca(sdata)\n",
    "X_pca = sdata.X\n",
    "# X_pca = sdata.obsm['X_pca']\n",
    "\n",
    "# Kmeans elbow\n",
    "distorsions = []\n",
    "for k in range(2, 20):\n",
    "    kmeans = KMeans(n_clusters=k)\n",
    "    kmeans.fit(X_pca)\n",
    "    distorsions.append(kmeans.inertia_)\n",
    "\n",
    "fig = plt.figure(figsize=(15, 5))\n",
    "plt.plot(range(2, 20), distorsions)\n",
    "plt.grid(True)\n",
    "plt.title('Elbow curve')"
   ]
  },
  {
   "cell_type": "code",
   "execution_count": null,
   "metadata": {
    "scrolled": true
   },
   "outputs": [],
   "source": [
    "for i in range(50):\n",
    "    print(i)\n",
    "    kmeans = KMeans(n_clusters=25, random_state=i).fit(X_pca)\n",
    "    sdata.obs[f'kmeans{k}'] = kmeans.labels_.astype(str)\n",
    "    sc.pl.matrixplot(sdata, selected_gene_dict, groupby=f'kmeans{k}', dendrogram=False, use_raw=False, cmap='bwr', vmin=-4, vmax=4, swap_axes=True)\n"
   ]
  },
  {
   "cell_type": "code",
   "execution_count": null,
   "metadata": {},
   "outputs": [],
   "source": [
    "# kmeans\n",
    "k = 25\n",
    "kmeans = KMeans(n_clusters=k, random_state=43).fit(X_pca)\n",
    "sdata.obs[f'kmeans{k}'] = kmeans.labels_.astype(str)\n",
    "\n",
    "# sc.pl.pca(sdata, color=[f'kmeans{k}'])\n",
    "sc.pl.heatmap(sdata, selected_gene_dict, groupby=f'kmeans{k}', dendrogram=False, use_raw=False, cmap='bwr', vmin=-4, vmax=4)\n",
    "sc.pl.matrixplot(sdata, selected_gene_dict, groupby=f'kmeans{k}', dendrogram=False, use_raw=False, cmap='bwr', vmin=-4, vmax=4, swap_axes=True)\n",
    "sc.pl.matrixplot(sdata, selected_gene_dict, groupby=f'kmeans{k}', dendrogram=False, use_raw=True, vmax=2, swap_axes=True)\n",
    "sc.pl.dotplot(sdata, selected_gene_dict, groupby=f'kmeans{k}', dendrogram=False, use_raw=True, cmap='Reds', swap_axes=True)"
   ]
  },
  {
   "cell_type": "markdown",
   "metadata": {},
   "source": [
    "#### assign cell types"
   ]
  },
  {
   "cell_type": "code",
   "execution_count": null,
   "metadata": {},
   "outputs": [],
   "source": [
    "# create backup for kmeans label\n",
    "sdata.obs['level_3'] = sdata.obs[f'kmeans{k}'].values"
   ]
  },
  {
   "cell_type": "code",
   "execution_count": null,
   "metadata": {},
   "outputs": [],
   "source": [
    "# Change cluster label to cell type label\n",
    "transfer_dict_l3 = {}\n",
    "\n",
    "# Level_3\n",
    "level_3_list = [\n",
    "    'Treg', #0\n",
    "    'Naive CD4+ T cells', #1\n",
    "    'CD8+ T cells', #2\n",
    "    'CD4+ T cells', #3\n",
    "    'Naive CD4+ T cells', #4\n",
    "    'CD4+ T cells', #5 \n",
    "    'CD8+ T cells', #6\n",
    "    'CD4+ T cells', #7\n",
    "    'CD8+ T cells', #8\n",
    "    'Naive CD4+ T cells', #9\n",
    "    'CD4+ T cells', #10 \n",
    "    'Naive CD4+ T cells', #11\n",
    "    'PD-1+ T cells', #12\n",
    "    'CD8+ T cells', #13\n",
    "    'CD8+ T cells', #14\n",
    "    'CD8+ T cells', #15\n",
    "    'Treg', #16\n",
    "    'Naive CD8+ T cells', #17\n",
    "    'Naive CD4+ T cells', #18\n",
    "    'CD8+ T cells', #19\n",
    "    'Th1', #20\n",
    "    'Th17', #21\n",
    "    'CD4+ T cells', #22\n",
    "    'Th2', #23\n",
    "    'Naive CD8+ T cells', #24\n",
    "]\n",
    "\n",
    "# construct transfer dict\n",
    "for i in sorted(sdata.obs[f'kmeans{k}'].unique()):\n",
    "    transfer_dict_l3[i] = level_3_list[int(i)]"
   ]
  },
  {
   "cell_type": "code",
   "execution_count": null,
   "metadata": {},
   "outputs": [],
   "source": [
    "# Assign cell type to sdata\n",
    "sdata.obs = sdata.obs.replace({'level_3': transfer_dict_l3})"
   ]
  },
  {
   "cell_type": "code",
   "execution_count": null,
   "metadata": {},
   "outputs": [],
   "source": [
    "current_order = ['CD8+ T cells', 'CD4+ T cells', 'Treg', 'Th1', 'Th2', 'Th17', 'Naive CD8+ T cells', 'Naive CD4+ T cells', 'PD-1+ T cells']\n",
    "sdata.obs['level_3'] = sdata.obs['level_3'].astype('category')\n",
    "sdata.obs['level_3'] = sdata.obs['level_3'].cat.reorder_categories(current_order)"
   ]
  },
  {
   "cell_type": "code",
   "execution_count": null,
   "metadata": {
    "scrolled": true
   },
   "outputs": [],
   "source": [
    "current_pl = sns.color_palette('tab20', len(current_order))\n",
    "current_cmap = ListedColormap(current_pl.as_hex())\n",
    "sns.palplot(current_pl)\n",
    "plt.xticks(range(len(current_order)), current_order, size=10, rotation=45)\n",
    "plt.tight_layout()\n",
    "# plt.savefig(os.path.join(fig_path, 'level_2_palette.pdf'))\n",
    "plt.show()"
   ]
  },
  {
   "cell_type": "code",
   "execution_count": null,
   "metadata": {},
   "outputs": [],
   "source": [
    "total_areas = [429, 305, 362, 401, 305, 372]\n",
    "total_areas_dict = dict(zip(sdata.obs['sample'].cat.categories, total_areas))\n",
    "\n",
    "leiden_df = pd.DataFrame(sdata.obs.groupby('level_3')['sample'].value_counts().values)\n",
    "leiden_df.columns = ['counts']\n",
    "leiden_df['level_3'] = [i[0] for i in sdata.obs.groupby('level_3')['sample'].value_counts().index]\n",
    "leiden_df['sample'] = [i[1] for i in sdata.obs.groupby('level_3')['sample'].value_counts().index]\n",
    "leiden_df['sample'] = leiden_df['sample'].astype('category')\n",
    "leiden_df['n_fovs'] = leiden_df['sample'].values\n",
    "leiden_df['n_fovs'] = leiden_df['n_fovs'].map(total_areas_dict)\n",
    "leiden_df['counts'] = leiden_df['counts'].astype(np.float)\n",
    "leiden_df['n_fovs'] = leiden_df['n_fovs'].astype(np.float)\n",
    "leiden_df['counts_per_fov'] = leiden_df['counts'] / leiden_df['n_fovs']\n",
    "\n",
    "sns.barplot(x='level_3', y='counts_per_fov', hue='sample', data=leiden_df, )\n",
    "plt.xticks(rotation=45)\n",
    "plt.legend(loc='upper right')\n",
    "# plt.savefig(os.path.join(output_path, f\"cell_type_composition_condition.png\"))\n",
    "plt.show()"
   ]
  },
  {
   "cell_type": "code",
   "execution_count": null,
   "metadata": {},
   "outputs": [],
   "source": [
    "total_counts = pd.DataFrame(sdata.obs['condition'].value_counts())\n",
    "total_counts_dict = dict(zip(total_counts.index, total_counts['count']))\n",
    "\n",
    "leiden_df = pd.DataFrame(sdata.obs.groupby('level_3')['condition'].value_counts().values)\n",
    "leiden_df.columns = ['counts']\n",
    "leiden_df['level_3'] = [i[0] for i in sdata.obs.groupby('level_3')['condition'].value_counts().index]\n",
    "leiden_df['condition'] = [i[1] for i in sdata.obs.groupby('level_3')['condition'].value_counts().index]\n",
    "leiden_df['condition'] = leiden_df['condition'].astype('category')\n",
    "leiden_df['total_counts'] = leiden_df['condition'].values\n",
    "leiden_df['total_counts'] = leiden_df['total_counts'].map(total_counts_dict)\n",
    "leiden_df['counts'] = leiden_df['counts'].astype(np.float)\n",
    "leiden_df['total_counts'] = leiden_df['total_counts'].astype(np.float)\n",
    "leiden_df['percentage'] = leiden_df['counts'] / leiden_df['total_counts'] * 100\n",
    "\n",
    "sns.barplot(x='level_3', y='percentage', hue='condition', data=leiden_df)\n",
    "plt.xticks(rotation=45)\n",
    "# plt.savefig(os.path.join(output_path, f\"cell_type_composition_condition.png\"))\n",
    "plt.show()"
   ]
  },
  {
   "cell_type": "code",
   "execution_count": null,
   "metadata": {},
   "outputs": [],
   "source": [
    "leiden_df = pd.DataFrame(sdata.obs.groupby('level_3')['condition'].value_counts().values)\n",
    "leiden_df.columns = ['counts']\n",
    "leiden_df['level_3'] = [i[0] for i in sdata.obs.groupby('level_3')['condition'].value_counts().index]\n",
    "leiden_df['condition'] = [i[1] for i in sdata.obs.groupby('level_3')['condition'].value_counts().index]\n",
    "leiden_df['condition'] = leiden_df['condition'].astype('category')\n",
    "sns.barplot(x='level_3', y='counts', hue='condition', data=leiden_df)\n",
    "plt.xticks(rotation=45)\n",
    "plt.show()"
   ]
  },
  {
   "cell_type": "code",
   "execution_count": null,
   "metadata": {},
   "outputs": [],
   "source": [
    "selected_gene_dict = {'T cells': ['Cd3d', 'Cd3e', 'Cd3g'],\n",
    " 'CD8 T cells': ['Cd8a'],\n",
    " 'CD4 T cells': ['Cd4'],\n",
    " 'Treg': ['Foxp3', 'Il2ra'],\n",
    " 'Th1': ['Ifng', 'Tbx21'],\n",
    " 'Th2': ['Il4'],\n",
    " 'Th17': ['Il17a'],\n",
    " 'Naive T cells': [\"Sell\", \"Ccr7\", \"Lef1\"],\n",
    " 'PD-1+ T cells': ['Pdcd1']}"
   ]
  },
  {
   "cell_type": "code",
   "execution_count": null,
   "metadata": {},
   "outputs": [],
   "source": [
    "sc.pl.heatmap(sdata, selected_gene_dict, groupby=f'level_3', dendrogram=False, use_raw=False, cmap='bwr', vmin=-4, vmax=4, figsize=(3, 15))\n",
    "sc.pl.matrixplot(sdata, selected_gene_dict, groupby=f'level_3', dendrogram=False, use_raw=False, cmap='bwr', vmin=-4, vmax=4, swap_axes=True, figsize=(5, 6))\n",
    "sc.pl.dotplot(sdata, selected_gene_dict, groupby=f'level_3', dendrogram=False, use_raw=True, cmap='Reds', swap_axes=True)"
   ]
  },
  {
   "cell_type": "code",
   "execution_count": null,
   "metadata": {},
   "outputs": [],
   "source": [
    "for current_sample in sdata.obs['sample'].unique():\n",
    "    print(current_sample)\n",
    "    current_complete_obs = cdata.obs.loc[cdata.obs['sample'] == current_sample, :]\n",
    "    current_obs = sdata.obs.loc[(sdata.obs['sample'] == current_sample), :]\n",
    "    # current_obs = sdata.obs.loc[(sdata.obs['sample'] == current_sample) & (sdata.obs['level_2'] != \"T cells\"), :]\n",
    "\n",
    "    fig_size = np.array([current_complete_obs['global_x'].max(), current_complete_obs['global_y'].max()]) / 1000\n",
    "    fig, ax = plt.subplots(figsize=fig_size)\n",
    "    sns.scatterplot(x='global_x', y='global_y', data=current_complete_obs, color='#dbdbdb', s=1, linewidth=0, ax=ax)\n",
    "    sns.scatterplot(x='global_x', y='global_y', hue='level_3', data=current_obs, palette='tab20', size=10, linewidth=0, ax=ax)\n",
    "    # plt.savefig(os.path.join(output_path, f\"sct_{current_sample}.png\"))\n",
    "    plt.show()"
   ]
  },
  {
   "cell_type": "code",
   "execution_count": null,
   "metadata": {},
   "outputs": [],
   "source": [
    "# Map to original obj\n",
    "cdata.obs.loc[sdata.obs.index, 'level_3'] = sdata.obs['level_3'].values\n",
    "rdata.obs.loc[sdata.obs.index, 'level_3'] = sdata.obs['level_3'].values"
   ]
  },
  {
   "cell_type": "code",
   "execution_count": null,
   "metadata": {},
   "outputs": [],
   "source": [
    "# backup\n",
    "from datetime import datetime\n",
    "date = datetime.today().strftime('%Y-%m-%d')\n",
    "rdata.write_h5ad(f\"{expr_path}/{date}-combined-level3-region123-bk.h5ad\")\n",
    "cdata.write_h5ad(f\"{expr_path}/{date}-combined-level3-bk.h5ad\")"
   ]
  },
  {
   "cell_type": "code",
   "execution_count": null,
   "metadata": {},
   "outputs": [],
   "source": [
    "# create backup for kmeans label\n",
    "sdata.obs['level_3'] = sdata.obs[f'kmeans{k}'].values"
   ]
  },
  {
   "cell_type": "code",
   "execution_count": null,
   "metadata": {},
   "outputs": [],
   "source": [
    "# Change cluster label to cell type label\n",
    "transfer_dict_l3 = {}\n",
    "\n",
    "# Level_3\n",
    "level_3_list = [\n",
    "    'ETP', #0\n",
    "    'ETP', #1\n",
    "    'ETP', #2\n",
    "    'ETP', #3\n",
    "    'ETP', #4\n",
    "    'DN2', #5 \n",
    "    'DN3', #6\n",
    "    'DN3', #7\n",
    "    'Undefined type', #8\n",
    "    'ETP', #9\n",
    "    'DN3', #10 \n",
    "    'ETP', #11\n",
    "    'Undefined type', #12\n",
    "    'DN3', #13\n",
    "    'ETP', #14\n",
    "    'Undefined type', #15\n",
    "    'DN3', #16\n",
    "    'Bcl-2+ DN', #17\n",
    "    'Undefined type', #18\n",
    "    'DN2', #19\n",
    "    'DN3', #20\n",
    "    'ETP', #21\n",
    "    'ETP', #22\n",
    "    'Undefined type', #23\n",
    "    'ETP', #24\n",
    "]\n",
    "\n",
    "# construct transfer dict\n",
    "for i in sorted(sdata.obs[f'kmeans{k}'].unique()):\n",
    "    transfer_dict_l3[i] = level_3_list[int(i)]"
   ]
  },
  {
   "cell_type": "code",
   "execution_count": null,
   "metadata": {},
   "outputs": [],
   "source": [
    "# Assign cell type to sdata\n",
    "sdata.obs = sdata.obs.replace({'level_3': transfer_dict_l3})"
   ]
  },
  {
   "cell_type": "code",
   "execution_count": null,
   "metadata": {},
   "outputs": [],
   "source": [
    "current_order = ['ETP', 'DN2', 'DN3', 'Bcl-2+ DN', 'Undefined type']\n",
    "sdata.obs['level_3'] = sdata.obs['level_3'].astype('category')\n",
    "sdata.obs['level_3'] = sdata.obs['level_3'].cat.reorder_categories(current_order)"
   ]
  },
  {
   "cell_type": "code",
   "execution_count": null,
   "metadata": {},
   "outputs": [],
   "source": [
    "sdata.obs['level_3'] = sdata.obs['level_3'].astype(object)"
   ]
  },
  {
   "cell_type": "code",
   "execution_count": null,
   "metadata": {},
   "outputs": [],
   "source": [
    "sc.pp.pca(sdata)"
   ]
  },
  {
   "cell_type": "code",
   "execution_count": null,
   "metadata": {},
   "outputs": [],
   "source": [
    "def label_transfer(adata, embedding='pca', field='level_2_code', metric='cosine', n_neighbors=100):\n",
    "    \n",
    "    # reclassify starmap cells \n",
    "    ref_cells = adata.obs.loc[adata.obs['level_3'] != 'Undefined type', :].index\n",
    "    query_cells = adata.obs.loc[adata.obs['level_3'] == 'Undefined type', :].index\n",
    "\n",
    "    # cdhp\n",
    "    ref_cell_loc = adata[ref_cells, :].obsm[f'X_{embedding}']\n",
    "    query_cell_loc = adata[query_cells, :].obsm[f'X_{embedding}']\n",
    "\n",
    "    # ref annotation\n",
    "    ref_cell_annot = adata.obs.loc[ref_cells, field].values\n",
    "    \n",
    "    from sklearn.neighbors import KNeighborsClassifier\n",
    "    neigh = KNeighborsClassifier(n_neighbors=n_neighbors, metric=metric)\n",
    "    neigh.fit(ref_cell_loc, ref_cell_annot)\n",
    "    query_cell_predicted = neigh.predict(query_cell_loc)\n",
    "    \n",
    "    return query_cell_predicted"
   ]
  },
  {
   "cell_type": "code",
   "execution_count": null,
   "metadata": {},
   "outputs": [],
   "source": [
    "# parameters\n",
    "n_neighbors = 50"
   ]
  },
  {
   "cell_type": "code",
   "execution_count": null,
   "metadata": {},
   "outputs": [],
   "source": [
    "# create new label columns \n",
    "sdata.obs['level_3_cdhp'] = sdata.obs['level_3'].values"
   ]
  },
  {
   "cell_type": "code",
   "execution_count": null,
   "metadata": {},
   "outputs": [],
   "source": [
    "# conduct label transfer\n",
    "predicted_label_cdhp = label_transfer(sdata, embedding='pca', field='level_3', metric='cosine', n_neighbors=n_neighbors)"
   ]
  },
  {
   "cell_type": "code",
   "execution_count": null,
   "metadata": {},
   "outputs": [],
   "source": [
    "# update to cdata\n",
    "query_cells = sdata.obs.loc[sdata.obs['level_3'] == 'Undefined type', :].index\n",
    "\n",
    "sdata.obs.loc[query_cells, 'level_3_cdhp'] = predicted_label_cdhp"
   ]
  },
  {
   "cell_type": "code",
   "execution_count": null,
   "metadata": {},
   "outputs": [],
   "source": [
    "fig, ax = plt.subplots(figsize=(10, 5))\n",
    "sns.heatmap(pd.crosstab(sdata.obs['level_3'], sdata.obs['level_3_cdhp']), annot=True, fmt='g')"
   ]
  },
  {
   "cell_type": "code",
   "execution_count": null,
   "metadata": {},
   "outputs": [],
   "source": [
    "sdata.obs['level_3'] = sdata.obs['level_3_cdhp']"
   ]
  },
  {
   "cell_type": "code",
   "execution_count": null,
   "metadata": {},
   "outputs": [],
   "source": [
    "current_order = ['ETP', 'DN2', 'DN3', 'Bcl-2+ DN']\n",
    "sdata.obs['level_3'] = sdata.obs['level_3'].astype('category')\n",
    "sdata.obs['level_3'] = sdata.obs['level_3'].cat.reorder_categories(current_order)"
   ]
  },
  {
   "cell_type": "code",
   "execution_count": null,
   "metadata": {
    "scrolled": true
   },
   "outputs": [],
   "source": [
    "current_pl = sns.color_palette('tab20', len(current_order))\n",
    "current_cmap = ListedColormap(current_pl.as_hex())\n",
    "sns.palplot(current_pl)\n",
    "plt.xticks(range(len(current_order)), current_order, size=10, rotation=45)\n",
    "plt.tight_layout()\n",
    "# plt.savefig(os.path.join(fig_path, 'level_2_palette.pdf'))\n",
    "plt.show()"
   ]
  },
  {
   "cell_type": "code",
   "execution_count": null,
   "metadata": {},
   "outputs": [],
   "source": [
    "total_areas = [262, 243, 271, 261, 273, 250]\n",
    "total_areas_dict = dict(zip(sdata.obs['sample'].cat.categories, total_areas))\n",
    "\n",
    "leiden_df = pd.DataFrame(sdata.obs.groupby('level_3')['sample'].value_counts().values)\n",
    "leiden_df.columns = ['counts']\n",
    "leiden_df['level_3'] = [i[0] for i in sdata.obs.groupby('level_3')['sample'].value_counts().index]\n",
    "leiden_df['sample'] = [i[1] for i in sdata.obs.groupby('level_3')['sample'].value_counts().index]\n",
    "leiden_df['sample'] = leiden_df['sample'].astype('category')\n",
    "leiden_df['n_fovs'] = leiden_df['sample'].values\n",
    "leiden_df['n_fovs'] = leiden_df['n_fovs'].map(total_areas_dict)\n",
    "leiden_df['counts'] = leiden_df['counts'].astype(np.float)\n",
    "leiden_df['n_fovs'] = leiden_df['n_fovs'].astype(np.float)\n",
    "leiden_df['counts_per_fov'] = leiden_df['counts'] / leiden_df['n_fovs']\n",
    "\n",
    "sns.barplot(x='level_3', y='counts_per_fov', hue='sample', data=leiden_df)\n",
    "plt.xticks(rotation=45)\n",
    "# plt.savefig(os.path.join(output_path, f\"cell_type_composition_condition.png\"))\n",
    "plt.show()"
   ]
  },
  {
   "cell_type": "code",
   "execution_count": null,
   "metadata": {},
   "outputs": [],
   "source": [
    "total_counts = pd.DataFrame(sdata.obs['condition'].value_counts())\n",
    "total_counts_dict = dict(zip(total_counts.index, total_counts['count']))\n",
    "\n",
    "leiden_df = pd.DataFrame(sdata.obs.groupby('level_3')['condition'].value_counts().values)\n",
    "leiden_df.columns = ['counts']\n",
    "leiden_df['level_3'] = [i[0] for i in sdata.obs.groupby('level_3')['condition'].value_counts().index]\n",
    "leiden_df['condition'] = [i[1] for i in sdata.obs.groupby('level_3')['condition'].value_counts().index]\n",
    "leiden_df['condition'] = leiden_df['condition'].astype('category')\n",
    "leiden_df['total_counts'] = leiden_df['condition'].values\n",
    "leiden_df['total_counts'] = leiden_df['total_counts'].map(total_counts_dict)\n",
    "leiden_df['counts'] = leiden_df['counts'].astype(np.float)\n",
    "leiden_df['total_counts'] = leiden_df['total_counts'].astype(np.float)\n",
    "leiden_df['percentage'] = leiden_df['counts'] / leiden_df['total_counts'] * 100\n",
    "\n",
    "sns.barplot(x='level_3', y='percentage', hue='condition', data=leiden_df)\n",
    "plt.xticks(rotation=45)\n",
    "# plt.savefig(os.path.join(output_path, f\"cell_type_composition_condition.png\"))\n",
    "plt.show()"
   ]
  },
  {
   "cell_type": "code",
   "execution_count": null,
   "metadata": {},
   "outputs": [],
   "source": [
    "leiden_df = pd.DataFrame(sdata.obs.groupby('level_3')['condition'].value_counts().values)\n",
    "leiden_df.columns = ['counts']\n",
    "leiden_df['level_3'] = [i[0] for i in sdata.obs.groupby('level_3')['condition'].value_counts().index]\n",
    "leiden_df['condition'] = [i[1] for i in sdata.obs.groupby('level_3')['condition'].value_counts().index]\n",
    "leiden_df['condition'] = leiden_df['condition'].astype('category')\n",
    "sns.barplot(x='level_3', y='counts', hue='condition', data=leiden_df)\n",
    "plt.xticks(rotation=45)\n",
    "plt.show()"
   ]
  },
  {
   "cell_type": "code",
   "execution_count": null,
   "metadata": {},
   "outputs": [],
   "source": [
    "sc.pl.heatmap(sdata, selected_gene_dict, groupby=f'level_3', dendrogram=False, use_raw=False, cmap='bwr', vmin=-4, vmax=4, figsize=(3, 15))\n",
    "sc.pl.matrixplot(sdata, selected_gene_dict, groupby=f'level_3', dendrogram=False, use_raw=False, cmap='bwr', vmin=-4, vmax=4, swap_axes=True, figsize=(5, 6))\n",
    "sc.pl.dotplot(sdata, selected_gene_dict, groupby=f'level_3', dendrogram=False, use_raw=True, cmap='Reds', swap_axes=True)"
   ]
  },
  {
   "cell_type": "code",
   "execution_count": null,
   "metadata": {},
   "outputs": [],
   "source": [
    "sc.pl.matrixplot(sdata, selected_gene_dict, groupby=f'level_3', dendrogram=False, use_raw=False, cmap='bwr', vmin=-1, vmax=1, swap_axes=True, standard_scale='var', figsize=(5,6))"
   ]
  },
  {
   "cell_type": "code",
   "execution_count": null,
   "metadata": {},
   "outputs": [],
   "source": [
    "for current_sample in sdata.obs['sample'].unique():\n",
    "    print(current_sample)\n",
    "    current_complete_obs = cdata.obs.loc[cdata.obs['sample'] == current_sample, :]\n",
    "    current_obs = sdata.obs.loc[(sdata.obs['sample'] == current_sample), :]\n",
    "    # current_obs = sdata.obs.loc[(sdata.obs['sample'] == current_sample) & (sdata.obs['level_2'] != \"T cells\"), :]\n",
    "\n",
    "    fig_size = np.array([current_complete_obs['global_x'].max(), current_complete_obs['global_y'].max()]) / 1000\n",
    "    fig, ax = plt.subplots(figsize=fig_size)\n",
    "    sns.scatterplot(x='global_x', y='global_y', data=current_complete_obs, color='#dbdbdb', s=1, linewidth=0, ax=ax)\n",
    "    sns.scatterplot(x='global_x', y='global_y', hue='level_3', data=current_obs, palette='tab20', size=10, linewidth=0, ax=ax)\n",
    "    # plt.savefig(os.path.join(output_path, f\"sct_{current_sample}.png\"))\n",
    "    plt.show()"
   ]
  },
  {
   "cell_type": "code",
   "execution_count": null,
   "metadata": {},
   "outputs": [],
   "source": [
    "# Map to original obj\n",
    "cdata.obs['level_3'] = cdata.obs['level_3'].astype(object)\n",
    "rdata.obs['level_3'] = rdata.obs['level_3'].astype(object)\n",
    "\n",
    "cdata.obs.loc[sdata.obs.index, 'level_3'] = sdata.obs['level_3'].values\n",
    "rdata.obs.loc[sdata.obs.index, 'level_3'] = sdata.obs['level_3'].values"
   ]
  },
  {
   "cell_type": "code",
   "execution_count": null,
   "metadata": {},
   "outputs": [],
   "source": [
    "# backup\n",
    "from datetime import datetime\n",
    "date = datetime.today().strftime('%Y-%m-%d')\n",
    "rdata.write_h5ad(f\"{expr_path}/{date}-combined-level3-region23-bk.h5ad\")\n",
    "cdata.write_h5ad(f\"{expr_path}/{date}-combined-level3-bk.h5ad\")"
   ]
  },
  {
   "cell_type": "code",
   "execution_count": null,
   "metadata": {},
   "outputs": [],
   "source": [
    "a = pd.crosstab(sdata.obs['level_2'], sdata.obs['level_3'])"
   ]
  },
  {
   "cell_type": "code",
   "execution_count": null,
   "metadata": {},
   "outputs": [],
   "source": [
    "a"
   ]
  },
  {
   "cell_type": "code",
   "execution_count": null,
   "metadata": {},
   "outputs": [],
   "source": [
    "fig, ax = plt.subplots(figsize=(10,5))\n",
    "sns.heatmap(a, annot=True, fmt='g')\n",
    "plt.show()"
   ]
  },
  {
   "cell_type": "markdown",
   "metadata": {},
   "source": [
    "## Test"
   ]
  },
  {
   "cell_type": "code",
   "execution_count": null,
   "metadata": {},
   "outputs": [],
   "source": [
    "fig, ax = plt.subplots(figsize=(10, 5))\n",
    "sns.heatmap(pd.crosstab(sdata.obs['level_2'], sdata.obs['level_3']), annot=True, fmt='g')"
   ]
  },
  {
   "cell_type": "code",
   "execution_count": null,
   "metadata": {},
   "outputs": [],
   "source": [
    "rdata"
   ]
  },
  {
   "cell_type": "code",
   "execution_count": null,
   "metadata": {},
   "outputs": [],
   "source": [
    "dc_genes = ['H2-Aa', 'Cd40', 'Cd83', 'Cd86', 'H2-K1', 'Ccl17', 'Ccl22', 'Ccl25']"
   ]
  },
  {
   "cell_type": "code",
   "execution_count": null,
   "metadata": {},
   "outputs": [],
   "source": [
    "rdata"
   ]
  },
  {
   "cell_type": "code",
   "execution_count": null,
   "metadata": {},
   "outputs": [],
   "source": [
    "sdata = rdata[rdata.obs['level_1'] == 'Dendritic cells', :]\n",
    "sdata"
   ]
  },
  {
   "cell_type": "code",
   "execution_count": null,
   "metadata": {},
   "outputs": [],
   "source": [
    "selected_gene_dict = {'CD3+': ['Cd3d', 'Cd3e', 'Cd3g', 'Ccr7', 'Cd4', 'Cd8a']}\n",
    "\n",
    "selected_gene_dict =  ['Cd3d', 'Cd3e', 'Cd3g', 'Ccr7', 'Cd4', 'Cd8a']"
   ]
  },
  {
   "cell_type": "code",
   "execution_count": null,
   "metadata": {},
   "outputs": [],
   "source": [
    "level_2_order = [\n",
    "    'Other Dendritic cells',\n",
    "    'cDC1',\n",
    "    'cDC2',\n",
    "]\n",
    "\n",
    "condition_order = ['WT', '99R', '33NM']"
   ]
  },
  {
   "cell_type": "code",
   "execution_count": null,
   "metadata": {},
   "outputs": [],
   "source": [
    "level_2_condition_order = []\n",
    "\n",
    "for i in level_2_order:\n",
    "    for j in condition_order:\n",
    "        level_2_condition_order.append(f\"{i}_{j}\")\n",
    "\n",
    "sdata.obs['level_2_condition'] = sdata.obs['level_2'].astype(str) + '_' + sdata.obs['condition'].astype(str)\n",
    "sdata.obs['level_2_condition'] = sdata.obs['level_2_condition'].astype('category')\n",
    "sdata.obs['level_2_condition'] = sdata.obs['level_2_condition'].cat.reorder_categories(level_2_condition_order)"
   ]
  },
  {
   "cell_type": "code",
   "execution_count": null,
   "metadata": {},
   "outputs": [],
   "source": [
    "sc.pl.dotplot(sdata, dc_genes, groupby=f'level_2_condition', dendrogram=False, use_raw=True, cmap='viridis', swap_axes=True)"
   ]
  },
  {
   "cell_type": "code",
   "execution_count": null,
   "metadata": {},
   "outputs": [],
   "source": [
    "sc.pl.matrixplot(sdata, dc_genes, groupby=f'level_2_condition', dendrogram=False, use_raw=False, cmap='bwr', vmin=-1, vmax=1, swap_axes=True)"
   ]
  },
  {
   "cell_type": "code",
   "execution_count": null,
   "metadata": {},
   "outputs": [],
   "source": [
    "for current_type in sdata.obs['level_2'].cat.categories:\n",
    "    print(current_type)\n",
    "    pdata = sdata[sdata.obs['level_2'] == current_type, :]\n",
    "    sc.pl.dotplot(pdata, dc_genes, groupby=f'condition', dendrogram=False, use_raw=True, cmap='viridis', swap_axes=True)\n",
    "    sc.pl.matrixplot(pdata, dc_genes, groupby=f'condition', dendrogram=False, use_raw=False, cmap='bwr', vmin=-1, vmax=1, swap_axes=True)"
   ]
  },
  {
   "cell_type": "code",
   "execution_count": null,
   "metadata": {},
   "outputs": [],
   "source": [
    "sc.pl.matrixplot(sdata, dc_genes, groupby=f'level_2', dendrogram=False, use_raw=False, cmap='bwr', vmin=-4, vmax=4, swap_axes=True, figsize=(5, 6))"
   ]
  },
  {
   "cell_type": "code",
   "execution_count": null,
   "metadata": {},
   "outputs": [],
   "source": [
    "sc.pl.heatmap(sdata, dc_genes, groupby=f'level_2', dendrogram=False, use_raw=False, cmap='bwr', vmin=-4, vmax=4, figsize=(3, 15))\n",
    "sc.pl.matrixplot(sdata, dc_genes, groupby=f'level_2', dendrogram=False, use_raw=False, cmap='bwr', vmin=-4, vmax=4, swap_axes=True, figsize=(5, 6))\n",
    "sc.pl.dotplot(sdata, dc_genes, groupby=f'level_2', dendrogram=False, use_raw=False, cmap='bwr', vmin=-4, vmax=4, swap_axes=True, figsize=(5, 6))"
   ]
  },
  {
   "cell_type": "code",
   "execution_count": null,
   "metadata": {},
   "outputs": [],
   "source": []
  }
 ],
 "metadata": {
  "kernelspec": {
   "display_name": "Python 3 (ipykernel)",
   "language": "python",
   "name": "python3"
  },
  "language_info": {
   "codemirror_mode": {
    "name": "ipython",
    "version": 3
   },
   "file_extension": ".py",
   "mimetype": "text/x-python",
   "name": "python",
   "nbconvert_exporter": "python",
   "pygments_lexer": "ipython3",
   "version": "3.9.18"
  }
 },
 "nbformat": 4,
 "nbformat_minor": 4
}
