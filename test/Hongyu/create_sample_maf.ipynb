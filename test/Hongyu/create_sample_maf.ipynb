{
 "cells": [
  {
   "cell_type": "code",
   "execution_count": 1,
   "metadata": {},
   "outputs": [],
   "source": [
    "import os \n",
    "import numpy as np\n",
    "import pandas as pd\n",
    "from bs4 import BeautifulSoup\n",
    "from natsort import natsorted\n"
   ]
  },
  {
   "cell_type": "code",
   "execution_count": 2,
   "metadata": {},
   "outputs": [],
   "source": [
    "base_path = '/home/unix/jiahao/wanglab/Data/Analyzed/2024-03-08-Hongyu-Covid_LN'\n",
    "doc_path = os.path.join(base_path, 'documents')"
   ]
  },
  {
   "cell_type": "code",
   "execution_count": 3,
   "metadata": {},
   "outputs": [
    {
     "data": {
      "text/plain": [
       "['output_sample1_2.maf',\n",
       " 'output_sample3_4.maf',\n",
       " 'output_sample5_6.maf',\n",
       " 'output_sample7_8.maf',\n",
       " 'output_sample9_10.maf',\n",
       " 'output_sample11_12.maf']"
      ]
     },
     "execution_count": 3,
     "metadata": {},
     "output_type": "execute_result"
    }
   ],
   "source": [
    "raw_maf_files = natsorted(os.listdir(os.path.join(doc_path, 'maf')))\n",
    "raw_maf_files"
   ]
  },
  {
   "cell_type": "code",
   "execution_count": 4,
   "metadata": {},
   "outputs": [],
   "source": [
    "sample_dict = {\n",
    "    'sample1': range(1, 64 + 1), \n",
    "    'sample2': range(65, 132 + 1), \n",
    "    'sample3': range(133, 189 + 1), \n",
    "    'sample4': range(190, 245 + 1), \n",
    "    'sample5': range(246, 289 + 1), \n",
    "    'sample6': range(290, 331 + 1), \n",
    "    'sample7': range(332, 353 + 1), \n",
    "    'sample8': range(354, 388 + 1), \n",
    "    'sample9': range(389, 415 + 1), \n",
    "    'sample10': range(416, 471 + 1), \n",
    "    'sample11': range(472, 521 + 1), \n",
    "    'sample12': range(522, 550 + 1), \n",
    "}"
   ]
  },
  {
   "cell_type": "code",
   "execution_count": 5,
   "metadata": {},
   "outputs": [],
   "source": [
    "link_dict = {}\n",
    "for current_file in raw_maf_files:\n",
    "    current_maf = BeautifulSoup(open(os.path.join(doc_path, 'maf', current_file)), 'xml')\n",
    "    for link in current_maf.find_all('XYZStagePointDefinition'):\n",
    "        link_dict[link.get('PositionID')] = link"
   ]
  },
  {
   "cell_type": "code",
   "execution_count": 6,
   "metadata": {},
   "outputs": [],
   "source": [
    "for current_sample in sample_dict.keys():\n",
    "    sample_range = sample_dict[current_sample]\n",
    "    sample_link = []\n",
    "    for i in sample_range:\n",
    "        sample_link.append(str(link_dict[str(i)]))\n",
    "\n",
    "    base_string = f\"\"\"\n",
    "<!--Leica Application Suite X (LAS X)-->\n",
    "<!--Leica Microsystems CMS GmbH-->\n",
    "<!--http://www.confocal-microscopy.com-->\n",
    "<!--LAS X 3.5.5.19976-->\n",
    "<XYZStagePointDefinitionList StageOrderNumber=\"0\">\n",
    "{''.join(sample_link)}\n",
    "</XYZStagePointDefinitionList>\n",
    "\"\"\"\n",
    "    new_maf = BeautifulSoup(base_string, 'xml')\n",
    "    new_maf = new_maf.prettify()\n",
    "\n",
    "    with open(os.path.join(doc_path, 'maf', f'{current_sample}.maf'), 'w') as file:\n",
    "        file.write(new_maf)"
   ]
  },
  {
   "cell_type": "code",
   "execution_count": null,
   "metadata": {},
   "outputs": [],
   "source": []
  }
 ],
 "metadata": {
  "kernelspec": {
   "display_name": "Python 3",
   "language": "python",
   "name": "python3"
  },
  "language_info": {
   "codemirror_mode": {
    "name": "ipython",
    "version": 3
   },
   "file_extension": ".py",
   "mimetype": "text/x-python",
   "name": "python",
   "nbconvert_exporter": "python",
   "pygments_lexer": "ipython3",
   "version": "3.9.undefined"
  }
 },
 "nbformat": 4,
 "nbformat_minor": 2
}
