{
 "cells": [
  {
   "cell_type": "code",
   "execution_count": 1,
   "metadata": {},
   "outputs": [],
   "source": [
    "import os\n",
    "import numpy as np\n",
    "import pandas as pd\n",
    "from tifffile import imread\n",
    "import matplotlib.pyplot as plt\n",
    "import seaborn as sns\n",
    "from tqdm.notebook import tqdm"
   ]
  },
  {
   "cell_type": "code",
   "execution_count": 2,
   "metadata": {},
   "outputs": [],
   "source": [
    "base_path = '/home/unix/jiahao/wanglab/Data/Analyzed/2024-02-06-Hongyu-Hongyu_multicap_covid_spleen_replicates1/'\n",
    "dapi_path = os.path.join(base_path, 'images/flamingo/DAPI_MAX')\n",
    "signal_path = os.path.join(base_path, 'signal')\n",
    "output_path = os.path.join(base_path, \"output\")\n",
    "if not os.path.exists(output_path):\n",
    "    os.makedirs(output_path)"
   ]
  },
  {
   "cell_type": "code",
   "execution_count": 16,
   "metadata": {},
   "outputs": [
    {
     "data": {
      "application/vnd.jupyter.widget-view+json": {
       "model_id": "7f38c3ab12524ed8abc28658315bdec0",
       "version_major": 2,
       "version_minor": 0
      },
      "text/plain": [
       "  0%|          | 0/61 [00:00<?, ?it/s]"
      ]
     },
     "metadata": {},
     "output_type": "display_data"
    }
   ],
   "source": [
    "current_sample = 'sample3'\n",
    "\n",
    "current_dapi_img = imread(os.path.join(base_path, \"images/fused/2D\", current_sample, \"DAPI.tif\"))\n",
    "current_signal = pd.read_csv(os.path.join(signal_path, current_sample + '_goodSpots.csv'))\n",
    "current_signal['x'] = current_signal['x'] - 1\n",
    "current_signal['y'] = current_signal['y'] - 1\n",
    "current_signal['z'] = current_signal['z'] - 1\n",
    "\n",
    "fig_size = np.array([current_dapi_img.shape[1], current_dapi_img.shape[0]]) / 10000 * 4\n",
    "\n",
    "all_genes = sorted(current_signal.gene.unique())\n",
    "for current_gene in tqdm(all_genes):\n",
    "    # current_gene = 'Cd68'\n",
    "    current_spots = current_signal[current_signal['gene'] == current_gene]\n",
    "    n_spots = current_spots.shape[0]\n",
    "    fig, ax = plt.subplots(figsize=fig_size)\n",
    "    ax.imshow(current_dapi_img, cmap='gray')\n",
    "    # sns.scatterplot(data=current_spots, x='x', y='y', color='red', size=1, linewidth=0)\n",
    "    ax.plot(current_spots['x'], current_spots['y'], 'r.', markersize=1)\n",
    "    ax.set_facecolor('k')\n",
    "    plt.axis('off')\n",
    "    plt.tight_layout()\n",
    "    # plt.savefig(os.path.join(output_path, f'{current_sample}_{current_gene}_{n_spots}.tif'), pil_kwargs={\"compression\": \"tiff_lzw\"})\n",
    "    plt.savefig(os.path.join(output_path, f'{current_sample}_{current_gene}_{n_spots}.png'))\n",
    "    plt.clf()\n",
    "    plt.close()\n",
    "    # plt.show()"
   ]
  },
  {
   "cell_type": "code",
   "execution_count": 33,
   "metadata": {},
   "outputs": [],
   "source": [
    "import numpy as np\n",
    "from tifffile import imread, imwrite\n",
    "from skimage.util import img_as_ubyte, img_as_float, invert\n",
    "from skimage.exposure import rescale_intensity\n",
    "from skimage.morphology import disk\n",
    "from skimage.filters import median"
   ]
  },
  {
   "cell_type": "code",
   "execution_count": 4,
   "metadata": {},
   "outputs": [],
   "source": [
    "current_fov_id = \"Position001\"\n",
    "\n",
    "# define the path to the images\n",
    "dapi_path = os.path.join(base_path, 'images/flamingo/DAPI')\n",
    "flamingo_path = os.path.join(base_path, 'images/flamingo/Flamingo')\n",
    "\n",
    "# load the images\n",
    "current_dapi_img = imread(os.path.join(dapi_path, current_fov_id + '.tif'))\n",
    "current_flamingo_img = imread(os.path.join(flamingo_path, current_fov_id + '.tif'))\n",
    "\n",
    "# enhance the contrast of the images (flamingo)\n",
    "eh_value = 0.005\n",
    "vmin = np.quantile(current_flamingo_img, eh_value)\n",
    "vmax = np.quantile(current_flamingo_img, 1-eh_value)\n",
    "vrange = (vmin, vmax)\n",
    "current_flamingo_img_eh = rescale_intensity(current_flamingo_img, vrange)\n",
    "\n",
    "# enhance the contrast of the images (dapi)\n",
    "eh_value = 0.001\n",
    "vmin = np.quantile(current_dapi_img, eh_value)\n",
    "vmax = np.quantile(current_dapi_img, 1-eh_value)\n",
    "vrange = (vmin, vmax)\n",
    "current_dapi_img_eh = rescale_intensity(current_dapi_img, vrange)\n"
   ]
  },
  {
   "cell_type": "code",
   "execution_count": 34,
   "metadata": {},
   "outputs": [],
   "source": [
    "# create the output image\n",
    "current_dapi_img_eh = img_as_float(current_dapi_img_eh)\n",
    "current_flamingo_img_eh = img_as_float(current_flamingo_img_eh)\n",
    "current_flamingo_invert = invert(current_flamingo_img_eh)\n",
    "\n",
    "current_output_img = current_dapi_img_eh * current_flamingo_invert\n",
    "current_output_img = img_as_ubyte(current_output_img)\n",
    "\n",
    "imwrite(os.path.join(output_path, f'{current_fov_id}.tif'), current_output_img)"
   ]
  },
  {
   "cell_type": "code",
   "execution_count": null,
   "metadata": {},
   "outputs": [],
   "source": []
  }
 ],
 "metadata": {
  "kernelspec": {
   "display_name": "Python 3 (ipykernel)",
   "language": "python",
   "name": "python3"
  },
  "language_info": {
   "codemirror_mode": {
    "name": "ipython",
    "version": 3
   },
   "file_extension": ".py",
   "mimetype": "text/x-python",
   "name": "python",
   "nbconvert_exporter": "python",
   "pygments_lexer": "ipython3",
   "version": "3.9.0"
  }
 },
 "nbformat": 4,
 "nbformat_minor": 4
}
